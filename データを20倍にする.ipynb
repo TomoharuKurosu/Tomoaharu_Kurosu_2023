{
  "nbformat": 4,
  "nbformat_minor": 0,
  "metadata": {
    "colab": {
      "provenance": [],
      "authorship_tag": "ABX9TyO3ct40yfH/sgsHWr5kWLxQ",
      "include_colab_link": true
    },
    "kernelspec": {
      "name": "python3",
      "display_name": "Python 3"
    },
    "language_info": {
      "name": "python"
    }
  },
  "cells": [
    {
      "cell_type": "markdown",
      "metadata": {
        "id": "view-in-github",
        "colab_type": "text"
      },
      "source": [
        "<a href=\"https://colab.research.google.com/github/TomoharuKurosu/Tomoaharu_Kurosu_2023/blob/main/%E3%83%87%E3%83%BC%E3%82%BF%E3%82%9220%E5%80%8D%E3%81%AB%E3%81%99%E3%82%8B.ipynb\" target=\"_parent\"><img src=\"https://colab.research.google.com/assets/colab-badge.svg\" alt=\"Open In Colab\"/></a>"
      ]
    },
    {
      "cell_type": "code",
      "execution_count": null,
      "metadata": {
        "id": "HjlQo7VDivaD"
      },
      "outputs": [],
      "source": [
        "#データを20倍にする\n",
        "import pandas as pd\n",
        "import numpy as np\n",
        "\n",
        "# データの読み込み\n",
        "df = pd.read_csv(\"/content/drive/MyDrive/sumitomoshintalu_TomoharuKurosu.csv\")\n",
        "\n",
        "# データ拡張\n",
        "augmented_data = pd.concat([df.copy() + np.random.normal(0, 0.01, size=(df.shape[0], df.shape[1])) for _ in range(19)], ignore_index=True)\n",
        "\n",
        "# 各列に対してランダムなノイズを追加\n",
        "for column in df.columns:\n",
        "    if df[column].dtype == 'object':\n",
        "        augmented_data[column] = augmented_data[column].astype(float)  # floatに変換\n",
        "    augmented_data[column] += np.random.normal(0, 0.01, size=augmented_data.shape[0])\n",
        "\n",
        "# 拡張後のデータの確認\n",
        "print(augmented_data.head())\n"
      ]
    }
  ]
}