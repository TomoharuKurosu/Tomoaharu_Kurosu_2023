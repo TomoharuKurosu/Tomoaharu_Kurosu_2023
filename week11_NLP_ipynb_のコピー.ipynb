{
  "cells": [
    {
      "cell_type": "markdown",
      "metadata": {
        "id": "view-in-github",
        "colab_type": "text"
      },
      "source": [
        "<a href=\"https://colab.research.google.com/github/TomoharuKurosu/Tomoaharu_Kurosu_2023/blob/main/week11_NLP_ipynb_%E3%81%AE%E3%82%B3%E3%83%94%E3%83%BC.ipynb\" target=\"_parent\"><img src=\"https://colab.research.google.com/assets/colab-badge.svg\" alt=\"Open In Colab\"/></a>"
      ]
    },
    {
      "cell_type": "markdown",
      "metadata": {
        "id": "3JhHIQqNe4Qs"
      },
      "source": [
        "# Week11 - 自然言語処理、Natural Language Processing (NLP)"
      ]
    },
    {
      "cell_type": "markdown",
      "metadata": {
        "id": "iEkmemKte4Qv"
      },
      "source": [
        "- [19.1 自然言語処理入門](#19.1-introduction-to-nlp)\n",
        "- [19.2 テキストデータの前処理](#19.2-preprocessing-text-data)\n",
        "- [19.3 テキストのトークン化 (Text Tokenization)](#19.3-text-tokenization)\n",
        "    - [19.3.1 文字レベルトークン (Character-level Tokens)](#19.3.1-character-level-tokens)\n",
        "    - [19.3.2 単語レベルトークン (Word-level Tokens)](#19.3.2-word-level-tokens)\n",
        "    - [19.3.3 単語シーケンスのパディング (Padding)](#19.3.3-padding-word-sequences)\n",
        "- [19.4 単語グループの表現手法](#19.4-representation-of-groups-of-words)\n",
        "- [19.5 シーケンスモデルアプローチ](#19.5-sequence-models-approach)\n",
        "    - [19.5.1 単語埋め込み (Word Embeddings)](#19.5.1-word-embeddings)\n",
        "    - [19.5.2 TextVectorization レイヤーの使用](#19.5.2-using-textvectorization-layer)\n",
        "    - [19.5.3 RNNによるシーケンスモデリング](#19.5.3-sequence-modeling-with-recurrent-neural-networks)"
      ]
    },
    {
      "cell_type": "markdown",
      "metadata": {
        "id": "gTFgm_bJe4Qw"
      },
      "source": [
        "## 1. 自然言語処理とは <a name='19.1-introduction-to-nlp'></a>"
      ]
    },
    {
      "cell_type": "markdown",
      "metadata": {
        "id": "UFMFGCdwiw5k"
      },
      "source": [
        "**自然言語処理 (NLP)**  \n",
        "- コンピュータにテキストや人間の言語を理解する能力を提供する技術  \n",
        "- コンピュータサイエンスおよび人工知能の一分野  \n",
        "\n",
        "- NLPの一般的なタスク:\n",
        "\n",
        "  - *テキスト分類 (Text Classification)* — テキストの内容に基づいてクラスラベルを付与\n",
        "      - 感情分析、スパム検出、有害コンテンツのフィルタリングなど\n",
        "\n",
        "  - *テキスト要約/読解 (Text Summarization/Reading Comprehension)* — 長文を短い文章に要約\n",
        "\n",
        "  - *音声認識 (Speech Recognition)* — 話し言葉をテキストに変換\n",
        "\n",
        "  - *機械翻訳 (Machine Translation)* — ある言語から別の言語へテキストを翻訳\n",
        "\n",
        "  - *品詞タグ付け (Part of Speech Tagging)* — 単語を名詞、動詞、副詞などに分類\n",
        "\n",
        "  - *質問応答 (Question Answering)* — 入力された質問に対して回答を生成\n",
        "\n",
        "  - *対話生成 (Dialog Generation)* — 会話履歴から次の応答を生成\n",
        "\n",
        "  - *テキスト生成 (Text Generation)* — 文や段落を補完するテキストを生成\n"
      ]
    },
    {
      "cell_type": "markdown",
      "metadata": {
        "id": "GF5bogcC7mUa"
      },
      "source": [
        "## 2 テキストデータの前処理 <a name='19.2-preprocessing-text-data'></a>"
      ]
    },
    {
      "cell_type": "markdown",
      "metadata": {
        "id": "rWMSWyTqjNym"
      },
      "source": [
        "テキストデータをMLモデルで処理するには、まず数値表現に変換する必要があります。\n",
        "\n",
        "主な変換ステップ:\n",
        "\n",
        "1. **標準化 (Standardization)**\n",
        "- 句読点の削除\n",
        "- 小文字への変換\n",
        "\n",
        "2. **トークン化 (Tokenization)**\n",
        "テキストを以下のような単位に分割:\n",
        "- 単語\n",
        "- N個の連続単語(N-gram)\n",
        "- 部分語\n",
        "- 文字\n",
        "\n",
        "3. **インデックス付け (Indexing)**\n",
        "- 学習セット内の各トークンに数値インデックスを割り当て\n",
        "- これにより語彙(Vocabulary)が構築される\n",
        "\n",
        "4. **埋め込み (Embedding)**  \n",
        "※最新のMLモデルで追加されるステップ\n",
        "- 各トークンに数値ベクトルを割り当て\n",
        "- One-hot encodingやWord embeddingなど(5節で解説) 言葉同士の距離\n",
        "one-hotは一個だけ１で、あとは０"
      ]
    },
    {
      "cell_type": "markdown",
      "metadata": {
        "id": "cc6LF4pHjNyn"
      },
      "source": [
        "### テキストの標準化\n",
        "\n",
        "**テキスト標準化 (Text Standardization)** の一般的なステップ:\n",
        "\n",
        "- 句読点や特殊文字の削除 (@, #, {, ] など)\n",
        "- 大文字を小文字に統一 (*Text* と *text* を同じ単語として扱う)\n",
        "\n",
        "タスクによっては以下も適用:\n",
        "\n",
        "- スペルミスの修正、略語の展開\n",
        "- ストップワード (Stop Words) の削除\n",
        "    - *for*, *the*, *is*, *to*, *some* などの一般的な語\n",
        "    - テキスト分類では文の意味に関係ない\n",
        "\n",
        "- ステミング (Stemming) とレンマ化 (Lemmatization)\n",
        "    - 語を基本形に変換\n",
        "    - 例: *changing* → *change*, *grilled* → *grill*\n",
        "\n",
        "標準化のメリット:\n",
        "- モデル学習の効率化\n",
        "- 必要なトレーニングデータの削減\n",
        "\n",
        "注意点:\n",
        "- タスクによっては重要な情報が失われる可能性\n",
        "- 前処理時は目的に応じた判断が必要"
      ]
    },
    {
      "cell_type": "markdown",
      "metadata": {
        "id": "k7RF_VR3jNyo"
      },
      "source": [
        "### トークン化 (Tokenization)\n",
        "\n",
        "**トークン化**とは、テキストを個々の単位(トークン)に分割すること。\n",
        "\n",
        "トークン化の主なレベル:\n",
        "\n",
        "- *文字レベルトークン (Character-level tokens)*\n",
        "    - テキストを個々の文字に分割\n",
        "    - 効率が悪く意味の把握が困難なため、実用では稀\n",
        "\n",
        "- *単語レベルトークン (Word-level tokens)*\n",
        "    - 各単語をトークンとして扱う  \n",
        "    - 言語の自然な構成単位として一般的\n",
        "\n",
        "- *部分語レベルトークン (Subword-level tokens)*\n",
        "    - 単語をさらに小さい単位に分割\n",
        "    - 例: \"unhappiness\" → \"un\" + \"happiness\"\n",
        "    - 大規模言語モデルで一般的\n",
        "\n",
        "- *N-gramトークン (N-gram tokens)*\n",
        "    - N個の連続単語を1つのトークンとして扱う\n",
        "    - bigram(2語)、trigram(3語)など\n",
        "    - 単語の順序情報を保持できる\n",
        "\n",
        "他にも、文書を文に分割する場合などは文レベルのトークン化も使用。"
      ]
    },
    {
      "cell_type": "markdown",
      "metadata": {
        "id": "NbD7810XjNyp"
      },
      "source": [
        "テキストの標準化、単語レベルのトークナイゼーション、およびインデックス付けの例を以下の図に示します。\n",
        "\n",
        "![tokenization.png](data:image/png;base64,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)\n",
        "*図: テキストの標準化、単語レベルのトークン化、およびインデックス付け*"
      ]
    },
    {
      "cell_type": "markdown",
      "metadata": {
        "id": "u2SDR8h32fE9"
      },
      "source": [
        "## 3 テキストのトークナイゼーション <a name='19.3-text-tokenization'></a>\n",
        "\n",
        "テキストを解析可能な形式に変換するために、まず文章をトークン（単語、句、文字など）に分割するステップが必要。これにより各トークンが数値インデックスとして管理でき、機械学習モデルや自然言語処理タスクに応用しやすくなる。  "
      ]
    },
    {
      "cell_type": "markdown",
      "metadata": {
        "id": "9tDuayp80W1M"
      },
      "source": [
        "Keras の `Tokenizer` 関数は生のテキストをトークンのシーケンスに変換する機能を提供します。`Tokenizer` は以下の処理を実行:\n",
        "\n",
        "- テキスト標準化\n",
        "- トークン化\n",
        "- インデックス付け\n",
        "\n",
        "主なパラメータ:\n",
        "\n",
        "- *num_words*: 保持する単語の最大数\n",
        "- *filters*: 削除/保持する句読点や特殊文字\n",
        "- *lower*: 小文字変換の有無 (デフォルト: True)\n",
        "- *split*: 単語分割の区切り文字 (デフォルト: スペース)\n",
        "- *char_level*:\n",
        "    - False (デフォルト): 単語レベルのトークン化\n",
        "    - True: 文字レベルのトークン化\n",
        "- *oov_token* (Out Of Vocabulary Token): 未知語の置換トークン"
      ]
    },
    {
      "cell_type": "markdown",
      "metadata": {
        "id": "hA9dZFJejNys"
      },
      "source": [
        "### 3.1 文字レベルトークン <a name='19.3.1-character-level-tokens'></a>"
      ]
    },
    {
      "cell_type": "markdown",
      "metadata": {
        "id": "eP3igoipEMDW"
      },
      "source": [
        "`Tokenizer`で文字レベルのトークン化を行うには:\n",
        "\n",
        "- `char_level=True`に設定\n",
        "- トークン数は1,000に設定\n",
        "\n",
        "以下の文章に`fit_on_texts()`メソッドを適用してみましょう。"
      ]
    },
    {
      "cell_type": "code",
      "execution_count": null,
      "metadata": {
        "colab": {
          "base_uri": "https://localhost:8080/"
        },
        "id": "alBwiPau5LC9",
        "outputId": "32227c0a-3a82-4376-ab55-072512de6aca",
        "tags": []
      },
      "outputs": [
        {
          "output_type": "stream",
          "name": "stdout",
          "text": [
            "TensorFlow version:2.17.1\n"
          ]
        }
      ],
      "source": [
        "import tensorflow as tf\n",
        "from tensorflow import keras\n",
        "import numpy as np\n",
        "\n",
        "# Print the version of tf\n",
        "print(\"TensorFlow version:{}\".format(tf.__version__))"
      ]
    },
    {
      "cell_type": "code",
      "execution_count": null,
      "metadata": {
        "id": "CNUzPUWIDfGi",
        "tags": []
      },
      "outputs": [],
      "source": [
        "# A sample sentence\n",
        "sentence = ['TensorFlow is a Machine Learning framework']"
      ]
    },
    {
      "cell_type": "code",
      "execution_count": null,
      "metadata": {
        "id": "vr496JvAEEIN",
        "tags": []
      },
      "outputs": [],
      "source": [
        "from tensorflow.keras.preprocessing.text import Tokenizer\n",
        "\n",
        "character_tokenizer = Tokenizer(num_words=1000, char_level=True)\n",
        "\n",
        "# Fitting tokenizer on sentences\n",
        "character_tokenizer.fit_on_texts(sentence)"
      ]
    },
    {
      "cell_type": "markdown",
      "metadata": {
        "id": "_n39kkPvGQV7"
      },
      "source": [
        "`Tokenizer`がテキストを文字に分割すると、各文字を整数インデックスにマッピングする辞書が作成されます。\n",
        "\n",
        "ポイント:\n",
        "- `char_level=True`の場合、`word_index`属性で文字インデックスを確認可能\n",
        "- インデックスは1から開始\n",
        "- すべての文字は自動的に小文字に変換\n",
        "- 最初のトークンは空白文字(\" \")\n",
        "- 2番目のトークンは文字'e'\n",
        "- サンプル文には空白を含め17個のユニークな文字が存在\n",
        "\n",
        "※技術用語:\n",
        "- Tokenizer (トークナイザー)\n",
        "- Character index (文字インデックス)\n",
        "- word_index (単語インデックス)"
      ]
    },
    {
      "cell_type": "code",
      "execution_count": null,
      "metadata": {
        "colab": {
          "base_uri": "https://localhost:8080/"
        },
        "id": "R7ztDhDIGPuo",
        "outputId": "d7f62b39-4f76-43fe-c9ee-9b876023d16b",
        "tags": []
      },
      "outputs": [
        {
          "output_type": "stream",
          "name": "stdout",
          "text": [
            "{' ': 1, 'e': 2, 'n': 3, 'r': 4, 'a': 5, 'o': 6, 'i': 7, 's': 8, 'f': 9, 'l': 10, 'w': 11, 'm': 12, 't': 13, 'c': 14, 'h': 15, 'g': 16, 'k': 17}\n"
          ]
        }
      ],
      "source": [
        "char_index = character_tokenizer.word_index\n",
        "print(char_index)"
      ]
    },
    {
      "cell_type": "markdown",
      "metadata": {
        "id": "I2L349BGjNyu"
      },
      "source": [
        "`text_to_sequences`メソッドはテキストのインデックスを出力します。\n",
        "\n",
        "`TensorFlow`という単語は以下のインデックスに変換されます:  \n",
        "13, 2, 3, 8, 6, 4, 9, 10, 6, 11\n",
        "\n",
        "各インデックスは`char_index`にリストされた文字に対応しています。"
      ]
    },
    {
      "cell_type": "code",
      "execution_count": null,
      "metadata": {
        "colab": {
          "base_uri": "https://localhost:8080/"
        },
        "id": "JAPxvWUljNyv",
        "outputId": "f0fdfd7e-d576-4e56-f5a2-3e23250bdf6e",
        "tags": []
      },
      "outputs": [
        {
          "output_type": "stream",
          "name": "stdout",
          "text": [
            "[[13, 2, 3, 8, 6, 4, 9, 10, 6, 11, 1, 7, 8, 1, 5, 1, 12, 5, 14, 15, 7, 3, 2, 1, 10, 2, 5, 4, 3, 7, 3, 16, 1, 9, 4, 5, 12, 2, 11, 6, 4, 17]]\n"
          ]
        }
      ],
      "source": [
        "print(character_tokenizer.texts_to_sequences(sentence))"
      ]
    },
    {
      "cell_type": "markdown",
      "metadata": {
        "id": "MzhZW63ljNyv"
      },
      "source": [
        "先述の通り、文字レベルのトークン化は、単語レベルのトークン化ほど単語の意味を効果的に捉えられないため、あまり使用されません。\n",
        "\n",
        "- Character-level tokenization (文字レベルトークン化):\n",
        "    - 単語の意味を効果的に捉えられない\n",
        "    - ほとんど使用されない\n",
        "\n",
        "- Word-level tokenization (単語レベルトークン化):\n",
        "    - より効果的に意味を理解できる\n",
        "    - 一般的に使用される"
      ]
    },
    {
      "cell_type": "markdown",
      "metadata": {
        "id": "mkfbQe9XjNyv"
      },
      "source": [
        "### 3.2 単語レベルトークン <a name='19.3.2-word-level-tokens'></a> Word-level Tokens <a name='19.3.2-word-level-tokens'></a>"
      ]
    },
    {
      "cell_type": "markdown",
      "metadata": {
        "id": "uemMRwYrGwpb"
      },
      "source": [
        "単語をトークン化するには`Tokenizer`関数の`char_level`引数を`False`に設定します（これはデフォルト値なので省略可能です）。\n",
        "\n",
        "要点:\n",
        "- Character-level → Word-level tokenization に変更\n",
        "- `char_level=False`がデフォルト設定\n",
        "- 引数は省略可能"
      ]
    },
    {
      "cell_type": "code",
      "execution_count": null,
      "metadata": {
        "id": "CmuIbnlKjNyv",
        "tags": []
      },
      "outputs": [],
      "source": [
        "# Sample sentences\n",
        "sentences = ['TensorFlow is a Machine Learning framework.',\n",
        "             'Keras is a well designed deep learning API!',\n",
        "             'Keras is built on top of TensorFlow!']"
      ]
    },
    {
      "cell_type": "markdown",
      "metadata": {
        "id": "vk1fTO2yjNyw"
      },
      "source": [
        "テキストが個々の単語に分解された後、`Tokenizer`は以下の処理を行います:\n",
        "\n",
        "- 入力テキスト内の全単語から語彙(*vocabulary*)を構築\n",
        "- 語彙内の各単語に一意の整数インデックスを割り当て\n",
        "\n",
        "※ `word_index`属性で単語とインデックスの対応を確認可能"
      ]
    },
    {
      "cell_type": "code",
      "execution_count": null,
      "metadata": {
        "colab": {
          "base_uri": "https://localhost:8080/"
        },
        "id": "tpIE4S3PHCbY",
        "outputId": "9bb01e74-3714-4449-a9bd-84a363638000",
        "tags": []
      },
      "outputs": [
        {
          "output_type": "stream",
          "name": "stdout",
          "text": [
            "{'is': 1, 'tensorflow': 2, 'a': 3, 'learning': 4, 'keras': 5, 'machine': 6, 'framework': 7, 'well': 8, 'designed': 9, 'deep': 10, 'api': 11, 'built': 12, 'on': 13, 'top': 14, 'of': 15}\n"
          ]
        }
      ],
      "source": [
        "word_tokenizer = Tokenizer(num_words=1000)\n",
        "\n",
        "# Fitting tokenizer on sentences\n",
        "word_tokenizer.fit_on_texts(sentences)\n",
        "\n",
        "word_index = word_tokenizer.word_index\n",
        "print(word_index)"
      ]
    },
    {
      "cell_type": "markdown",
      "metadata": {
        "id": "NGmvr6I2GwwJ"
      },
      "source": [
        "上記の文には15個のユニークな単語が含まれています。デフォルトでは:\n",
        "\n",
        "- すべての句読点は削除\n",
        "- すべての文字は小文字に変換\n",
        "\n",
        "3つの文のインデックス例:\n",
        "- 最初のリスト `[2, 1, 3, 6, 4, 7]` は\n",
        "\"TensorFlow is a Machine Learning framework\" を表現"
      ]
    },
    {
      "cell_type": "code",
      "execution_count": null,
      "metadata": {
        "colab": {
          "base_uri": "https://localhost:8080/"
        },
        "id": "9Xz_E4PXjNyx",
        "outputId": "87b1e054-06e4-44fb-c127-543907ec39ba",
        "tags": []
      },
      "outputs": [
        {
          "output_type": "stream",
          "name": "stdout",
          "text": [
            "[[2, 1, 3, 6, 4, 7], [5, 1, 3, 8, 9, 10, 4, 11], [5, 1, 12, 13, 14, 15, 2]]\n"
          ]
        }
      ],
      "source": [
        "print(word_tokenizer.texts_to_sequences(sentences))"
      ]
    },
    {
      "cell_type": "markdown",
      "metadata": {
        "id": "ZAJYp5sAIstj"
      },
      "source": [
        "`word_counts`は、各単語が文章中に出現する回数を返すことができます。"
      ]
    },
    {
      "cell_type": "code",
      "execution_count": null,
      "metadata": {
        "colab": {
          "base_uri": "https://localhost:8080/"
        },
        "id": "XOb-6DGTIIDp",
        "outputId": "e8b44a69-abfc-45c6-faca-13fd67d94602",
        "tags": []
      },
      "outputs": [
        {
          "output_type": "execute_result",
          "data": {
            "text/plain": [
              "OrderedDict([('tensorflow', 2),\n",
              "             ('is', 3),\n",
              "             ('a', 2),\n",
              "             ('machine', 1),\n",
              "             ('learning', 2),\n",
              "             ('framework', 1),\n",
              "             ('keras', 2),\n",
              "             ('well', 1),\n",
              "             ('designed', 1),\n",
              "             ('deep', 1),\n",
              "             ('api', 1),\n",
              "             ('built', 1),\n",
              "             ('on', 1),\n",
              "             ('top', 1),\n",
              "             ('of', 1)])"
            ]
          },
          "metadata": {},
          "execution_count": 10
        }
      ],
      "source": [
        "word_counts = word_tokenizer.word_counts\n",
        "word_counts"
      ]
    },
    {
      "cell_type": "markdown",
      "metadata": {
        "id": "LZE0QY8NjNyx"
      },
      "source": [
        "#### 語彙外の単語"
      ]
    },
    {
      "cell_type": "markdown",
      "metadata": {
        "id": "e4832s6thIYV"
      },
      "source": [
        "Tokenizer に学習データにない単語が含まれるテキストを入力する場合、`oov_token` (Out Of Vocabulary Token) を設定することで対応できます。\n",
        "\n",
        "主なポイント:\n",
        "- `oov_token` は語彙に含まれない単語の代替トークン\n",
        "- 以下の例では `'Word Out of Vocab'` を `oov_token` として設定\n",
        "- この `oov_token` にはインデックス `1` が割り当てられる"
      ]
    },
    {
      "cell_type": "code",
      "execution_count": null,
      "metadata": {
        "colab": {
          "base_uri": "https://localhost:8080/"
        },
        "id": "EHy4egiNh1dg",
        "outputId": "a0f56ff7-534a-4af4-f70f-b0a3f503b6a6",
        "tags": []
      },
      "outputs": [
        {
          "output_type": "stream",
          "name": "stdout",
          "text": [
            "{'Word Out of Vocab': 1, 'is': 2, 'tensorflow': 3, 'a': 4, 'learning': 5, 'keras': 6, 'machine': 7, 'framework': 8, 'well': 9, 'designed': 10, 'deep': 11, 'api': 12, 'built': 13, 'on': 14, 'top': 15, 'of': 16}\n"
          ]
        }
      ],
      "source": [
        "word_tokenizer_2 = Tokenizer(num_words=1000, oov_token='Word Out of Vocab')\n",
        "word_tokenizer_2.fit_on_texts(sentences)\n",
        "word_index = word_tokenizer_2.word_index\n",
        "print(word_index)"
      ]
    },
    {
      "cell_type": "code",
      "execution_count": null,
      "metadata": {
        "colab": {
          "base_uri": "https://localhost:8080/"
        },
        "id": "9tT78VLKjNyy",
        "outputId": "83a1ea5d-b108-436d-c4ab-ab9fb189a711",
        "tags": []
      },
      "outputs": [
        {
          "output_type": "stream",
          "name": "stdout",
          "text": [
            "[[3, 2, 4, 7, 5, 8], [6, 2, 4, 9, 10, 11, 5, 12], [6, 2, 13, 14, 15, 16, 3]]\n"
          ]
        }
      ],
      "source": [
        "# Converting text to sequences\n",
        "print(word_tokenizer_2.texts_to_sequences(sentences))"
      ]
    },
    {
      "cell_type": "markdown",
      "metadata": {
        "id": "2Bnw7dUui5Kv"
      },
      "source": [
        "新しいテキストに対するトークナイザーの動作:\n",
        "\n",
        "- トークナイザーが学習していない新しい単語は`oov_token`に置き換えられます\n",
        "- 例として:\n",
        "    - 'I'、'like'、'superb'という単語\n",
        "    - これらの単語は学習データに存在しないため\n",
        "    - インデックス1(oov_token)が割り当てられます"
      ]
    },
    {
      "cell_type": "code",
      "execution_count": null,
      "metadata": {
        "colab": {
          "base_uri": "https://localhost:8080/"
        },
        "id": "x7mHGlEjjOG_",
        "outputId": "fd776022-a2e3-4c63-b456-2a1fed44fcb0",
        "tags": []
      },
      "outputs": [
        {
          "output_type": "stream",
          "name": "stdout",
          "text": [
            "[[1, 1, 3], [6, 2, 4, 1, 11, 5, 12]]\n"
          ]
        }
      ],
      "source": [
        "new_sentences = ['I like TensorFlow', # 'I' and 'like' are new words\n",
        "                'Keras is a superb deep learning API'] # 'superb' is a new word\n",
        "\n",
        "print(word_tokenizer_2.texts_to_sequences(new_sentences))"
      ]
    },
    {
      "cell_type": "markdown",
      "metadata": {
        "id": "jj4rtaDbjNyz"
      },
      "source": [
        "大規模なテキストデータを扱う場合のポイント:\n",
        "\n",
        "- 語彙サイズを制限することが重要\n",
        "    - 20,000〜30,000語程度に制限\n",
        "    - 出現頻度の低い単語は語彙外(out-of-vocabulary)として扱う\n",
        "\n",
        "- 語彙制限のメリット:\n",
        "    - モデルの入力空間を削減\n",
        "    - データベース内で1〜2回のみ出現する単語を無視\n",
        "    - 処理効率の向上"
      ]
    },
    {
      "cell_type": "markdown",
      "metadata": {
        "id": "zt7W6Gdflok5"
      },
      "source": [
        "### 3.3 シーケンスのパディング処理 <a name='19.3.3-padding-word-sequences'></a> Padding Word Sequences <a name='19.3.3-padding-word-sequences'></a>"
      ]
    },
    {
      "cell_type": "markdown",
      "metadata": {
        "id": "lUfBkgJimHpo"
      },
      "source": [
        "機械学習モデルの多くは、入力サンプルの長さ/サイズが同じである必要があります。Kerasでは、`pad_sequences()`関数を使用して、テキストシーケンスを指定された長さに揃えることができます。\n",
        "\n",
        "`pad_sequences()`関数の主なパラメータ:\n",
        "\n",
        "- *sequence*: 整数インデックスのリスト (トークン化されたテキスト)\n",
        "- *maxlen*: シーケンスの最大長\n",
        "    - 指定がない場合は最長シーケンスに合わせてパディング\n",
        "\n",
        "- *padding*: パディングの位置\n",
        "    - 'pre' (デフォルト): シーケンスの前\n",
        "    - 'post': シーケンスの後\n",
        "\n",
        "- *truncating*: 切り捨ての位置  \n",
        "    - 'pre' (デフォルト): シーケンスの先頭\n",
        "    - 'post': シーケンスの末尾\n",
        "\n",
        "- *value*: パディング値\n",
        "    - デフォルトは0\n"
      ]
    },
    {
      "cell_type": "code",
      "execution_count": null,
      "metadata": {
        "colab": {
          "base_uri": "https://localhost:8080/"
        },
        "id": "-gtdBQdVRHEc",
        "outputId": "d252149f-a02a-40b6-ad73-35b19042b9cc",
        "tags": []
      },
      "outputs": [
        {
          "output_type": "stream",
          "name": "stdout",
          "text": [
            "[[3, 2, 4, 7, 5, 8], [6, 2, 4, 9, 10, 11, 5, 12], [6, 2, 13, 14, 15, 16, 3]]\n"
          ]
        }
      ],
      "source": [
        "# First, let's diplay the original non-padded sequences\n",
        "tokenized_sentences = word_tokenizer_2.texts_to_sequences(sentences)\n",
        "\n",
        "print(tokenized_sentences)"
      ]
    },
    {
      "cell_type": "markdown",
      "metadata": {
        "id": "qgLaHzlYrf3j"
      },
      "source": [
        "次のセルでは、上記のシーケンスが長さ10になるよう0でパディング(Padding)された結果を示します。"
      ]
    },
    {
      "cell_type": "code",
      "execution_count": null,
      "metadata": {
        "colab": {
          "base_uri": "https://localhost:8080/"
        },
        "id": "7i5cMbLQrthF",
        "outputId": "6276d073-3c29-4585-fa4a-e8559da938db",
        "tags": []
      },
      "outputs": [
        {
          "output_type": "stream",
          "name": "stdout",
          "text": [
            "[[ 0  0  0  0  3  2  4  7  5  8]\n",
            " [ 0  0  6  2  4  9 10 11  5 12]\n",
            " [ 0  0  0  6  2 13 14 15 16  3]]\n"
          ]
        }
      ],
      "source": [
        "from tensorflow.keras.preprocessing.sequence import pad_sequences\n",
        "\n",
        "# Pad the sequences\n",
        "padded_sequences = pad_sequences(tokenized_sentences, maxlen=10)\n",
        "\n",
        "print(padded_sequences)"
      ]
    },
    {
      "cell_type": "markdown",
      "metadata": {
        "id": "OdhmWKLAooyP"
      },
      "source": [
        "## 4 単語グループの表現手法 <a name='19.4-representation-of-groups-of-words'></a>"
      ]
    },
    {
      "cell_type": "markdown",
      "metadata": {
        "id": "acxXXFMPopRA"
      },
      "source": [
        "機械学習モデルにおけるテキスト処理のための単語グループの表現手法には2つのアプローチがあります:\n",
        "\n",
        "**セットモデル (Set models)** アプローチ\n",
        "- テキストを単語の順序のない集合として表現\n",
        "- 代表例: Bag-of-Words (BoW) モデル\n",
        "\n",
        "**シーケンスモデル (Sequence models)** アプローチ\n",
        "- テキストを単語の順序付きシーケンスとして表現\n",
        "\n",
        "文章には順番がある　時系列データみたい\n",
        "\n",
        "- 代表例:\n",
        "    - Recurrent Neural Networks (RNN)\n",
        "    - Transformer Networks\n",
        "\n",
        "### Bag-of-Words モデル\n",
        "\n",
        "**Bag-of-Words**の特徴:\n",
        "- 単語の順序情報を無視\n",
        "- テキストを単語レベルでトークン化\n",
        "- 単語の出現頻度を重視\n",
        "- N-gram表現も利用可能\n",
        "\n",
        "応用例 - スパムフィルター:\n",
        "- スパムメールと通常メールから別々のBoWを作成\n",
        "- スパムに特徴的な単語(cheap, buy, stock等)の頻度を学習\n",
        "- 新規メールの単語を分析してスパム判定を実施"
      ]
    },
    {
      "cell_type": "markdown",
      "metadata": {
        "id": "4qBsT78wDv2O"
      },
      "source": [
        "![bag_of_words.webp](data:image/webp;base64,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)"
      ]
    },
    {
      "cell_type": "markdown",
      "metadata": {
        "id": "GGmSvyoAEvHy"
      },
      "source": [
        "NLPにおける機械学習の応用:\n",
        "\n",
        "**従来の手法**\n",
        "- Bag-of-words モデルが主流\n",
        "\n",
        "**現代の手法**\n",
        "- シーケンスモデル(Sequence models)が主流\n",
        "- 特に大規模言語モデル(Large Language Models)で活用\n"
      ]
    },
    {
      "cell_type": "markdown",
      "metadata": {
        "id": "iJ2D6GsMsAiB"
      },
      "source": [
        "## 5 シーケンスモデル <a name='19.5-sequence-models-approach'></a> Sequence Models <a name='19.5-sequence-models-approach'></a>"
      ]
    },
    {
      "cell_type": "markdown",
      "metadata": {
        "id": "R-6vSeeksNq-"
      },
      "source": [
        "**シーケンスモデル (Sequence models)**\n",
        "テキストの全体を一度に処理し、入力テキスト内の単語の順序を保持できる手法。\n",
        "\n",
        "シーケンスモデルの一般的な実装:\n",
        "- テキストデータの単語を整数インデックスに変換\n",
        "- 整数をベクトル表現にマッピング\n",
        "- ベクトルをMLモデルに入力、順序を考慮して処理\n",
        "\n",
        "シーケンスモデルの入力ベクトル表現:\n",
        "- One-hot word vector (ワンホットベクトル)表現\n",
        "- Word embeddings (単語埋め込み)表現"
      ]
    },
    {
      "cell_type": "markdown",
      "metadata": {
        "id": "6fGeH8L8t67N"
      },
      "source": [
        "### ワンホットベクトル表現"
      ]
    },
    {
      "cell_type": "markdown",
      "metadata": {
        "id": "SFjNamLou4pe"
      },
      "source": [
        "**One-hot word vector (ワンホットベクトル)** は、カテゴリカル特徴量のone-hot encodingと同様の表現方法です。\n",
        "\n",
        "- 各単語のインデックスを、以下のようなベクトルに変換:\n",
        "    - 該当する単語の位置に `1 (hot)`\n",
        "    - その他の位置に `0 (cold)`\n",
        "\n",
        "![one_hot_encodding.png](data:image/png;base64,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)\n",
        "*図: One-hot word vector encoding (ワンホットベクトル エンコーディング)*"
      ]
    },
    {
      "cell_type": "markdown",
      "metadata": {
        "id": "jGcbgsmjyho6"
      },
      "source": [
        "ワンホット単語ベクトルの問題点:\n",
        "- 大規模テキストデータでは非効率\n",
        "- 例: 20,000単語の場合、各単語に20,000次元のベクトルが必要\n",
        "- トレーニングが遅く、メモリ消費が大きい\n",
        "\n",
        "Word Embeddings (単語埋め込み)の利点:\n",
        "- ベクトルサイズが語彙サイズより大幅に小さい\n",
        "- 単語の意味的な関係を捉えることが可能\n",
        "- 現代のNLPモデルで広く採用"
      ]
    },
    {
      "cell_type": "markdown",
      "metadata": {
        "id": "7A4VE9IqyAFd"
      },
      "source": [
        "### 5.1 単語埋め込み <a name='19.5.1-word-embeddings'></a>"
      ]
    },
    {
      "cell_type": "markdown",
      "metadata": {
        "id": "rI04lGrByAZH"
      },
      "source": [
        "**Word Embeddings (単語埋め込み)** は各単語をベクトルに変換する表現手法です。意味が近い単語同士は、埋め込み空間でも近い位置に配置されます。\n",
        "\n",
        "主な特徴:\n",
        "- 各単語が埋め込みベクトルで表現される\n",
        "- 意味の近い単語のベクトルは空間的に近い\n",
        "- ベクトルの次元数は通常 256〜1,024 程度\n",
        "- 単語間の距離は Cosine Similarity (コサイン類似度) で計算　単語間の距離を計算する\n",
        "\n",
        "主な手法:\n",
        "- word2vec\n",
        "- GloVe (Global Vectors)\n",
        "\n",
        "利点:\n",
        "- 単語の意味的な関係を捉えられる\n",
        "- 事前学習済みの埋め込みを再利用可能\n",
        "- 小規模データセットでも効果的\n",
        "\n",
        "実践例:\n",
        "- [Embedding Projector](http://projector.tensorflow.org) で視覚化が可能\n",
        "- IMDB Reviews を使用した感情分析タスクで実装例を紹介\n",
        "\n",
        "※技術用語:\n",
        "- Embeddings space (埋め込み空間)\n",
        "- Cosine similarity (コサイン類似度)\n",
        "- Sentiment analysis (感情分析)\n"
      ]
    },
    {
      "cell_type": "markdown",
      "metadata": {
        "id": "-mf0SJwlEoDx"
      },
      "source": [
        "![embedding_vector.webp](data:image/webp;base64,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)\n",
        "Figure: \"work\" を変換"
      ]
    },
    {
      "cell_type": "markdown",
      "metadata": {
        "id": "16vJ5Ze5EoDx"
      },
      "source": [
        "![embeddings_comparison.webp](data:image/webp;base64,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)\n",
        "\n",
        "Figure:意味の近い単語の埋め込みベクトルは近い値をとる。\n"
      ]
    },
    {
      "cell_type": "markdown",
      "metadata": {
        "id": "2HBw3c1DEoDx"
      },
      "source": [
        "![word_embeddings.webp](data:image/webp;base64,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)\n",
        "Figure: Word embeddings space."
      ]
    },
    {
      "cell_type": "markdown",
      "metadata": {
        "id": "OpTdRWWgzs0p"
      },
      "source": [
        "#### IMDB映画レビューデータセットの読み込み"
      ]
    },
    {
      "cell_type": "markdown",
      "metadata": {
        "id": "TMO8oqNCzwsL"
      },
      "source": [
        "IMDBレビューデータセット:\n",
        "\n",
        "- Keras内蔵のデータセットからダウンロード可能\n",
        "- トレーニング用25,000件、検証用25,000件の映画レビュー\n",
        "- `max_features=20000`で最頻出20,000語のみを使用\n",
        "- その他の単語は語彙外(out-of-vocabulary)トークンとして扱う\n",
        "- 各レビューにPositive/Negativeのラベル付け\n",
        "\n",
        "データセットの形式:\n",
        "- トレーニングデータと検証データは25,000要素のリストとして読み込まれる"
      ]
    },
    {
      "cell_type": "code",
      "execution_count": null,
      "metadata": {
        "colab": {
          "base_uri": "https://localhost:8080/"
        },
        "id": "hvfoy6M82QI9",
        "outputId": "66d338a7-d412-458a-dae3-c4a292e1fa58",
        "tags": []
      },
      "outputs": [
        {
          "output_type": "stream",
          "name": "stdout",
          "text": [
            "Downloading data from https://storage.googleapis.com/tensorflow/tf-keras-datasets/imdb.npz\n",
            "\u001b[1m17464789/17464789\u001b[0m \u001b[32m━━━━━━━━━━━━━━━━━━━━\u001b[0m\u001b[37m\u001b[0m \u001b[1m0s\u001b[0m 0us/step\n"
          ]
        }
      ],
      "source": [
        "max_features = 20000\n",
        "\n",
        "(train_data, train_labels), (val_data, val_labels) = keras.datasets.imdb.load_data(num_words=max_features)"
      ]
    },
    {
      "cell_type": "code",
      "execution_count": null,
      "metadata": {
        "colab": {
          "base_uri": "https://localhost:8080/"
        },
        "id": "xx-Hxo8m_oc4",
        "outputId": "60c3bae9-059e-4de3-9bf8-b52d85926e52",
        "tags": []
      },
      "outputs": [
        {
          "output_type": "stream",
          "name": "stdout",
          "text": [
            "25000\n",
            "25000\n"
          ]
        }
      ],
      "source": [
        "print(len(train_data))\n",
        "print(len(val_data))"
      ]
    },
    {
      "cell_type": "markdown",
      "metadata": {
        "id": "-DmqzQ-eAU1e"
      },
      "source": [
        "以下は映画レビューの一例です。\n",
        "これは整数インデックスのリストです:\n",
        "- 141個の単語を含む\n",
        "- データセット内の単語は既に整数インデックスに変換済み\n",
        "\n",
        "※技術用語:\n",
        "- Movie review (映画レビュー)\n",
        "- Integer indices (整数インデックス)"
      ]
    },
    {
      "cell_type": "code",
      "execution_count": null,
      "metadata": {
        "colab": {
          "base_uri": "https://localhost:8080/"
        },
        "id": "MXKWTG9Pai4C",
        "outputId": "5074b75f-08b9-4c93-94db-7ae567f20b28",
        "tags": []
      },
      "outputs": [
        {
          "output_type": "stream",
          "name": "stdout",
          "text": [
            "Number of words in the third review 141\n",
            "[1, 14, 47, 8, 30, 31, 7, 4, 249, 108, 7, 4, 5974, 54, 61, 369, 13, 71, 149, 14, 22, 112, 4, 2401, 311, 12, 16, 3711, 33, 75, 43, 1829, 296, 4, 86, 320, 35, 534, 19, 263, 4821, 1301, 4, 1873, 33, 89, 78, 12, 66, 16, 4, 360, 7, 4, 58, 316, 334, 11, 4, 1716, 43, 645, 662, 8, 257, 85, 1200, 42, 1228, 2578, 83, 68, 3912, 15, 36, 165, 1539, 278, 36, 69, 2, 780, 8, 106, 14, 6905, 1338, 18, 6, 22, 12, 215, 28, 610, 40, 6, 87, 326, 23, 2300, 21, 23, 22, 12, 272, 40, 57, 31, 11, 4, 22, 47, 6, 2307, 51, 9, 170, 23, 595, 116, 595, 1352, 13, 191, 79, 638, 89, 2, 14, 9, 8, 106, 607, 624, 35, 534, 6, 227, 7, 129, 113]\n"
          ]
        }
      ],
      "source": [
        "# Display the third movie review\n",
        "print('Number of words in the third review', len(train_data[2]))\n",
        "print(train_data[2])"
      ]
    },
    {
      "cell_type": "code",
      "execution_count": null,
      "metadata": {
        "colab": {
          "base_uri": "https://localhost:8080/"
        },
        "id": "Prz3AruWmAb5",
        "outputId": "f73df954-c397-4d81-d491-29d4bb605735",
        "tags": []
      },
      "outputs": [
        {
          "output_type": "execute_result",
          "data": {
            "text/plain": [
              "array([1, 0, 0, 1, 0, 0, 1, 0, 1, 0])"
            ]
          },
          "metadata": {},
          "execution_count": 19
        }
      ],
      "source": [
        "# Display the first 10 train labels\n",
        "train_labels[:10]"
      ]
    },
    {
      "cell_type": "markdown",
      "metadata": {
        "id": "xjd3rQSVaMhR"
      },
      "source": [
        "#### データセットの準備"
      ]
    },
    {
      "cell_type": "markdown",
      "metadata": {
        "id": "qgqbiz6p2liy"
      },
      "source": [
        "データの`pad_sequences`関数でパディング処理を行います:\n",
        "\n",
        "- `maxlen=200`: 各映画レビューの最初の200単語を使用\n",
        "- 200単語以上のレビューは切り捨て\n",
        "- ほとんどのレビューは200単語未満\n",
        "- トレードオフ:\n",
        "    - 計算コスト\n",
        "    - モデル性能\n",
        "\n",
        "※技術用語:\n",
        "- pad_sequences (パディング処理)\n",
        "- maxlen (最大長)\n"
      ]
    },
    {
      "cell_type": "code",
      "execution_count": null,
      "metadata": {
        "id": "R85gam_ua92K",
        "tags": []
      },
      "outputs": [],
      "source": [
        "train_data = pad_sequences(train_data, maxlen=200)\n",
        "val_data = pad_sequences(val_data, maxlen=200)"
      ]
    },
    {
      "cell_type": "code",
      "execution_count": null,
      "metadata": {
        "colab": {
          "base_uri": "https://localhost:8080/"
        },
        "id": "XWKlUviXcQqw",
        "outputId": "79d6a9ab-ceee-4ca2-bf3e-66e5e696b295"
      },
      "outputs": [
        {
          "output_type": "stream",
          "name": "stdout",
          "text": [
            "Shape of the train data: (25000, 200)\n"
          ]
        }
      ],
      "source": [
        "# Print the shape of the padded train dataset\n",
        "print('Shape of the train data:', train_data.shape)"
      ]
    },
    {
      "cell_type": "markdown",
      "metadata": {
        "id": "4nnhf58jcnhu"
      },
      "source": [
        "次のセルでは、141単語の第3番目のレビューについて確認できます:\n",
        "- 最初の59単語が0に置き換えられています\n",
        "- 長さは200単語に調整されています\n",
        "\n",
        "※技術用語:\n",
        "- Review (レビュー)"
      ]
    },
    {
      "cell_type": "code",
      "execution_count": null,
      "metadata": {
        "colab": {
          "base_uri": "https://localhost:8080/"
        },
        "id": "KqHhsOm5BhtH",
        "outputId": "56a91360-9dd6-4971-8a3d-7edcc4bab575",
        "tags": []
      },
      "outputs": [
        {
          "output_type": "stream",
          "name": "stdout",
          "text": [
            "[   0    0    0    0    0    0    0    0    0    0    0    0    0    0\n",
            "    0    0    0    0    0    0    0    0    0    0    0    0    0    0\n",
            "    0    0    0    0    0    0    0    0    0    0    0    0    0    0\n",
            "    0    0    0    0    0    0    0    0    0    0    0    0    0    0\n",
            "    0    0    0    1   14   47    8   30   31    7    4  249  108    7\n",
            "    4 5974   54   61  369   13   71  149   14   22  112    4 2401  311\n",
            "   12   16 3711   33   75   43 1829  296    4   86  320   35  534   19\n",
            "  263 4821 1301    4 1873   33   89   78   12   66   16    4  360    7\n",
            "    4   58  316  334   11    4 1716   43  645  662    8  257   85 1200\n",
            "   42 1228 2578   83   68 3912   15   36  165 1539  278   36   69    2\n",
            "  780    8  106   14 6905 1338   18    6   22   12  215   28  610   40\n",
            "    6   87  326   23 2300   21   23   22   12  272   40   57   31   11\n",
            "    4   22   47    6 2307   51    9  170   23  595  116  595 1352   13\n",
            "  191   79  638   89    2   14    9    8  106  607  624   35  534    6\n",
            "  227    7  129  113]\n"
          ]
        }
      ],
      "source": [
        "# Display the third movie review\n",
        "print(train_data[2])"
      ]
    },
    {
      "cell_type": "markdown",
      "metadata": {
        "id": "qlyWGixEViI_"
      },
      "source": [
        "#### Keras の Embedding レイヤー\n",
        "\n",
        "主な特徴:\n",
        "- Keras の `Embedding` レイヤーは入力トークンをベクトル空間に投影\n",
        "- 必要な設定:\n",
        "    - データシーケンス内のトークン数\n",
        "    - 埋め込みベクトルの次元数\n",
        "\n",
        "動作の仕組み:\n",
        "- 整数インデックスを入力として受け取る\n",
        "- 埋め込みベクトルを出力\n",
        "- ルックアップテーブルのように機能\n",
        "\n",
        "使用例:\n",
        "- 100単語の語彙を5次元ベクトルで表現\n",
        "- インデックス1,2,3に対してランダムな値を割り当て\n",
        "- 各インデックスに5次元ベクトルが対応\n",
        "- モデル学習時に類似単語のベクトルは近接\n",
        "\n",
        "※技術用語:\n",
        "- Embedding layer (埋め込みレイヤー)\n",
        "- Embedding space (埋め込み空間)\n",
        "- Look-up table (ルックアップテーブル)"
      ]
    },
    {
      "cell_type": "code",
      "execution_count": null,
      "metadata": {
        "id": "6xIZ5fkxQrB8",
        "tags": []
      },
      "outputs": [],
      "source": [
        "from tensorflow.keras.layers import Embedding\n",
        "\n",
        "# Embedding layer: represent a dataset with a vocabulary of 100 words with 5 dimensional vectors\n",
        "embedding_layer = Embedding(input_dim=100, output_dim=5)"
      ]
    },
    {
      "cell_type": "code",
      "execution_count": null,
      "metadata": {
        "colab": {
          "base_uri": "https://localhost:8080/"
        },
        "id": "rser1qdj_RnA",
        "outputId": "8668f948-67da-4bfe-f938-a872336d8031"
      },
      "outputs": [
        {
          "output_type": "execute_result",
          "data": {
            "text/plain": [
              "<tf.Tensor: shape=(3,), dtype=int32, numpy=array([1, 2, 3], dtype=int32)>"
            ]
          },
          "metadata": {},
          "execution_count": 24
        }
      ],
      "source": [
        "# Input layer: list [1, 2, 3] coverted to TensorFlow tensor\n",
        "input_layer = tf.convert_to_tensor([1, 2, 3])\n",
        "\n",
        "# Inspect the input_layer\n",
        "input_layer"
      ]
    },
    {
      "cell_type": "code",
      "execution_count": null,
      "metadata": {
        "colab": {
          "base_uri": "https://localhost:8080/"
        },
        "id": "Z0NAJvq7_ldN",
        "outputId": "14e94566-1b8f-4fff-e194-ebb1ca64acea"
      },
      "outputs": [
        {
          "output_type": "execute_result",
          "data": {
            "text/plain": [
              "array([[-0.01642751, -0.03613057,  0.02674179,  0.02308163, -0.03865197],\n",
              "       [ 0.03135184,  0.04326766, -0.01544314, -0.00839823, -0.04862347],\n",
              "       [ 0.04177303, -0.01579628, -0.00822372, -0.00711039, -0.03730132]],\n",
              "      dtype=float32)"
            ]
          },
          "metadata": {},
          "execution_count": 25
        }
      ],
      "source": [
        "# Apply the Embedding layer\n",
        "output_layer = embedding_layer(input_layer)\n",
        "\n",
        "# Print the embedding vectors\n",
        "output_layer.numpy()"
      ]
    },
    {
      "cell_type": "markdown",
      "metadata": {
        "id": "9SA5YTIfQ1_1"
      },
      "source": [
        "#### モデルの定義、コンパイル、トレーニング\n",
        "\n",
        "次のステップ:\n",
        "\n",
        "- `Embedding` レイヤーを使用\n",
        "- 入力シーケンスの単語を8次元ベクトルに変換\n",
        "- Dense レイヤーで処理\n",
        "- 最後のレイヤーで映画レビューのラベルを予測\n",
        "\n",
        "分類タスクの詳細:\n",
        "- 2値分類問題\n",
        "- ポジティブ/ネガティブの2つのラベル\n",
        "\n",
        "※技術用語:\n",
        "- Embedding layer (埋め込みレイヤー)\n",
        "- Dense layer (全結合レイヤー)\n",
        "- Binary classification (2値分類)"
      ]
    },
    {
      "cell_type": "code",
      "execution_count": null,
      "metadata": {
        "id": "PnBvxyc4UaIA",
        "tags": []
      },
      "outputs": [],
      "source": [
        "from tensorflow.keras.layers import Input, Flatten, Dense, Dropout\n",
        "from tensorflow.keras.models import Model\n",
        "\n",
        "max_features = 20000   # Vocabulary size\n",
        "embedding_dim = 8      # Embedding dimension\n",
        "\n",
        "# Define the layers in the model\n",
        "input_layer = Input(shape=(200,))\n",
        "embedding_layer = Embedding(input_dim=max_features, output_dim=embedding_dim)(input_layer)\n",
        "flatten_layer = Flatten()(embedding_layer)\n",
        "dense_layer = Dense(32, activation='relu')(flatten_layer)\n",
        "dropout_layer = Dropout(0.5)(dense_layer)\n",
        "output_layer = Dense(1, activation='sigmoid')(dropout_layer)\n",
        "\n",
        "# Create the model with inputs and outputs\n",
        "model = Model(inputs=input_layer, outputs=output_layer)"
      ]
    },
    {
      "cell_type": "markdown",
      "metadata": {
        "id": "m3w5rY1jWc07"
      },
      "source": [
        "モデルのコンパイル:\n",
        "\n",
        "- 損失関数: `binary_crossentropy` (2値分類用)\n",
        "    - ポジティブ/ネガティブの2つのラベル\n",
        "\n",
        "- 最適化アルゴリズム: `adam` optimizer"
      ]
    },
    {
      "cell_type": "code",
      "execution_count": null,
      "metadata": {
        "id": "Pa9wGfvlWYtB",
        "tags": []
      },
      "outputs": [],
      "source": [
        "model.compile(optimizer='adam', loss='binary_crossentropy', metrics=['accuracy'])"
      ]
    },
    {
      "cell_type": "markdown",
      "metadata": {
        "id": "l4lU4IG4W1K6"
      },
      "source": [
        "モデルをトレーニングする前に、モデルのサマリー(summary)を確認します。"
      ]
    },
    {
      "cell_type": "code",
      "execution_count": null,
      "metadata": {
        "colab": {
          "base_uri": "https://localhost:8080/",
          "height": 331
        },
        "id": "LNJhXZIMWzmZ",
        "outputId": "14b77e65-8ac0-4fd6-923b-34acdd5693fd",
        "tags": []
      },
      "outputs": [
        {
          "output_type": "display_data",
          "data": {
            "text/plain": [
              "\u001b[1mModel: \"functional\"\u001b[0m\n"
            ],
            "text/html": [
              "<pre style=\"white-space:pre;overflow-x:auto;line-height:normal;font-family:Menlo,'DejaVu Sans Mono',consolas,'Courier New',monospace\"><span style=\"font-weight: bold\">Model: \"functional\"</span>\n",
              "</pre>\n"
            ]
          },
          "metadata": {}
        },
        {
          "output_type": "display_data",
          "data": {
            "text/plain": [
              "┏━━━━━━━━━━━━━━━━━━━━━━━━━━━━━━━━━━━━━━┳━━━━━━━━━━━━━━━━━━━━━━━━━━━━━┳━━━━━━━━━━━━━━━━━┓\n",
              "┃\u001b[1m \u001b[0m\u001b[1mLayer (type)                        \u001b[0m\u001b[1m \u001b[0m┃\u001b[1m \u001b[0m\u001b[1mOutput Shape               \u001b[0m\u001b[1m \u001b[0m┃\u001b[1m \u001b[0m\u001b[1m        Param #\u001b[0m\u001b[1m \u001b[0m┃\n",
              "┡━━━━━━━━━━━━━━━━━━━━━━━━━━━━━━━━━━━━━━╇━━━━━━━━━━━━━━━━━━━━━━━━━━━━━╇━━━━━━━━━━━━━━━━━┩\n",
              "│ input_layer (\u001b[38;5;33mInputLayer\u001b[0m)             │ (\u001b[38;5;45mNone\u001b[0m, \u001b[38;5;34m200\u001b[0m)                 │               \u001b[38;5;34m0\u001b[0m │\n",
              "├──────────────────────────────────────┼─────────────────────────────┼─────────────────┤\n",
              "│ embedding_1 (\u001b[38;5;33mEmbedding\u001b[0m)              │ (\u001b[38;5;45mNone\u001b[0m, \u001b[38;5;34m200\u001b[0m, \u001b[38;5;34m8\u001b[0m)              │         \u001b[38;5;34m160,000\u001b[0m │\n",
              "├──────────────────────────────────────┼─────────────────────────────┼─────────────────┤\n",
              "│ flatten (\u001b[38;5;33mFlatten\u001b[0m)                    │ (\u001b[38;5;45mNone\u001b[0m, \u001b[38;5;34m1600\u001b[0m)                │               \u001b[38;5;34m0\u001b[0m │\n",
              "├──────────────────────────────────────┼─────────────────────────────┼─────────────────┤\n",
              "│ dense (\u001b[38;5;33mDense\u001b[0m)                        │ (\u001b[38;5;45mNone\u001b[0m, \u001b[38;5;34m32\u001b[0m)                  │          \u001b[38;5;34m51,232\u001b[0m │\n",
              "├──────────────────────────────────────┼─────────────────────────────┼─────────────────┤\n",
              "│ dropout (\u001b[38;5;33mDropout\u001b[0m)                    │ (\u001b[38;5;45mNone\u001b[0m, \u001b[38;5;34m32\u001b[0m)                  │               \u001b[38;5;34m0\u001b[0m │\n",
              "├──────────────────────────────────────┼─────────────────────────────┼─────────────────┤\n",
              "│ dense_1 (\u001b[38;5;33mDense\u001b[0m)                      │ (\u001b[38;5;45mNone\u001b[0m, \u001b[38;5;34m1\u001b[0m)                   │              \u001b[38;5;34m33\u001b[0m │\n",
              "└──────────────────────────────────────┴─────────────────────────────┴─────────────────┘\n"
            ],
            "text/html": [
              "<pre style=\"white-space:pre;overflow-x:auto;line-height:normal;font-family:Menlo,'DejaVu Sans Mono',consolas,'Courier New',monospace\">┏━━━━━━━━━━━━━━━━━━━━━━━━━━━━━━━━━━━━━━┳━━━━━━━━━━━━━━━━━━━━━━━━━━━━━┳━━━━━━━━━━━━━━━━━┓\n",
              "┃<span style=\"font-weight: bold\"> Layer (type)                         </span>┃<span style=\"font-weight: bold\"> Output Shape                </span>┃<span style=\"font-weight: bold\">         Param # </span>┃\n",
              "┡━━━━━━━━━━━━━━━━━━━━━━━━━━━━━━━━━━━━━━╇━━━━━━━━━━━━━━━━━━━━━━━━━━━━━╇━━━━━━━━━━━━━━━━━┩\n",
              "│ input_layer (<span style=\"color: #0087ff; text-decoration-color: #0087ff\">InputLayer</span>)             │ (<span style=\"color: #00d7ff; text-decoration-color: #00d7ff\">None</span>, <span style=\"color: #00af00; text-decoration-color: #00af00\">200</span>)                 │               <span style=\"color: #00af00; text-decoration-color: #00af00\">0</span> │\n",
              "├──────────────────────────────────────┼─────────────────────────────┼─────────────────┤\n",
              "│ embedding_1 (<span style=\"color: #0087ff; text-decoration-color: #0087ff\">Embedding</span>)              │ (<span style=\"color: #00d7ff; text-decoration-color: #00d7ff\">None</span>, <span style=\"color: #00af00; text-decoration-color: #00af00\">200</span>, <span style=\"color: #00af00; text-decoration-color: #00af00\">8</span>)              │         <span style=\"color: #00af00; text-decoration-color: #00af00\">160,000</span> │\n",
              "├──────────────────────────────────────┼─────────────────────────────┼─────────────────┤\n",
              "│ flatten (<span style=\"color: #0087ff; text-decoration-color: #0087ff\">Flatten</span>)                    │ (<span style=\"color: #00d7ff; text-decoration-color: #00d7ff\">None</span>, <span style=\"color: #00af00; text-decoration-color: #00af00\">1600</span>)                │               <span style=\"color: #00af00; text-decoration-color: #00af00\">0</span> │\n",
              "├──────────────────────────────────────┼─────────────────────────────┼─────────────────┤\n",
              "│ dense (<span style=\"color: #0087ff; text-decoration-color: #0087ff\">Dense</span>)                        │ (<span style=\"color: #00d7ff; text-decoration-color: #00d7ff\">None</span>, <span style=\"color: #00af00; text-decoration-color: #00af00\">32</span>)                  │          <span style=\"color: #00af00; text-decoration-color: #00af00\">51,232</span> │\n",
              "├──────────────────────────────────────┼─────────────────────────────┼─────────────────┤\n",
              "│ dropout (<span style=\"color: #0087ff; text-decoration-color: #0087ff\">Dropout</span>)                    │ (<span style=\"color: #00d7ff; text-decoration-color: #00d7ff\">None</span>, <span style=\"color: #00af00; text-decoration-color: #00af00\">32</span>)                  │               <span style=\"color: #00af00; text-decoration-color: #00af00\">0</span> │\n",
              "├──────────────────────────────────────┼─────────────────────────────┼─────────────────┤\n",
              "│ dense_1 (<span style=\"color: #0087ff; text-decoration-color: #0087ff\">Dense</span>)                      │ (<span style=\"color: #00d7ff; text-decoration-color: #00d7ff\">None</span>, <span style=\"color: #00af00; text-decoration-color: #00af00\">1</span>)                   │              <span style=\"color: #00af00; text-decoration-color: #00af00\">33</span> │\n",
              "└──────────────────────────────────────┴─────────────────────────────┴─────────────────┘\n",
              "</pre>\n"
            ]
          },
          "metadata": {}
        },
        {
          "output_type": "display_data",
          "data": {
            "text/plain": [
              "\u001b[1m Total params: \u001b[0m\u001b[38;5;34m211,265\u001b[0m (825.25 KB)\n"
            ],
            "text/html": [
              "<pre style=\"white-space:pre;overflow-x:auto;line-height:normal;font-family:Menlo,'DejaVu Sans Mono',consolas,'Courier New',monospace\"><span style=\"font-weight: bold\"> Total params: </span><span style=\"color: #00af00; text-decoration-color: #00af00\">211,265</span> (825.25 KB)\n",
              "</pre>\n"
            ]
          },
          "metadata": {}
        },
        {
          "output_type": "display_data",
          "data": {
            "text/plain": [
              "\u001b[1m Trainable params: \u001b[0m\u001b[38;5;34m211,265\u001b[0m (825.25 KB)\n"
            ],
            "text/html": [
              "<pre style=\"white-space:pre;overflow-x:auto;line-height:normal;font-family:Menlo,'DejaVu Sans Mono',consolas,'Courier New',monospace\"><span style=\"font-weight: bold\"> Trainable params: </span><span style=\"color: #00af00; text-decoration-color: #00af00\">211,265</span> (825.25 KB)\n",
              "</pre>\n"
            ]
          },
          "metadata": {}
        },
        {
          "output_type": "display_data",
          "data": {
            "text/plain": [
              "\u001b[1m Non-trainable params: \u001b[0m\u001b[38;5;34m0\u001b[0m (0.00 B)\n"
            ],
            "text/html": [
              "<pre style=\"white-space:pre;overflow-x:auto;line-height:normal;font-family:Menlo,'DejaVu Sans Mono',consolas,'Courier New',monospace\"><span style=\"font-weight: bold\"> Non-trainable params: </span><span style=\"color: #00af00; text-decoration-color: #00af00\">0</span> (0.00 B)\n",
              "</pre>\n"
            ]
          },
          "metadata": {}
        }
      ],
      "source": [
        "model.summary()"
      ]
    },
    {
      "cell_type": "code",
      "execution_count": null,
      "metadata": {
        "colab": {
          "base_uri": "https://localhost:8080/"
        },
        "id": "N_um8S3dW4-j",
        "outputId": "93cde2e1-e593-479d-e9ed-da227faad8b5",
        "tags": []
      },
      "outputs": [
        {
          "output_type": "stream",
          "name": "stdout",
          "text": [
            "Epoch 1/5\n",
            "\u001b[1m782/782\u001b[0m \u001b[32m━━━━━━━━━━━━━━━━━━━━\u001b[0m\u001b[37m\u001b[0m \u001b[1m7s\u001b[0m 6ms/step - accuracy: 0.6343 - loss: 0.5979 - val_accuracy: 0.8658 - val_loss: 0.3126\n",
            "Epoch 2/5\n",
            "\u001b[1m782/782\u001b[0m \u001b[32m━━━━━━━━━━━━━━━━━━━━\u001b[0m\u001b[37m\u001b[0m \u001b[1m6s\u001b[0m 3ms/step - accuracy: 0.9191 - loss: 0.2187 - val_accuracy: 0.8617 - val_loss: 0.3281\n",
            "Epoch 3/5\n",
            "\u001b[1m782/782\u001b[0m \u001b[32m━━━━━━━━━━━━━━━━━━━━\u001b[0m\u001b[37m\u001b[0m \u001b[1m2s\u001b[0m 3ms/step - accuracy: 0.9661 - loss: 0.1085 - val_accuracy: 0.8567 - val_loss: 0.4006\n",
            "Epoch 4/5\n",
            "\u001b[1m782/782\u001b[0m \u001b[32m━━━━━━━━━━━━━━━━━━━━\u001b[0m\u001b[37m\u001b[0m \u001b[1m4s\u001b[0m 5ms/step - accuracy: 0.9887 - loss: 0.0457 - val_accuracy: 0.8522 - val_loss: 0.5079\n",
            "Epoch 5/5\n",
            "\u001b[1m782/782\u001b[0m \u001b[32m━━━━━━━━━━━━━━━━━━━━\u001b[0m\u001b[37m\u001b[0m \u001b[1m3s\u001b[0m 3ms/step - accuracy: 0.9938 - loss: 0.0230 - val_accuracy: 0.8487 - val_loss: 0.5701\n"
          ]
        }
      ],
      "source": [
        "history = model.fit(train_data, train_labels, validation_data = (val_data, val_labels), epochs=5)"
      ]
    },
    {
      "cell_type": "markdown",
      "metadata": {
        "id": "R45E02hfskwZ"
      },
      "source": [
        "### 5.2 TextVectorization レイヤーの使用 <a name='19.5.2-using-textvectorization-layer'></a>"
      ]
    },
    {
      "cell_type": "markdown",
      "metadata": {
        "id": "BaIlzPVGh54c"
      },
      "source": [
        "### TextVectorization レイヤー\n",
        "\n",
        "Kerasは`TextVectorization`レイヤーを提供:\n",
        "- テキストのトークン化と数値化を行う\n",
        "- ニューラルネットワークの一部として直接使用可能\n",
        "\n",
        "主な処理ステップ:\n",
        "- テキストの標準化(句読点削除、小文字化)\n",
        "- 文章のトークン化\n",
        "- トークンの数値表現への変換\n",
        "\n",
        "`TextVectorization`の特徴:\n",
        "- `Tokenizer`関数と同様の機能\n",
        "- モデルに直接組み込み可能\n",
        "- エンドツーエンドのパイプラインに最適\n",
        "\n",
        "主なパラメータ:\n",
        "- *max_tokens*: 語彙の最大単語数\n",
        "- *standardize*: 標準化の方法を指定\n",
        "- *split*: テキスト分割方法を指定\n",
        "- *output_sequence_length*: シーケンスの長さを指定\n",
        "\n",
        "※技術用語:\n",
        "- TextVectorization layer (テキストベクトル化レイヤー)\n",
        "- End-to-end pipeline (エンドツーエンドパイプライン)\n",
        "- Vocabulary (語彙)"
      ]
    },
    {
      "cell_type": "code",
      "execution_count": null,
      "metadata": {
        "id": "QfkdnmQkrSYw",
        "tags": []
      },
      "outputs": [],
      "source": [
        "from tensorflow.keras.layers import TextVectorization\n",
        "\n",
        "text_vect_layer = TextVectorization(max_tokens=1000, output_sequence_length=10)"
      ]
    },
    {
      "cell_type": "code",
      "execution_count": null,
      "metadata": {
        "id": "7eYMFefqscFA",
        "tags": []
      },
      "outputs": [],
      "source": [
        "# Sample sentences\n",
        "sentences = ['TensorFlow is a deep learning library!',\n",
        "             'Is TensorFlow powered by Keras API?']"
      ]
    },
    {
      "cell_type": "markdown",
      "metadata": {
        "id": "aaOetzBexcPA"
      },
      "source": [
        "`adapt()`メソッドは`TextVectorization`レイヤーに文章を適合させるために使用されます。\n",
        "\n",
        "`adapt()`メソッドの機能:\n",
        "- 頻出トークンから語彙を作成\n",
        "- トークンと整数インデックスのマッピングを作成\n",
        "- テキストを数値表現に変換するために使用\n",
        "\n",
        "※技術用語:\n",
        "- adapt() method (`adapt()`メソッド)\n",
        "- TextVectorization layer (テキストベクトル化レイヤー)\n",
        "- Vocabulary (語彙)\n",
        "- Token (トークン)"
      ]
    },
    {
      "cell_type": "code",
      "execution_count": null,
      "metadata": {
        "id": "GdYJMqYGuf4L",
        "tags": []
      },
      "outputs": [],
      "source": [
        "text_vect_layer.adapt(sentences)"
      ]
    },
    {
      "cell_type": "code",
      "execution_count": null,
      "metadata": {
        "colab": {
          "base_uri": "https://localhost:8080/"
        },
        "id": "RSdGV0oNDNYQ",
        "outputId": "f5e79db4-f0ca-41b9-91a2-7a8cb65d24c5"
      },
      "outputs": [
        {
          "output_type": "stream",
          "name": "stdout",
          "text": [
            "tf.Tensor(\n",
            "[[ 2  3 11  8  6  5  0  0  0  0]\n",
            " [ 3  2  4  9  7 10  0  0  0  0]], shape=(2, 10), dtype=int64)\n"
          ]
        }
      ],
      "source": [
        "# Vectorize the above sentences and display the output\n",
        "vectorized_sentences = text_vect_layer(sentences)\n",
        "print(vectorized_sentences)"
      ]
    },
    {
      "cell_type": "code",
      "execution_count": null,
      "metadata": {
        "colab": {
          "base_uri": "https://localhost:8080/"
        },
        "id": "RobsgppoTWtU",
        "outputId": "3272388b-00ac-4487-ed49-532bf8e1de74"
      },
      "outputs": [
        {
          "output_type": "execute_result",
          "data": {
            "text/plain": [
              "['',\n",
              " '[UNK]',\n",
              " 'tensorflow',\n",
              " 'is',\n",
              " 'powered',\n",
              " 'library',\n",
              " 'learning',\n",
              " 'keras',\n",
              " 'deep',\n",
              " 'by',\n",
              " 'api',\n",
              " 'a']"
            ]
          },
          "metadata": {},
          "execution_count": 35
        }
      ],
      "source": [
        "# Get the vocabulary from the TextVectorization layer\n",
        "vocab = text_vect_layer.get_vocabulary()\n",
        "\n",
        "# Print each word and its corresponding index\n",
        "vocab"
      ]
    },
    {
      "cell_type": "markdown",
      "metadata": {
        "id": "UXT4hQTQxiZP"
      },
      "source": [
        "サンプル文を使って出力を確認してみましょう。"
      ]
    },
    {
      "cell_type": "code",
      "execution_count": null,
      "metadata": {
        "id": "WyQWnWL-xDV0",
        "tags": []
      },
      "outputs": [],
      "source": [
        "sample_sentence = 'Tensorflow is a machine learning framework!'\n",
        "\n",
        "vectorized_sentence = text_vect_layer([sample_sentence])"
      ]
    },
    {
      "cell_type": "code",
      "execution_count": null,
      "metadata": {
        "colab": {
          "base_uri": "https://localhost:8080/"
        },
        "id": "1bnFLF8xZTC0",
        "outputId": "ce3a0782-b018-45b8-e6cc-d80659fbc86e",
        "tags": []
      },
      "outputs": [
        {
          "output_type": "stream",
          "name": "stdout",
          "text": [
            "Orginal sentence: Tensorflow is a machine learning framework!\n",
            "Vectorized sentence: tf.Tensor([[ 2  3 11  1  6  1  0  0  0  0]], shape=(1, 10), dtype=int64)\n"
          ]
        }
      ],
      "source": [
        "print('Orginal sentence:', sample_sentence)\n",
        "print('Vectorized sentence:', vectorized_sentence)"
      ]
    },
    {
      "cell_type": "markdown",
      "metadata": {
        "id": "No7WUUUhylIG"
      },
      "source": [
        "- 単語`'machine'`と`'framework'`は、レイヤーに渡した`sentences`に含まれていないため、語彙(vocabulary)になく、ベクトル化された出力では両方とも`1`で表現されます\n",
        "    - インデックス1は語彙外(oov_token)の単語用に予約されています\n",
        "\n",
        "- 出力は0でパディング(padding)され、出力シーケンスの長さは10に設定されています\n",
        "\n",
        "- TextVectorization レイヤーの利点:\n",
        "    - 必要なテキスト前処理を一度に実行\n",
        "    - モデル内で直接使用可能\n"
      ]
    },
    {
      "cell_type": "markdown",
      "metadata": {
        "id": "ztGDcuYujNzp"
      },
      "source": [
        "### 5.3 RNNによるシーケンスモデリング <a name='19.5.3-sequence-modeling-with-recurrent-neural-networks'></a>"
      ]
    },
    {
      "cell_type": "markdown",
      "metadata": {
        "id": "b6ABwz_Am75n"
      },
      "source": [
        "**Recurrent Neural Networks (RNN・リカレントニューラルネットワーク)**\n",
        "\n",
        "シーケンシャルデータを処理するためのニューラルネットワークアーキテクチャ\n",
        "\n",
        "シーケンシャルデータの例:\n",
        "- 時系列データ (Time-series)\n",
        "- テキスト (文字や単語の列)\n",
        "- 音声 (音波の列)\n",
        "- 動画 (画像の列)\n",
        "- 遺伝子配列 (DNA配列)\n",
        "\n",
        "データの順序を保持することが重要:\n",
        "例: \"Today, I took my cat for a [....]\"\n",
        "- 次の単語を予測するには、文の最初から最後までの流れを把握する必要がある\n",
        "\n",
        "RNNの特徴:\n",
        "- 従来のフィードフォワードネットワークとは異なる\n",
        "- 各時間ステップでフィードバックループを持つ\n",
        "- 単語間の依存関係を学習可能\n",
        "\n",
        "![rnn.webp](data:image/webp;base64,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)\n",
        "\n",
        "*図: Recurrent Neural Network (リカレントニューラルネットワーク)*\n"
      ]
    },
    {
      "cell_type": "markdown",
      "metadata": {
        "id": "2xBfAgEAzEm2"
      },
      "source": [
        "### RNNの種類\n",
        "\n",
        "**主な3つのタイプ:**\n",
        "- SimpleRNN (基本的なRNN)　短い文章の予測はできる。\n",
        "- LSTM (Long Short-Term Memory)\n",
        "- GRU (Gated Recurrent Units)\n",
        "\n",
        "**SimpleRNN vs LSTM/GRU:**\n",
        "- SimpleRNN: 長いシーケンスの処理が苦手\n",
        "- LSTM/GRU: 長期的な依存関係を保持可能\n",
        "\n",
        "**LSTM/GRUの特徴:**\n",
        "- 複数のゲートで情報の流れを制御\n",
        "- LSTMの構成:\n",
        "    - Input gate (入力ゲート)\n",
        "    - Output gate (出力ゲート)\n",
        "    - Forget gate (忘却ゲート)\n",
        "    - Memory cell (メモリセル)\n",
        "\n",
        "※次のセクションでは、LSTMを使用したテキスト分類モデルを実装します"
      ]
    },
    {
      "cell_type": "markdown",
      "metadata": {
        "id": "OyjIIjZzRlev"
      },
      "source": [
        "#### データの読み込み"
      ]
    },
    {
      "cell_type": "markdown",
      "metadata": {
        "id": "0DAL7PtzV7gg"
      },
      "source": [
        "### AG News データセットの使用\n",
        "\n",
        "**データセット概要:**\n",
        "- AG News: 2,000以上のニュースソースから収集\n",
        "- 4つのカテゴリに分類:\n",
        "    - World (世界): 0\n",
        "    - Sports (スポーツ): 1\n",
        "    - Business (ビジネス): 2\n",
        "    - Sci/Tech (科学技術): 3\n",
        "\n",
        "**データ量:**\n",
        "- トレーニングデータ: 120,000件\n",
        "- テストデータ: 7,600件\n",
        "\n",
        "**データ読み込みの設定:**\n",
        "- `with_info=True`: データセット情報を取得\n",
        "- `as_supervised=True`: (入力,ターゲット)のペアで読み込み"
      ]
    },
    {
      "cell_type": "code",
      "execution_count": null,
      "metadata": {
        "id": "U8fnaQT4CE9G",
        "tags": []
      },
      "outputs": [],
      "source": [
        "import tensorflow_datasets as tfds\n",
        "import pandas as pd"
      ]
    },
    {
      "cell_type": "code",
      "execution_count": null,
      "metadata": {
        "colab": {
          "base_uri": "https://localhost:8080/",
          "height": 149,
          "referenced_widgets": [
            "dc5a17d8f7b54bdba93d5d76b3de9759",
            "6f95ecbc7f7e41f59396613bdc8acf5d",
            "d5bb9eacf1df4286abd2843f73f98bfc",
            "feeff0a7b27e4917847d71767fe6d167",
            "92b9a6e015f14b2b9d3e479e696c300f",
            "de37c22e6ee14f76827c3777a6713c3f",
            "a5d99a3a07544a708219822d4fe623c7",
            "3ac32488db2d45fa9071524870b9bf28",
            "5df44f40ab6b485ab0ec9b7bb1ce844a",
            "98ba8abb37e3484fb497d0cfb25c2038",
            "f52e788661f64eadb8aae35a766aea46",
            "31ff1b1965b34c579b94e6f3f01d86bd",
            "17bdfcb619e6442ba11bb8a5693fe437",
            "290508ce559c46529faa969079ecb784",
            "26c6bba85fa34e6083f0a610de5b6ecf",
            "0af84e503e44467a91d10fcaf06797f9",
            "176e325aa5904975a7054dfdb49f3c58",
            "4a6bcbe500ff47edb33de20a0badbf63",
            "73beb5850bea47728cafb3fb638d8655",
            "1d25406b27eb43f2843324beee0398f4",
            "9e4a23e68cec4cc4b2d52d4d45ca3494",
            "3fd31779f8cc4599b0bb2723da481ca9",
            "f2a44d43384442d8aadb5ce362925fee",
            "2d4fdb0f0b694415a967c0bda28bcedd",
            "86479cb311274030ba0f457919522320",
            "aff64ea324244042a8de856f9433fd0d",
            "88bd4ec9ca1a42479122c247fc66b676",
            "fcbec8c30bcb41bc83306afc6f6d0f3d",
            "93922a554e29490485d583bdeb524ae6",
            "8c59176ba59d4b1d857c6f4a8d12fafe",
            "078a268a9959423b879e6ebcb3208e12",
            "f343e27f9247477da9cf5eac506a2d30",
            "86acac6e1ab74507a7ae38d079ab79ff",
            "b12d3d96b59a4d6e8d5a6085f892b344",
            "15a5fa8d24c94704a07720ed67129666",
            "08f10ed33f284cd4952d8300dfd7276a",
            "a3c4481304ba4cc19b50797e84f3914a",
            "699604371a2f4427b5ba472d271208ce",
            "850b5c4b96114d7a9183450ecac09b1c",
            "f73d7af358a645b9834b54503ff8a132",
            "e1c8b9e894d54b36882a0cd1b21930f1",
            "02d7de2794d14448b769efcfd0d3db70",
            "727176bb4e234a52a5c8afa2cb46f6fd",
            "126f12a498fd4f98a9b7d180acc62620",
            "dbaef12e3f174d00931b0701f5d11f16",
            "0581ee11f6234dfda4ba7bd72c2cb395",
            "2aa9985203ea4369911327cf6c8c1802",
            "1a9dd0c92f0c4b8c83931ce24cbaea3b",
            "85859151619a48498ce9a5ad18c6442c",
            "107abe2da7704de69a601c54f5bd49e7",
            "8e5a60bcc5ce434c9d50a23d3c70d2c4",
            "4c80fe6f96814abbacc6e42bb289c228",
            "a71764d0bdf9464c95ccfea82692fa45",
            "815d3c6e050c47efbfc52cb2061f5afd",
            "3b492eb17cf141a0b8066a6ea3a472cd",
            "5db234c8cbe243a3884800650c056bb8",
            "13d90393ef24419d9ec647e2d10d1e2d",
            "9bb719667d1c4272b2dcf3e371ebd145",
            "35495a4d7854482ba29ed6000b883712",
            "a6329bc37cda465da0e77ea68f7b9c0c",
            "24cba8e964e0444daf0659d048e13ff9",
            "b01e6375ef1a45919556152d5e5f0bcd",
            "6eee757b972c4b9b818e4c4485bb41d8",
            "d1bbf3f8b839427e9cdd4e8ce3bb4aea",
            "948b9f93e64f4d409a47d8107c81ef2e",
            "2e1ef145cf83432cb13e65f7f0ada0c1",
            "98771ff88652415bb3c527897900d290",
            "ed7cc6467520424ab867cfb49019f8e4",
            "942bd121f7bc40f481d595a2b53a98aa",
            "ebeffddc41fb4cd4844d3be18823e051",
            "abee4640db4447c0ae2a804c73f5ae43",
            "3f99c025005742e19994b375ce2f9b8e",
            "b6b7982dede54a6981648335a1c4d804",
            "1352df79ef76478ba28bcbcecef53a2b",
            "7d3a411fd72049e888d77ab666a5bed1",
            "8e6d0f142d7f4414bf2d6cc86bb69abd",
            "3bcfe58788df4f109efa001a776d2cdc",
            "cc773bf3f86e4544b1a0b3277ca765e5",
            "3d467d2a1b79443da4ccb955eb03505d",
            "29f7b4867cc44ef393096f19c3efa203",
            "eacea5ddc56d43318ae2aa5982fc28d3",
            "66615ceb59bd49a094fdc8dabb877b73",
            "c102896909c8442f8cf1de535c1b248e",
            "ce5ab5a2c01b4309b6e13cf465274c6e",
            "6fe5eb01751341ee82dd35bfa6b28583",
            "d2a0ab840fcf4f798526acb569327c98",
            "f5c8ffabd67d4aeebf1c9f5a4fede4da",
            "d7c2c04c21fc46de8e85dbdd33a0dea4"
          ]
        },
        "id": "6JIKIZDRQwVV",
        "outputId": "953368ea-2656-45fa-d4a4-3f45eea2da25"
      },
      "outputs": [
        {
          "output_type": "stream",
          "name": "stdout",
          "text": [
            "Downloading and preparing dataset 11.24 MiB (download: 11.24 MiB, generated: 35.79 MiB, total: 47.03 MiB) to /root/tensorflow_datasets/ag_news_subset/1.0.0...\n"
          ]
        },
        {
          "output_type": "display_data",
          "data": {
            "text/plain": [
              "Dl Completed...: 0 url [00:00, ? url/s]"
            ],
            "application/vnd.jupyter.widget-view+json": {
              "version_major": 2,
              "version_minor": 0,
              "model_id": "dc5a17d8f7b54bdba93d5d76b3de9759"
            }
          },
          "metadata": {}
        },
        {
          "output_type": "display_data",
          "data": {
            "text/plain": [
              "Dl Size...: 0 MiB [00:00, ? MiB/s]"
            ],
            "application/vnd.jupyter.widget-view+json": {
              "version_major": 2,
              "version_minor": 0,
              "model_id": "31ff1b1965b34c579b94e6f3f01d86bd"
            }
          },
          "metadata": {}
        },
        {
          "output_type": "display_data",
          "data": {
            "text/plain": [
              "Extraction completed...: 0 file [00:00, ? file/s]"
            ],
            "application/vnd.jupyter.widget-view+json": {
              "version_major": 2,
              "version_minor": 0,
              "model_id": "f2a44d43384442d8aadb5ce362925fee"
            }
          },
          "metadata": {}
        },
        {
          "output_type": "display_data",
          "data": {
            "text/plain": [
              "Generating splits...:   0%|          | 0/2 [00:00<?, ? splits/s]"
            ],
            "application/vnd.jupyter.widget-view+json": {
              "version_major": 2,
              "version_minor": 0,
              "model_id": "b12d3d96b59a4d6e8d5a6085f892b344"
            }
          },
          "metadata": {}
        },
        {
          "output_type": "display_data",
          "data": {
            "text/plain": [
              "Generating train examples...:   0%|          | 0/120000 [00:00<?, ? examples/s]"
            ],
            "application/vnd.jupyter.widget-view+json": {
              "version_major": 2,
              "version_minor": 0,
              "model_id": "dbaef12e3f174d00931b0701f5d11f16"
            }
          },
          "metadata": {}
        },
        {
          "output_type": "display_data",
          "data": {
            "text/plain": [
              "Shuffling /root/tensorflow_datasets/ag_news_subset/incomplete.PH2ZSA_1.0.0/ag_news_subset-train.tfrecord*...: …"
            ],
            "application/vnd.jupyter.widget-view+json": {
              "version_major": 2,
              "version_minor": 0,
              "model_id": "5db234c8cbe243a3884800650c056bb8"
            }
          },
          "metadata": {}
        },
        {
          "output_type": "display_data",
          "data": {
            "text/plain": [
              "Generating test examples...:   0%|          | 0/7600 [00:00<?, ? examples/s]"
            ],
            "application/vnd.jupyter.widget-view+json": {
              "version_major": 2,
              "version_minor": 0,
              "model_id": "98771ff88652415bb3c527897900d290"
            }
          },
          "metadata": {}
        },
        {
          "output_type": "display_data",
          "data": {
            "text/plain": [
              "Shuffling /root/tensorflow_datasets/ag_news_subset/incomplete.PH2ZSA_1.0.0/ag_news_subset-test.tfrecord*...:  …"
            ],
            "application/vnd.jupyter.widget-view+json": {
              "version_major": 2,
              "version_minor": 0,
              "model_id": "cc773bf3f86e4544b1a0b3277ca765e5"
            }
          },
          "metadata": {}
        },
        {
          "output_type": "stream",
          "name": "stdout",
          "text": [
            "Dataset ag_news_subset downloaded and prepared to /root/tensorflow_datasets/ag_news_subset/1.0.0. Subsequent calls will reuse this data.\n"
          ]
        }
      ],
      "source": [
        "(train_data, val_data), info = tfds.load('ag_news_subset:1.0.0', #version 1.0.0\n",
        "                                         split=['train', 'test'],\n",
        "                                         with_info=True,\n",
        "                                         as_supervised=True)"
      ]
    },
    {
      "cell_type": "markdown",
      "metadata": {
        "id": "378IQW1eSVlz"
      },
      "source": [
        "`info`を使用してデータセットの基本情報を確認できます。"
      ]
    },
    {
      "cell_type": "code",
      "execution_count": null,
      "metadata": {
        "colab": {
          "base_uri": "https://localhost:8080/"
        },
        "id": "03IBh4d1S1eJ",
        "outputId": "320aabdf-9ca3-4ff9-8c1e-63e674dcdf8d"
      },
      "outputs": [
        {
          "output_type": "stream",
          "name": "stdout",
          "text": [
            "['World', 'Sports', 'Business', 'Sci/Tech']\n"
          ]
        }
      ],
      "source": [
        "# Displaying the classes\n",
        "class_names = info.features['label'].names\n",
        "print(class_names)"
      ]
    },
    {
      "cell_type": "code",
      "execution_count": null,
      "metadata": {
        "colab": {
          "base_uri": "https://localhost:8080/"
        },
        "id": "uUzqSrGwY7dU",
        "outputId": "d2734cfd-92c0-4216-8ddb-382fca872fd7"
      },
      "outputs": [
        {
          "output_type": "stream",
          "name": "stdout",
          "text": [
            "Number of training samples: 120000\n",
            "Number of validation samples: 7600\n"
          ]
        }
      ],
      "source": [
        "print('Number of training samples:', info.splits['train'].num_examples)\n",
        "print('Number of validation samples:', info.splits['test'].num_examples)"
      ]
    },
    {
      "cell_type": "markdown",
      "metadata": {
        "id": "_AGay5wWZ_xs"
      },
      "source": [
        "`tfds.as_dataframe`を使用して最初の10件のニュース記事を Pandas DataFrameとして表示します。\n"
      ]
    },
    {
      "cell_type": "code",
      "execution_count": null,
      "metadata": {
        "colab": {
          "base_uri": "https://localhost:8080/",
          "height": 393
        },
        "id": "kGj0TRaXaHG1",
        "outputId": "9c975148-8b92-4e1d-8975-a90bb906f660"
      },
      "outputs": [
        {
          "output_type": "execute_result",
          "data": {
            "text/plain": [
              "                                         description  label\n",
              "0  b'AMD #39;s new dual-core Opteron chip is desi...      3\n",
              "1  b'Reuters - Major League Baseball\\\\Monday anno...      1\n",
              "2  b'President Bush #39;s  quot;revenue-neutral q...      2\n",
              "3  b'Britain will run out of leading scientists u...      3\n",
              "4  b'London, England (Sports Network) - England m...      1\n",
              "5  b'TOKYO - Sony Corp. is banking on the \\\\$3 bi...      0\n",
              "6  b'Giant pandas may well prefer bamboo to lapto...      3\n",
              "7  b'VILNIUS, Lithuania - Lithuania #39;s main pa...      0\n",
              "8  b'Witnesses in the trial of a US soldier charg...      0\n",
              "9  b'Dan Olsen of Ponte Vedra Beach, Fla., shot a...      1"
            ],
            "text/html": [
              "\n",
              "  <div id=\"df-d6282452-760b-4f81-b6da-c7c63c18ac67\" class=\"colab-df-container\">\n",
              "    <style type=\"text/css\">\n",
              "</style>\n",
              "<table id=\"T_bef06\">\n",
              "  <thead>\n",
              "    <tr>\n",
              "      <th class=\"blank level0\" >&nbsp;</th>\n",
              "      <th id=\"T_bef06_level0_col0\" class=\"col_heading level0 col0\" >description</th>\n",
              "      <th id=\"T_bef06_level0_col1\" class=\"col_heading level0 col1\" >label</th>\n",
              "    </tr>\n",
              "  </thead>\n",
              "  <tbody>\n",
              "    <tr>\n",
              "      <th id=\"T_bef06_level0_row0\" class=\"row_heading level0 row0\" >0</th>\n",
              "      <td id=\"T_bef06_row0_col0\" class=\"data row0 col0\" >AMD #39;s new dual-core Opteron chip is designed mainly for corporate computing applications, including databases, Web services, and financial transactions.</td>\n",
              "      <td id=\"T_bef06_row0_col1\" class=\"data row0 col1\" >3 (Sci/Tech)</td>\n",
              "    </tr>\n",
              "    <tr>\n",
              "      <th id=\"T_bef06_level0_row1\" class=\"row_heading level0 row1\" >1</th>\n",
              "      <td id=\"T_bef06_row1_col0\" class=\"data row1 col0\" >Reuters - Major League Baseball\\Monday announced a decision on the appeal filed by Chicago Cubs\\pitcher Kerry Wood regarding a suspension stemming from an\\incident earlier this season.</td>\n",
              "      <td id=\"T_bef06_row1_col1\" class=\"data row1 col1\" >1 (Sports)</td>\n",
              "    </tr>\n",
              "    <tr>\n",
              "      <th id=\"T_bef06_level0_row2\" class=\"row_heading level0 row2\" >2</th>\n",
              "      <td id=\"T_bef06_row2_col0\" class=\"data row2 col0\" >President Bush #39;s quot;revenue-neutral quot; tax reform needs losers to balance its winners, and people claiming the federal deduction for state and local taxes may be in administration planners #39; sights, news reports say.</td>\n",
              "      <td id=\"T_bef06_row2_col1\" class=\"data row2 col1\" >2 (Business)</td>\n",
              "    </tr>\n",
              "    <tr>\n",
              "      <th id=\"T_bef06_level0_row3\" class=\"row_heading level0 row3\" >3</th>\n",
              "      <td id=\"T_bef06_row3_col0\" class=\"data row3 col0\" >Britain will run out of leading scientists unless science education is improved, says Professor Colin Pillinger.</td>\n",
              "      <td id=\"T_bef06_row3_col1\" class=\"data row3 col1\" >3 (Sci/Tech)</td>\n",
              "    </tr>\n",
              "    <tr>\n",
              "      <th id=\"T_bef06_level0_row4\" class=\"row_heading level0 row4\" >4</th>\n",
              "      <td id=\"T_bef06_row4_col0\" class=\"data row4 col0\" >London, England (Sports Network) - England midfielder Steven Gerrard injured his groin late in Thursday #39;s training session, but is hopeful he will be ready for Saturday #39;s World Cup qualifier against Austria.</td>\n",
              "      <td id=\"T_bef06_row4_col1\" class=\"data row4 col1\" >1 (Sports)</td>\n",
              "    </tr>\n",
              "    <tr>\n",
              "      <th id=\"T_bef06_level0_row5\" class=\"row_heading level0 row5\" >5</th>\n",
              "      <td id=\"T_bef06_row5_col0\" class=\"data row5 col0\" >TOKYO - Sony Corp. is banking on the \\$3 billion deal to acquire Hollywood studio Metro-Goldwyn-Mayer Inc...</td>\n",
              "      <td id=\"T_bef06_row5_col1\" class=\"data row5 col1\" >0 (World)</td>\n",
              "    </tr>\n",
              "    <tr>\n",
              "      <th id=\"T_bef06_level0_row6\" class=\"row_heading level0 row6\" >6</th>\n",
              "      <td id=\"T_bef06_row6_col0\" class=\"data row6 col0\" >Giant pandas may well prefer bamboo to laptops, but wireless technology is helping researchers in China in their efforts to protect the engandered animals living in the remote Wolong Nature Reserve.</td>\n",
              "      <td id=\"T_bef06_row6_col1\" class=\"data row6 col1\" >3 (Sci/Tech)</td>\n",
              "    </tr>\n",
              "    <tr>\n",
              "      <th id=\"T_bef06_level0_row7\" class=\"row_heading level0 row7\" >7</th>\n",
              "      <td id=\"T_bef06_row7_col0\" class=\"data row7 col0\" >VILNIUS, Lithuania - Lithuania #39;s main parties formed an alliance to try to keep a Russian-born tycoon and his populist promises out of the government in Sunday #39;s second round of parliamentary elections in this Baltic country.</td>\n",
              "      <td id=\"T_bef06_row7_col1\" class=\"data row7 col1\" >0 (World)</td>\n",
              "    </tr>\n",
              "    <tr>\n",
              "      <th id=\"T_bef06_level0_row8\" class=\"row_heading level0 row8\" >8</th>\n",
              "      <td id=\"T_bef06_row8_col0\" class=\"data row8 col0\" >Witnesses in the trial of a US soldier charged with abusing prisoners at Abu Ghraib have told the court that the CIA sometimes directed abuse and orders were received from military command to toughen interrogations.</td>\n",
              "      <td id=\"T_bef06_row8_col1\" class=\"data row8 col1\" >0 (World)</td>\n",
              "    </tr>\n",
              "    <tr>\n",
              "      <th id=\"T_bef06_level0_row9\" class=\"row_heading level0 row9\" >9</th>\n",
              "      <td id=\"T_bef06_row9_col0\" class=\"data row9 col0\" >Dan Olsen of Ponte Vedra Beach, Fla., shot a 7-under 65 Thursday to take a one-shot lead after two rounds of the PGA Tour qualifying tournament.</td>\n",
              "      <td id=\"T_bef06_row9_col1\" class=\"data row9 col1\" >1 (Sports)</td>\n",
              "    </tr>\n",
              "  </tbody>\n",
              "</table>\n",
              "\n",
              "    <div class=\"colab-df-buttons\">\n",
              "\n",
              "  <div class=\"colab-df-container\">\n",
              "    <button class=\"colab-df-convert\" onclick=\"convertToInteractive('df-d6282452-760b-4f81-b6da-c7c63c18ac67')\"\n",
              "            title=\"Convert this dataframe to an interactive table.\"\n",
              "            style=\"display:none;\">\n",
              "\n",
              "  <svg xmlns=\"http://www.w3.org/2000/svg\" height=\"24px\" viewBox=\"0 -960 960 960\">\n",
              "    <path d=\"M120-120v-720h720v720H120Zm60-500h600v-160H180v160Zm220 220h160v-160H400v160Zm0 220h160v-160H400v160ZM180-400h160v-160H180v160Zm440 0h160v-160H620v160ZM180-180h160v-160H180v160Zm440 0h160v-160H620v160Z\"/>\n",
              "  </svg>\n",
              "    </button>\n",
              "\n",
              "  <style>\n",
              "    .colab-df-container {\n",
              "      display:flex;\n",
              "      gap: 12px;\n",
              "    }\n",
              "\n",
              "    .colab-df-convert {\n",
              "      background-color: #E8F0FE;\n",
              "      border: none;\n",
              "      border-radius: 50%;\n",
              "      cursor: pointer;\n",
              "      display: none;\n",
              "      fill: #1967D2;\n",
              "      height: 32px;\n",
              "      padding: 0 0 0 0;\n",
              "      width: 32px;\n",
              "    }\n",
              "\n",
              "    .colab-df-convert:hover {\n",
              "      background-color: #E2EBFA;\n",
              "      box-shadow: 0px 1px 2px rgba(60, 64, 67, 0.3), 0px 1px 3px 1px rgba(60, 64, 67, 0.15);\n",
              "      fill: #174EA6;\n",
              "    }\n",
              "\n",
              "    .colab-df-buttons div {\n",
              "      margin-bottom: 4px;\n",
              "    }\n",
              "\n",
              "    [theme=dark] .colab-df-convert {\n",
              "      background-color: #3B4455;\n",
              "      fill: #D2E3FC;\n",
              "    }\n",
              "\n",
              "    [theme=dark] .colab-df-convert:hover {\n",
              "      background-color: #434B5C;\n",
              "      box-shadow: 0px 1px 3px 1px rgba(0, 0, 0, 0.15);\n",
              "      filter: drop-shadow(0px 1px 2px rgba(0, 0, 0, 0.3));\n",
              "      fill: #FFFFFF;\n",
              "    }\n",
              "  </style>\n",
              "\n",
              "    <script>\n",
              "      const buttonEl =\n",
              "        document.querySelector('#df-d6282452-760b-4f81-b6da-c7c63c18ac67 button.colab-df-convert');\n",
              "      buttonEl.style.display =\n",
              "        google.colab.kernel.accessAllowed ? 'block' : 'none';\n",
              "\n",
              "      async function convertToInteractive(key) {\n",
              "        const element = document.querySelector('#df-d6282452-760b-4f81-b6da-c7c63c18ac67');\n",
              "        const dataTable =\n",
              "          await google.colab.kernel.invokeFunction('convertToInteractive',\n",
              "                                                    [key], {});\n",
              "        if (!dataTable) return;\n",
              "\n",
              "        const docLinkHtml = 'Like what you see? Visit the ' +\n",
              "          '<a target=\"_blank\" href=https://colab.research.google.com/notebooks/data_table.ipynb>data table notebook</a>'\n",
              "          + ' to learn more about interactive tables.';\n",
              "        element.innerHTML = '';\n",
              "        dataTable['output_type'] = 'display_data';\n",
              "        await google.colab.output.renderOutput(dataTable, element);\n",
              "        const docLink = document.createElement('div');\n",
              "        docLink.innerHTML = docLinkHtml;\n",
              "        element.appendChild(docLink);\n",
              "      }\n",
              "    </script>\n",
              "  </div>\n",
              "\n",
              "\n",
              "<div id=\"df-fd5d7d47-fcce-4c88-972f-1841b5082b2b\">\n",
              "  <button class=\"colab-df-quickchart\" onclick=\"quickchart('df-fd5d7d47-fcce-4c88-972f-1841b5082b2b')\"\n",
              "            title=\"Suggest charts\"\n",
              "            style=\"display:none;\">\n",
              "\n",
              "<svg xmlns=\"http://www.w3.org/2000/svg\" height=\"24px\"viewBox=\"0 0 24 24\"\n",
              "     width=\"24px\">\n",
              "    <g>\n",
              "        <path d=\"M19 3H5c-1.1 0-2 .9-2 2v14c0 1.1.9 2 2 2h14c1.1 0 2-.9 2-2V5c0-1.1-.9-2-2-2zM9 17H7v-7h2v7zm4 0h-2V7h2v10zm4 0h-2v-4h2v4z\"/>\n",
              "    </g>\n",
              "</svg>\n",
              "  </button>\n",
              "\n",
              "<style>\n",
              "  .colab-df-quickchart {\n",
              "      --bg-color: #E8F0FE;\n",
              "      --fill-color: #1967D2;\n",
              "      --hover-bg-color: #E2EBFA;\n",
              "      --hover-fill-color: #174EA6;\n",
              "      --disabled-fill-color: #AAA;\n",
              "      --disabled-bg-color: #DDD;\n",
              "  }\n",
              "\n",
              "  [theme=dark] .colab-df-quickchart {\n",
              "      --bg-color: #3B4455;\n",
              "      --fill-color: #D2E3FC;\n",
              "      --hover-bg-color: #434B5C;\n",
              "      --hover-fill-color: #FFFFFF;\n",
              "      --disabled-bg-color: #3B4455;\n",
              "      --disabled-fill-color: #666;\n",
              "  }\n",
              "\n",
              "  .colab-df-quickchart {\n",
              "    background-color: var(--bg-color);\n",
              "    border: none;\n",
              "    border-radius: 50%;\n",
              "    cursor: pointer;\n",
              "    display: none;\n",
              "    fill: var(--fill-color);\n",
              "    height: 32px;\n",
              "    padding: 0;\n",
              "    width: 32px;\n",
              "  }\n",
              "\n",
              "  .colab-df-quickchart:hover {\n",
              "    background-color: var(--hover-bg-color);\n",
              "    box-shadow: 0 1px 2px rgba(60, 64, 67, 0.3), 0 1px 3px 1px rgba(60, 64, 67, 0.15);\n",
              "    fill: var(--button-hover-fill-color);\n",
              "  }\n",
              "\n",
              "  .colab-df-quickchart-complete:disabled,\n",
              "  .colab-df-quickchart-complete:disabled:hover {\n",
              "    background-color: var(--disabled-bg-color);\n",
              "    fill: var(--disabled-fill-color);\n",
              "    box-shadow: none;\n",
              "  }\n",
              "\n",
              "  .colab-df-spinner {\n",
              "    border: 2px solid var(--fill-color);\n",
              "    border-color: transparent;\n",
              "    border-bottom-color: var(--fill-color);\n",
              "    animation:\n",
              "      spin 1s steps(1) infinite;\n",
              "  }\n",
              "\n",
              "  @keyframes spin {\n",
              "    0% {\n",
              "      border-color: transparent;\n",
              "      border-bottom-color: var(--fill-color);\n",
              "      border-left-color: var(--fill-color);\n",
              "    }\n",
              "    20% {\n",
              "      border-color: transparent;\n",
              "      border-left-color: var(--fill-color);\n",
              "      border-top-color: var(--fill-color);\n",
              "    }\n",
              "    30% {\n",
              "      border-color: transparent;\n",
              "      border-left-color: var(--fill-color);\n",
              "      border-top-color: var(--fill-color);\n",
              "      border-right-color: var(--fill-color);\n",
              "    }\n",
              "    40% {\n",
              "      border-color: transparent;\n",
              "      border-right-color: var(--fill-color);\n",
              "      border-top-color: var(--fill-color);\n",
              "    }\n",
              "    60% {\n",
              "      border-color: transparent;\n",
              "      border-right-color: var(--fill-color);\n",
              "    }\n",
              "    80% {\n",
              "      border-color: transparent;\n",
              "      border-right-color: var(--fill-color);\n",
              "      border-bottom-color: var(--fill-color);\n",
              "    }\n",
              "    90% {\n",
              "      border-color: transparent;\n",
              "      border-bottom-color: var(--fill-color);\n",
              "    }\n",
              "  }\n",
              "</style>\n",
              "\n",
              "  <script>\n",
              "    async function quickchart(key) {\n",
              "      const quickchartButtonEl =\n",
              "        document.querySelector('#' + key + ' button');\n",
              "      quickchartButtonEl.disabled = true;  // To prevent multiple clicks.\n",
              "      quickchartButtonEl.classList.add('colab-df-spinner');\n",
              "      try {\n",
              "        const charts = await google.colab.kernel.invokeFunction(\n",
              "            'suggestCharts', [key], {});\n",
              "      } catch (error) {\n",
              "        console.error('Error during call to suggestCharts:', error);\n",
              "      }\n",
              "      quickchartButtonEl.classList.remove('colab-df-spinner');\n",
              "      quickchartButtonEl.classList.add('colab-df-quickchart-complete');\n",
              "    }\n",
              "    (() => {\n",
              "      let quickchartButtonEl =\n",
              "        document.querySelector('#df-fd5d7d47-fcce-4c88-972f-1841b5082b2b button');\n",
              "      quickchartButtonEl.style.display =\n",
              "        google.colab.kernel.accessAllowed ? 'block' : 'none';\n",
              "    })();\n",
              "  </script>\n",
              "</div>\n",
              "\n",
              "  <div id=\"id_23beb6e0-12d5-49e5-a8a3-2d78f7a46fe6\">\n",
              "    <style>\n",
              "      .colab-df-generate {\n",
              "        background-color: #E8F0FE;\n",
              "        border: none;\n",
              "        border-radius: 50%;\n",
              "        cursor: pointer;\n",
              "        display: none;\n",
              "        fill: #1967D2;\n",
              "        height: 32px;\n",
              "        padding: 0 0 0 0;\n",
              "        width: 32px;\n",
              "      }\n",
              "\n",
              "      .colab-df-generate:hover {\n",
              "        background-color: #E2EBFA;\n",
              "        box-shadow: 0px 1px 2px rgba(60, 64, 67, 0.3), 0px 1px 3px 1px rgba(60, 64, 67, 0.15);\n",
              "        fill: #174EA6;\n",
              "      }\n",
              "\n",
              "      [theme=dark] .colab-df-generate {\n",
              "        background-color: #3B4455;\n",
              "        fill: #D2E3FC;\n",
              "      }\n",
              "\n",
              "      [theme=dark] .colab-df-generate:hover {\n",
              "        background-color: #434B5C;\n",
              "        box-shadow: 0px 1px 3px 1px rgba(0, 0, 0, 0.15);\n",
              "        filter: drop-shadow(0px 1px 2px rgba(0, 0, 0, 0.3));\n",
              "        fill: #FFFFFF;\n",
              "      }\n",
              "    </style>\n",
              "    <button class=\"colab-df-generate\" onclick=\"generateWithVariable('news_df')\"\n",
              "            title=\"Generate code using this dataframe.\"\n",
              "            style=\"display:none;\">\n",
              "\n",
              "  <svg xmlns=\"http://www.w3.org/2000/svg\" height=\"24px\"viewBox=\"0 0 24 24\"\n",
              "       width=\"24px\">\n",
              "    <path d=\"M7,19H8.4L18.45,9,17,7.55,7,17.6ZM5,21V16.75L18.45,3.32a2,2,0,0,1,2.83,0l1.4,1.43a1.91,1.91,0,0,1,.58,1.4,1.91,1.91,0,0,1-.58,1.4L9.25,21ZM18.45,9,17,7.55Zm-12,3A5.31,5.31,0,0,0,4.9,8.1,5.31,5.31,0,0,0,1,6.5,5.31,5.31,0,0,0,4.9,4.9,5.31,5.31,0,0,0,6.5,1,5.31,5.31,0,0,0,8.1,4.9,5.31,5.31,0,0,0,12,6.5,5.46,5.46,0,0,0,6.5,12Z\"/>\n",
              "  </svg>\n",
              "    </button>\n",
              "    <script>\n",
              "      (() => {\n",
              "      const buttonEl =\n",
              "        document.querySelector('#id_23beb6e0-12d5-49e5-a8a3-2d78f7a46fe6 button.colab-df-generate');\n",
              "      buttonEl.style.display =\n",
              "        google.colab.kernel.accessAllowed ? 'block' : 'none';\n",
              "\n",
              "      buttonEl.onclick = () => {\n",
              "        google.colab.notebook.generateWithVariable('news_df');\n",
              "      }\n",
              "      })();\n",
              "    </script>\n",
              "  </div>\n",
              "\n",
              "    </div>\n",
              "  </div>\n"
            ],
            "application/vnd.google.colaboratory.intrinsic+json": {
              "type": "dataframe",
              "variable_name": "news_df",
              "summary": "{\n  \"name\": \"news_df\",\n  \"rows\": 10,\n  \"fields\": [\n    {\n      \"column\": \"description\",\n      \"properties\": {\n        \"dtype\": \"string\",\n        \"num_unique_values\": 10,\n        \"samples\": [\n          \"b'Witnesses in the trial of a US soldier charged with abusing prisoners at Abu Ghraib have told the court that the CIA sometimes directed abuse and orders were received from military command to toughen interrogations.'\",\n          \"b'Reuters - Major League Baseball\\\\\\\\Monday announced a decision on the appeal filed by Chicago Cubs\\\\\\\\pitcher Kerry Wood regarding a suspension stemming from an\\\\\\\\incident earlier this season.'\",\n          \"b'TOKYO - Sony Corp. is banking on the \\\\\\\\$3 billion deal to acquire Hollywood studio Metro-Goldwyn-Mayer Inc...'\"\n        ],\n        \"semantic_type\": \"\",\n        \"description\": \"\"\n      }\n    },\n    {\n      \"column\": \"label\",\n      \"properties\": {\n        \"dtype\": \"number\",\n        \"std\": 1,\n        \"min\": 0,\n        \"max\": 3,\n        \"num_unique_values\": 4,\n        \"samples\": [\n          1,\n          0,\n          3\n        ],\n        \"semantic_type\": \"\",\n        \"description\": \"\"\n      }\n    }\n  ]\n}"
            }
          },
          "metadata": {},
          "execution_count": 42
        }
      ],
      "source": [
        "news_df = tfds.as_dataframe(train_data.take(10), info)\n",
        "\n",
        "news_df"
      ]
    },
    {
      "cell_type": "markdown",
      "metadata": {
        "id": "F-jPA6TEd3sw"
      },
      "source": [
        "データの内容を理解できたので、LSTMによるニュース分類の前にデータの準備を行います。"
      ]
    },
    {
      "cell_type": "markdown",
      "metadata": {
        "id": "EKjyyw21bRzM"
      },
      "source": [
        "#### データの準備"
      ]
    },
    {
      "cell_type": "markdown",
      "metadata": {
        "id": "w-KMfmo0dOWc"
      },
      "source": [
        "データ準備のポイント:\n",
        "\n",
        "- `train_data`と`val_data`には入力テキストとラベルのペアが含まれる\n",
        "\n",
        "- 以下の変換を実施:\n",
        "    - 入力テキストとラベルを分離\n",
        "    - TensorFlow tensors (テンソル)に変換\n",
        "    - `convert_to_tensor`関数を使用"
      ]
    },
    {
      "cell_type": "code",
      "execution_count": null,
      "metadata": {
        "id": "qMAQ2A3yVb9x"
      },
      "outputs": [],
      "source": [
        "# Function to load the data as TensorFlow tensors\n",
        "def load_data(dataset):\n",
        "    inputs, labels = [], []\n",
        "    for input_text, label in tfds.as_numpy(dataset):\n",
        "        inputs.append(input_text)\n",
        "        labels.append(label)\n",
        "    return tf.convert_to_tensor(inputs, dtype=tf.string), tf.convert_to_tensor(labels)\n",
        "\n",
        "# Load training and validation data directly as tensors\n",
        "train_inputs, train_labels = load_data(train_data)\n",
        "val_inputs, val_labels = load_data(val_data)"
      ]
    },
    {
      "cell_type": "markdown",
      "metadata": {
        "id": "KVQV_3hfWZV-"
      },
      "source": [
        "トレーニングデータとバリデーションデータの形状を確認しましょう。"
      ]
    },
    {
      "cell_type": "code",
      "execution_count": null,
      "metadata": {
        "colab": {
          "base_uri": "https://localhost:8080/"
        },
        "id": "qCx9Nc-kWXFB",
        "outputId": "71c33f5c-9171-4304-b067-8528f59f987d"
      },
      "outputs": [
        {
          "output_type": "stream",
          "name": "stdout",
          "text": [
            "Training inputs shape: (120000,)\n",
            "Training labels shape: (120000,)\n",
            "Validation inputs shape: (7600,)\n",
            "Validation labels shape: (7600,)\n"
          ]
        }
      ],
      "source": [
        "print(\"Training inputs shape:\", train_inputs.shape)\n",
        "print(\"Training labels shape:\", train_labels.shape)\n",
        "print(\"Validation inputs shape:\", val_inputs.shape)\n",
        "print(\"Validation labels shape:\", val_labels.shape)"
      ]
    },
    {
      "cell_type": "markdown",
      "metadata": {
        "id": "1M1tilyTXHrG"
      },
      "source": [
        "次のセルで入力データの型が `tf.string` であることを確認できます。"
      ]
    },
    {
      "cell_type": "code",
      "execution_count": null,
      "metadata": {
        "colab": {
          "base_uri": "https://localhost:8080/"
        },
        "id": "rErWtnwRWzjk",
        "outputId": "87e0551d-ce3d-4d43-dd00-1886cc04873f"
      },
      "outputs": [
        {
          "output_type": "execute_result",
          "data": {
            "text/plain": [
              "tf.string"
            ]
          },
          "metadata": {},
          "execution_count": 45
        }
      ],
      "source": [
        "train_inputs.dtype"
      ]
    },
    {
      "cell_type": "markdown",
      "metadata": {
        "id": "MEIRO6ZlphLl"
      },
      "source": [
        "テキストデータのトークン化には Keras の TextVectorization レイヤーを使用します。その後、トレーニングデータの前処理に `adapt()` メソッドを適用します。"
      ]
    },
    {
      "cell_type": "code",
      "execution_count": null,
      "metadata": {
        "id": "tu8u1i612_sd"
      },
      "outputs": [],
      "source": [
        "vocab_size = 20000\n",
        "\n",
        "text_vect_layer = TextVectorization(max_tokens=vocab_size)"
      ]
    },
    {
      "cell_type": "code",
      "execution_count": null,
      "metadata": {
        "id": "Fy2qeJXHYGhE"
      },
      "outputs": [],
      "source": [
        "text_vect_layer.adapt(train_inputs)"
      ]
    },
    {
      "cell_type": "markdown",
      "metadata": {
        "id": "GfiumAc0rriT"
      },
      "source": [
        "- 2つのニュース記事を`text_vect_layer`に渡すと、ベクトル化されたシーケンスは最大長の文章に合わせてパディングされます\n",
        "\n",
        "- 固定長のパディングシーケンスが必要な場合は、レイヤーの初期化時に`output_sequence_length`を指定することができます"
      ]
    },
    {
      "cell_type": "code",
      "execution_count": null,
      "metadata": {
        "id": "Hb4d3EqrrMuU"
      },
      "outputs": [],
      "source": [
        "sample_news = ['This weekend there is a sport match between Man U and Fc Barcelona',\n",
        "               'Tesla has unveiled its humanoid robot that appeared dancing during the show!']"
      ]
    },
    {
      "cell_type": "code",
      "execution_count": null,
      "metadata": {
        "colab": {
          "base_uri": "https://localhost:8080/"
        },
        "id": "B7cQZbSIsjhA",
        "outputId": "1273131b-f2cc-4dca-ee04-47466064814d"
      },
      "outputs": [
        {
          "output_type": "execute_result",
          "data": {
            "text/plain": [
              "array([[   40,   491,   185,    16,     3,  1559,   560,   163,   362,\n",
              "        13418,     7,  7381,  2517],\n",
              "       [    1,    20,   878,    14,     1,  4663,    10,  1249, 11657,\n",
              "          159,     2,   541,     0]])"
            ]
          },
          "metadata": {},
          "execution_count": 49
        }
      ],
      "source": [
        "vectorized_news = text_vect_layer(sample_news)\n",
        "vectorized_news.numpy()"
      ]
    },
    {
      "cell_type": "markdown",
      "metadata": {
        "id": "QDiIP1tFtRYs"
      },
      "source": [
        "注目ポイント:\n",
        "- 2番目の文は0でパディングされています\n",
        "- `Tesla`と`humanoid`は訓練データに含まれていないため、インデックス1が付与されています"
      ]
    },
    {
      "cell_type": "markdown",
      "metadata": {
        "id": "TUNqJkjpusFA"
      },
      "source": [
        "#### モデルの作成とトレーニング"
      ]
    },
    {
      "cell_type": "markdown",
      "metadata": {
        "id": "e7Vobpziu4Zw"
      },
      "source": [
        "モデルの構成:\n",
        "\n",
        "* `Input layer`(入力レイヤー): 文字列タイプ(tf.string)のテキストシーケンスを受け取る\n",
        "\n",
        "* `TextVectorization layer`(テキストベクトル化レイヤー): 入力テキストをトークンに変換\n",
        "\n",
        "* `Embedding layer`(埋め込みレイヤー): トークンを学習可能な埋め込みベクトルで表現\n",
        "\n",
        "* `LSTM layer`(LSTMレイヤー): シーケンスの処理を担当\n",
        "    - Bidirectional(双方向)層でラップ\n",
        "    - 順方向と逆方向の両方からシーケンスを処理\n",
        "    - 2つのLSTMの出力を結合\n",
        "\n",
        "* `Dense layer`(全結合レイヤー): 分類を実行"
      ]
    },
    {
      "cell_type": "code",
      "execution_count": null,
      "metadata": {
        "id": "ApxFc7DouIAX"
      },
      "outputs": [],
      "source": [
        "from tensorflow.keras.layers import Bidirectional, LSTM\n",
        "\n",
        "embedding_dim = 64\n",
        "\n",
        "# Define model layers\n",
        "inputs = Input(shape=(1,), dtype=tf.string)\n",
        "x = text_vect_layer(inputs)\n",
        "x = Embedding(input_dim=vocab_size, output_dim=embedding_dim)(x)\n",
        "x = Bidirectional(LSTM(64))(x)\n",
        "x = Dense(64, activation='relu')(x)\n",
        "outputs = Dense(4, activation='softmax')(x)\n",
        "\n",
        "# Define the model\n",
        "model = Model(inputs=inputs, outputs=outputs)"
      ]
    },
    {
      "cell_type": "code",
      "execution_count": null,
      "metadata": {
        "id": "E3dtgRIH1BL_"
      },
      "outputs": [],
      "source": [
        "# Compile the model\n",
        "model.compile(optimizer='adam', loss='sparse_categorical_crossentropy', metrics=['accuracy'])"
      ]
    },
    {
      "cell_type": "code",
      "execution_count": null,
      "metadata": {
        "colab": {
          "base_uri": "https://localhost:8080/"
        },
        "id": "AbJ0GXUi1ToF",
        "outputId": "ff9e1c5b-d14e-4066-ed88-d6bad7fd9301"
      },
      "outputs": [
        {
          "output_type": "stream",
          "name": "stdout",
          "text": [
            "Epoch 1/3\n",
            "\u001b[1m3750/3750\u001b[0m \u001b[32m━━━━━━━━━━━━━━━━━━━━\u001b[0m\u001b[37m\u001b[0m \u001b[1m41s\u001b[0m 10ms/step - accuracy: 0.8131 - loss: 0.4757 - val_accuracy: 0.9108 - val_loss: 0.2660\n",
            "Epoch 2/3\n",
            "\u001b[1m3750/3750\u001b[0m \u001b[32m━━━━━━━━━━━━━━━━━━━━\u001b[0m\u001b[37m\u001b[0m \u001b[1m39s\u001b[0m 10ms/step - accuracy: 0.9310 - loss: 0.2008 - val_accuracy: 0.9111 - val_loss: 0.2561\n",
            "Epoch 3/3\n",
            "\u001b[1m3750/3750\u001b[0m \u001b[32m━━━━━━━━━━━━━━━━━━━━\u001b[0m\u001b[37m\u001b[0m \u001b[1m41s\u001b[0m 10ms/step - accuracy: 0.9487 - loss: 0.1454 - val_accuracy: 0.9109 - val_loss: 0.2708\n"
          ]
        }
      ],
      "source": [
        "# Train the model\n",
        "history = model.fit(train_inputs, train_labels, validation_data=(val_inputs, val_labels), epochs=3, batch_size=32)"
      ]
    },
    {
      "cell_type": "markdown",
      "metadata": {
        "id": "vCGgx0-wbLLK"
      },
      "source": [
        "モデルをニュース記事で評価してみましょう"
      ]
    },
    {
      "cell_type": "code",
      "execution_count": null,
      "metadata": {
        "colab": {
          "base_uri": "https://localhost:8080/"
        },
        "id": "d7ZdyxK77qfW",
        "outputId": "89f7e4a7-0412-407b-a883-bb4cdea8db7a"
      },
      "outputs": [
        {
          "output_type": "stream",
          "name": "stdout",
          "text": [
            "\u001b[1m1/1\u001b[0m \u001b[32m━━━━━━━━━━━━━━━━━━━━\u001b[0m\u001b[37m\u001b[0m \u001b[1m0s\u001b[0m 237ms/step\n",
            "[[0.0223692  0.02970381 0.36633036 0.5815966 ]]\n"
          ]
        }
      ],
      "source": [
        "# Predicting the class of new news articles\n",
        "sample_news_1 = tf.convert_to_tensor(['The self driving car company Tesla has unveiled its humanoid robot at a recent event!'])\n",
        "\n",
        "# make predictions on the sample_news 1\n",
        "predictions_1 = model.predict(sample_news_1)\n",
        "print(predictions_1)"
      ]
    },
    {
      "cell_type": "markdown",
      "metadata": {
        "id": "ZdAqAXUzN2Xe"
      },
      "source": [
        "モデルは、このニュース記事が科学技術 (Tech/Science) に関連していることを正しく予測しました。"
      ]
    },
    {
      "cell_type": "code",
      "execution_count": null,
      "metadata": {
        "colab": {
          "base_uri": "https://localhost:8080/"
        },
        "id": "XOzT9yra8K1o",
        "outputId": "84a5c506-0541-4c3a-ba66-b15fec8944bb"
      },
      "outputs": [
        {
          "output_type": "stream",
          "name": "stdout",
          "text": [
            "Predicted class: 3\n",
            "Predicted class name: Sci/Tech\n"
          ]
        }
      ],
      "source": [
        "# find the index of the predicted class\n",
        "predicted_class_1 = np.argmax(predictions_1)\n",
        "\n",
        "print('Predicted class:', predicted_class_1)\n",
        "print('Predicted class name:', class_names[predicted_class_1])"
      ]
    },
    {
      "cell_type": "markdown",
      "metadata": {
        "id": "XKxv86w5OWhG"
      },
      "source": [
        "次のセルでもう1つの例を紹介します。"
      ]
    },
    {
      "cell_type": "code",
      "execution_count": null,
      "metadata": {
        "colab": {
          "base_uri": "https://localhost:8080/"
        },
        "id": "NDXFamqkOHAD",
        "outputId": "af1b7ee2-7854-4b6f-a879-785bcb4d7bb4"
      },
      "outputs": [
        {
          "output_type": "stream",
          "name": "stdout",
          "text": [
            "\u001b[1m1/1\u001b[0m \u001b[32m━━━━━━━━━━━━━━━━━━━━\u001b[0m\u001b[37m\u001b[0m \u001b[1m0s\u001b[0m 16ms/step\n",
            "Predicted class: 1\n",
            "Predicted class name: Sports\n"
          ]
        }
      ],
      "source": [
        "# Predicting the class of new news\n",
        "sample_news_2 = tf.convert_to_tensor(['This weekend there is a match between two big footbal teams in the national league'])\n",
        "\n",
        "predictions_2 = model.predict(sample_news_2)\n",
        "\n",
        "predicted_class_2 = np.argmax(predictions_2)\n",
        "\n",
        "print('Predicted class:', predicted_class_2)\n",
        "print('Predicted class name:', class_names[predicted_class_2])"
      ]
    },
    {
      "cell_type": "markdown",
      "metadata": {
        "id": "bDbzcXmWe4RB"
      },
      "source": [
        "[BACK TO TOP](#top)"
      ]
    }
  ],
  "metadata": {
    "accelerator": "GPU",
    "colab": {
      "gpuType": "T4",
      "provenance": [],
      "include_colab_link": true
    },
    "kernelspec": {
      "display_name": "Python 3",
      "name": "python3"
    },
    "language_info": {
      "codemirror_mode": {
        "name": "ipython",
        "version": 3
      },
      "file_extension": ".py",
      "mimetype": "text/x-python",
      "name": "python",
      "nbconvert_exporter": "python",
      "pygments_lexer": "ipython3",
      "version": "3.11.4"
    },
    "widgets": {
      "application/vnd.jupyter.widget-state+json": {
        "dc5a17d8f7b54bdba93d5d76b3de9759": {
          "model_module": "@jupyter-widgets/controls",
          "model_name": "HBoxModel",
          "model_module_version": "1.5.0",
          "state": {
            "_dom_classes": [],
            "_model_module": "@jupyter-widgets/controls",
            "_model_module_version": "1.5.0",
            "_model_name": "HBoxModel",
            "_view_count": null,
            "_view_module": "@jupyter-widgets/controls",
            "_view_module_version": "1.5.0",
            "_view_name": "HBoxView",
            "box_style": "",
            "children": [
              "IPY_MODEL_6f95ecbc7f7e41f59396613bdc8acf5d",
              "IPY_MODEL_d5bb9eacf1df4286abd2843f73f98bfc",
              "IPY_MODEL_feeff0a7b27e4917847d71767fe6d167"
            ],
            "layout": "IPY_MODEL_92b9a6e015f14b2b9d3e479e696c300f"
          }
        },
        "6f95ecbc7f7e41f59396613bdc8acf5d": {
          "model_module": "@jupyter-widgets/controls",
          "model_name": "HTMLModel",
          "model_module_version": "1.5.0",
          "state": {
            "_dom_classes": [],
            "_model_module": "@jupyter-widgets/controls",
            "_model_module_version": "1.5.0",
            "_model_name": "HTMLModel",
            "_view_count": null,
            "_view_module": "@jupyter-widgets/controls",
            "_view_module_version": "1.5.0",
            "_view_name": "HTMLView",
            "description": "",
            "description_tooltip": null,
            "layout": "IPY_MODEL_de37c22e6ee14f76827c3777a6713c3f",
            "placeholder": "​",
            "style": "IPY_MODEL_a5d99a3a07544a708219822d4fe623c7",
            "value": "Dl Completed...: 100%"
          }
        },
        "d5bb9eacf1df4286abd2843f73f98bfc": {
          "model_module": "@jupyter-widgets/controls",
          "model_name": "FloatProgressModel",
          "model_module_version": "1.5.0",
          "state": {
            "_dom_classes": [],
            "_model_module": "@jupyter-widgets/controls",
            "_model_module_version": "1.5.0",
            "_model_name": "FloatProgressModel",
            "_view_count": null,
            "_view_module": "@jupyter-widgets/controls",
            "_view_module_version": "1.5.0",
            "_view_name": "ProgressView",
            "bar_style": "success",
            "description": "",
            "description_tooltip": null,
            "layout": "IPY_MODEL_3ac32488db2d45fa9071524870b9bf28",
            "max": 1,
            "min": 0,
            "orientation": "horizontal",
            "style": "IPY_MODEL_5df44f40ab6b485ab0ec9b7bb1ce844a",
            "value": 1
          }
        },
        "feeff0a7b27e4917847d71767fe6d167": {
          "model_module": "@jupyter-widgets/controls",
          "model_name": "HTMLModel",
          "model_module_version": "1.5.0",
          "state": {
            "_dom_classes": [],
            "_model_module": "@jupyter-widgets/controls",
            "_model_module_version": "1.5.0",
            "_model_name": "HTMLModel",
            "_view_count": null,
            "_view_module": "@jupyter-widgets/controls",
            "_view_module_version": "1.5.0",
            "_view_name": "HTMLView",
            "description": "",
            "description_tooltip": null,
            "layout": "IPY_MODEL_98ba8abb37e3484fb497d0cfb25c2038",
            "placeholder": "​",
            "style": "IPY_MODEL_f52e788661f64eadb8aae35a766aea46",
            "value": " 1/1 [00:17&lt;00:00, 17.19s/ url]"
          }
        },
        "92b9a6e015f14b2b9d3e479e696c300f": {
          "model_module": "@jupyter-widgets/base",
          "model_name": "LayoutModel",
          "model_module_version": "1.2.0",
          "state": {
            "_model_module": "@jupyter-widgets/base",
            "_model_module_version": "1.2.0",
            "_model_name": "LayoutModel",
            "_view_count": null,
            "_view_module": "@jupyter-widgets/base",
            "_view_module_version": "1.2.0",
            "_view_name": "LayoutView",
            "align_content": null,
            "align_items": null,
            "align_self": null,
            "border": null,
            "bottom": null,
            "display": null,
            "flex": null,
            "flex_flow": null,
            "grid_area": null,
            "grid_auto_columns": null,
            "grid_auto_flow": null,
            "grid_auto_rows": null,
            "grid_column": null,
            "grid_gap": null,
            "grid_row": null,
            "grid_template_areas": null,
            "grid_template_columns": null,
            "grid_template_rows": null,
            "height": null,
            "justify_content": null,
            "justify_items": null,
            "left": null,
            "margin": null,
            "max_height": null,
            "max_width": null,
            "min_height": null,
            "min_width": null,
            "object_fit": null,
            "object_position": null,
            "order": null,
            "overflow": null,
            "overflow_x": null,
            "overflow_y": null,
            "padding": null,
            "right": null,
            "top": null,
            "visibility": null,
            "width": null
          }
        },
        "de37c22e6ee14f76827c3777a6713c3f": {
          "model_module": "@jupyter-widgets/base",
          "model_name": "LayoutModel",
          "model_module_version": "1.2.0",
          "state": {
            "_model_module": "@jupyter-widgets/base",
            "_model_module_version": "1.2.0",
            "_model_name": "LayoutModel",
            "_view_count": null,
            "_view_module": "@jupyter-widgets/base",
            "_view_module_version": "1.2.0",
            "_view_name": "LayoutView",
            "align_content": null,
            "align_items": null,
            "align_self": null,
            "border": null,
            "bottom": null,
            "display": null,
            "flex": null,
            "flex_flow": null,
            "grid_area": null,
            "grid_auto_columns": null,
            "grid_auto_flow": null,
            "grid_auto_rows": null,
            "grid_column": null,
            "grid_gap": null,
            "grid_row": null,
            "grid_template_areas": null,
            "grid_template_columns": null,
            "grid_template_rows": null,
            "height": null,
            "justify_content": null,
            "justify_items": null,
            "left": null,
            "margin": null,
            "max_height": null,
            "max_width": null,
            "min_height": null,
            "min_width": null,
            "object_fit": null,
            "object_position": null,
            "order": null,
            "overflow": null,
            "overflow_x": null,
            "overflow_y": null,
            "padding": null,
            "right": null,
            "top": null,
            "visibility": null,
            "width": null
          }
        },
        "a5d99a3a07544a708219822d4fe623c7": {
          "model_module": "@jupyter-widgets/controls",
          "model_name": "DescriptionStyleModel",
          "model_module_version": "1.5.0",
          "state": {
            "_model_module": "@jupyter-widgets/controls",
            "_model_module_version": "1.5.0",
            "_model_name": "DescriptionStyleModel",
            "_view_count": null,
            "_view_module": "@jupyter-widgets/base",
            "_view_module_version": "1.2.0",
            "_view_name": "StyleView",
            "description_width": ""
          }
        },
        "3ac32488db2d45fa9071524870b9bf28": {
          "model_module": "@jupyter-widgets/base",
          "model_name": "LayoutModel",
          "model_module_version": "1.2.0",
          "state": {
            "_model_module": "@jupyter-widgets/base",
            "_model_module_version": "1.2.0",
            "_model_name": "LayoutModel",
            "_view_count": null,
            "_view_module": "@jupyter-widgets/base",
            "_view_module_version": "1.2.0",
            "_view_name": "LayoutView",
            "align_content": null,
            "align_items": null,
            "align_self": null,
            "border": null,
            "bottom": null,
            "display": null,
            "flex": null,
            "flex_flow": null,
            "grid_area": null,
            "grid_auto_columns": null,
            "grid_auto_flow": null,
            "grid_auto_rows": null,
            "grid_column": null,
            "grid_gap": null,
            "grid_row": null,
            "grid_template_areas": null,
            "grid_template_columns": null,
            "grid_template_rows": null,
            "height": null,
            "justify_content": null,
            "justify_items": null,
            "left": null,
            "margin": null,
            "max_height": null,
            "max_width": null,
            "min_height": null,
            "min_width": null,
            "object_fit": null,
            "object_position": null,
            "order": null,
            "overflow": null,
            "overflow_x": null,
            "overflow_y": null,
            "padding": null,
            "right": null,
            "top": null,
            "visibility": null,
            "width": "20px"
          }
        },
        "5df44f40ab6b485ab0ec9b7bb1ce844a": {
          "model_module": "@jupyter-widgets/controls",
          "model_name": "ProgressStyleModel",
          "model_module_version": "1.5.0",
          "state": {
            "_model_module": "@jupyter-widgets/controls",
            "_model_module_version": "1.5.0",
            "_model_name": "ProgressStyleModel",
            "_view_count": null,
            "_view_module": "@jupyter-widgets/base",
            "_view_module_version": "1.2.0",
            "_view_name": "StyleView",
            "bar_color": null,
            "description_width": ""
          }
        },
        "98ba8abb37e3484fb497d0cfb25c2038": {
          "model_module": "@jupyter-widgets/base",
          "model_name": "LayoutModel",
          "model_module_version": "1.2.0",
          "state": {
            "_model_module": "@jupyter-widgets/base",
            "_model_module_version": "1.2.0",
            "_model_name": "LayoutModel",
            "_view_count": null,
            "_view_module": "@jupyter-widgets/base",
            "_view_module_version": "1.2.0",
            "_view_name": "LayoutView",
            "align_content": null,
            "align_items": null,
            "align_self": null,
            "border": null,
            "bottom": null,
            "display": null,
            "flex": null,
            "flex_flow": null,
            "grid_area": null,
            "grid_auto_columns": null,
            "grid_auto_flow": null,
            "grid_auto_rows": null,
            "grid_column": null,
            "grid_gap": null,
            "grid_row": null,
            "grid_template_areas": null,
            "grid_template_columns": null,
            "grid_template_rows": null,
            "height": null,
            "justify_content": null,
            "justify_items": null,
            "left": null,
            "margin": null,
            "max_height": null,
            "max_width": null,
            "min_height": null,
            "min_width": null,
            "object_fit": null,
            "object_position": null,
            "order": null,
            "overflow": null,
            "overflow_x": null,
            "overflow_y": null,
            "padding": null,
            "right": null,
            "top": null,
            "visibility": null,
            "width": null
          }
        },
        "f52e788661f64eadb8aae35a766aea46": {
          "model_module": "@jupyter-widgets/controls",
          "model_name": "DescriptionStyleModel",
          "model_module_version": "1.5.0",
          "state": {
            "_model_module": "@jupyter-widgets/controls",
            "_model_module_version": "1.5.0",
            "_model_name": "DescriptionStyleModel",
            "_view_count": null,
            "_view_module": "@jupyter-widgets/base",
            "_view_module_version": "1.2.0",
            "_view_name": "StyleView",
            "description_width": ""
          }
        },
        "31ff1b1965b34c579b94e6f3f01d86bd": {
          "model_module": "@jupyter-widgets/controls",
          "model_name": "HBoxModel",
          "model_module_version": "1.5.0",
          "state": {
            "_dom_classes": [],
            "_model_module": "@jupyter-widgets/controls",
            "_model_module_version": "1.5.0",
            "_model_name": "HBoxModel",
            "_view_count": null,
            "_view_module": "@jupyter-widgets/controls",
            "_view_module_version": "1.5.0",
            "_view_name": "HBoxView",
            "box_style": "",
            "children": [
              "IPY_MODEL_17bdfcb619e6442ba11bb8a5693fe437",
              "IPY_MODEL_290508ce559c46529faa969079ecb784",
              "IPY_MODEL_26c6bba85fa34e6083f0a610de5b6ecf"
            ],
            "layout": "IPY_MODEL_0af84e503e44467a91d10fcaf06797f9"
          }
        },
        "17bdfcb619e6442ba11bb8a5693fe437": {
          "model_module": "@jupyter-widgets/controls",
          "model_name": "HTMLModel",
          "model_module_version": "1.5.0",
          "state": {
            "_dom_classes": [],
            "_model_module": "@jupyter-widgets/controls",
            "_model_module_version": "1.5.0",
            "_model_name": "HTMLModel",
            "_view_count": null,
            "_view_module": "@jupyter-widgets/controls",
            "_view_module_version": "1.5.0",
            "_view_name": "HTMLView",
            "description": "",
            "description_tooltip": null,
            "layout": "IPY_MODEL_176e325aa5904975a7054dfdb49f3c58",
            "placeholder": "​",
            "style": "IPY_MODEL_4a6bcbe500ff47edb33de20a0badbf63",
            "value": "Dl Size...: 100%"
          }
        },
        "290508ce559c46529faa969079ecb784": {
          "model_module": "@jupyter-widgets/controls",
          "model_name": "FloatProgressModel",
          "model_module_version": "1.5.0",
          "state": {
            "_dom_classes": [],
            "_model_module": "@jupyter-widgets/controls",
            "_model_module_version": "1.5.0",
            "_model_name": "FloatProgressModel",
            "_view_count": null,
            "_view_module": "@jupyter-widgets/controls",
            "_view_module_version": "1.5.0",
            "_view_name": "ProgressView",
            "bar_style": "success",
            "description": "",
            "description_tooltip": null,
            "layout": "IPY_MODEL_73beb5850bea47728cafb3fb638d8655",
            "max": 1,
            "min": 0,
            "orientation": "horizontal",
            "style": "IPY_MODEL_1d25406b27eb43f2843324beee0398f4",
            "value": 1
          }
        },
        "26c6bba85fa34e6083f0a610de5b6ecf": {
          "model_module": "@jupyter-widgets/controls",
          "model_name": "HTMLModel",
          "model_module_version": "1.5.0",
          "state": {
            "_dom_classes": [],
            "_model_module": "@jupyter-widgets/controls",
            "_model_module_version": "1.5.0",
            "_model_name": "HTMLModel",
            "_view_count": null,
            "_view_module": "@jupyter-widgets/controls",
            "_view_module_version": "1.5.0",
            "_view_name": "HTMLView",
            "description": "",
            "description_tooltip": null,
            "layout": "IPY_MODEL_9e4a23e68cec4cc4b2d52d4d45ca3494",
            "placeholder": "​",
            "style": "IPY_MODEL_3fd31779f8cc4599b0bb2723da481ca9",
            "value": " 11/11 [00:17&lt;00:00, 16.88s/ MiB]"
          }
        },
        "0af84e503e44467a91d10fcaf06797f9": {
          "model_module": "@jupyter-widgets/base",
          "model_name": "LayoutModel",
          "model_module_version": "1.2.0",
          "state": {
            "_model_module": "@jupyter-widgets/base",
            "_model_module_version": "1.2.0",
            "_model_name": "LayoutModel",
            "_view_count": null,
            "_view_module": "@jupyter-widgets/base",
            "_view_module_version": "1.2.0",
            "_view_name": "LayoutView",
            "align_content": null,
            "align_items": null,
            "align_self": null,
            "border": null,
            "bottom": null,
            "display": null,
            "flex": null,
            "flex_flow": null,
            "grid_area": null,
            "grid_auto_columns": null,
            "grid_auto_flow": null,
            "grid_auto_rows": null,
            "grid_column": null,
            "grid_gap": null,
            "grid_row": null,
            "grid_template_areas": null,
            "grid_template_columns": null,
            "grid_template_rows": null,
            "height": null,
            "justify_content": null,
            "justify_items": null,
            "left": null,
            "margin": null,
            "max_height": null,
            "max_width": null,
            "min_height": null,
            "min_width": null,
            "object_fit": null,
            "object_position": null,
            "order": null,
            "overflow": null,
            "overflow_x": null,
            "overflow_y": null,
            "padding": null,
            "right": null,
            "top": null,
            "visibility": null,
            "width": null
          }
        },
        "176e325aa5904975a7054dfdb49f3c58": {
          "model_module": "@jupyter-widgets/base",
          "model_name": "LayoutModel",
          "model_module_version": "1.2.0",
          "state": {
            "_model_module": "@jupyter-widgets/base",
            "_model_module_version": "1.2.0",
            "_model_name": "LayoutModel",
            "_view_count": null,
            "_view_module": "@jupyter-widgets/base",
            "_view_module_version": "1.2.0",
            "_view_name": "LayoutView",
            "align_content": null,
            "align_items": null,
            "align_self": null,
            "border": null,
            "bottom": null,
            "display": null,
            "flex": null,
            "flex_flow": null,
            "grid_area": null,
            "grid_auto_columns": null,
            "grid_auto_flow": null,
            "grid_auto_rows": null,
            "grid_column": null,
            "grid_gap": null,
            "grid_row": null,
            "grid_template_areas": null,
            "grid_template_columns": null,
            "grid_template_rows": null,
            "height": null,
            "justify_content": null,
            "justify_items": null,
            "left": null,
            "margin": null,
            "max_height": null,
            "max_width": null,
            "min_height": null,
            "min_width": null,
            "object_fit": null,
            "object_position": null,
            "order": null,
            "overflow": null,
            "overflow_x": null,
            "overflow_y": null,
            "padding": null,
            "right": null,
            "top": null,
            "visibility": null,
            "width": null
          }
        },
        "4a6bcbe500ff47edb33de20a0badbf63": {
          "model_module": "@jupyter-widgets/controls",
          "model_name": "DescriptionStyleModel",
          "model_module_version": "1.5.0",
          "state": {
            "_model_module": "@jupyter-widgets/controls",
            "_model_module_version": "1.5.0",
            "_model_name": "DescriptionStyleModel",
            "_view_count": null,
            "_view_module": "@jupyter-widgets/base",
            "_view_module_version": "1.2.0",
            "_view_name": "StyleView",
            "description_width": ""
          }
        },
        "73beb5850bea47728cafb3fb638d8655": {
          "model_module": "@jupyter-widgets/base",
          "model_name": "LayoutModel",
          "model_module_version": "1.2.0",
          "state": {
            "_model_module": "@jupyter-widgets/base",
            "_model_module_version": "1.2.0",
            "_model_name": "LayoutModel",
            "_view_count": null,
            "_view_module": "@jupyter-widgets/base",
            "_view_module_version": "1.2.0",
            "_view_name": "LayoutView",
            "align_content": null,
            "align_items": null,
            "align_self": null,
            "border": null,
            "bottom": null,
            "display": null,
            "flex": null,
            "flex_flow": null,
            "grid_area": null,
            "grid_auto_columns": null,
            "grid_auto_flow": null,
            "grid_auto_rows": null,
            "grid_column": null,
            "grid_gap": null,
            "grid_row": null,
            "grid_template_areas": null,
            "grid_template_columns": null,
            "grid_template_rows": null,
            "height": null,
            "justify_content": null,
            "justify_items": null,
            "left": null,
            "margin": null,
            "max_height": null,
            "max_width": null,
            "min_height": null,
            "min_width": null,
            "object_fit": null,
            "object_position": null,
            "order": null,
            "overflow": null,
            "overflow_x": null,
            "overflow_y": null,
            "padding": null,
            "right": null,
            "top": null,
            "visibility": null,
            "width": "20px"
          }
        },
        "1d25406b27eb43f2843324beee0398f4": {
          "model_module": "@jupyter-widgets/controls",
          "model_name": "ProgressStyleModel",
          "model_module_version": "1.5.0",
          "state": {
            "_model_module": "@jupyter-widgets/controls",
            "_model_module_version": "1.5.0",
            "_model_name": "ProgressStyleModel",
            "_view_count": null,
            "_view_module": "@jupyter-widgets/base",
            "_view_module_version": "1.2.0",
            "_view_name": "StyleView",
            "bar_color": null,
            "description_width": ""
          }
        },
        "9e4a23e68cec4cc4b2d52d4d45ca3494": {
          "model_module": "@jupyter-widgets/base",
          "model_name": "LayoutModel",
          "model_module_version": "1.2.0",
          "state": {
            "_model_module": "@jupyter-widgets/base",
            "_model_module_version": "1.2.0",
            "_model_name": "LayoutModel",
            "_view_count": null,
            "_view_module": "@jupyter-widgets/base",
            "_view_module_version": "1.2.0",
            "_view_name": "LayoutView",
            "align_content": null,
            "align_items": null,
            "align_self": null,
            "border": null,
            "bottom": null,
            "display": null,
            "flex": null,
            "flex_flow": null,
            "grid_area": null,
            "grid_auto_columns": null,
            "grid_auto_flow": null,
            "grid_auto_rows": null,
            "grid_column": null,
            "grid_gap": null,
            "grid_row": null,
            "grid_template_areas": null,
            "grid_template_columns": null,
            "grid_template_rows": null,
            "height": null,
            "justify_content": null,
            "justify_items": null,
            "left": null,
            "margin": null,
            "max_height": null,
            "max_width": null,
            "min_height": null,
            "min_width": null,
            "object_fit": null,
            "object_position": null,
            "order": null,
            "overflow": null,
            "overflow_x": null,
            "overflow_y": null,
            "padding": null,
            "right": null,
            "top": null,
            "visibility": null,
            "width": null
          }
        },
        "3fd31779f8cc4599b0bb2723da481ca9": {
          "model_module": "@jupyter-widgets/controls",
          "model_name": "DescriptionStyleModel",
          "model_module_version": "1.5.0",
          "state": {
            "_model_module": "@jupyter-widgets/controls",
            "_model_module_version": "1.5.0",
            "_model_name": "DescriptionStyleModel",
            "_view_count": null,
            "_view_module": "@jupyter-widgets/base",
            "_view_module_version": "1.2.0",
            "_view_name": "StyleView",
            "description_width": ""
          }
        },
        "f2a44d43384442d8aadb5ce362925fee": {
          "model_module": "@jupyter-widgets/controls",
          "model_name": "HBoxModel",
          "model_module_version": "1.5.0",
          "state": {
            "_dom_classes": [],
            "_model_module": "@jupyter-widgets/controls",
            "_model_module_version": "1.5.0",
            "_model_name": "HBoxModel",
            "_view_count": null,
            "_view_module": "@jupyter-widgets/controls",
            "_view_module_version": "1.5.0",
            "_view_name": "HBoxView",
            "box_style": "",
            "children": [
              "IPY_MODEL_2d4fdb0f0b694415a967c0bda28bcedd",
              "IPY_MODEL_86479cb311274030ba0f457919522320",
              "IPY_MODEL_aff64ea324244042a8de856f9433fd0d"
            ],
            "layout": "IPY_MODEL_88bd4ec9ca1a42479122c247fc66b676"
          }
        },
        "2d4fdb0f0b694415a967c0bda28bcedd": {
          "model_module": "@jupyter-widgets/controls",
          "model_name": "HTMLModel",
          "model_module_version": "1.5.0",
          "state": {
            "_dom_classes": [],
            "_model_module": "@jupyter-widgets/controls",
            "_model_module_version": "1.5.0",
            "_model_name": "HTMLModel",
            "_view_count": null,
            "_view_module": "@jupyter-widgets/controls",
            "_view_module_version": "1.5.0",
            "_view_name": "HTMLView",
            "description": "",
            "description_tooltip": null,
            "layout": "IPY_MODEL_fcbec8c30bcb41bc83306afc6f6d0f3d",
            "placeholder": "​",
            "style": "IPY_MODEL_93922a554e29490485d583bdeb524ae6",
            "value": "Extraction completed...: 100%"
          }
        },
        "86479cb311274030ba0f457919522320": {
          "model_module": "@jupyter-widgets/controls",
          "model_name": "FloatProgressModel",
          "model_module_version": "1.5.0",
          "state": {
            "_dom_classes": [],
            "_model_module": "@jupyter-widgets/controls",
            "_model_module_version": "1.5.0",
            "_model_name": "FloatProgressModel",
            "_view_count": null,
            "_view_module": "@jupyter-widgets/controls",
            "_view_module_version": "1.5.0",
            "_view_name": "ProgressView",
            "bar_style": "success",
            "description": "",
            "description_tooltip": null,
            "layout": "IPY_MODEL_8c59176ba59d4b1d857c6f4a8d12fafe",
            "max": 1,
            "min": 0,
            "orientation": "horizontal",
            "style": "IPY_MODEL_078a268a9959423b879e6ebcb3208e12",
            "value": 1
          }
        },
        "aff64ea324244042a8de856f9433fd0d": {
          "model_module": "@jupyter-widgets/controls",
          "model_name": "HTMLModel",
          "model_module_version": "1.5.0",
          "state": {
            "_dom_classes": [],
            "_model_module": "@jupyter-widgets/controls",
            "_model_module_version": "1.5.0",
            "_model_name": "HTMLModel",
            "_view_count": null,
            "_view_module": "@jupyter-widgets/controls",
            "_view_module_version": "1.5.0",
            "_view_name": "HTMLView",
            "description": "",
            "description_tooltip": null,
            "layout": "IPY_MODEL_f343e27f9247477da9cf5eac506a2d30",
            "placeholder": "​",
            "style": "IPY_MODEL_86acac6e1ab74507a7ae38d079ab79ff",
            "value": " 4/4 [00:17&lt;00:00, 17.40s/ file]"
          }
        },
        "88bd4ec9ca1a42479122c247fc66b676": {
          "model_module": "@jupyter-widgets/base",
          "model_name": "LayoutModel",
          "model_module_version": "1.2.0",
          "state": {
            "_model_module": "@jupyter-widgets/base",
            "_model_module_version": "1.2.0",
            "_model_name": "LayoutModel",
            "_view_count": null,
            "_view_module": "@jupyter-widgets/base",
            "_view_module_version": "1.2.0",
            "_view_name": "LayoutView",
            "align_content": null,
            "align_items": null,
            "align_self": null,
            "border": null,
            "bottom": null,
            "display": null,
            "flex": null,
            "flex_flow": null,
            "grid_area": null,
            "grid_auto_columns": null,
            "grid_auto_flow": null,
            "grid_auto_rows": null,
            "grid_column": null,
            "grid_gap": null,
            "grid_row": null,
            "grid_template_areas": null,
            "grid_template_columns": null,
            "grid_template_rows": null,
            "height": null,
            "justify_content": null,
            "justify_items": null,
            "left": null,
            "margin": null,
            "max_height": null,
            "max_width": null,
            "min_height": null,
            "min_width": null,
            "object_fit": null,
            "object_position": null,
            "order": null,
            "overflow": null,
            "overflow_x": null,
            "overflow_y": null,
            "padding": null,
            "right": null,
            "top": null,
            "visibility": null,
            "width": null
          }
        },
        "fcbec8c30bcb41bc83306afc6f6d0f3d": {
          "model_module": "@jupyter-widgets/base",
          "model_name": "LayoutModel",
          "model_module_version": "1.2.0",
          "state": {
            "_model_module": "@jupyter-widgets/base",
            "_model_module_version": "1.2.0",
            "_model_name": "LayoutModel",
            "_view_count": null,
            "_view_module": "@jupyter-widgets/base",
            "_view_module_version": "1.2.0",
            "_view_name": "LayoutView",
            "align_content": null,
            "align_items": null,
            "align_self": null,
            "border": null,
            "bottom": null,
            "display": null,
            "flex": null,
            "flex_flow": null,
            "grid_area": null,
            "grid_auto_columns": null,
            "grid_auto_flow": null,
            "grid_auto_rows": null,
            "grid_column": null,
            "grid_gap": null,
            "grid_row": null,
            "grid_template_areas": null,
            "grid_template_columns": null,
            "grid_template_rows": null,
            "height": null,
            "justify_content": null,
            "justify_items": null,
            "left": null,
            "margin": null,
            "max_height": null,
            "max_width": null,
            "min_height": null,
            "min_width": null,
            "object_fit": null,
            "object_position": null,
            "order": null,
            "overflow": null,
            "overflow_x": null,
            "overflow_y": null,
            "padding": null,
            "right": null,
            "top": null,
            "visibility": null,
            "width": null
          }
        },
        "93922a554e29490485d583bdeb524ae6": {
          "model_module": "@jupyter-widgets/controls",
          "model_name": "DescriptionStyleModel",
          "model_module_version": "1.5.0",
          "state": {
            "_model_module": "@jupyter-widgets/controls",
            "_model_module_version": "1.5.0",
            "_model_name": "DescriptionStyleModel",
            "_view_count": null,
            "_view_module": "@jupyter-widgets/base",
            "_view_module_version": "1.2.0",
            "_view_name": "StyleView",
            "description_width": ""
          }
        },
        "8c59176ba59d4b1d857c6f4a8d12fafe": {
          "model_module": "@jupyter-widgets/base",
          "model_name": "LayoutModel",
          "model_module_version": "1.2.0",
          "state": {
            "_model_module": "@jupyter-widgets/base",
            "_model_module_version": "1.2.0",
            "_model_name": "LayoutModel",
            "_view_count": null,
            "_view_module": "@jupyter-widgets/base",
            "_view_module_version": "1.2.0",
            "_view_name": "LayoutView",
            "align_content": null,
            "align_items": null,
            "align_self": null,
            "border": null,
            "bottom": null,
            "display": null,
            "flex": null,
            "flex_flow": null,
            "grid_area": null,
            "grid_auto_columns": null,
            "grid_auto_flow": null,
            "grid_auto_rows": null,
            "grid_column": null,
            "grid_gap": null,
            "grid_row": null,
            "grid_template_areas": null,
            "grid_template_columns": null,
            "grid_template_rows": null,
            "height": null,
            "justify_content": null,
            "justify_items": null,
            "left": null,
            "margin": null,
            "max_height": null,
            "max_width": null,
            "min_height": null,
            "min_width": null,
            "object_fit": null,
            "object_position": null,
            "order": null,
            "overflow": null,
            "overflow_x": null,
            "overflow_y": null,
            "padding": null,
            "right": null,
            "top": null,
            "visibility": null,
            "width": "20px"
          }
        },
        "078a268a9959423b879e6ebcb3208e12": {
          "model_module": "@jupyter-widgets/controls",
          "model_name": "ProgressStyleModel",
          "model_module_version": "1.5.0",
          "state": {
            "_model_module": "@jupyter-widgets/controls",
            "_model_module_version": "1.5.0",
            "_model_name": "ProgressStyleModel",
            "_view_count": null,
            "_view_module": "@jupyter-widgets/base",
            "_view_module_version": "1.2.0",
            "_view_name": "StyleView",
            "bar_color": null,
            "description_width": ""
          }
        },
        "f343e27f9247477da9cf5eac506a2d30": {
          "model_module": "@jupyter-widgets/base",
          "model_name": "LayoutModel",
          "model_module_version": "1.2.0",
          "state": {
            "_model_module": "@jupyter-widgets/base",
            "_model_module_version": "1.2.0",
            "_model_name": "LayoutModel",
            "_view_count": null,
            "_view_module": "@jupyter-widgets/base",
            "_view_module_version": "1.2.0",
            "_view_name": "LayoutView",
            "align_content": null,
            "align_items": null,
            "align_self": null,
            "border": null,
            "bottom": null,
            "display": null,
            "flex": null,
            "flex_flow": null,
            "grid_area": null,
            "grid_auto_columns": null,
            "grid_auto_flow": null,
            "grid_auto_rows": null,
            "grid_column": null,
            "grid_gap": null,
            "grid_row": null,
            "grid_template_areas": null,
            "grid_template_columns": null,
            "grid_template_rows": null,
            "height": null,
            "justify_content": null,
            "justify_items": null,
            "left": null,
            "margin": null,
            "max_height": null,
            "max_width": null,
            "min_height": null,
            "min_width": null,
            "object_fit": null,
            "object_position": null,
            "order": null,
            "overflow": null,
            "overflow_x": null,
            "overflow_y": null,
            "padding": null,
            "right": null,
            "top": null,
            "visibility": null,
            "width": null
          }
        },
        "86acac6e1ab74507a7ae38d079ab79ff": {
          "model_module": "@jupyter-widgets/controls",
          "model_name": "DescriptionStyleModel",
          "model_module_version": "1.5.0",
          "state": {
            "_model_module": "@jupyter-widgets/controls",
            "_model_module_version": "1.5.0",
            "_model_name": "DescriptionStyleModel",
            "_view_count": null,
            "_view_module": "@jupyter-widgets/base",
            "_view_module_version": "1.2.0",
            "_view_name": "StyleView",
            "description_width": ""
          }
        },
        "b12d3d96b59a4d6e8d5a6085f892b344": {
          "model_module": "@jupyter-widgets/controls",
          "model_name": "HBoxModel",
          "model_module_version": "1.5.0",
          "state": {
            "_dom_classes": [],
            "_model_module": "@jupyter-widgets/controls",
            "_model_module_version": "1.5.0",
            "_model_name": "HBoxModel",
            "_view_count": null,
            "_view_module": "@jupyter-widgets/controls",
            "_view_module_version": "1.5.0",
            "_view_name": "HBoxView",
            "box_style": "",
            "children": [
              "IPY_MODEL_15a5fa8d24c94704a07720ed67129666",
              "IPY_MODEL_08f10ed33f284cd4952d8300dfd7276a",
              "IPY_MODEL_a3c4481304ba4cc19b50797e84f3914a"
            ],
            "layout": "IPY_MODEL_699604371a2f4427b5ba472d271208ce"
          }
        },
        "15a5fa8d24c94704a07720ed67129666": {
          "model_module": "@jupyter-widgets/controls",
          "model_name": "HTMLModel",
          "model_module_version": "1.5.0",
          "state": {
            "_dom_classes": [],
            "_model_module": "@jupyter-widgets/controls",
            "_model_module_version": "1.5.0",
            "_model_name": "HTMLModel",
            "_view_count": null,
            "_view_module": "@jupyter-widgets/controls",
            "_view_module_version": "1.5.0",
            "_view_name": "HTMLView",
            "description": "",
            "description_tooltip": null,
            "layout": "IPY_MODEL_850b5c4b96114d7a9183450ecac09b1c",
            "placeholder": "​",
            "style": "IPY_MODEL_f73d7af358a645b9834b54503ff8a132",
            "value": "Generating splits...: 100%"
          }
        },
        "08f10ed33f284cd4952d8300dfd7276a": {
          "model_module": "@jupyter-widgets/controls",
          "model_name": "FloatProgressModel",
          "model_module_version": "1.5.0",
          "state": {
            "_dom_classes": [],
            "_model_module": "@jupyter-widgets/controls",
            "_model_module_version": "1.5.0",
            "_model_name": "FloatProgressModel",
            "_view_count": null,
            "_view_module": "@jupyter-widgets/controls",
            "_view_module_version": "1.5.0",
            "_view_name": "ProgressView",
            "bar_style": "",
            "description": "",
            "description_tooltip": null,
            "layout": "IPY_MODEL_e1c8b9e894d54b36882a0cd1b21930f1",
            "max": 2,
            "min": 0,
            "orientation": "horizontal",
            "style": "IPY_MODEL_02d7de2794d14448b769efcfd0d3db70",
            "value": 2
          }
        },
        "a3c4481304ba4cc19b50797e84f3914a": {
          "model_module": "@jupyter-widgets/controls",
          "model_name": "HTMLModel",
          "model_module_version": "1.5.0",
          "state": {
            "_dom_classes": [],
            "_model_module": "@jupyter-widgets/controls",
            "_model_module_version": "1.5.0",
            "_model_name": "HTMLModel",
            "_view_count": null,
            "_view_module": "@jupyter-widgets/controls",
            "_view_module_version": "1.5.0",
            "_view_name": "HTMLView",
            "description": "",
            "description_tooltip": null,
            "layout": "IPY_MODEL_727176bb4e234a52a5c8afa2cb46f6fd",
            "placeholder": "​",
            "style": "IPY_MODEL_126f12a498fd4f98a9b7d180acc62620",
            "value": " 2/2 [00:09&lt;00:00,  4.26s/ splits]"
          }
        },
        "699604371a2f4427b5ba472d271208ce": {
          "model_module": "@jupyter-widgets/base",
          "model_name": "LayoutModel",
          "model_module_version": "1.2.0",
          "state": {
            "_model_module": "@jupyter-widgets/base",
            "_model_module_version": "1.2.0",
            "_model_name": "LayoutModel",
            "_view_count": null,
            "_view_module": "@jupyter-widgets/base",
            "_view_module_version": "1.2.0",
            "_view_name": "LayoutView",
            "align_content": null,
            "align_items": null,
            "align_self": null,
            "border": null,
            "bottom": null,
            "display": null,
            "flex": null,
            "flex_flow": null,
            "grid_area": null,
            "grid_auto_columns": null,
            "grid_auto_flow": null,
            "grid_auto_rows": null,
            "grid_column": null,
            "grid_gap": null,
            "grid_row": null,
            "grid_template_areas": null,
            "grid_template_columns": null,
            "grid_template_rows": null,
            "height": null,
            "justify_content": null,
            "justify_items": null,
            "left": null,
            "margin": null,
            "max_height": null,
            "max_width": null,
            "min_height": null,
            "min_width": null,
            "object_fit": null,
            "object_position": null,
            "order": null,
            "overflow": null,
            "overflow_x": null,
            "overflow_y": null,
            "padding": null,
            "right": null,
            "top": null,
            "visibility": "hidden",
            "width": null
          }
        },
        "850b5c4b96114d7a9183450ecac09b1c": {
          "model_module": "@jupyter-widgets/base",
          "model_name": "LayoutModel",
          "model_module_version": "1.2.0",
          "state": {
            "_model_module": "@jupyter-widgets/base",
            "_model_module_version": "1.2.0",
            "_model_name": "LayoutModel",
            "_view_count": null,
            "_view_module": "@jupyter-widgets/base",
            "_view_module_version": "1.2.0",
            "_view_name": "LayoutView",
            "align_content": null,
            "align_items": null,
            "align_self": null,
            "border": null,
            "bottom": null,
            "display": null,
            "flex": null,
            "flex_flow": null,
            "grid_area": null,
            "grid_auto_columns": null,
            "grid_auto_flow": null,
            "grid_auto_rows": null,
            "grid_column": null,
            "grid_gap": null,
            "grid_row": null,
            "grid_template_areas": null,
            "grid_template_columns": null,
            "grid_template_rows": null,
            "height": null,
            "justify_content": null,
            "justify_items": null,
            "left": null,
            "margin": null,
            "max_height": null,
            "max_width": null,
            "min_height": null,
            "min_width": null,
            "object_fit": null,
            "object_position": null,
            "order": null,
            "overflow": null,
            "overflow_x": null,
            "overflow_y": null,
            "padding": null,
            "right": null,
            "top": null,
            "visibility": null,
            "width": null
          }
        },
        "f73d7af358a645b9834b54503ff8a132": {
          "model_module": "@jupyter-widgets/controls",
          "model_name": "DescriptionStyleModel",
          "model_module_version": "1.5.0",
          "state": {
            "_model_module": "@jupyter-widgets/controls",
            "_model_module_version": "1.5.0",
            "_model_name": "DescriptionStyleModel",
            "_view_count": null,
            "_view_module": "@jupyter-widgets/base",
            "_view_module_version": "1.2.0",
            "_view_name": "StyleView",
            "description_width": ""
          }
        },
        "e1c8b9e894d54b36882a0cd1b21930f1": {
          "model_module": "@jupyter-widgets/base",
          "model_name": "LayoutModel",
          "model_module_version": "1.2.0",
          "state": {
            "_model_module": "@jupyter-widgets/base",
            "_model_module_version": "1.2.0",
            "_model_name": "LayoutModel",
            "_view_count": null,
            "_view_module": "@jupyter-widgets/base",
            "_view_module_version": "1.2.0",
            "_view_name": "LayoutView",
            "align_content": null,
            "align_items": null,
            "align_self": null,
            "border": null,
            "bottom": null,
            "display": null,
            "flex": null,
            "flex_flow": null,
            "grid_area": null,
            "grid_auto_columns": null,
            "grid_auto_flow": null,
            "grid_auto_rows": null,
            "grid_column": null,
            "grid_gap": null,
            "grid_row": null,
            "grid_template_areas": null,
            "grid_template_columns": null,
            "grid_template_rows": null,
            "height": null,
            "justify_content": null,
            "justify_items": null,
            "left": null,
            "margin": null,
            "max_height": null,
            "max_width": null,
            "min_height": null,
            "min_width": null,
            "object_fit": null,
            "object_position": null,
            "order": null,
            "overflow": null,
            "overflow_x": null,
            "overflow_y": null,
            "padding": null,
            "right": null,
            "top": null,
            "visibility": null,
            "width": null
          }
        },
        "02d7de2794d14448b769efcfd0d3db70": {
          "model_module": "@jupyter-widgets/controls",
          "model_name": "ProgressStyleModel",
          "model_module_version": "1.5.0",
          "state": {
            "_model_module": "@jupyter-widgets/controls",
            "_model_module_version": "1.5.0",
            "_model_name": "ProgressStyleModel",
            "_view_count": null,
            "_view_module": "@jupyter-widgets/base",
            "_view_module_version": "1.2.0",
            "_view_name": "StyleView",
            "bar_color": null,
            "description_width": ""
          }
        },
        "727176bb4e234a52a5c8afa2cb46f6fd": {
          "model_module": "@jupyter-widgets/base",
          "model_name": "LayoutModel",
          "model_module_version": "1.2.0",
          "state": {
            "_model_module": "@jupyter-widgets/base",
            "_model_module_version": "1.2.0",
            "_model_name": "LayoutModel",
            "_view_count": null,
            "_view_module": "@jupyter-widgets/base",
            "_view_module_version": "1.2.0",
            "_view_name": "LayoutView",
            "align_content": null,
            "align_items": null,
            "align_self": null,
            "border": null,
            "bottom": null,
            "display": null,
            "flex": null,
            "flex_flow": null,
            "grid_area": null,
            "grid_auto_columns": null,
            "grid_auto_flow": null,
            "grid_auto_rows": null,
            "grid_column": null,
            "grid_gap": null,
            "grid_row": null,
            "grid_template_areas": null,
            "grid_template_columns": null,
            "grid_template_rows": null,
            "height": null,
            "justify_content": null,
            "justify_items": null,
            "left": null,
            "margin": null,
            "max_height": null,
            "max_width": null,
            "min_height": null,
            "min_width": null,
            "object_fit": null,
            "object_position": null,
            "order": null,
            "overflow": null,
            "overflow_x": null,
            "overflow_y": null,
            "padding": null,
            "right": null,
            "top": null,
            "visibility": null,
            "width": null
          }
        },
        "126f12a498fd4f98a9b7d180acc62620": {
          "model_module": "@jupyter-widgets/controls",
          "model_name": "DescriptionStyleModel",
          "model_module_version": "1.5.0",
          "state": {
            "_model_module": "@jupyter-widgets/controls",
            "_model_module_version": "1.5.0",
            "_model_name": "DescriptionStyleModel",
            "_view_count": null,
            "_view_module": "@jupyter-widgets/base",
            "_view_module_version": "1.2.0",
            "_view_name": "StyleView",
            "description_width": ""
          }
        },
        "dbaef12e3f174d00931b0701f5d11f16": {
          "model_module": "@jupyter-widgets/controls",
          "model_name": "HBoxModel",
          "model_module_version": "1.5.0",
          "state": {
            "_dom_classes": [],
            "_model_module": "@jupyter-widgets/controls",
            "_model_module_version": "1.5.0",
            "_model_name": "HBoxModel",
            "_view_count": null,
            "_view_module": "@jupyter-widgets/controls",
            "_view_module_version": "1.5.0",
            "_view_name": "HBoxView",
            "box_style": "",
            "children": [
              "IPY_MODEL_0581ee11f6234dfda4ba7bd72c2cb395",
              "IPY_MODEL_2aa9985203ea4369911327cf6c8c1802",
              "IPY_MODEL_1a9dd0c92f0c4b8c83931ce24cbaea3b"
            ],
            "layout": "IPY_MODEL_85859151619a48498ce9a5ad18c6442c"
          }
        },
        "0581ee11f6234dfda4ba7bd72c2cb395": {
          "model_module": "@jupyter-widgets/controls",
          "model_name": "HTMLModel",
          "model_module_version": "1.5.0",
          "state": {
            "_dom_classes": [],
            "_model_module": "@jupyter-widgets/controls",
            "_model_module_version": "1.5.0",
            "_model_name": "HTMLModel",
            "_view_count": null,
            "_view_module": "@jupyter-widgets/controls",
            "_view_module_version": "1.5.0",
            "_view_name": "HTMLView",
            "description": "",
            "description_tooltip": null,
            "layout": "IPY_MODEL_107abe2da7704de69a601c54f5bd49e7",
            "placeholder": "​",
            "style": "IPY_MODEL_8e5a60bcc5ce434c9d50a23d3c70d2c4",
            "value": "Generating train examples...:  88%"
          }
        },
        "2aa9985203ea4369911327cf6c8c1802": {
          "model_module": "@jupyter-widgets/controls",
          "model_name": "FloatProgressModel",
          "model_module_version": "1.5.0",
          "state": {
            "_dom_classes": [],
            "_model_module": "@jupyter-widgets/controls",
            "_model_module_version": "1.5.0",
            "_model_name": "FloatProgressModel",
            "_view_count": null,
            "_view_module": "@jupyter-widgets/controls",
            "_view_module_version": "1.5.0",
            "_view_name": "ProgressView",
            "bar_style": "",
            "description": "",
            "description_tooltip": null,
            "layout": "IPY_MODEL_4c80fe6f96814abbacc6e42bb289c228",
            "max": 120000,
            "min": 0,
            "orientation": "horizontal",
            "style": "IPY_MODEL_a71764d0bdf9464c95ccfea82692fa45",
            "value": 120000
          }
        },
        "1a9dd0c92f0c4b8c83931ce24cbaea3b": {
          "model_module": "@jupyter-widgets/controls",
          "model_name": "HTMLModel",
          "model_module_version": "1.5.0",
          "state": {
            "_dom_classes": [],
            "_model_module": "@jupyter-widgets/controls",
            "_model_module_version": "1.5.0",
            "_model_name": "HTMLModel",
            "_view_count": null,
            "_view_module": "@jupyter-widgets/controls",
            "_view_module_version": "1.5.0",
            "_view_name": "HTMLView",
            "description": "",
            "description_tooltip": null,
            "layout": "IPY_MODEL_815d3c6e050c47efbfc52cb2061f5afd",
            "placeholder": "​",
            "style": "IPY_MODEL_3b492eb17cf141a0b8066a6ea3a472cd",
            "value": " 105754/120000 [00:07&lt;00:00, 15372.78 examples/s]"
          }
        },
        "85859151619a48498ce9a5ad18c6442c": {
          "model_module": "@jupyter-widgets/base",
          "model_name": "LayoutModel",
          "model_module_version": "1.2.0",
          "state": {
            "_model_module": "@jupyter-widgets/base",
            "_model_module_version": "1.2.0",
            "_model_name": "LayoutModel",
            "_view_count": null,
            "_view_module": "@jupyter-widgets/base",
            "_view_module_version": "1.2.0",
            "_view_name": "LayoutView",
            "align_content": null,
            "align_items": null,
            "align_self": null,
            "border": null,
            "bottom": null,
            "display": null,
            "flex": null,
            "flex_flow": null,
            "grid_area": null,
            "grid_auto_columns": null,
            "grid_auto_flow": null,
            "grid_auto_rows": null,
            "grid_column": null,
            "grid_gap": null,
            "grid_row": null,
            "grid_template_areas": null,
            "grid_template_columns": null,
            "grid_template_rows": null,
            "height": null,
            "justify_content": null,
            "justify_items": null,
            "left": null,
            "margin": null,
            "max_height": null,
            "max_width": null,
            "min_height": null,
            "min_width": null,
            "object_fit": null,
            "object_position": null,
            "order": null,
            "overflow": null,
            "overflow_x": null,
            "overflow_y": null,
            "padding": null,
            "right": null,
            "top": null,
            "visibility": "hidden",
            "width": null
          }
        },
        "107abe2da7704de69a601c54f5bd49e7": {
          "model_module": "@jupyter-widgets/base",
          "model_name": "LayoutModel",
          "model_module_version": "1.2.0",
          "state": {
            "_model_module": "@jupyter-widgets/base",
            "_model_module_version": "1.2.0",
            "_model_name": "LayoutModel",
            "_view_count": null,
            "_view_module": "@jupyter-widgets/base",
            "_view_module_version": "1.2.0",
            "_view_name": "LayoutView",
            "align_content": null,
            "align_items": null,
            "align_self": null,
            "border": null,
            "bottom": null,
            "display": null,
            "flex": null,
            "flex_flow": null,
            "grid_area": null,
            "grid_auto_columns": null,
            "grid_auto_flow": null,
            "grid_auto_rows": null,
            "grid_column": null,
            "grid_gap": null,
            "grid_row": null,
            "grid_template_areas": null,
            "grid_template_columns": null,
            "grid_template_rows": null,
            "height": null,
            "justify_content": null,
            "justify_items": null,
            "left": null,
            "margin": null,
            "max_height": null,
            "max_width": null,
            "min_height": null,
            "min_width": null,
            "object_fit": null,
            "object_position": null,
            "order": null,
            "overflow": null,
            "overflow_x": null,
            "overflow_y": null,
            "padding": null,
            "right": null,
            "top": null,
            "visibility": null,
            "width": null
          }
        },
        "8e5a60bcc5ce434c9d50a23d3c70d2c4": {
          "model_module": "@jupyter-widgets/controls",
          "model_name": "DescriptionStyleModel",
          "model_module_version": "1.5.0",
          "state": {
            "_model_module": "@jupyter-widgets/controls",
            "_model_module_version": "1.5.0",
            "_model_name": "DescriptionStyleModel",
            "_view_count": null,
            "_view_module": "@jupyter-widgets/base",
            "_view_module_version": "1.2.0",
            "_view_name": "StyleView",
            "description_width": ""
          }
        },
        "4c80fe6f96814abbacc6e42bb289c228": {
          "model_module": "@jupyter-widgets/base",
          "model_name": "LayoutModel",
          "model_module_version": "1.2.0",
          "state": {
            "_model_module": "@jupyter-widgets/base",
            "_model_module_version": "1.2.0",
            "_model_name": "LayoutModel",
            "_view_count": null,
            "_view_module": "@jupyter-widgets/base",
            "_view_module_version": "1.2.0",
            "_view_name": "LayoutView",
            "align_content": null,
            "align_items": null,
            "align_self": null,
            "border": null,
            "bottom": null,
            "display": null,
            "flex": null,
            "flex_flow": null,
            "grid_area": null,
            "grid_auto_columns": null,
            "grid_auto_flow": null,
            "grid_auto_rows": null,
            "grid_column": null,
            "grid_gap": null,
            "grid_row": null,
            "grid_template_areas": null,
            "grid_template_columns": null,
            "grid_template_rows": null,
            "height": null,
            "justify_content": null,
            "justify_items": null,
            "left": null,
            "margin": null,
            "max_height": null,
            "max_width": null,
            "min_height": null,
            "min_width": null,
            "object_fit": null,
            "object_position": null,
            "order": null,
            "overflow": null,
            "overflow_x": null,
            "overflow_y": null,
            "padding": null,
            "right": null,
            "top": null,
            "visibility": null,
            "width": null
          }
        },
        "a71764d0bdf9464c95ccfea82692fa45": {
          "model_module": "@jupyter-widgets/controls",
          "model_name": "ProgressStyleModel",
          "model_module_version": "1.5.0",
          "state": {
            "_model_module": "@jupyter-widgets/controls",
            "_model_module_version": "1.5.0",
            "_model_name": "ProgressStyleModel",
            "_view_count": null,
            "_view_module": "@jupyter-widgets/base",
            "_view_module_version": "1.2.0",
            "_view_name": "StyleView",
            "bar_color": null,
            "description_width": ""
          }
        },
        "815d3c6e050c47efbfc52cb2061f5afd": {
          "model_module": "@jupyter-widgets/base",
          "model_name": "LayoutModel",
          "model_module_version": "1.2.0",
          "state": {
            "_model_module": "@jupyter-widgets/base",
            "_model_module_version": "1.2.0",
            "_model_name": "LayoutModel",
            "_view_count": null,
            "_view_module": "@jupyter-widgets/base",
            "_view_module_version": "1.2.0",
            "_view_name": "LayoutView",
            "align_content": null,
            "align_items": null,
            "align_self": null,
            "border": null,
            "bottom": null,
            "display": null,
            "flex": null,
            "flex_flow": null,
            "grid_area": null,
            "grid_auto_columns": null,
            "grid_auto_flow": null,
            "grid_auto_rows": null,
            "grid_column": null,
            "grid_gap": null,
            "grid_row": null,
            "grid_template_areas": null,
            "grid_template_columns": null,
            "grid_template_rows": null,
            "height": null,
            "justify_content": null,
            "justify_items": null,
            "left": null,
            "margin": null,
            "max_height": null,
            "max_width": null,
            "min_height": null,
            "min_width": null,
            "object_fit": null,
            "object_position": null,
            "order": null,
            "overflow": null,
            "overflow_x": null,
            "overflow_y": null,
            "padding": null,
            "right": null,
            "top": null,
            "visibility": null,
            "width": null
          }
        },
        "3b492eb17cf141a0b8066a6ea3a472cd": {
          "model_module": "@jupyter-widgets/controls",
          "model_name": "DescriptionStyleModel",
          "model_module_version": "1.5.0",
          "state": {
            "_model_module": "@jupyter-widgets/controls",
            "_model_module_version": "1.5.0",
            "_model_name": "DescriptionStyleModel",
            "_view_count": null,
            "_view_module": "@jupyter-widgets/base",
            "_view_module_version": "1.2.0",
            "_view_name": "StyleView",
            "description_width": ""
          }
        },
        "5db234c8cbe243a3884800650c056bb8": {
          "model_module": "@jupyter-widgets/controls",
          "model_name": "HBoxModel",
          "model_module_version": "1.5.0",
          "state": {
            "_dom_classes": [],
            "_model_module": "@jupyter-widgets/controls",
            "_model_module_version": "1.5.0",
            "_model_name": "HBoxModel",
            "_view_count": null,
            "_view_module": "@jupyter-widgets/controls",
            "_view_module_version": "1.5.0",
            "_view_name": "HBoxView",
            "box_style": "",
            "children": [
              "IPY_MODEL_13d90393ef24419d9ec647e2d10d1e2d",
              "IPY_MODEL_9bb719667d1c4272b2dcf3e371ebd145",
              "IPY_MODEL_35495a4d7854482ba29ed6000b883712"
            ],
            "layout": "IPY_MODEL_a6329bc37cda465da0e77ea68f7b9c0c"
          }
        },
        "13d90393ef24419d9ec647e2d10d1e2d": {
          "model_module": "@jupyter-widgets/controls",
          "model_name": "HTMLModel",
          "model_module_version": "1.5.0",
          "state": {
            "_dom_classes": [],
            "_model_module": "@jupyter-widgets/controls",
            "_model_module_version": "1.5.0",
            "_model_name": "HTMLModel",
            "_view_count": null,
            "_view_module": "@jupyter-widgets/controls",
            "_view_module_version": "1.5.0",
            "_view_name": "HTMLView",
            "description": "",
            "description_tooltip": null,
            "layout": "IPY_MODEL_24cba8e964e0444daf0659d048e13ff9",
            "placeholder": "​",
            "style": "IPY_MODEL_b01e6375ef1a45919556152d5e5f0bcd",
            "value": "Shuffling /root/tensorflow_datasets/ag_news_subset/incomplete.PH2ZSA_1.0.0/ag_news_subset-train.tfrecord*...:   0%"
          }
        },
        "9bb719667d1c4272b2dcf3e371ebd145": {
          "model_module": "@jupyter-widgets/controls",
          "model_name": "FloatProgressModel",
          "model_module_version": "1.5.0",
          "state": {
            "_dom_classes": [],
            "_model_module": "@jupyter-widgets/controls",
            "_model_module_version": "1.5.0",
            "_model_name": "FloatProgressModel",
            "_view_count": null,
            "_view_module": "@jupyter-widgets/controls",
            "_view_module_version": "1.5.0",
            "_view_name": "ProgressView",
            "bar_style": "",
            "description": "",
            "description_tooltip": null,
            "layout": "IPY_MODEL_6eee757b972c4b9b818e4c4485bb41d8",
            "max": 120000,
            "min": 0,
            "orientation": "horizontal",
            "style": "IPY_MODEL_d1bbf3f8b839427e9cdd4e8ce3bb4aea",
            "value": 120000
          }
        },
        "35495a4d7854482ba29ed6000b883712": {
          "model_module": "@jupyter-widgets/controls",
          "model_name": "HTMLModel",
          "model_module_version": "1.5.0",
          "state": {
            "_dom_classes": [],
            "_model_module": "@jupyter-widgets/controls",
            "_model_module_version": "1.5.0",
            "_model_name": "HTMLModel",
            "_view_count": null,
            "_view_module": "@jupyter-widgets/controls",
            "_view_module_version": "1.5.0",
            "_view_name": "HTMLView",
            "description": "",
            "description_tooltip": null,
            "layout": "IPY_MODEL_948b9f93e64f4d409a47d8107c81ef2e",
            "placeholder": "​",
            "style": "IPY_MODEL_2e1ef145cf83432cb13e65f7f0ada0c1",
            "value": " 0/120000 [00:00&lt;?, ? examples/s]"
          }
        },
        "a6329bc37cda465da0e77ea68f7b9c0c": {
          "model_module": "@jupyter-widgets/base",
          "model_name": "LayoutModel",
          "model_module_version": "1.2.0",
          "state": {
            "_model_module": "@jupyter-widgets/base",
            "_model_module_version": "1.2.0",
            "_model_name": "LayoutModel",
            "_view_count": null,
            "_view_module": "@jupyter-widgets/base",
            "_view_module_version": "1.2.0",
            "_view_name": "LayoutView",
            "align_content": null,
            "align_items": null,
            "align_self": null,
            "border": null,
            "bottom": null,
            "display": null,
            "flex": null,
            "flex_flow": null,
            "grid_area": null,
            "grid_auto_columns": null,
            "grid_auto_flow": null,
            "grid_auto_rows": null,
            "grid_column": null,
            "grid_gap": null,
            "grid_row": null,
            "grid_template_areas": null,
            "grid_template_columns": null,
            "grid_template_rows": null,
            "height": null,
            "justify_content": null,
            "justify_items": null,
            "left": null,
            "margin": null,
            "max_height": null,
            "max_width": null,
            "min_height": null,
            "min_width": null,
            "object_fit": null,
            "object_position": null,
            "order": null,
            "overflow": null,
            "overflow_x": null,
            "overflow_y": null,
            "padding": null,
            "right": null,
            "top": null,
            "visibility": "hidden",
            "width": null
          }
        },
        "24cba8e964e0444daf0659d048e13ff9": {
          "model_module": "@jupyter-widgets/base",
          "model_name": "LayoutModel",
          "model_module_version": "1.2.0",
          "state": {
            "_model_module": "@jupyter-widgets/base",
            "_model_module_version": "1.2.0",
            "_model_name": "LayoutModel",
            "_view_count": null,
            "_view_module": "@jupyter-widgets/base",
            "_view_module_version": "1.2.0",
            "_view_name": "LayoutView",
            "align_content": null,
            "align_items": null,
            "align_self": null,
            "border": null,
            "bottom": null,
            "display": null,
            "flex": null,
            "flex_flow": null,
            "grid_area": null,
            "grid_auto_columns": null,
            "grid_auto_flow": null,
            "grid_auto_rows": null,
            "grid_column": null,
            "grid_gap": null,
            "grid_row": null,
            "grid_template_areas": null,
            "grid_template_columns": null,
            "grid_template_rows": null,
            "height": null,
            "justify_content": null,
            "justify_items": null,
            "left": null,
            "margin": null,
            "max_height": null,
            "max_width": null,
            "min_height": null,
            "min_width": null,
            "object_fit": null,
            "object_position": null,
            "order": null,
            "overflow": null,
            "overflow_x": null,
            "overflow_y": null,
            "padding": null,
            "right": null,
            "top": null,
            "visibility": null,
            "width": null
          }
        },
        "b01e6375ef1a45919556152d5e5f0bcd": {
          "model_module": "@jupyter-widgets/controls",
          "model_name": "DescriptionStyleModel",
          "model_module_version": "1.5.0",
          "state": {
            "_model_module": "@jupyter-widgets/controls",
            "_model_module_version": "1.5.0",
            "_model_name": "DescriptionStyleModel",
            "_view_count": null,
            "_view_module": "@jupyter-widgets/base",
            "_view_module_version": "1.2.0",
            "_view_name": "StyleView",
            "description_width": ""
          }
        },
        "6eee757b972c4b9b818e4c4485bb41d8": {
          "model_module": "@jupyter-widgets/base",
          "model_name": "LayoutModel",
          "model_module_version": "1.2.0",
          "state": {
            "_model_module": "@jupyter-widgets/base",
            "_model_module_version": "1.2.0",
            "_model_name": "LayoutModel",
            "_view_count": null,
            "_view_module": "@jupyter-widgets/base",
            "_view_module_version": "1.2.0",
            "_view_name": "LayoutView",
            "align_content": null,
            "align_items": null,
            "align_self": null,
            "border": null,
            "bottom": null,
            "display": null,
            "flex": null,
            "flex_flow": null,
            "grid_area": null,
            "grid_auto_columns": null,
            "grid_auto_flow": null,
            "grid_auto_rows": null,
            "grid_column": null,
            "grid_gap": null,
            "grid_row": null,
            "grid_template_areas": null,
            "grid_template_columns": null,
            "grid_template_rows": null,
            "height": null,
            "justify_content": null,
            "justify_items": null,
            "left": null,
            "margin": null,
            "max_height": null,
            "max_width": null,
            "min_height": null,
            "min_width": null,
            "object_fit": null,
            "object_position": null,
            "order": null,
            "overflow": null,
            "overflow_x": null,
            "overflow_y": null,
            "padding": null,
            "right": null,
            "top": null,
            "visibility": null,
            "width": null
          }
        },
        "d1bbf3f8b839427e9cdd4e8ce3bb4aea": {
          "model_module": "@jupyter-widgets/controls",
          "model_name": "ProgressStyleModel",
          "model_module_version": "1.5.0",
          "state": {
            "_model_module": "@jupyter-widgets/controls",
            "_model_module_version": "1.5.0",
            "_model_name": "ProgressStyleModel",
            "_view_count": null,
            "_view_module": "@jupyter-widgets/base",
            "_view_module_version": "1.2.0",
            "_view_name": "StyleView",
            "bar_color": null,
            "description_width": ""
          }
        },
        "948b9f93e64f4d409a47d8107c81ef2e": {
          "model_module": "@jupyter-widgets/base",
          "model_name": "LayoutModel",
          "model_module_version": "1.2.0",
          "state": {
            "_model_module": "@jupyter-widgets/base",
            "_model_module_version": "1.2.0",
            "_model_name": "LayoutModel",
            "_view_count": null,
            "_view_module": "@jupyter-widgets/base",
            "_view_module_version": "1.2.0",
            "_view_name": "LayoutView",
            "align_content": null,
            "align_items": null,
            "align_self": null,
            "border": null,
            "bottom": null,
            "display": null,
            "flex": null,
            "flex_flow": null,
            "grid_area": null,
            "grid_auto_columns": null,
            "grid_auto_flow": null,
            "grid_auto_rows": null,
            "grid_column": null,
            "grid_gap": null,
            "grid_row": null,
            "grid_template_areas": null,
            "grid_template_columns": null,
            "grid_template_rows": null,
            "height": null,
            "justify_content": null,
            "justify_items": null,
            "left": null,
            "margin": null,
            "max_height": null,
            "max_width": null,
            "min_height": null,
            "min_width": null,
            "object_fit": null,
            "object_position": null,
            "order": null,
            "overflow": null,
            "overflow_x": null,
            "overflow_y": null,
            "padding": null,
            "right": null,
            "top": null,
            "visibility": null,
            "width": null
          }
        },
        "2e1ef145cf83432cb13e65f7f0ada0c1": {
          "model_module": "@jupyter-widgets/controls",
          "model_name": "DescriptionStyleModel",
          "model_module_version": "1.5.0",
          "state": {
            "_model_module": "@jupyter-widgets/controls",
            "_model_module_version": "1.5.0",
            "_model_name": "DescriptionStyleModel",
            "_view_count": null,
            "_view_module": "@jupyter-widgets/base",
            "_view_module_version": "1.2.0",
            "_view_name": "StyleView",
            "description_width": ""
          }
        },
        "98771ff88652415bb3c527897900d290": {
          "model_module": "@jupyter-widgets/controls",
          "model_name": "HBoxModel",
          "model_module_version": "1.5.0",
          "state": {
            "_dom_classes": [],
            "_model_module": "@jupyter-widgets/controls",
            "_model_module_version": "1.5.0",
            "_model_name": "HBoxModel",
            "_view_count": null,
            "_view_module": "@jupyter-widgets/controls",
            "_view_module_version": "1.5.0",
            "_view_name": "HBoxView",
            "box_style": "",
            "children": [
              "IPY_MODEL_ed7cc6467520424ab867cfb49019f8e4",
              "IPY_MODEL_942bd121f7bc40f481d595a2b53a98aa",
              "IPY_MODEL_ebeffddc41fb4cd4844d3be18823e051"
            ],
            "layout": "IPY_MODEL_abee4640db4447c0ae2a804c73f5ae43"
          }
        },
        "ed7cc6467520424ab867cfb49019f8e4": {
          "model_module": "@jupyter-widgets/controls",
          "model_name": "HTMLModel",
          "model_module_version": "1.5.0",
          "state": {
            "_dom_classes": [],
            "_model_module": "@jupyter-widgets/controls",
            "_model_module_version": "1.5.0",
            "_model_name": "HTMLModel",
            "_view_count": null,
            "_view_module": "@jupyter-widgets/controls",
            "_view_module_version": "1.5.0",
            "_view_name": "HTMLView",
            "description": "",
            "description_tooltip": null,
            "layout": "IPY_MODEL_3f99c025005742e19994b375ce2f9b8e",
            "placeholder": "​",
            "style": "IPY_MODEL_b6b7982dede54a6981648335a1c4d804",
            "value": "Generating test examples...:   0%"
          }
        },
        "942bd121f7bc40f481d595a2b53a98aa": {
          "model_module": "@jupyter-widgets/controls",
          "model_name": "FloatProgressModel",
          "model_module_version": "1.5.0",
          "state": {
            "_dom_classes": [],
            "_model_module": "@jupyter-widgets/controls",
            "_model_module_version": "1.5.0",
            "_model_name": "FloatProgressModel",
            "_view_count": null,
            "_view_module": "@jupyter-widgets/controls",
            "_view_module_version": "1.5.0",
            "_view_name": "ProgressView",
            "bar_style": "",
            "description": "",
            "description_tooltip": null,
            "layout": "IPY_MODEL_1352df79ef76478ba28bcbcecef53a2b",
            "max": 7600,
            "min": 0,
            "orientation": "horizontal",
            "style": "IPY_MODEL_7d3a411fd72049e888d77ab666a5bed1",
            "value": 7600
          }
        },
        "ebeffddc41fb4cd4844d3be18823e051": {
          "model_module": "@jupyter-widgets/controls",
          "model_name": "HTMLModel",
          "model_module_version": "1.5.0",
          "state": {
            "_dom_classes": [],
            "_model_module": "@jupyter-widgets/controls",
            "_model_module_version": "1.5.0",
            "_model_name": "HTMLModel",
            "_view_count": null,
            "_view_module": "@jupyter-widgets/controls",
            "_view_module_version": "1.5.0",
            "_view_name": "HTMLView",
            "description": "",
            "description_tooltip": null,
            "layout": "IPY_MODEL_8e6d0f142d7f4414bf2d6cc86bb69abd",
            "placeholder": "​",
            "style": "IPY_MODEL_3bcfe58788df4f109efa001a776d2cdc",
            "value": " 0/7600 [00:00&lt;?, ? examples/s]"
          }
        },
        "abee4640db4447c0ae2a804c73f5ae43": {
          "model_module": "@jupyter-widgets/base",
          "model_name": "LayoutModel",
          "model_module_version": "1.2.0",
          "state": {
            "_model_module": "@jupyter-widgets/base",
            "_model_module_version": "1.2.0",
            "_model_name": "LayoutModel",
            "_view_count": null,
            "_view_module": "@jupyter-widgets/base",
            "_view_module_version": "1.2.0",
            "_view_name": "LayoutView",
            "align_content": null,
            "align_items": null,
            "align_self": null,
            "border": null,
            "bottom": null,
            "display": null,
            "flex": null,
            "flex_flow": null,
            "grid_area": null,
            "grid_auto_columns": null,
            "grid_auto_flow": null,
            "grid_auto_rows": null,
            "grid_column": null,
            "grid_gap": null,
            "grid_row": null,
            "grid_template_areas": null,
            "grid_template_columns": null,
            "grid_template_rows": null,
            "height": null,
            "justify_content": null,
            "justify_items": null,
            "left": null,
            "margin": null,
            "max_height": null,
            "max_width": null,
            "min_height": null,
            "min_width": null,
            "object_fit": null,
            "object_position": null,
            "order": null,
            "overflow": null,
            "overflow_x": null,
            "overflow_y": null,
            "padding": null,
            "right": null,
            "top": null,
            "visibility": "hidden",
            "width": null
          }
        },
        "3f99c025005742e19994b375ce2f9b8e": {
          "model_module": "@jupyter-widgets/base",
          "model_name": "LayoutModel",
          "model_module_version": "1.2.0",
          "state": {
            "_model_module": "@jupyter-widgets/base",
            "_model_module_version": "1.2.0",
            "_model_name": "LayoutModel",
            "_view_count": null,
            "_view_module": "@jupyter-widgets/base",
            "_view_module_version": "1.2.0",
            "_view_name": "LayoutView",
            "align_content": null,
            "align_items": null,
            "align_self": null,
            "border": null,
            "bottom": null,
            "display": null,
            "flex": null,
            "flex_flow": null,
            "grid_area": null,
            "grid_auto_columns": null,
            "grid_auto_flow": null,
            "grid_auto_rows": null,
            "grid_column": null,
            "grid_gap": null,
            "grid_row": null,
            "grid_template_areas": null,
            "grid_template_columns": null,
            "grid_template_rows": null,
            "height": null,
            "justify_content": null,
            "justify_items": null,
            "left": null,
            "margin": null,
            "max_height": null,
            "max_width": null,
            "min_height": null,
            "min_width": null,
            "object_fit": null,
            "object_position": null,
            "order": null,
            "overflow": null,
            "overflow_x": null,
            "overflow_y": null,
            "padding": null,
            "right": null,
            "top": null,
            "visibility": null,
            "width": null
          }
        },
        "b6b7982dede54a6981648335a1c4d804": {
          "model_module": "@jupyter-widgets/controls",
          "model_name": "DescriptionStyleModel",
          "model_module_version": "1.5.0",
          "state": {
            "_model_module": "@jupyter-widgets/controls",
            "_model_module_version": "1.5.0",
            "_model_name": "DescriptionStyleModel",
            "_view_count": null,
            "_view_module": "@jupyter-widgets/base",
            "_view_module_version": "1.2.0",
            "_view_name": "StyleView",
            "description_width": ""
          }
        },
        "1352df79ef76478ba28bcbcecef53a2b": {
          "model_module": "@jupyter-widgets/base",
          "model_name": "LayoutModel",
          "model_module_version": "1.2.0",
          "state": {
            "_model_module": "@jupyter-widgets/base",
            "_model_module_version": "1.2.0",
            "_model_name": "LayoutModel",
            "_view_count": null,
            "_view_module": "@jupyter-widgets/base",
            "_view_module_version": "1.2.0",
            "_view_name": "LayoutView",
            "align_content": null,
            "align_items": null,
            "align_self": null,
            "border": null,
            "bottom": null,
            "display": null,
            "flex": null,
            "flex_flow": null,
            "grid_area": null,
            "grid_auto_columns": null,
            "grid_auto_flow": null,
            "grid_auto_rows": null,
            "grid_column": null,
            "grid_gap": null,
            "grid_row": null,
            "grid_template_areas": null,
            "grid_template_columns": null,
            "grid_template_rows": null,
            "height": null,
            "justify_content": null,
            "justify_items": null,
            "left": null,
            "margin": null,
            "max_height": null,
            "max_width": null,
            "min_height": null,
            "min_width": null,
            "object_fit": null,
            "object_position": null,
            "order": null,
            "overflow": null,
            "overflow_x": null,
            "overflow_y": null,
            "padding": null,
            "right": null,
            "top": null,
            "visibility": null,
            "width": null
          }
        },
        "7d3a411fd72049e888d77ab666a5bed1": {
          "model_module": "@jupyter-widgets/controls",
          "model_name": "ProgressStyleModel",
          "model_module_version": "1.5.0",
          "state": {
            "_model_module": "@jupyter-widgets/controls",
            "_model_module_version": "1.5.0",
            "_model_name": "ProgressStyleModel",
            "_view_count": null,
            "_view_module": "@jupyter-widgets/base",
            "_view_module_version": "1.2.0",
            "_view_name": "StyleView",
            "bar_color": null,
            "description_width": ""
          }
        },
        "8e6d0f142d7f4414bf2d6cc86bb69abd": {
          "model_module": "@jupyter-widgets/base",
          "model_name": "LayoutModel",
          "model_module_version": "1.2.0",
          "state": {
            "_model_module": "@jupyter-widgets/base",
            "_model_module_version": "1.2.0",
            "_model_name": "LayoutModel",
            "_view_count": null,
            "_view_module": "@jupyter-widgets/base",
            "_view_module_version": "1.2.0",
            "_view_name": "LayoutView",
            "align_content": null,
            "align_items": null,
            "align_self": null,
            "border": null,
            "bottom": null,
            "display": null,
            "flex": null,
            "flex_flow": null,
            "grid_area": null,
            "grid_auto_columns": null,
            "grid_auto_flow": null,
            "grid_auto_rows": null,
            "grid_column": null,
            "grid_gap": null,
            "grid_row": null,
            "grid_template_areas": null,
            "grid_template_columns": null,
            "grid_template_rows": null,
            "height": null,
            "justify_content": null,
            "justify_items": null,
            "left": null,
            "margin": null,
            "max_height": null,
            "max_width": null,
            "min_height": null,
            "min_width": null,
            "object_fit": null,
            "object_position": null,
            "order": null,
            "overflow": null,
            "overflow_x": null,
            "overflow_y": null,
            "padding": null,
            "right": null,
            "top": null,
            "visibility": null,
            "width": null
          }
        },
        "3bcfe58788df4f109efa001a776d2cdc": {
          "model_module": "@jupyter-widgets/controls",
          "model_name": "DescriptionStyleModel",
          "model_module_version": "1.5.0",
          "state": {
            "_model_module": "@jupyter-widgets/controls",
            "_model_module_version": "1.5.0",
            "_model_name": "DescriptionStyleModel",
            "_view_count": null,
            "_view_module": "@jupyter-widgets/base",
            "_view_module_version": "1.2.0",
            "_view_name": "StyleView",
            "description_width": ""
          }
        },
        "cc773bf3f86e4544b1a0b3277ca765e5": {
          "model_module": "@jupyter-widgets/controls",
          "model_name": "HBoxModel",
          "model_module_version": "1.5.0",
          "state": {
            "_dom_classes": [],
            "_model_module": "@jupyter-widgets/controls",
            "_model_module_version": "1.5.0",
            "_model_name": "HBoxModel",
            "_view_count": null,
            "_view_module": "@jupyter-widgets/controls",
            "_view_module_version": "1.5.0",
            "_view_name": "HBoxView",
            "box_style": "",
            "children": [
              "IPY_MODEL_3d467d2a1b79443da4ccb955eb03505d",
              "IPY_MODEL_29f7b4867cc44ef393096f19c3efa203",
              "IPY_MODEL_eacea5ddc56d43318ae2aa5982fc28d3"
            ],
            "layout": "IPY_MODEL_66615ceb59bd49a094fdc8dabb877b73"
          }
        },
        "3d467d2a1b79443da4ccb955eb03505d": {
          "model_module": "@jupyter-widgets/controls",
          "model_name": "HTMLModel",
          "model_module_version": "1.5.0",
          "state": {
            "_dom_classes": [],
            "_model_module": "@jupyter-widgets/controls",
            "_model_module_version": "1.5.0",
            "_model_name": "HTMLModel",
            "_view_count": null,
            "_view_module": "@jupyter-widgets/controls",
            "_view_module_version": "1.5.0",
            "_view_name": "HTMLView",
            "description": "",
            "description_tooltip": null,
            "layout": "IPY_MODEL_c102896909c8442f8cf1de535c1b248e",
            "placeholder": "​",
            "style": "IPY_MODEL_ce5ab5a2c01b4309b6e13cf465274c6e",
            "value": "Shuffling /root/tensorflow_datasets/ag_news_subset/incomplete.PH2ZSA_1.0.0/ag_news_subset-test.tfrecord*...:   0%"
          }
        },
        "29f7b4867cc44ef393096f19c3efa203": {
          "model_module": "@jupyter-widgets/controls",
          "model_name": "FloatProgressModel",
          "model_module_version": "1.5.0",
          "state": {
            "_dom_classes": [],
            "_model_module": "@jupyter-widgets/controls",
            "_model_module_version": "1.5.0",
            "_model_name": "FloatProgressModel",
            "_view_count": null,
            "_view_module": "@jupyter-widgets/controls",
            "_view_module_version": "1.5.0",
            "_view_name": "ProgressView",
            "bar_style": "",
            "description": "",
            "description_tooltip": null,
            "layout": "IPY_MODEL_6fe5eb01751341ee82dd35bfa6b28583",
            "max": 7600,
            "min": 0,
            "orientation": "horizontal",
            "style": "IPY_MODEL_d2a0ab840fcf4f798526acb569327c98",
            "value": 7600
          }
        },
        "eacea5ddc56d43318ae2aa5982fc28d3": {
          "model_module": "@jupyter-widgets/controls",
          "model_name": "HTMLModel",
          "model_module_version": "1.5.0",
          "state": {
            "_dom_classes": [],
            "_model_module": "@jupyter-widgets/controls",
            "_model_module_version": "1.5.0",
            "_model_name": "HTMLModel",
            "_view_count": null,
            "_view_module": "@jupyter-widgets/controls",
            "_view_module_version": "1.5.0",
            "_view_name": "HTMLView",
            "description": "",
            "description_tooltip": null,
            "layout": "IPY_MODEL_f5c8ffabd67d4aeebf1c9f5a4fede4da",
            "placeholder": "​",
            "style": "IPY_MODEL_d7c2c04c21fc46de8e85dbdd33a0dea4",
            "value": " 0/7600 [00:00&lt;?, ? examples/s]"
          }
        },
        "66615ceb59bd49a094fdc8dabb877b73": {
          "model_module": "@jupyter-widgets/base",
          "model_name": "LayoutModel",
          "model_module_version": "1.2.0",
          "state": {
            "_model_module": "@jupyter-widgets/base",
            "_model_module_version": "1.2.0",
            "_model_name": "LayoutModel",
            "_view_count": null,
            "_view_module": "@jupyter-widgets/base",
            "_view_module_version": "1.2.0",
            "_view_name": "LayoutView",
            "align_content": null,
            "align_items": null,
            "align_self": null,
            "border": null,
            "bottom": null,
            "display": null,
            "flex": null,
            "flex_flow": null,
            "grid_area": null,
            "grid_auto_columns": null,
            "grid_auto_flow": null,
            "grid_auto_rows": null,
            "grid_column": null,
            "grid_gap": null,
            "grid_row": null,
            "grid_template_areas": null,
            "grid_template_columns": null,
            "grid_template_rows": null,
            "height": null,
            "justify_content": null,
            "justify_items": null,
            "left": null,
            "margin": null,
            "max_height": null,
            "max_width": null,
            "min_height": null,
            "min_width": null,
            "object_fit": null,
            "object_position": null,
            "order": null,
            "overflow": null,
            "overflow_x": null,
            "overflow_y": null,
            "padding": null,
            "right": null,
            "top": null,
            "visibility": "hidden",
            "width": null
          }
        },
        "c102896909c8442f8cf1de535c1b248e": {
          "model_module": "@jupyter-widgets/base",
          "model_name": "LayoutModel",
          "model_module_version": "1.2.0",
          "state": {
            "_model_module": "@jupyter-widgets/base",
            "_model_module_version": "1.2.0",
            "_model_name": "LayoutModel",
            "_view_count": null,
            "_view_module": "@jupyter-widgets/base",
            "_view_module_version": "1.2.0",
            "_view_name": "LayoutView",
            "align_content": null,
            "align_items": null,
            "align_self": null,
            "border": null,
            "bottom": null,
            "display": null,
            "flex": null,
            "flex_flow": null,
            "grid_area": null,
            "grid_auto_columns": null,
            "grid_auto_flow": null,
            "grid_auto_rows": null,
            "grid_column": null,
            "grid_gap": null,
            "grid_row": null,
            "grid_template_areas": null,
            "grid_template_columns": null,
            "grid_template_rows": null,
            "height": null,
            "justify_content": null,
            "justify_items": null,
            "left": null,
            "margin": null,
            "max_height": null,
            "max_width": null,
            "min_height": null,
            "min_width": null,
            "object_fit": null,
            "object_position": null,
            "order": null,
            "overflow": null,
            "overflow_x": null,
            "overflow_y": null,
            "padding": null,
            "right": null,
            "top": null,
            "visibility": null,
            "width": null
          }
        },
        "ce5ab5a2c01b4309b6e13cf465274c6e": {
          "model_module": "@jupyter-widgets/controls",
          "model_name": "DescriptionStyleModel",
          "model_module_version": "1.5.0",
          "state": {
            "_model_module": "@jupyter-widgets/controls",
            "_model_module_version": "1.5.0",
            "_model_name": "DescriptionStyleModel",
            "_view_count": null,
            "_view_module": "@jupyter-widgets/base",
            "_view_module_version": "1.2.0",
            "_view_name": "StyleView",
            "description_width": ""
          }
        },
        "6fe5eb01751341ee82dd35bfa6b28583": {
          "model_module": "@jupyter-widgets/base",
          "model_name": "LayoutModel",
          "model_module_version": "1.2.0",
          "state": {
            "_model_module": "@jupyter-widgets/base",
            "_model_module_version": "1.2.0",
            "_model_name": "LayoutModel",
            "_view_count": null,
            "_view_module": "@jupyter-widgets/base",
            "_view_module_version": "1.2.0",
            "_view_name": "LayoutView",
            "align_content": null,
            "align_items": null,
            "align_self": null,
            "border": null,
            "bottom": null,
            "display": null,
            "flex": null,
            "flex_flow": null,
            "grid_area": null,
            "grid_auto_columns": null,
            "grid_auto_flow": null,
            "grid_auto_rows": null,
            "grid_column": null,
            "grid_gap": null,
            "grid_row": null,
            "grid_template_areas": null,
            "grid_template_columns": null,
            "grid_template_rows": null,
            "height": null,
            "justify_content": null,
            "justify_items": null,
            "left": null,
            "margin": null,
            "max_height": null,
            "max_width": null,
            "min_height": null,
            "min_width": null,
            "object_fit": null,
            "object_position": null,
            "order": null,
            "overflow": null,
            "overflow_x": null,
            "overflow_y": null,
            "padding": null,
            "right": null,
            "top": null,
            "visibility": null,
            "width": null
          }
        },
        "d2a0ab840fcf4f798526acb569327c98": {
          "model_module": "@jupyter-widgets/controls",
          "model_name": "ProgressStyleModel",
          "model_module_version": "1.5.0",
          "state": {
            "_model_module": "@jupyter-widgets/controls",
            "_model_module_version": "1.5.0",
            "_model_name": "ProgressStyleModel",
            "_view_count": null,
            "_view_module": "@jupyter-widgets/base",
            "_view_module_version": "1.2.0",
            "_view_name": "StyleView",
            "bar_color": null,
            "description_width": ""
          }
        },
        "f5c8ffabd67d4aeebf1c9f5a4fede4da": {
          "model_module": "@jupyter-widgets/base",
          "model_name": "LayoutModel",
          "model_module_version": "1.2.0",
          "state": {
            "_model_module": "@jupyter-widgets/base",
            "_model_module_version": "1.2.0",
            "_model_name": "LayoutModel",
            "_view_count": null,
            "_view_module": "@jupyter-widgets/base",
            "_view_module_version": "1.2.0",
            "_view_name": "LayoutView",
            "align_content": null,
            "align_items": null,
            "align_self": null,
            "border": null,
            "bottom": null,
            "display": null,
            "flex": null,
            "flex_flow": null,
            "grid_area": null,
            "grid_auto_columns": null,
            "grid_auto_flow": null,
            "grid_auto_rows": null,
            "grid_column": null,
            "grid_gap": null,
            "grid_row": null,
            "grid_template_areas": null,
            "grid_template_columns": null,
            "grid_template_rows": null,
            "height": null,
            "justify_content": null,
            "justify_items": null,
            "left": null,
            "margin": null,
            "max_height": null,
            "max_width": null,
            "min_height": null,
            "min_width": null,
            "object_fit": null,
            "object_position": null,
            "order": null,
            "overflow": null,
            "overflow_x": null,
            "overflow_y": null,
            "padding": null,
            "right": null,
            "top": null,
            "visibility": null,
            "width": null
          }
        },
        "d7c2c04c21fc46de8e85dbdd33a0dea4": {
          "model_module": "@jupyter-widgets/controls",
          "model_name": "DescriptionStyleModel",
          "model_module_version": "1.5.0",
          "state": {
            "_model_module": "@jupyter-widgets/controls",
            "_model_module_version": "1.5.0",
            "_model_name": "DescriptionStyleModel",
            "_view_count": null,
            "_view_module": "@jupyter-widgets/base",
            "_view_module_version": "1.2.0",
            "_view_name": "StyleView",
            "description_width": ""
          }
        }
      }
    }
  },
  "nbformat": 4,
  "nbformat_minor": 0
}