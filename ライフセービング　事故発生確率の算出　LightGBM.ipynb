{
  "nbformat": 4,
  "nbformat_minor": 0,
  "metadata": {
    "colab": {
      "provenance": [],
      "authorship_tag": "ABX9TyNuqQO7vQCtriFL5cpz3dW2",
      "include_colab_link": true
    },
    "kernelspec": {
      "name": "python3",
      "display_name": "Python 3"
    },
    "language_info": {
      "name": "python"
    }
  },
  "cells": [
    {
      "cell_type": "markdown",
      "metadata": {
        "id": "view-in-github",
        "colab_type": "text"
      },
      "source": [
        "<a href=\"https://colab.research.google.com/github/TomoharuKurosu/Tomoaharu_Kurosu_2023/blob/main/%E3%83%A9%E3%82%A4%E3%83%95%E3%82%BB%E3%83%BC%E3%83%93%E3%83%B3%E3%82%B0%E3%80%80%E4%BA%8B%E6%95%85%E7%99%BA%E7%94%9F%E7%A2%BA%E7%8E%87%E3%81%AE%E7%AE%97%E5%87%BA%E3%80%80LightGBM.ipynb\" target=\"_parent\"><img src=\"https://colab.research.google.com/assets/colab-badge.svg\" alt=\"Open In Colab\"/></a>"
      ]
    },
    {
      "cell_type": "code",
      "execution_count": 1,
      "metadata": {
        "colab": {
          "base_uri": "https://localhost:8080/"
        },
        "id": "FXMBw_dJf1aJ",
        "outputId": "be41b1fe-c4e5-4249-8596-2cc35cd89e5e"
      },
      "outputs": [
        {
          "output_type": "stream",
          "name": "stdout",
          "text": [
            "Mounted at /content/drive\n"
          ]
        }
      ],
      "source": [
        "from google.colab import drive\n",
        "drive.mount('/content/drive')\n",
        "import pandas as pd"
      ]
    },
    {
      "cell_type": "code",
      "source": [
        "#データの読み込み\n",
        "df = pd.read_csv(\"/content/drive/MyDrive/lifesaving_accident_significant_factor.csv\")"
      ],
      "metadata": {
        "id": "Dm3C_v2ef-3s"
      },
      "execution_count": 2,
      "outputs": []
    },
    {
      "cell_type": "code",
      "source": [
        "#必要なモジュールのインストール\n",
        "!pip install LightGBM\n",
        "import numpy as np\n",
        "import pandas as pd\n",
        "import lightgbm as lgb\n",
        "import matplotlib.pyplot as plt\n",
        "import seaborn as sns\n",
        "\n",
        "\n",
        "#予測ターゲットの格納（house_price：A列）\n",
        "target_df = df[[\"accident\"]]\n",
        "#特徴量の格納（説明変数：B列以降）\n",
        "train_df = df.iloc[:,1:5]\n",
        "\n",
        "#モデル学習のための、訓練データとテストデータを7:3で分割\n",
        "from sklearn.model_selection import train_test_split\n",
        "X_train, X_test, y_train, y_test = train_test_split(train_df, target_df, test_size=0.3)\n",
        "\n",
        "#XGBoostで学習するためのデータ形式に変換\n",
        "dtrain = lgb.Dataset(X_train, y_train)\n",
        "dvalid = lgb.Dataset(X_test, y_test)\n",
        "\n",
        "#モデルパラメータの設定\n",
        "params = {'metric' : 'rmse'}\n",
        "model = lgb.train(params,dtrain)\n",
        "\n",
        "#予測の実行と書き出し\n",
        "pred = model.predict(X_test)\n",
        "print(pred)\n",
        "\n",
        "#散布図で予測の精度を描写\n",
        "sns.set(font=['Meiryo','Yu Gothic'])\n",
        "plt.scatter(y_test, pred, alpha = 0.5)\n",
        "plt.plot(np.linspace(0, 50, 100), np.linspace(0, 50, 100), \"red\")\n",
        "plt.xlabel('実際')\n",
        "plt.ylabel('予測値')\n",
        "plt.show()\n",
        "\n",
        "# 性能向上に寄与する度合いで重要度をプロット\n",
        "lgb.plot_importance(model, height = 0.5, figsize = (8,16))"
      ],
      "metadata": {
        "colab": {
          "base_uri": "https://localhost:8080/",
          "height": 1000
        },
        "id": "osT23iOGgB1g",
        "outputId": "7c921fc7-0a40-4ca5-a6e2-03b0fd80f79e"
      },
      "execution_count": 3,
      "outputs": [
        {
          "output_type": "stream",
          "name": "stdout",
          "text": [
            "Requirement already satisfied: LightGBM in /usr/local/lib/python3.10/dist-packages (4.1.0)\n",
            "Requirement already satisfied: numpy in /usr/local/lib/python3.10/dist-packages (from LightGBM) (1.23.5)\n",
            "Requirement already satisfied: scipy in /usr/local/lib/python3.10/dist-packages (from LightGBM) (1.11.4)\n"
          ]
        },
        {
          "output_type": "stream",
          "name": "stderr",
          "text": [
            "WARNING:matplotlib.font_manager:findfont: Font family 'Meiryo' not found.\n",
            "WARNING:matplotlib.font_manager:findfont: Font family 'Yu Gothic' not found.\n"
          ]
        },
        {
          "output_type": "stream",
          "name": "stdout",
          "text": [
            "[LightGBM] [Info] Auto-choosing row-wise multi-threading, the overhead of testing was 0.012871 seconds.\n",
            "You can set `force_row_wise=true` to remove the overhead.\n",
            "And if memory is not enough, you can set `force_col_wise=true`.\n",
            "[LightGBM] [Info] Total Bins 71\n",
            "[LightGBM] [Info] Number of data points in the train set: 154, number of used features: 4\n",
            "[LightGBM] [Info] Start training from score 0.012987\n",
            "[LightGBM] [Warning] No further splits with positive gain, best gain: -inf\n",
            "[LightGBM] [Warning] No further splits with positive gain, best gain: -inf\n",
            "[LightGBM] [Warning] No further splits with positive gain, best gain: -inf\n",
            "[LightGBM] [Warning] No further splits with positive gain, best gain: -inf\n",
            "[LightGBM] [Warning] No further splits with positive gain, best gain: -inf\n",
            "[LightGBM] [Warning] No further splits with positive gain, best gain: -inf\n",
            "[LightGBM] [Warning] No further splits with positive gain, best gain: -inf\n",
            "[LightGBM] [Warning] No further splits with positive gain, best gain: -inf\n",
            "[LightGBM] [Warning] No further splits with positive gain, best gain: -inf\n",
            "[LightGBM] [Warning] No further splits with positive gain, best gain: -inf\n",
            "[LightGBM] [Warning] No further splits with positive gain, best gain: -inf\n",
            "[LightGBM] [Warning] No further splits with positive gain, best gain: -inf\n",
            "[LightGBM] [Warning] No further splits with positive gain, best gain: -inf\n",
            "[LightGBM] [Warning] No further splits with positive gain, best gain: -inf\n",
            "[LightGBM] [Warning] No further splits with positive gain, best gain: -inf\n",
            "[LightGBM] [Warning] No further splits with positive gain, best gain: -inf\n",
            "[LightGBM] [Warning] No further splits with positive gain, best gain: -inf\n",
            "[LightGBM] [Warning] No further splits with positive gain, best gain: -inf\n",
            "[LightGBM] [Warning] No further splits with positive gain, best gain: -inf\n",
            "[LightGBM] [Warning] No further splits with positive gain, best gain: -inf\n",
            "[LightGBM] [Warning] No further splits with positive gain, best gain: -inf\n",
            "[LightGBM] [Warning] No further splits with positive gain, best gain: -inf\n",
            "[LightGBM] [Warning] No further splits with positive gain, best gain: -inf\n",
            "[LightGBM] [Warning] No further splits with positive gain, best gain: -inf\n",
            "[LightGBM] [Warning] No further splits with positive gain, best gain: -inf\n",
            "[LightGBM] [Warning] No further splits with positive gain, best gain: -inf\n",
            "[LightGBM] [Warning] No further splits with positive gain, best gain: -inf\n",
            "[LightGBM] [Warning] No further splits with positive gain, best gain: -inf\n",
            "[LightGBM] [Warning] No further splits with positive gain, best gain: -inf\n",
            "[LightGBM] [Warning] No further splits with positive gain, best gain: -inf\n",
            "[LightGBM] [Warning] No further splits with positive gain, best gain: -inf\n",
            "[LightGBM] [Warning] No further splits with positive gain, best gain: -inf\n",
            "[LightGBM] [Warning] No further splits with positive gain, best gain: -inf\n",
            "[LightGBM] [Warning] No further splits with positive gain, best gain: -inf\n",
            "[LightGBM] [Warning] No further splits with positive gain, best gain: -inf\n",
            "[LightGBM] [Warning] No further splits with positive gain, best gain: -inf\n",
            "[LightGBM] [Warning] No further splits with positive gain, best gain: -inf\n",
            "[LightGBM] [Warning] No further splits with positive gain, best gain: -inf\n",
            "[LightGBM] [Warning] No further splits with positive gain, best gain: -inf\n",
            "[LightGBM] [Warning] No further splits with positive gain, best gain: -inf\n",
            "[LightGBM] [Warning] No further splits with positive gain, best gain: -inf\n",
            "[LightGBM] [Warning] No further splits with positive gain, best gain: -inf\n",
            "[LightGBM] [Warning] No further splits with positive gain, best gain: -inf\n",
            "[LightGBM] [Warning] No further splits with positive gain, best gain: -inf\n",
            "[LightGBM] [Warning] No further splits with positive gain, best gain: -inf\n",
            "[LightGBM] [Warning] No further splits with positive gain, best gain: -inf\n",
            "[LightGBM] [Warning] No further splits with positive gain, best gain: -inf\n",
            "[LightGBM] [Warning] No further splits with positive gain, best gain: -inf\n",
            "[LightGBM] [Warning] No further splits with positive gain, best gain: -inf\n",
            "[LightGBM] [Warning] No further splits with positive gain, best gain: -inf\n",
            "[LightGBM] [Warning] No further splits with positive gain, best gain: -inf\n",
            "[LightGBM] [Warning] No further splits with positive gain, best gain: -inf\n",
            "[LightGBM] [Warning] No further splits with positive gain, best gain: -inf\n",
            "[LightGBM] [Warning] No further splits with positive gain, best gain: -inf\n",
            "[LightGBM] [Warning] No further splits with positive gain, best gain: -inf\n",
            "[LightGBM] [Warning] No further splits with positive gain, best gain: -inf\n",
            "[LightGBM] [Warning] No further splits with positive gain, best gain: -inf\n",
            "[LightGBM] [Warning] No further splits with positive gain, best gain: -inf\n",
            "[LightGBM] [Warning] No further splits with positive gain, best gain: -inf\n",
            "[LightGBM] [Warning] No further splits with positive gain, best gain: -inf\n",
            "[LightGBM] [Warning] No further splits with positive gain, best gain: -inf\n",
            "[LightGBM] [Warning] No further splits with positive gain, best gain: -inf\n",
            "[LightGBM] [Warning] No further splits with positive gain, best gain: -inf\n",
            "[LightGBM] [Warning] No further splits with positive gain, best gain: -inf\n",
            "[LightGBM] [Warning] No further splits with positive gain, best gain: -inf\n",
            "[LightGBM] [Warning] No further splits with positive gain, best gain: -inf\n",
            "[LightGBM] [Warning] No further splits with positive gain, best gain: -inf\n",
            "[LightGBM] [Warning] No further splits with positive gain, best gain: -inf\n",
            "[LightGBM] [Warning] No further splits with positive gain, best gain: -inf\n",
            "[LightGBM] [Warning] No further splits with positive gain, best gain: -inf\n",
            "[LightGBM] [Warning] No further splits with positive gain, best gain: -inf\n",
            "[LightGBM] [Warning] No further splits with positive gain, best gain: -inf\n",
            "[LightGBM] [Warning] No further splits with positive gain, best gain: -inf\n",
            "[LightGBM] [Warning] No further splits with positive gain, best gain: -inf\n",
            "[LightGBM] [Warning] No further splits with positive gain, best gain: -inf\n",
            "[LightGBM] [Warning] No further splits with positive gain, best gain: -inf\n",
            "[LightGBM] [Warning] No further splits with positive gain, best gain: -inf\n",
            "[LightGBM] [Warning] No further splits with positive gain, best gain: -inf\n",
            "[LightGBM] [Warning] No further splits with positive gain, best gain: -inf\n",
            "[LightGBM] [Warning] No further splits with positive gain, best gain: -inf\n",
            "[LightGBM] [Warning] No further splits with positive gain, best gain: -inf\n",
            "[LightGBM] [Warning] No further splits with positive gain, best gain: -inf\n",
            "[LightGBM] [Warning] No further splits with positive gain, best gain: -inf\n",
            "[LightGBM] [Warning] No further splits with positive gain, best gain: -inf\n",
            "[LightGBM] [Warning] No further splits with positive gain, best gain: -inf\n",
            "[LightGBM] [Warning] No further splits with positive gain, best gain: -inf\n",
            "[LightGBM] [Warning] No further splits with positive gain, best gain: -inf\n",
            "[LightGBM] [Warning] No further splits with positive gain, best gain: -inf\n",
            "[LightGBM] [Warning] No further splits with positive gain, best gain: -inf\n",
            "[LightGBM] [Warning] No further splits with positive gain, best gain: -inf\n",
            "[LightGBM] [Warning] No further splits with positive gain, best gain: -inf\n",
            "[LightGBM] [Warning] No further splits with positive gain, best gain: -inf\n",
            "[LightGBM] [Warning] No further splits with positive gain, best gain: -inf\n",
            "[LightGBM] [Warning] No further splits with positive gain, best gain: -inf\n",
            "[LightGBM] [Warning] No further splits with positive gain, best gain: -inf\n",
            "[LightGBM] [Warning] No further splits with positive gain, best gain: -inf\n",
            "[LightGBM] [Warning] No further splits with positive gain, best gain: -inf\n",
            "[LightGBM] [Warning] No further splits with positive gain, best gain: -inf\n",
            "[LightGBM] [Warning] No further splits with positive gain, best gain: -inf\n",
            "[LightGBM] [Warning] No further splits with positive gain, best gain: -inf\n",
            "[ 5.47313796e-04 -1.59672382e-02 -3.78017229e-05  2.81920866e-02\n",
            "  2.03819755e-03  2.51456118e-02  1.52288247e-01 -1.35993259e-02\n",
            " -3.78017229e-05  1.73869742e-02  6.65617475e-03  1.82249425e-02\n",
            " -3.78017229e-05  3.77059180e-02 -7.88054477e-03 -3.78017229e-05\n",
            "  2.03819755e-03  1.46172498e-04  1.11853212e-02  1.11853212e-02\n",
            "  1.24250646e-01 -3.78017229e-05 -3.78017229e-05  4.19566151e-02\n",
            " -1.45002981e-02 -1.34992732e-02 -3.78017229e-05 -1.80888073e-02\n",
            " -3.78017229e-05  1.65126475e-03 -2.22303777e-02 -1.35612684e-02\n",
            " -1.03104548e-02 -1.45002981e-02  1.05414637e-02  7.04907489e-02\n",
            " -3.78017229e-05  1.27601418e-02  1.30358505e-01  5.10729878e-03\n",
            "  7.08496483e-02 -3.78017229e-05  1.79882925e-02  7.11136587e-03\n",
            "  5.10729878e-03  1.19828544e-01 -3.78017229e-05 -1.16508261e-03\n",
            " -3.78017229e-05  3.68587694e-02 -3.78017229e-05 -1.23760160e-02\n",
            " -1.07276486e-02 -1.45374922e-04  2.37048810e-02  8.45919460e-04\n",
            "  9.23336243e-03 -3.78017229e-05  1.61168773e-03 -3.78017229e-05\n",
            " -8.11676223e-03  8.34709404e-03  2.37048810e-02  1.11853212e-02\n",
            " -1.45374922e-04  3.69462039e-02 -1.04139133e-02]\n"
          ]
        },
        {
          "output_type": "stream",
          "name": "stderr",
          "text": [
            "WARNING:matplotlib.font_manager:findfont: Font family 'Meiryo' not found.\n",
            "WARNING:matplotlib.font_manager:findfont: Font family 'Yu Gothic' not found.\n",
            "WARNING:matplotlib.font_manager:findfont: Font family 'Meiryo' not found.\n",
            "WARNING:matplotlib.font_manager:findfont: Font family 'Yu Gothic' not found.\n",
            "WARNING:matplotlib.font_manager:findfont: Font family 'Meiryo' not found.\n",
            "WARNING:matplotlib.font_manager:findfont: Font family 'Yu Gothic' not found.\n",
            "WARNING:matplotlib.font_manager:findfont: Font family 'Meiryo' not found.\n",
            "WARNING:matplotlib.font_manager:findfont: Font family 'Yu Gothic' not found.\n",
            "WARNING:matplotlib.font_manager:findfont: Font family 'Meiryo' not found.\n",
            "WARNING:matplotlib.font_manager:findfont: Font family 'Yu Gothic' not found.\n",
            "WARNING:matplotlib.font_manager:findfont: Font family 'Meiryo' not found.\n",
            "WARNING:matplotlib.font_manager:findfont: Font family 'Yu Gothic' not found.\n",
            "WARNING:matplotlib.font_manager:findfont: Font family 'Meiryo' not found.\n",
            "WARNING:matplotlib.font_manager:findfont: Font family 'Yu Gothic' not found.\n",
            "WARNING:matplotlib.font_manager:findfont: Font family 'Meiryo' not found.\n",
            "WARNING:matplotlib.font_manager:findfont: Font family 'Yu Gothic' not found.\n",
            "/usr/local/lib/python3.10/dist-packages/IPython/core/pylabtools.py:151: UserWarning: Glyph 23455 (\\N{CJK UNIFIED IDEOGRAPH-5B9F}) missing from current font.\n",
            "  fig.canvas.print_figure(bytes_io, **kw)\n",
            "/usr/local/lib/python3.10/dist-packages/IPython/core/pylabtools.py:151: UserWarning: Glyph 38555 (\\N{CJK UNIFIED IDEOGRAPH-969B}) missing from current font.\n",
            "  fig.canvas.print_figure(bytes_io, **kw)\n",
            "WARNING:matplotlib.font_manager:findfont: Font family 'Meiryo' not found.\n",
            "WARNING:matplotlib.font_manager:findfont: Font family 'Yu Gothic' not found.\n",
            "/usr/local/lib/python3.10/dist-packages/IPython/core/pylabtools.py:151: UserWarning: Glyph 20104 (\\N{CJK UNIFIED IDEOGRAPH-4E88}) missing from current font.\n",
            "  fig.canvas.print_figure(bytes_io, **kw)\n",
            "/usr/local/lib/python3.10/dist-packages/IPython/core/pylabtools.py:151: UserWarning: Glyph 28204 (\\N{CJK UNIFIED IDEOGRAPH-6E2C}) missing from current font.\n",
            "  fig.canvas.print_figure(bytes_io, **kw)\n",
            "/usr/local/lib/python3.10/dist-packages/IPython/core/pylabtools.py:151: UserWarning: Glyph 20516 (\\N{CJK UNIFIED IDEOGRAPH-5024}) missing from current font.\n",
            "  fig.canvas.print_figure(bytes_io, **kw)\n",
            "WARNING:matplotlib.font_manager:findfont: Font family 'Meiryo' not found.\n",
            "WARNING:matplotlib.font_manager:findfont: Font family 'Yu Gothic' not found.\n",
            "WARNING:matplotlib.font_manager:findfont: Font family 'Meiryo' not found.\n",
            "WARNING:matplotlib.font_manager:findfont: Font family 'Yu Gothic' not found.\n",
            "WARNING:matplotlib.font_manager:findfont: Font family 'Meiryo' not found.\n",
            "WARNING:matplotlib.font_manager:findfont: Font family 'Yu Gothic' not found.\n",
            "WARNING:matplotlib.font_manager:findfont: Font family 'Meiryo' not found.\n",
            "WARNING:matplotlib.font_manager:findfont: Font family 'Yu Gothic' not found.\n",
            "WARNING:matplotlib.font_manager:findfont: Font family 'Meiryo' not found.\n",
            "WARNING:matplotlib.font_manager:findfont: Font family 'Yu Gothic' not found.\n",
            "WARNING:matplotlib.font_manager:findfont: Font family 'Meiryo' not found.\n",
            "WARNING:matplotlib.font_manager:findfont: Font family 'Yu Gothic' not found.\n",
            "WARNING:matplotlib.font_manager:findfont: Font family 'Meiryo' not found.\n",
            "WARNING:matplotlib.font_manager:findfont: Font family 'Yu Gothic' not found.\n",
            "WARNING:matplotlib.font_manager:findfont: Font family 'Meiryo' not found.\n",
            "WARNING:matplotlib.font_manager:findfont: Font family 'Yu Gothic' not found.\n",
            "WARNING:matplotlib.font_manager:findfont: Font family 'Meiryo' not found.\n",
            "WARNING:matplotlib.font_manager:findfont: Font family 'Yu Gothic' not found.\n",
            "WARNING:matplotlib.font_manager:findfont: Font family 'Meiryo' not found.\n",
            "WARNING:matplotlib.font_manager:findfont: Font family 'Yu Gothic' not found.\n",
            "WARNING:matplotlib.font_manager:findfont: Font family 'Meiryo' not found.\n",
            "WARNING:matplotlib.font_manager:findfont: Font family 'Yu Gothic' not found.\n",
            "WARNING:matplotlib.font_manager:findfont: Font family 'Meiryo' not found.\n",
            "WARNING:matplotlib.font_manager:findfont: Font family 'Yu Gothic' not found.\n",
            "WARNING:matplotlib.font_manager:findfont: Font family 'Meiryo' not found.\n",
            "WARNING:matplotlib.font_manager:findfont: Font family 'Yu Gothic' not found.\n",
            "WARNING:matplotlib.font_manager:findfont: Font family 'Meiryo' not found.\n",
            "WARNING:matplotlib.font_manager:findfont: Font family 'Yu Gothic' not found.\n",
            "WARNING:matplotlib.font_manager:findfont: Font family 'Meiryo' not found.\n",
            "WARNING:matplotlib.font_manager:findfont: Font family 'Yu Gothic' not found.\n",
            "WARNING:matplotlib.font_manager:findfont: Font family 'Meiryo' not found.\n",
            "WARNING:matplotlib.font_manager:findfont: Font family 'Yu Gothic' not found.\n",
            "WARNING:matplotlib.font_manager:findfont: Font family 'Meiryo' not found.\n",
            "WARNING:matplotlib.font_manager:findfont: Font family 'Yu Gothic' not found.\n",
            "WARNING:matplotlib.font_manager:findfont: Font family 'Meiryo' not found.\n",
            "WARNING:matplotlib.font_manager:findfont: Font family 'Yu Gothic' not found.\n",
            "WARNING:matplotlib.font_manager:findfont: Font family 'Meiryo' not found.\n",
            "WARNING:matplotlib.font_manager:findfont: Font family 'Yu Gothic' not found.\n",
            "WARNING:matplotlib.font_manager:findfont: Font family 'Meiryo' not found.\n",
            "WARNING:matplotlib.font_manager:findfont: Font family 'Yu Gothic' not found.\n",
            "WARNING:matplotlib.font_manager:findfont: Font family 'Meiryo' not found.\n",
            "WARNING:matplotlib.font_manager:findfont: Font family 'Yu Gothic' not found.\n",
            "WARNING:matplotlib.font_manager:findfont: Font family 'Meiryo' not found.\n",
            "WARNING:matplotlib.font_manager:findfont: Font family 'Yu Gothic' not found.\n",
            "WARNING:matplotlib.font_manager:findfont: Font family 'Meiryo' not found.\n",
            "WARNING:matplotlib.font_manager:findfont: Font family 'Yu Gothic' not found.\n",
            "WARNING:matplotlib.font_manager:findfont: Font family 'Meiryo' not found.\n",
            "WARNING:matplotlib.font_manager:findfont: Font family 'Yu Gothic' not found.\n"
          ]
        },
        {
          "output_type": "display_data",
          "data": {
            "text/plain": [
              "<Figure size 640x480 with 1 Axes>"
            ],
            "image/png": "[encoded data removed]"
          },
          "metadata": {}
        },
        {
          "output_type": "execute_result",
          "data": {
            "text/plain": [
              "<Axes: title={'center': 'Feature importance'}, xlabel='Feature importance', ylabel='Features'>"
            ]
          },
          "metadata": {},
          "execution_count": 3
        },
        {
          "output_type": "stream",
          "name": "stderr",
          "text": [
            "WARNING:matplotlib.font_manager:findfont: Font family 'Meiryo' not found.\n",
            "WARNING:matplotlib.font_manager:findfont: Font family 'Yu Gothic' not found.\n",
            "WARNING:matplotlib.font_manager:findfont: Font family 'Meiryo' not found.\n",
            "WARNING:matplotlib.font_manager:findfont: Font family 'Yu Gothic' not found.\n",
            "WARNING:matplotlib.font_manager:findfont: Font family 'Meiryo' not found.\n",
            "WARNING:matplotlib.font_manager:findfont: Font family 'Yu Gothic' not found.\n",
            "WARNING:matplotlib.font_manager:findfont: Font family 'Meiryo' not found.\n",
            "WARNING:matplotlib.font_manager:findfont: Font family 'Yu Gothic' not found.\n",
            "WARNING:matplotlib.font_manager:findfont: Font family 'Meiryo' not found.\n",
            "WARNING:matplotlib.font_manager:findfont: Font family 'Yu Gothic' not found.\n",
            "WARNING:matplotlib.font_manager:findfont: Font family 'Meiryo' not found.\n",
            "WARNING:matplotlib.font_manager:findfont: Font family 'Yu Gothic' not found.\n",
            "WARNING:matplotlib.font_manager:findfont: Font family 'Meiryo' not found.\n",
            "WARNING:matplotlib.font_manager:findfont: Font family 'Yu Gothic' not found.\n",
            "WARNING:matplotlib.font_manager:findfont: Font family 'Meiryo' not found.\n",
            "WARNING:matplotlib.font_manager:findfont: Font family 'Yu Gothic' not found.\n",
            "WARNING:matplotlib.font_manager:findfont: Font family 'Meiryo' not found.\n",
            "WARNING:matplotlib.font_manager:findfont: Font family 'Yu Gothic' not found.\n",
            "WARNING:matplotlib.font_manager:findfont: Font family 'Meiryo' not found.\n",
            "WARNING:matplotlib.font_manager:findfont: Font family 'Yu Gothic' not found.\n",
            "WARNING:matplotlib.font_manager:findfont: Font family 'Meiryo' not found.\n",
            "WARNING:matplotlib.font_manager:findfont: Font family 'Yu Gothic' not found.\n",
            "WARNING:matplotlib.font_manager:findfont: Font family 'Meiryo' not found.\n",
            "WARNING:matplotlib.font_manager:findfont: Font family 'Yu Gothic' not found.\n",
            "WARNING:matplotlib.font_manager:findfont: Font family 'Meiryo' not found.\n",
            "WARNING:matplotlib.font_manager:findfont: Font family 'Yu Gothic' not found.\n",
            "WARNING:matplotlib.font_manager:findfont: Font family 'Meiryo' not found.\n",
            "WARNING:matplotlib.font_manager:findfont: Font family 'Yu Gothic' not found.\n",
            "WARNING:matplotlib.font_manager:findfont: Font family 'Meiryo' not found.\n",
            "WARNING:matplotlib.font_manager:findfont: Font family 'Yu Gothic' not found.\n",
            "WARNING:matplotlib.font_manager:findfont: Font family 'Meiryo' not found.\n",
            "WARNING:matplotlib.font_manager:findfont: Font family 'Yu Gothic' not found.\n",
            "WARNING:matplotlib.font_manager:findfont: Font family 'Meiryo' not found.\n",
            "WARNING:matplotlib.font_manager:findfont: Font family 'Yu Gothic' not found.\n",
            "WARNING:matplotlib.font_manager:findfont: Font family 'Meiryo' not found.\n",
            "WARNING:matplotlib.font_manager:findfont: Font family 'Yu Gothic' not found.\n",
            "WARNING:matplotlib.font_manager:findfont: Font family 'Meiryo' not found.\n",
            "WARNING:matplotlib.font_manager:findfont: Font family 'Yu Gothic' not found.\n",
            "WARNING:matplotlib.font_manager:findfont: Font family 'Meiryo' not found.\n",
            "WARNING:matplotlib.font_manager:findfont: Font family 'Yu Gothic' not found.\n",
            "WARNING:matplotlib.font_manager:findfont: Font family 'Meiryo' not found.\n",
            "WARNING:matplotlib.font_manager:findfont: Font family 'Yu Gothic' not found.\n",
            "WARNING:matplotlib.font_manager:findfont: Font family 'Meiryo' not found.\n",
            "WARNING:matplotlib.font_manager:findfont: Font family 'Yu Gothic' not found.\n",
            "WARNING:matplotlib.font_manager:findfont: Font family 'Meiryo' not found.\n",
            "WARNING:matplotlib.font_manager:findfont: Font family 'Yu Gothic' not found.\n",
            "WARNING:matplotlib.font_manager:findfont: Font family 'Meiryo' not found.\n",
            "WARNING:matplotlib.font_manager:findfont: Font family 'Yu Gothic' not found.\n",
            "WARNING:matplotlib.font_manager:findfont: Font family 'Meiryo' not found.\n",
            "WARNING:matplotlib.font_manager:findfont: Font family 'Yu Gothic' not found.\n",
            "WARNING:matplotlib.font_manager:findfont: Font family 'Meiryo' not found.\n",
            "WARNING:matplotlib.font_manager:findfont: Font family 'Yu Gothic' not found.\n",
            "WARNING:matplotlib.font_manager:findfont: Font family 'Meiryo' not found.\n",
            "WARNING:matplotlib.font_manager:findfont: Font family 'Yu Gothic' not found.\n",
            "WARNING:matplotlib.font_manager:findfont: Font family 'Meiryo' not found.\n",
            "WARNING:matplotlib.font_manager:findfont: Font family 'Yu Gothic' not found.\n",
            "WARNING:matplotlib.font_manager:findfont: Font family 'Meiryo' not found.\n",
            "WARNING:matplotlib.font_manager:findfont: Font family 'Yu Gothic' not found.\n",
            "WARNING:matplotlib.font_manager:findfont: Font family 'Meiryo' not found.\n",
            "WARNING:matplotlib.font_manager:findfont: Font family 'Yu Gothic' not found.\n",
            "WARNING:matplotlib.font_manager:findfont: Font family 'Meiryo' not found.\n",
            "WARNING:matplotlib.font_manager:findfont: Font family 'Yu Gothic' not found.\n",
            "WARNING:matplotlib.font_manager:findfont: Font family 'Meiryo' not found.\n",
            "WARNING:matplotlib.font_manager:findfont: Font family 'Yu Gothic' not found.\n",
            "WARNING:matplotlib.font_manager:findfont: Font family 'Meiryo' not found.\n",
            "WARNING:matplotlib.font_manager:findfont: Font family 'Yu Gothic' not found.\n",
            "WARNING:matplotlib.font_manager:findfont: Font family 'Meiryo' not found.\n",
            "WARNING:matplotlib.font_manager:findfont: Font family 'Yu Gothic' not found.\n",
            "WARNING:matplotlib.font_manager:findfont: Font family 'Meiryo' not found.\n",
            "WARNING:matplotlib.font_manager:findfont: Font family 'Yu Gothic' not found.\n",
            "WARNING:matplotlib.font_manager:findfont: Font family 'Meiryo' not found.\n",
            "WARNING:matplotlib.font_manager:findfont: Font family 'Yu Gothic' not found.\n",
            "WARNING:matplotlib.font_manager:findfont: Font family 'Meiryo' not found.\n",
            "WARNING:matplotlib.font_manager:findfont: Font family 'Yu Gothic' not found.\n",
            "WARNING:matplotlib.font_manager:findfont: Font family 'Meiryo' not found.\n",
            "WARNING:matplotlib.font_manager:findfont: Font family 'Yu Gothic' not found.\n",
            "WARNING:matplotlib.font_manager:findfont: Font family 'Meiryo' not found.\n",
            "WARNING:matplotlib.font_manager:findfont: Font family 'Yu Gothic' not found.\n",
            "WARNING:matplotlib.font_manager:findfont: Font family 'Meiryo' not found.\n",
            "WARNING:matplotlib.font_manager:findfont: Font family 'Yu Gothic' not found.\n",
            "WARNING:matplotlib.font_manager:findfont: Font family 'Meiryo' not found.\n",
            "WARNING:matplotlib.font_manager:findfont: Font family 'Yu Gothic' not found.\n",
            "WARNING:matplotlib.font_manager:findfont: Font family 'Meiryo' not found.\n",
            "WARNING:matplotlib.font_manager:findfont: Font family 'Yu Gothic' not found.\n",
            "WARNING:matplotlib.font_manager:findfont: Font family 'Meiryo' not found.\n",
            "WARNING:matplotlib.font_manager:findfont: Font family 'Yu Gothic' not found.\n",
            "WARNING:matplotlib.font_manager:findfont: Font family 'Meiryo' not found.\n",
            "WARNING:matplotlib.font_manager:findfont: Font family 'Yu Gothic' not found.\n",
            "WARNING:matplotlib.font_manager:findfont: Font family 'Meiryo' not found.\n",
            "WARNING:matplotlib.font_manager:findfont: Font family 'Yu Gothic' not found.\n",
            "WARNING:matplotlib.font_manager:findfont: Font family 'Meiryo' not found.\n",
            "WARNING:matplotlib.font_manager:findfont: Font family 'Yu Gothic' not found.\n",
            "WARNING:matplotlib.font_manager:findfont: Font family 'Meiryo' not found.\n",
            "WARNING:matplotlib.font_manager:findfont: Font family 'Yu Gothic' not found.\n",
            "WARNING:matplotlib.font_manager:findfont: Font family 'Meiryo' not found.\n",
            "WARNING:matplotlib.font_manager:findfont: Font family 'Yu Gothic' not found.\n",
            "WARNING:matplotlib.font_manager:findfont: Font family 'Meiryo' not found.\n",
            "WARNING:matplotlib.font_manager:findfont: Font family 'Yu Gothic' not found.\n",
            "WARNING:matplotlib.font_manager:findfont: Font family 'Meiryo' not found.\n",
            "WARNING:matplotlib.font_manager:findfont: Font family 'Yu Gothic' not found.\n",
            "WARNING:matplotlib.font_manager:findfont: Font family 'Meiryo' not found.\n",
            "WARNING:matplotlib.font_manager:findfont: Font family 'Yu Gothic' not found.\n",
            "WARNING:matplotlib.font_manager:findfont: Font family 'Meiryo' not found.\n",
            "WARNING:matplotlib.font_manager:findfont: Font family 'Yu Gothic' not found.\n",
            "WARNING:matplotlib.font_manager:findfont: Font family 'Meiryo' not found.\n",
            "WARNING:matplotlib.font_manager:findfont: Font family 'Yu Gothic' not found.\n",
            "WARNING:matplotlib.font_manager:findfont: Font family 'Meiryo' not found.\n",
            "WARNING:matplotlib.font_manager:findfont: Font family 'Yu Gothic' not found.\n",
            "WARNING:matplotlib.font_manager:findfont: Font family 'Meiryo' not found.\n",
            "WARNING:matplotlib.font_manager:findfont: Font family 'Yu Gothic' not found.\n",
            "WARNING:matplotlib.font_manager:findfont: Font family 'Meiryo' not found.\n",
            "WARNING:matplotlib.font_manager:findfont: Font family 'Yu Gothic' not found.\n",
            "WARNING:matplotlib.font_manager:findfont: Font family 'Meiryo' not found.\n",
            "WARNING:matplotlib.font_manager:findfont: Font family 'Yu Gothic' not found.\n",
            "WARNING:matplotlib.font_manager:findfont: Font family 'Meiryo' not found.\n",
            "WARNING:matplotlib.font_manager:findfont: Font family 'Yu Gothic' not found.\n",
            "WARNING:matplotlib.font_manager:findfont: Font family 'Meiryo' not found.\n",
            "WARNING:matplotlib.font_manager:findfont: Font family 'Yu Gothic' not found.\n",
            "WARNING:matplotlib.font_manager:findfont: Font family 'Meiryo' not found.\n",
            "WARNING:matplotlib.font_manager:findfont: Font family 'Yu Gothic' not found.\n",
            "WARNING:matplotlib.font_manager:findfont: Font family 'Meiryo' not found.\n",
            "WARNING:matplotlib.font_manager:findfont: Font family 'Yu Gothic' not found.\n",
            "WARNING:matplotlib.font_manager:findfont: Font family 'Meiryo' not found.\n",
            "WARNING:matplotlib.font_manager:findfont: Font family 'Yu Gothic' not found.\n",
            "WARNING:matplotlib.font_manager:findfont: Font family 'Meiryo' not found.\n",
            "WARNING:matplotlib.font_manager:findfont: Font family 'Yu Gothic' not found.\n",
            "WARNING:matplotlib.font_manager:findfont: Font family 'Meiryo' not found.\n",
            "WARNING:matplotlib.font_manager:findfont: Font family 'Yu Gothic' not found.\n",
            "WARNING:matplotlib.font_manager:findfont: Font family 'Meiryo' not found.\n",
            "WARNING:matplotlib.font_manager:findfont: Font family 'Yu Gothic' not found.\n",
            "WARNING:matplotlib.font_manager:findfont: Font family 'Meiryo' not found.\n",
            "WARNING:matplotlib.font_manager:findfont: Font family 'Yu Gothic' not found.\n",
            "WARNING:matplotlib.font_manager:findfont: Font family 'Meiryo' not found.\n",
            "WARNING:matplotlib.font_manager:findfont: Font family 'Yu Gothic' not found.\n",
            "WARNING:matplotlib.font_manager:findfont: Font family 'Meiryo' not found.\n",
            "WARNING:matplotlib.font_manager:findfont: Font family 'Yu Gothic' not found.\n",
            "WARNING:matplotlib.font_manager:findfont: Font family 'Meiryo' not found.\n",
            "WARNING:matplotlib.font_manager:findfont: Font family 'Yu Gothic' not found.\n",
            "WARNING:matplotlib.font_manager:findfont: Font family 'Meiryo' not found.\n",
            "WARNING:matplotlib.font_manager:findfont: Font family 'Yu Gothic' not found.\n",
            "WARNING:matplotlib.font_manager:findfont: Font family 'Meiryo' not found.\n",
            "WARNING:matplotlib.font_manager:findfont: Font family 'Yu Gothic' not found.\n",
            "WARNING:matplotlib.font_manager:findfont: Font family 'Meiryo' not found.\n",
            "WARNING:matplotlib.font_manager:findfont: Font family 'Yu Gothic' not found.\n",
            "WARNING:matplotlib.font_manager:findfont: Font family 'Meiryo' not found.\n",
            "WARNING:matplotlib.font_manager:findfont: Font family 'Yu Gothic' not found.\n",
            "WARNING:matplotlib.font_manager:findfont: Font family 'Meiryo' not found.\n",
            "WARNING:matplotlib.font_manager:findfont: Font family 'Yu Gothic' not found.\n"
          ]
        },
        {
          "output_type": "display_data",
          "data": {
            "text/plain": [
              "<Figure size 800x1600 with 1 Axes>"
            ],
            "image/png": "[encoded data removed]"
          },
          "metadata": {}
        }
      ]
    },
    {
      "cell_type": "code",
      "source": [
        "#適当なデータを入れて予測（model.predict([[?,?,?,?,?,?,?,?,?,?,?,?]])）\n",
        "pred = model.predict([[0.9,14,26,0.5]])\n",
        "print(pred)"
      ],
      "metadata": {
        "colab": {
          "base_uri": "https://localhost:8080/"
        },
        "id": "9CDwzIBRgIBm",
        "outputId": "d0b8eb9b-30cb-4982-84c8-14a70ef424ba"
      },
      "execution_count": 4,
      "outputs": [
        {
          "output_type": "stream",
          "name": "stdout",
          "text": [
            "[0.00665617]\n"
          ]
        }
      ]
    },
    {
      "cell_type": "code",
      "source": [
        "# 決定木の分岐の可視化\n",
        "lgb.create_tree_digraph(model, 1)"
      ],
      "metadata": {
        "colab": {
          "base_uri": "https://localhost:8080/",
          "height": 160
        },
        "id": "ixjvaz6VgK9G",
        "outputId": "145c5650-4dfd-41b6-d990-39354715b0bf"
      },
      "execution_count": 5,
      "outputs": [
        {
          "output_type": "execute_result",
          "data": {
            "image/svg+xml": "<?xml version=\"1.0\" encoding=\"UTF-8\" standalone=\"no\"?>\n<!DOCTYPE svg PUBLIC \"-//W3C//DTD SVG 1.1//EN\"\n \"http://www.w3.org/Graphics/SVG/1.1/DTD/svg11.dtd\">\n<!-- Generated by graphviz version 2.43.0 (0)\n -->\n<!-- Title: %3 Pages: 1 -->\n<svg width=\"494pt\" height=\"104pt\"\n viewBox=\"0.00 0.00 494.29 104.00\" xmlns=\"http://www.w3.org/2000/svg\" xmlns:xlink=\"http://www.w3.org/1999/xlink\">\n<g id=\"graph0\" class=\"graph\" transform=\"scale(1 1) rotate(0) translate(4 100)\">\n<title>%3</title>\n<polygon fill=\"white\" stroke=\"transparent\" points=\"-4,4 -4,-100 490.29,-100 490.29,4 -4,4\"/>\n<!-- leaf0 -->\n<g id=\"node1\" class=\"node\">\n<title>leaf0</title>\n<ellipse fill=\"none\" stroke=\"black\" cx=\"427.14\" cy=\"-78\" rx=\"59.29\" ry=\"18\"/>\n<text text-anchor=\"start\" x=\"389.64\" y=\"-75.3\" font-family=\"Times,serif\" font-size=\"14.00\">leaf 0: </text>\n<text text-anchor=\"start\" x=\"428.64\" y=\"-75.3\" font-family=\"Times,serif\" font-weight=\"bold\" font-size=\"14.00\">&#45;0.001</text>\n</g>\n<!-- split1 -->\n<g id=\"node2\" class=\"node\">\n<title>split1</title>\n<polygon fill=\"none\" stroke=\"black\" points=\"327,-76 215,-76 215,-40 327,-40 327,-76\"/>\n<text text-anchor=\"start\" x=\"223\" y=\"-55.3\" font-family=\"Times,serif\" font-weight=\"bold\" font-size=\"14.00\">ebb_flow</text>\n<text text-anchor=\"start\" x=\"276\" y=\"-55.3\" font-family=\"Times,serif\" font-size=\"14.00\"> ≤</text>\n<text text-anchor=\"start\" x=\"288\" y=\"-55.3\" font-family=\"Times,serif\" font-weight=\"bold\" font-size=\"14.00\">1.175</text>\n</g>\n<!-- split1&#45;&gt;leaf0 -->\n<g id=\"edge1\" class=\"edge\">\n<title>split1&#45;&gt;leaf0</title>\n<path fill=\"none\" stroke=\"black\" d=\"M327.21,-65.16C338.57,-66.64 350.62,-68.2 362.26,-69.71\"/>\n<polygon fill=\"black\" stroke=\"black\" points=\"361.98,-73.2 372.35,-71.02 362.88,-66.26 361.98,-73.2\"/>\n<text text-anchor=\"middle\" x=\"347.5\" y=\"-71.8\" font-family=\"Times,serif\" font-size=\"14.00\">yes</text>\n</g>\n<!-- leaf2 -->\n<g id=\"node3\" class=\"node\">\n<title>leaf2</title>\n<ellipse fill=\"none\" stroke=\"black\" cx=\"427.14\" cy=\"-38\" rx=\"59.29\" ry=\"18\"/>\n<text text-anchor=\"start\" x=\"389.64\" y=\"-35.3\" font-family=\"Times,serif\" font-size=\"14.00\">leaf 2: </text>\n<text text-anchor=\"start\" x=\"428.64\" y=\"-35.3\" font-family=\"Times,serif\" font-weight=\"bold\" font-size=\"14.00\">&#45;0.001</text>\n</g>\n<!-- split1&#45;&gt;leaf2 -->\n<g id=\"edge2\" class=\"edge\">\n<title>split1&#45;&gt;leaf2</title>\n<path fill=\"none\" stroke=\"black\" d=\"M327.21,-50.84C338.57,-49.36 350.62,-47.8 362.26,-46.29\"/>\n<polygon fill=\"black\" stroke=\"black\" points=\"362.88,-49.74 372.35,-44.98 361.98,-42.8 362.88,-49.74\"/>\n<text text-anchor=\"middle\" x=\"347.5\" y=\"-52.8\" font-family=\"Times,serif\" font-size=\"14.00\">no</text>\n</g>\n<!-- split0 -->\n<g id=\"node4\" class=\"node\">\n<title>split0</title>\n<polygon fill=\"none\" stroke=\"black\" points=\"174,-48 0,-48 0,-12 174,-12 174,-48\"/>\n<text text-anchor=\"start\" x=\"8\" y=\"-27.3\" font-family=\"Times,serif\" font-weight=\"bold\" font-size=\"14.00\">wind_speed_12time</text>\n<text text-anchor=\"start\" x=\"123\" y=\"-27.3\" font-family=\"Times,serif\" font-size=\"14.00\"> ≤</text>\n<text text-anchor=\"start\" x=\"135\" y=\"-27.3\" font-family=\"Times,serif\" font-weight=\"bold\" font-size=\"14.00\">3.500</text>\n</g>\n<!-- split0&#45;&gt;split1 -->\n<g id=\"edge3\" class=\"edge\">\n<title>split0&#45;&gt;split1</title>\n<path fill=\"none\" stroke=\"black\" d=\"M174.2,-43.26C184.5,-44.85 194.88,-46.44 204.81,-47.97\"/>\n<polygon fill=\"black\" stroke=\"black\" points=\"204.56,-51.47 214.98,-49.53 205.62,-44.55 204.56,-51.47\"/>\n<text text-anchor=\"middle\" x=\"194.5\" y=\"-50.8\" font-family=\"Times,serif\" font-size=\"14.00\">yes</text>\n</g>\n<!-- leaf1 -->\n<g id=\"node5\" class=\"node\">\n<title>leaf1</title>\n<ellipse fill=\"none\" stroke=\"black\" cx=\"271\" cy=\"-18\" rx=\"55.79\" ry=\"18\"/>\n<text text-anchor=\"start\" x=\"236\" y=\"-15.3\" font-family=\"Times,serif\" font-size=\"14.00\">leaf 1: </text>\n<text text-anchor=\"start\" x=\"275\" y=\"-15.3\" font-family=\"Times,serif\" font-weight=\"bold\" font-size=\"14.00\">0.007</text>\n</g>\n<!-- split0&#45;&gt;leaf1 -->\n<g id=\"edge4\" class=\"edge\">\n<title>split0&#45;&gt;leaf1</title>\n<path fill=\"none\" stroke=\"black\" d=\"M174.2,-24.32C184.88,-23.61 195.65,-22.9 205.92,-22.23\"/>\n<polygon fill=\"black\" stroke=\"black\" points=\"206.25,-25.71 216,-21.56 205.79,-18.73 206.25,-25.71\"/>\n<text text-anchor=\"middle\" x=\"194.5\" y=\"-27.8\" font-family=\"Times,serif\" font-size=\"14.00\">no</text>\n</g>\n</g>\n</svg>\n",
            "text/plain": [
              "<graphviz.graphs.Digraph at 0x7ebf61967280>"
            ]
          },
          "metadata": {},
          "execution_count": 5
        }
      ]
    }
  ]
}