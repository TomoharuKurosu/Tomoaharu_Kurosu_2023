{
  "cells": [
    {
      "cell_type": "markdown",
      "metadata": {
        "id": "view-in-github",
        "colab_type": "text"
      },
      "source": [
        "<a href=\"https://colab.research.google.com/github/TomoharuKurosu/Tomoaharu_Kurosu_2023/blob/main/week09_NN(1).ipynb\" target=\"_parent\"><img src=\"https://colab.research.google.com/assets/colab-badge.svg\" alt=\"Open In Colab\"/></a>"
      ]
    },
    {
      "cell_type": "markdown",
      "metadata": {
        "id": "gl-gVAlfsUpn"
      },
      "source": [
        "# Week 9：ニューラルネットワーク （Keras-TensorFlow）"
      ]
    },
    {
      "cell_type": "markdown",
      "metadata": {
        "id": "uBc_LnU2sUpo"
      },
      "source": [
        "<a id='top'></a>"
      ]
    },
    {
      "cell_type": "markdown",
      "metadata": {
        "id": "_Jtlid0esUpq"
      },
      "source": [
        "## 15.1 Introduction to Artificial Neural Networks <a id=\"15.1-introduction-to-artificial-neural-networks\"/>"
      ]
    },
    {
      "cell_type": "markdown",
      "metadata": {
        "id": "-E6KTVP5sUpr"
      },
      "source": [
        "## ニューラルネットワーク (NN)\n",
        "\n",
        "- **機械学習アルゴリズム**の一種\n",
        "- **ネットワーク構造**\n",
        "  - 相互接続された計算ユニット\n",
        "  - 複数の層とノード\n",
        "\n",
        "- **生物学的モデル**\n",
        "  - 人間の脳がモデル\n",
        "  - 計算ユニット = ニューロン"
      ]
    },
    {
      "cell_type": "markdown",
      "metadata": {
        "id": "710bd0e6"
      },
      "source": [
        "# ニューラルネットワークの層構造\n",
        "\n",
        "- **入力層** (Input Layer)\n",
        " - 数値データを受け取る\n",
        " - 表、画像、テキスト、音声など\n",
        "\n",
        "- **隠れ層** (Hidden Layer)\n",
        " - 入力層と出力層を接続\n",
        " - データのパターンを抽出・処理\n",
        "\n",
        "- **出力層** (Output Layer)\n",
        " - 回帰：連続的な数値\n",
        " - 分類：離散的なクラス値"
      ]
    },
    {
      "cell_type": "markdown",
      "metadata": {
        "id": "a21b0198"
      },
      "source": [
        "<img src=\"https://github.com/avakanski/Fall-2024-Applied-Data-Science-with-Python/blob/main/docs/Lectures/Theme_3-Model_Engineering/Lecture_15-ANNs/images/Neuralnetwork.png?raw=1\" width=\"350\">\n",
        "\n",
        "*Figure: Simple ANN with one hidden layer. Figure source: Wikipedia.*"
      ]
    },
    {
      "cell_type": "markdown",
      "metadata": {
        "id": "WOd2FrbpsUps"
      },
      "source": [
        "## ディープニューラルネットワーク\n",
        "\n",
        "- **複数層構造**\n",
        " - 複数の入力層\n",
        " - 複数の隠れ層\n",
        " - 複数の出力層\n",
        "\n",
        "- **DNN (Deep Neural Network)**\n",
        " - 複数の隠れ層を持つANN\n",
        " - 別名：ディープラーニング（DL）\n",
        "\n",
        "- **実際の応用**\n",
        " - 一般的な隠れ層数：10〜100層\n",
        " - 複雑なタスク：数百層"
      ]
    },
    {
      "cell_type": "markdown",
      "metadata": {
        "tags": [],
        "id": "4TuJe4KJsUps"
      },
      "source": [
        "### 15.1.1 Elements of ANNs <a id=\"15.1.1-elements-of-anns\"/>"
      ]
    },
    {
      "cell_type": "markdown",
      "metadata": {
        "id": "e-2nUzISsUps"
      },
      "source": [
        "## ニューラルネットワークの学習と演算\n",
        "\n",
        "- **学習プロセス**\n",
        " - 訓練データセットを使用\n",
        " - 入力特徴量と目標値から学習\n",
        " - ネットワークの接続値を更新\n",
        "\n",
        "- **ニューロンの演算**\n",
        " - 入力: x₁, x₂, ..., xₘ\n",
        " - 重み: w₁, w₂, ..., wₘ\n",
        " - 計算式: v = x₁・w₁ + x₂・w₂ + ... + xₘ・wₘ + b\n",
        " - 出力: y = φ(v)\n",
        "\n",
        "- **ネットワークパラメータ**\n",
        " - 重み（weights）\n",
        " - バイアス（bias）\n",
        "\n",
        "<img src=\"https://github.com/avakanski/Fall-2024-Applied-Data-Science-with-Python/blob/main/docs/Lectures/Theme_3-Model_Engineering/Lecture_15-ANNs/images/neuron.png?raw=1\" width=\"450\">\n",
        "\n",
        "*Figure: Artificial Neuron.*"
      ]
    },
    {
      "cell_type": "markdown",
      "metadata": {
        "id": "a687f494"
      },
      "source": [
        "### 15.1.2 Common Activation Functions <a id=\"15.1.2-common-activation-functions\"/>"
      ]
    },
    {
      "cell_type": "markdown",
      "metadata": {
        "id": "d6dc2881"
      },
      "source": [
        "## 活性化関数（Activation Functions）\n",
        "\n",
        "- **役割**\n",
        " - ニューロン出力の非線形化\n",
        " - 複雑なタスクの学習を可能に\n",
        " - 線形マッピングの防止\n",
        "\n",
        "- **主な活性化関数**\n",
        " - **シグモイド関数（Sigmoid）**\n",
        "   - 出力範囲：0〜1\n",
        "   - 用途：二値分類の出力層\n",
        "   - 別名：ロジスティック関数\n",
        "\n",
        " - **Tanh関数**\n",
        "   - 出力範囲：-1〜1\n",
        "   - 現代のANNでは稀に使用\n",
        "\n",
        " - **ソフトマックス関数**\n",
        "   - シグモイド関数の拡張版\n",
        "   - 用途：多クラス分類の出力層\n",
        "\n",
        " - **ReLU**\n",
        "   - 最も一般的な活性化関数\n",
        "   - 正の入力：そのまま出力\n",
        "   - 負の入力：0に変換\n",
        "   - 用途：隠れ層\n",
        "\n",
        " - **派生関数**\n",
        "   - Leaky ReLU：負の値に小さな傾き\n",
        "   - GeLU、SeLU：ReLUの変種"
      ]
    },
    {
      "cell_type": "markdown",
      "metadata": {
        "id": "GF5bogcC7mUa"
      },
      "source": [
        "### 15.1.3 Training ANNs <a id=\"15.1.3-training-anns\"/>"
      ]
    },
    {
      "cell_type": "markdown",
      "source": [
        "## ニューラルネットワークの学習ステップ\n",
        "\n",
        "- **学習の目的**\n",
        " - パラメータ（重みとバイアス）の反復更新\n",
        " - 予測値と目標値の差を最小化\n",
        "\n",
        "- **学習の4ステップ**\n",
        " 1. **順伝播**（Forward Pass）\n",
        "    - 入力から出力層への伝播\n",
        "\n",
        " 2. **損失計算**（Loss Calculation）\n",
        "    - 予測値と目標値の差を計算\n",
        "\n",
        " 3. **誤差逆伝播**（Backpropagation）\n",
        "    - 出力層から入力層へ誤差を逆伝播\n",
        "\n",
        " 4. **パラメータ更新**（Parameters Update）\n",
        "    - 新しいパラメータ値の計算と更新"
      ],
      "metadata": {
        "id": "ZDDA0Nks4U-G"
      }
    },
    {
      "cell_type": "markdown",
      "source": [
        "## 順伝播（Forward Propagation）\n",
        "\n",
        "- **基本概念**\n",
        " - 入力データが全層を通過\n",
        " - 隠れ層を経て出力層へ\n",
        " - ネットワーク予測値を生成\n",
        "\n",
        "- **画像処理の例**\n",
        " - 入力：画像の画素値\n",
        " - 処理：各層でデータ変換\n",
        " - 出力：クラス確率ベクトル\n",
        "\n",
        "- **特徴**\n",
        " - 入力→出力への一方向の流れ\n",
        " - データの段階的な変換\n",
        " - 予測生成のための計算過程"
      ],
      "metadata": {
        "id": "pdfNFS6v4cfV"
      }
    },
    {
      "cell_type": "markdown",
      "source": [
        "## 損失計算（Loss Calculation）\n",
        "\n",
        "- **基本概念**\n",
        " - ネットワーク出力と目標値の差\n",
        " - 全データセットで計算\n",
        " - 予測精度の評価指標\n",
        "\n",
        "- **分類タスクの損失関数**\n",
        " - クロスエントロピー損失\n",
        " - 計算式：−∑y・log(y^)\n",
        " - y：正解ラベル\n",
        " - y^：ネットワーク予測\n",
        "\n",
        "- **回帰タスクの損失関数**\n",
        " - 平均二乗誤差：∑(y−y^)²\n",
        " - 平均絶対誤差：∑|y−y^|\n",
        " - y：正解値\n",
        " - y^：予測値"
      ],
      "metadata": {
        "id": "wHWX4DMo4kCa"
      }
    },
    {
      "cell_type": "markdown",
      "source": [
        "## 誤差逆伝播（Error Backpropagation）\n",
        "\n",
        "- **呼び名**\n",
        " - バックワードパス\n",
        " - 後方伝播\n",
        " - バックプロパゲーション\n",
        "\n",
        "- **処理の流れ**\n",
        " - 出力層から入力層へ逆方向\n",
        " - 予測値を後方に伝播\n",
        " - パラメータの勾配を計算\n",
        "\n",
        "- **勾配計算**\n",
        " - 勾配：∇L(θ)\n",
        " - 偏微分ベクトル：∇L=[∂L/∂θᵢ]\n",
        " - パラメータ変更の影響を定量化\n",
        "\n",
        "- **実装**\n",
        " - 自動微分機能\n",
        " - 深層学習ライブラリで利用可能\n",
        " - アルゴリズム実装の簡略化"
      ],
      "metadata": {
        "id": "CF1q2Y8r4rj0"
      }
    },
    {
      "cell_type": "markdown",
      "source": [
        "## パラメータ更新（Model Parameters Update）\n",
        "\n",
        "- **概要**\n",
        " - 学習の最終ステップ\n",
        " - 新しいパラメータ値の計算\n",
        " - モデルの重みとバイアスを更新\n",
        "\n",
        "- **最適化アルゴリズム**\n",
        " - 勾配降下法が基本\n",
        " - 現代のANNでは勾配降下法の変種を使用\n",
        " - パラメータの最適値を探索\n",
        "\n",
        "- **特徴**\n",
        " - 反復的な更新プロセス\n",
        " - 損失関数の最小化が目的\n",
        " - 学習率に基づく調整"
      ],
      "metadata": {
        "id": "K16yphaG42V6"
      }
    },
    {
      "cell_type": "markdown",
      "metadata": {
        "id": "PJCris5Cb1_g"
      },
      "source": [
        "<img src=\"https://github.com/avakanski/Fall-2024-Applied-Data-Science-with-Python/blob/main/docs/Lectures/Theme_3-Model_Engineering/Lecture_15-ANNs/images/training_ANN.png?raw=1\" width=\"650\">\n",
        "\n",
        "*Figure: Steps in training ANNs.*"
      ]
    },
    {
      "cell_type": "markdown",
      "source": [
        "## 勾配降下法（Gradient Descent）\n",
        "\n",
        "- **構成要素**\n",
        " - 損失関数L：青い曲線\n",
        " - 勾配 ∇L：関数の傾き\n",
        " - パラメータ θ：最適化対象\n",
        "\n",
        "- **動作原理**\n",
        " - 勾配の逆方向へパラメータを更新\n",
        " - 損失関数の最小値を探索\n",
        " - パラメータの最適値を発見\n",
        "\n",
        "- **目標**\n",
        " - 損失値の最小化\n",
        " - 予測値と正解値の差を縮小\n",
        " - モデルの精度を向上"
      ],
      "metadata": {
        "id": "zjCI9LAX5Acz"
      }
    },
    {
      "cell_type": "markdown",
      "metadata": {
        "id": "Zkylzalo7mUe"
      },
      "source": [
        "\n",
        "<img src=\"https://github.com/avakanski/Fall-2024-Applied-Data-Science-with-Python/blob/main/docs/Lectures/Theme_3-Model_Engineering/Lecture_15-ANNs/images/gradient_descent.png?raw=1\" width=\"850\">\n",
        "\n",
        "*Figure: Steps in training ANNs.*"
      ]
    },
    {
      "cell_type": "markdown",
      "source": [
        "## 最新の学習アルゴリズムと推論\n",
        "\n",
        "- **現代の最適化アルゴリズム**\n",
        " - Adam：最も一般的\n",
        " - SGD：確率的勾配降下法\n",
        " - RMSprop、Adagrad、Nadam\n",
        " - 総称：オプティマイザー（optimizers）\n",
        "\n",
        "- **推論（Inference）**\n",
        " - テストデータでの予測\n",
        " - 順伝播のみ必要\n",
        " - 入力→予測値の生成\n",
        " - 例：クラス確率ベクトル\n",
        "\n",
        "- **学習と推論の違い**\n",
        " - 学習：4ステップの反復\n",
        " - 推論：順伝播のみ\n",
        " - 推論は計算コストが低い"
      ],
      "metadata": {
        "id": "au3y_xoJ5JCZ"
      }
    },
    {
      "cell_type": "markdown",
      "metadata": {
        "id": "df16a232"
      },
      "source": [
        "### 15.1.4 Types of ANN Architectures <a id=\"15.1.4-types-of-ann-architectures\"/>"
      ]
    },
    {
      "cell_type": "markdown",
      "source": [
        "## ニューラルネットワークの主要アーキテクチャ\n",
        "\n",
        "- **全結合ニューラルネットワーク**\n",
        " - Fully-connected Neural Networks (FCNN)\n",
        " - Dense Neural Networks\n",
        " - Multi-layer Perceptrons\n",
        "\n",
        "- **畳み込みニューラルネットワーク**\n",
        " - Convolutional Neural Networks (CNN)\n",
        "\n",
        "- **再帰型ニューラルネットワーク**\n",
        " - Recurrent Neural Networks (RNN)\n",
        "\n",
        "- **トランスフォーマー**\n",
        " - Transformer Neural Networks (TNN)\n",
        "\n",
        "- **グラフニューラルネットワーク**\n",
        " - Graph Neural Networks (GNN)\n",
        "\n"
      ],
      "metadata": {
        "id": "gjbQoeCc5e27"
      }
    },
    {
      "cell_type": "markdown",
      "metadata": {
        "id": "XqAdxSlWWe9m"
      },
      "source": [
        "### 15.1.5 Fully-connected NNs <a id=\"15.1.5-fully-connected-nns\"/>"
      ]
    },
    {
      "cell_type": "markdown",
      "metadata": {
        "id": "WziQjYJWWJcT"
      },
      "source": [
        "## 全結合ニューラルネットワーク\n",
        "\n",
        "- **基本構造**\n",
        " - 各層のニューロンが完全接続\n",
        " - 前後の層と全て結合\n",
        " - 層間の密な接続構造\n",
        "\n",
        "- **呼び名**\n",
        " - Fully-connected Neural Networks\n",
        " - Densely-connected Neural Networks\n",
        " - Multi-Layer Perceptrons (MLPs)\n",
        " - Feed-forward Neural Networks\n",
        " - Linear Neural Networks\n",
        "\n",
        "- **特徴**\n",
        " - 層間の完全な結合\n",
        " - 双方向の情報伝達\n",
        " - シンプルな基本構造\n",
        "\n",
        "<img src=\"https://github.com/avakanski/Fall-2024-Applied-Data-Science-with-Python/blob/main/docs/Lectures/Theme_3-Model_Engineering/Lecture_15-ANNs/images/fully_connected_NN.png?raw=1\" width=\"550\">\n",
        "\n",
        "*Figure: Fully-connected NNs.*"
      ]
    },
    {
      "cell_type": "markdown",
      "metadata": {
        "id": "x5U6n6OisUpv"
      },
      "source": [
        "## 全結合ニューラルネットワークの応用\n",
        "\n",
        "- **主な用途**\n",
        " - 表形式データの処理\n",
        " - シンプルな分類タスク\n",
        " - 基本的な回帰問題\n",
        "\n",
        "- **性能比較**\n",
        " - 画像処理：CNNの方が優れる\n",
        " - テキスト処理：RNN/TNNが優位\n",
        " - その他データ：専用アーキテクチャが有効\n",
        "\n",
        "- **他アーキテクチャでの活用**\n",
        " - CNNの一部として統合\n",
        " - RNNの構成要素として使用\n",
        " - TNNやGNNにも組み込み\n",
        " - 基本的な構成ブロックとして機能"
      ]
    },
    {
      "cell_type": "markdown",
      "metadata": {
        "id": "AAqeb2v2jSWT"
      },
      "source": [
        "## 15.2 Classification with ANNs <a id=\"15.2-classification-with-anns\"/>"
      ]
    },
    {
      "cell_type": "markdown",
      "source": [
        "## 分類タスク（Classification Tasks）\n",
        "\n",
        "- **目的**\n",
        " - データサンプルの分類\n",
        " - カテゴリー（クラス）の予測\n",
        "\n",
        "- **2つの主要タイプ**\n",
        " - Binary Classification（二値分類）\n",
        " - Multi-class Classification（多クラス分類）"
      ],
      "metadata": {
        "id": "XocXmn3I_SEz"
      }
    },
    {
      "cell_type": "markdown",
      "source": [
        "## 二値分類（Binary Classification）\n",
        "\n",
        "- **概要**\n",
        " - 2クラスへの分類\n",
        " - 例：ツイートのポジ/ネガ判定\n",
        "\n",
        "- **ネットワーク構造**\n",
        " - 出力層：1ニューロン\n",
        " - 活性化関数：シグモイド関数\n",
        " - 出力範囲：0〜1\n",
        "\n",
        "- **判定方法**\n",
        " - 閾値：通常0.5\n",
        " - 例：0.7 → ポジティブ\n",
        " - 0.5未満 → ネガティブ\n",
        "\n",
        "- **損失関数**\n",
        " - **バイナリークロスエントロピー**"
      ],
      "metadata": {
        "id": "ZRtb9IW1_Xyy"
      }
    },
    {
      "cell_type": "markdown",
      "source": [
        "## 多クラス分類（Multiclass Classification）\n",
        "\n",
        "- **概要**\n",
        " - 3クラス以上の分類\n",
        " - 例：ツイートのカテゴリー分類\n",
        "   - ニュース、技術、スポーツ、天気\n",
        "\n",
        "- **ネットワーク構造**\n",
        " - 出力層：クラス数と同数のニューロン\n",
        " - 活性化関数：ソフトマックス関数\n",
        " - 出力：確率ベクトル\n",
        "\n",
        "- **判定例**\n",
        " - 出力：[0.2, 0.5, 0.1, 0.2]\n",
        " - 最大値のクラスを選択\n",
        " - 例：0.5 → 技術カテゴリー\n",
        "\n",
        "- **損失関数**\n",
        " - カテゴリカルクロスエントロピー\n",
        "   - one-hot形式の場合\n",
        " - スパースカテゴリカルクロスエントロピー\n",
        "   - 順序エンコーディングの場合"
      ],
      "metadata": {
        "id": "9qiZPjmy_caq"
      }
    },
    {
      "cell_type": "markdown",
      "metadata": {
        "id": "jG7bLsj03uxw"
      },
      "source": [
        "## 分類問題のハイパーパラメータ\n",
        "\n",
        "| ハイパーパラメータ | 二値分類 | 多クラス分類 |\n",
        "|-----------------|---------|------------|\n",
        "| **入力層のニューロン数** | 特徴量の数 | 特徴量の数 |\n",
        "| **隠れ層数** | 問題依存（通常1-10） | 問題依存（通常1-10） |\n",
        "| **隠れ層のニューロン数** | 問題依存（通常10-100） | 問題依存（通常10-100） |\n",
        "| **出力層のニューロン数** | 1 | クラス数と同じ |\n",
        "| **隠れ層の活性化関数** | 主にReLU | 主にReLU |\n",
        "| **出力層の活性化関数** | sigmoid | softmax |\n",
        "| **損失関数** | binary crossentropy | categorical crossentropy |\n",
        "| **オプティマイザー** | Adam, SGD, RMSProp | Adam, SGD, RMSProp |"
      ]
    },
    {
      "cell_type": "markdown",
      "source": [
        "## ハイパーパラメータの最適化\n",
        "\n",
        "- **課題**\n",
        " - 多数のハイパーパラメータが存在\n",
        " - 最適値の選択が困難\n",
        " - 問題依存の設定が必要\n",
        "\n",
        "- **次回以降の内容**\n",
        " - ハイパーパラメータの調整手法\n",
        " - ベストプラクティス\n",
        " - 最適化のテクニック"
      ],
      "metadata": {
        "id": "0LKvV6em_3We"
      }
    },
    {
      "cell_type": "markdown",
      "metadata": {
        "id": "9pEQ8VbkIRsO"
      },
      "source": [
        "### 15.2.1  二値分類（Binary Classification）  <a id=\"15.2.1-binary-classification\"/>"
      ]
    },
    {
      "cell_type": "markdown",
      "metadata": {
        "id": "5bcce621"
      },
      "source": [
        "## 二値分類の実装例：乳がんデータセット\n",
        "\n",
        "- **データセット概要**\n",
        " - 乳がんの診断データ\n",
        " - サンプル数：569\n",
        " - 特徴量：30\n",
        " - クラス：\n",
        "   - 良性（Benign）\n",
        "   - 悪性（Malignant）\n",
        "\n",
        "- **タスクの種類**\n",
        " - 二値分類問題\n",
        " - 医療診断の自動化\n",
        " - 特徴量からの診断予測"
      ]
    },
    {
      "cell_type": "code",
      "execution_count": null,
      "metadata": {
        "tags": [],
        "id": "aDc4QXZysUpw"
      },
      "outputs": [],
      "source": [
        "# Import libraries\n",
        "import numpy as np\n",
        "import pandas as pd\n",
        "import sklearn\n",
        "import seaborn as sns\n",
        "import matplotlib.pyplot as plt\n",
        "from sklearn.model_selection import train_test_split"
      ]
    },
    {
      "cell_type": "markdown",
      "metadata": {
        "id": "637e0e99"
      },
      "source": [
        "### データセットの読み込み\n",
        "\n",
        "- **使用ツール**\n",
        " - scikit-learn datasets\n",
        " - pandas DataFrame\n",
        "\n",
        "- **データ構造**\n",
        " - 特徴量列：30個\n",
        " - 目標値：最右列\n",
        " - 形式：DataFrame\n",
        "\n",
        "- **処理内容**\n",
        " - scikit-learnからデータロード\n",
        " - DataFrameに変換\n",
        " - 特徴量と目標値の結合."
      ]
    },
    {
      "cell_type": "code",
      "execution_count": null,
      "metadata": {
        "tags": [],
        "id": "uLLVSpSSsUpz"
      },
      "outputs": [],
      "source": [
        "# Load the dataset\n",
        "from sklearn.datasets import load_breast_cancer\n",
        "\n",
        "bc = load_breast_cancer()\n",
        "df = pd.DataFrame(data=bc.data, columns=bc.feature_names)\n",
        "df[\"target\"] = bc.target"
      ]
    },
    {
      "cell_type": "code",
      "execution_count": null,
      "metadata": {
        "tags": [],
        "id": "brCYs1q1sUp0",
        "outputId": "5ba7e32f-bc27-4220-a3ff-66de735123d8",
        "colab": {
          "base_uri": "https://localhost:8080/"
        }
      },
      "outputs": [
        {
          "output_type": "execute_result",
          "data": {
            "text/plain": [
              "(569, 31)"
            ]
          },
          "metadata": {},
          "execution_count": 60
        }
      ],
      "source": [
        "# Check the shape of the dataset\n",
        "df.shape"
      ]
    },
    {
      "cell_type": "code",
      "execution_count": null,
      "metadata": {
        "tags": [],
        "id": "BqEyGuZ0sUp0",
        "outputId": "41b1a5ad-79ac-441f-bb67-2486699b49f5",
        "colab": {
          "base_uri": "https://localhost:8080/",
          "height": 290
        }
      },
      "outputs": [
        {
          "output_type": "execute_result",
          "data": {
            "text/plain": [
              "   mean radius  mean texture  mean perimeter  mean area  mean smoothness  \\\n",
              "0        17.99         10.38          122.80     1001.0          0.11840   \n",
              "1        20.57         17.77          132.90     1326.0          0.08474   \n",
              "2        19.69         21.25          130.00     1203.0          0.10960   \n",
              "3        11.42         20.38           77.58      386.1          0.14250   \n",
              "4        20.29         14.34          135.10     1297.0          0.10030   \n",
              "\n",
              "   mean compactness  mean concavity  mean concave points  mean symmetry  \\\n",
              "0           0.27760          0.3001              0.14710         0.2419   \n",
              "1           0.07864          0.0869              0.07017         0.1812   \n",
              "2           0.15990          0.1974              0.12790         0.2069   \n",
              "3           0.28390          0.2414              0.10520         0.2597   \n",
              "4           0.13280          0.1980              0.10430         0.1809   \n",
              "\n",
              "   mean fractal dimension  ...  worst texture  worst perimeter  worst area  \\\n",
              "0                 0.07871  ...          17.33           184.60      2019.0   \n",
              "1                 0.05667  ...          23.41           158.80      1956.0   \n",
              "2                 0.05999  ...          25.53           152.50      1709.0   \n",
              "3                 0.09744  ...          26.50            98.87       567.7   \n",
              "4                 0.05883  ...          16.67           152.20      1575.0   \n",
              "\n",
              "   worst smoothness  worst compactness  worst concavity  worst concave points  \\\n",
              "0            0.1622             0.6656           0.7119                0.2654   \n",
              "1            0.1238             0.1866           0.2416                0.1860   \n",
              "2            0.1444             0.4245           0.4504                0.2430   \n",
              "3            0.2098             0.8663           0.6869                0.2575   \n",
              "4            0.1374             0.2050           0.4000                0.1625   \n",
              "\n",
              "   worst symmetry  worst fractal dimension  target  \n",
              "0          0.4601                  0.11890       0  \n",
              "1          0.2750                  0.08902       0  \n",
              "2          0.3613                  0.08758       0  \n",
              "3          0.6638                  0.17300       0  \n",
              "4          0.2364                  0.07678       0  \n",
              "\n",
              "[5 rows x 31 columns]"
            ],
            "text/html": [
              "\n",
              "  <div id=\"df-18379f3d-3afd-4888-8d4e-09aecdc6e4f5\" class=\"colab-df-container\">\n",
              "    <div>\n",
              "<style scoped>\n",
              "    .dataframe tbody tr th:only-of-type {\n",
              "        vertical-align: middle;\n",
              "    }\n",
              "\n",
              "    .dataframe tbody tr th {\n",
              "        vertical-align: top;\n",
              "    }\n",
              "\n",
              "    .dataframe thead th {\n",
              "        text-align: right;\n",
              "    }\n",
              "</style>\n",
              "<table border=\"1\" class=\"dataframe\">\n",
              "  <thead>\n",
              "    <tr style=\"text-align: right;\">\n",
              "      <th></th>\n",
              "      <th>mean radius</th>\n",
              "      <th>mean texture</th>\n",
              "      <th>mean perimeter</th>\n",
              "      <th>mean area</th>\n",
              "      <th>mean smoothness</th>\n",
              "      <th>mean compactness</th>\n",
              "      <th>mean concavity</th>\n",
              "      <th>mean concave points</th>\n",
              "      <th>mean symmetry</th>\n",
              "      <th>mean fractal dimension</th>\n",
              "      <th>...</th>\n",
              "      <th>worst texture</th>\n",
              "      <th>worst perimeter</th>\n",
              "      <th>worst area</th>\n",
              "      <th>worst smoothness</th>\n",
              "      <th>worst compactness</th>\n",
              "      <th>worst concavity</th>\n",
              "      <th>worst concave points</th>\n",
              "      <th>worst symmetry</th>\n",
              "      <th>worst fractal dimension</th>\n",
              "      <th>target</th>\n",
              "    </tr>\n",
              "  </thead>\n",
              "  <tbody>\n",
              "    <tr>\n",
              "      <th>0</th>\n",
              "      <td>17.99</td>\n",
              "      <td>10.38</td>\n",
              "      <td>122.80</td>\n",
              "      <td>1001.0</td>\n",
              "      <td>0.11840</td>\n",
              "      <td>0.27760</td>\n",
              "      <td>0.3001</td>\n",
              "      <td>0.14710</td>\n",
              "      <td>0.2419</td>\n",
              "      <td>0.07871</td>\n",
              "      <td>...</td>\n",
              "      <td>17.33</td>\n",
              "      <td>184.60</td>\n",
              "      <td>2019.0</td>\n",
              "      <td>0.1622</td>\n",
              "      <td>0.6656</td>\n",
              "      <td>0.7119</td>\n",
              "      <td>0.2654</td>\n",
              "      <td>0.4601</td>\n",
              "      <td>0.11890</td>\n",
              "      <td>0</td>\n",
              "    </tr>\n",
              "    <tr>\n",
              "      <th>1</th>\n",
              "      <td>20.57</td>\n",
              "      <td>17.77</td>\n",
              "      <td>132.90</td>\n",
              "      <td>1326.0</td>\n",
              "      <td>0.08474</td>\n",
              "      <td>0.07864</td>\n",
              "      <td>0.0869</td>\n",
              "      <td>0.07017</td>\n",
              "      <td>0.1812</td>\n",
              "      <td>0.05667</td>\n",
              "      <td>...</td>\n",
              "      <td>23.41</td>\n",
              "      <td>158.80</td>\n",
              "      <td>1956.0</td>\n",
              "      <td>0.1238</td>\n",
              "      <td>0.1866</td>\n",
              "      <td>0.2416</td>\n",
              "      <td>0.1860</td>\n",
              "      <td>0.2750</td>\n",
              "      <td>0.08902</td>\n",
              "      <td>0</td>\n",
              "    </tr>\n",
              "    <tr>\n",
              "      <th>2</th>\n",
              "      <td>19.69</td>\n",
              "      <td>21.25</td>\n",
              "      <td>130.00</td>\n",
              "      <td>1203.0</td>\n",
              "      <td>0.10960</td>\n",
              "      <td>0.15990</td>\n",
              "      <td>0.1974</td>\n",
              "      <td>0.12790</td>\n",
              "      <td>0.2069</td>\n",
              "      <td>0.05999</td>\n",
              "      <td>...</td>\n",
              "      <td>25.53</td>\n",
              "      <td>152.50</td>\n",
              "      <td>1709.0</td>\n",
              "      <td>0.1444</td>\n",
              "      <td>0.4245</td>\n",
              "      <td>0.4504</td>\n",
              "      <td>0.2430</td>\n",
              "      <td>0.3613</td>\n",
              "      <td>0.08758</td>\n",
              "      <td>0</td>\n",
              "    </tr>\n",
              "    <tr>\n",
              "      <th>3</th>\n",
              "      <td>11.42</td>\n",
              "      <td>20.38</td>\n",
              "      <td>77.58</td>\n",
              "      <td>386.1</td>\n",
              "      <td>0.14250</td>\n",
              "      <td>0.28390</td>\n",
              "      <td>0.2414</td>\n",
              "      <td>0.10520</td>\n",
              "      <td>0.2597</td>\n",
              "      <td>0.09744</td>\n",
              "      <td>...</td>\n",
              "      <td>26.50</td>\n",
              "      <td>98.87</td>\n",
              "      <td>567.7</td>\n",
              "      <td>0.2098</td>\n",
              "      <td>0.8663</td>\n",
              "      <td>0.6869</td>\n",
              "      <td>0.2575</td>\n",
              "      <td>0.6638</td>\n",
              "      <td>0.17300</td>\n",
              "      <td>0</td>\n",
              "    </tr>\n",
              "    <tr>\n",
              "      <th>4</th>\n",
              "      <td>20.29</td>\n",
              "      <td>14.34</td>\n",
              "      <td>135.10</td>\n",
              "      <td>1297.0</td>\n",
              "      <td>0.10030</td>\n",
              "      <td>0.13280</td>\n",
              "      <td>0.1980</td>\n",
              "      <td>0.10430</td>\n",
              "      <td>0.1809</td>\n",
              "      <td>0.05883</td>\n",
              "      <td>...</td>\n",
              "      <td>16.67</td>\n",
              "      <td>152.20</td>\n",
              "      <td>1575.0</td>\n",
              "      <td>0.1374</td>\n",
              "      <td>0.2050</td>\n",
              "      <td>0.4000</td>\n",
              "      <td>0.1625</td>\n",
              "      <td>0.2364</td>\n",
              "      <td>0.07678</td>\n",
              "      <td>0</td>\n",
              "    </tr>\n",
              "  </tbody>\n",
              "</table>\n",
              "<p>5 rows × 31 columns</p>\n",
              "</div>\n",
              "    <div class=\"colab-df-buttons\">\n",
              "\n",
              "  <div class=\"colab-df-container\">\n",
              "    <button class=\"colab-df-convert\" onclick=\"convertToInteractive('df-18379f3d-3afd-4888-8d4e-09aecdc6e4f5')\"\n",
              "            title=\"Convert this dataframe to an interactive table.\"\n",
              "            style=\"display:none;\">\n",
              "\n",
              "  <svg xmlns=\"http://www.w3.org/2000/svg\" height=\"24px\" viewBox=\"0 -960 960 960\">\n",
              "    <path d=\"M120-120v-720h720v720H120Zm60-500h600v-160H180v160Zm220 220h160v-160H400v160Zm0 220h160v-160H400v160ZM180-400h160v-160H180v160Zm440 0h160v-160H620v160ZM180-180h160v-160H180v160Zm440 0h160v-160H620v160Z\"/>\n",
              "  </svg>\n",
              "    </button>\n",
              "\n",
              "  <style>\n",
              "    .colab-df-container {\n",
              "      display:flex;\n",
              "      gap: 12px;\n",
              "    }\n",
              "\n",
              "    .colab-df-convert {\n",
              "      background-color: #E8F0FE;\n",
              "      border: none;\n",
              "      border-radius: 50%;\n",
              "      cursor: pointer;\n",
              "      display: none;\n",
              "      fill: #1967D2;\n",
              "      height: 32px;\n",
              "      padding: 0 0 0 0;\n",
              "      width: 32px;\n",
              "    }\n",
              "\n",
              "    .colab-df-convert:hover {\n",
              "      background-color: #E2EBFA;\n",
              "      box-shadow: 0px 1px 2px rgba(60, 64, 67, 0.3), 0px 1px 3px 1px rgba(60, 64, 67, 0.15);\n",
              "      fill: #174EA6;\n",
              "    }\n",
              "\n",
              "    .colab-df-buttons div {\n",
              "      margin-bottom: 4px;\n",
              "    }\n",
              "\n",
              "    [theme=dark] .colab-df-convert {\n",
              "      background-color: #3B4455;\n",
              "      fill: #D2E3FC;\n",
              "    }\n",
              "\n",
              "    [theme=dark] .colab-df-convert:hover {\n",
              "      background-color: #434B5C;\n",
              "      box-shadow: 0px 1px 3px 1px rgba(0, 0, 0, 0.15);\n",
              "      filter: drop-shadow(0px 1px 2px rgba(0, 0, 0, 0.3));\n",
              "      fill: #FFFFFF;\n",
              "    }\n",
              "  </style>\n",
              "\n",
              "    <script>\n",
              "      const buttonEl =\n",
              "        document.querySelector('#df-18379f3d-3afd-4888-8d4e-09aecdc6e4f5 button.colab-df-convert');\n",
              "      buttonEl.style.display =\n",
              "        google.colab.kernel.accessAllowed ? 'block' : 'none';\n",
              "\n",
              "      async function convertToInteractive(key) {\n",
              "        const element = document.querySelector('#df-18379f3d-3afd-4888-8d4e-09aecdc6e4f5');\n",
              "        const dataTable =\n",
              "          await google.colab.kernel.invokeFunction('convertToInteractive',\n",
              "                                                    [key], {});\n",
              "        if (!dataTable) return;\n",
              "\n",
              "        const docLinkHtml = 'Like what you see? Visit the ' +\n",
              "          '<a target=\"_blank\" href=https://colab.research.google.com/notebooks/data_table.ipynb>data table notebook</a>'\n",
              "          + ' to learn more about interactive tables.';\n",
              "        element.innerHTML = '';\n",
              "        dataTable['output_type'] = 'display_data';\n",
              "        await google.colab.output.renderOutput(dataTable, element);\n",
              "        const docLink = document.createElement('div');\n",
              "        docLink.innerHTML = docLinkHtml;\n",
              "        element.appendChild(docLink);\n",
              "      }\n",
              "    </script>\n",
              "  </div>\n",
              "\n",
              "\n",
              "<div id=\"df-50da22a7-4e36-4323-a019-ea6c779ecdbd\">\n",
              "  <button class=\"colab-df-quickchart\" onclick=\"quickchart('df-50da22a7-4e36-4323-a019-ea6c779ecdbd')\"\n",
              "            title=\"Suggest charts\"\n",
              "            style=\"display:none;\">\n",
              "\n",
              "<svg xmlns=\"http://www.w3.org/2000/svg\" height=\"24px\"viewBox=\"0 0 24 24\"\n",
              "     width=\"24px\">\n",
              "    <g>\n",
              "        <path d=\"M19 3H5c-1.1 0-2 .9-2 2v14c0 1.1.9 2 2 2h14c1.1 0 2-.9 2-2V5c0-1.1-.9-2-2-2zM9 17H7v-7h2v7zm4 0h-2V7h2v10zm4 0h-2v-4h2v4z\"/>\n",
              "    </g>\n",
              "</svg>\n",
              "  </button>\n",
              "\n",
              "<style>\n",
              "  .colab-df-quickchart {\n",
              "      --bg-color: #E8F0FE;\n",
              "      --fill-color: #1967D2;\n",
              "      --hover-bg-color: #E2EBFA;\n",
              "      --hover-fill-color: #174EA6;\n",
              "      --disabled-fill-color: #AAA;\n",
              "      --disabled-bg-color: #DDD;\n",
              "  }\n",
              "\n",
              "  [theme=dark] .colab-df-quickchart {\n",
              "      --bg-color: #3B4455;\n",
              "      --fill-color: #D2E3FC;\n",
              "      --hover-bg-color: #434B5C;\n",
              "      --hover-fill-color: #FFFFFF;\n",
              "      --disabled-bg-color: #3B4455;\n",
              "      --disabled-fill-color: #666;\n",
              "  }\n",
              "\n",
              "  .colab-df-quickchart {\n",
              "    background-color: var(--bg-color);\n",
              "    border: none;\n",
              "    border-radius: 50%;\n",
              "    cursor: pointer;\n",
              "    display: none;\n",
              "    fill: var(--fill-color);\n",
              "    height: 32px;\n",
              "    padding: 0;\n",
              "    width: 32px;\n",
              "  }\n",
              "\n",
              "  .colab-df-quickchart:hover {\n",
              "    background-color: var(--hover-bg-color);\n",
              "    box-shadow: 0 1px 2px rgba(60, 64, 67, 0.3), 0 1px 3px 1px rgba(60, 64, 67, 0.15);\n",
              "    fill: var(--button-hover-fill-color);\n",
              "  }\n",
              "\n",
              "  .colab-df-quickchart-complete:disabled,\n",
              "  .colab-df-quickchart-complete:disabled:hover {\n",
              "    background-color: var(--disabled-bg-color);\n",
              "    fill: var(--disabled-fill-color);\n",
              "    box-shadow: none;\n",
              "  }\n",
              "\n",
              "  .colab-df-spinner {\n",
              "    border: 2px solid var(--fill-color);\n",
              "    border-color: transparent;\n",
              "    border-bottom-color: var(--fill-color);\n",
              "    animation:\n",
              "      spin 1s steps(1) infinite;\n",
              "  }\n",
              "\n",
              "  @keyframes spin {\n",
              "    0% {\n",
              "      border-color: transparent;\n",
              "      border-bottom-color: var(--fill-color);\n",
              "      border-left-color: var(--fill-color);\n",
              "    }\n",
              "    20% {\n",
              "      border-color: transparent;\n",
              "      border-left-color: var(--fill-color);\n",
              "      border-top-color: var(--fill-color);\n",
              "    }\n",
              "    30% {\n",
              "      border-color: transparent;\n",
              "      border-left-color: var(--fill-color);\n",
              "      border-top-color: var(--fill-color);\n",
              "      border-right-color: var(--fill-color);\n",
              "    }\n",
              "    40% {\n",
              "      border-color: transparent;\n",
              "      border-right-color: var(--fill-color);\n",
              "      border-top-color: var(--fill-color);\n",
              "    }\n",
              "    60% {\n",
              "      border-color: transparent;\n",
              "      border-right-color: var(--fill-color);\n",
              "    }\n",
              "    80% {\n",
              "      border-color: transparent;\n",
              "      border-right-color: var(--fill-color);\n",
              "      border-bottom-color: var(--fill-color);\n",
              "    }\n",
              "    90% {\n",
              "      border-color: transparent;\n",
              "      border-bottom-color: var(--fill-color);\n",
              "    }\n",
              "  }\n",
              "</style>\n",
              "\n",
              "  <script>\n",
              "    async function quickchart(key) {\n",
              "      const quickchartButtonEl =\n",
              "        document.querySelector('#' + key + ' button');\n",
              "      quickchartButtonEl.disabled = true;  // To prevent multiple clicks.\n",
              "      quickchartButtonEl.classList.add('colab-df-spinner');\n",
              "      try {\n",
              "        const charts = await google.colab.kernel.invokeFunction(\n",
              "            'suggestCharts', [key], {});\n",
              "      } catch (error) {\n",
              "        console.error('Error during call to suggestCharts:', error);\n",
              "      }\n",
              "      quickchartButtonEl.classList.remove('colab-df-spinner');\n",
              "      quickchartButtonEl.classList.add('colab-df-quickchart-complete');\n",
              "    }\n",
              "    (() => {\n",
              "      let quickchartButtonEl =\n",
              "        document.querySelector('#df-50da22a7-4e36-4323-a019-ea6c779ecdbd button');\n",
              "      quickchartButtonEl.style.display =\n",
              "        google.colab.kernel.accessAllowed ? 'block' : 'none';\n",
              "    })();\n",
              "  </script>\n",
              "</div>\n",
              "\n",
              "    </div>\n",
              "  </div>\n"
            ],
            "application/vnd.google.colaboratory.intrinsic+json": {
              "type": "dataframe",
              "variable_name": "df"
            }
          },
          "metadata": {},
          "execution_count": 61
        }
      ],
      "source": [
        "# Show the first few rows\n",
        "df.head()"
      ]
    },
    {
      "cell_type": "markdown",
      "metadata": {
        "id": "XhoI6kwasUp1"
      },
      "source": [
        "## データの前処理\n",
        "\n",
        "- **データの分割**\n",
        " - 特徴量Xの抽出\n",
        " - 目標値yの抽出\n",
        " - 学習データとテストデータに分割\n",
        "\n",
        "- **分割方法**\n",
        " - train_test_split関数を使用\n",
        " - トレーニングセット\n",
        " - テストセット\n",
        "\n",
        "- **目的**\n",
        " - モデル学習用のデータ準備\n",
        " - 性能評価用のデータ確保"
      ]
    },
    {
      "cell_type": "code",
      "execution_count": null,
      "metadata": {
        "id": "84be13ea",
        "tags": []
      },
      "outputs": [],
      "source": [
        "# Extract the data and the labels\n",
        "X = df.drop('target', axis=1)\n",
        "y = df['target']"
      ]
    },
    {
      "cell_type": "code",
      "execution_count": null,
      "metadata": {
        "id": "7680f98f",
        "tags": []
      },
      "outputs": [],
      "source": [
        "from sklearn.model_selection import train_test_split\n",
        "\n",
        "train_data, test_data, train_labels, test_labels = train_test_split(X, y, test_size=0.2, random_state=42, stratify=y)"
      ]
    },
    {
      "cell_type": "code",
      "execution_count": null,
      "metadata": {
        "colab": {
          "base_uri": "https://localhost:8080/"
        },
        "id": "e291944b",
        "outputId": "aa7e12e2-f8ea-4bdc-8806-f149b98a5af0",
        "tags": []
      },
      "outputs": [
        {
          "output_type": "stream",
          "name": "stdout",
          "text": [
            "Training data inputs (455, 30)\n",
            "Training labels (455,)\n",
            "Testing data inputs (114, 30)\n",
            "Testing labels (114,)\n"
          ]
        }
      ],
      "source": [
        "print('Training data inputs', train_data.shape)\n",
        "print('Training labels', train_labels.shape)\n",
        "print('Testing data inputs', test_data.shape)\n",
        "print('Testing labels', test_labels.shape)"
      ]
    },
    {
      "cell_type": "markdown",
      "metadata": {
        "id": "oWg6eykR6QOD"
      },
      "source": [
        "## データの表示と確認\n",
        "\n",
        "- **データ形状の確認**\n",
        "  - 訓練データ入力：train_data.shape\n",
        "  - 訓練ラベル：train_labels.shape\n",
        "  - テストデータ入力：test_data.shape\n",
        "  - テストラベル：test_labels.shape\n",
        "\n",
        "- **データのスケーリング**\n",
        "  - MinMaxScalerを使用\n",
        "  - 0〜1の範囲に正規化\n",
        "  - テストデータには変換のみ適用 `transform`"
      ]
    },
    {
      "cell_type": "code",
      "execution_count": null,
      "metadata": {
        "id": "301cebe5",
        "tags": []
      },
      "outputs": [],
      "source": [
        "# Scaling the features to be between 0 and 1.\n",
        "from sklearn.preprocessing import MinMaxScaler\n",
        "\n",
        "scaler = MinMaxScaler()\n",
        "\n",
        "train_data = scaler.fit_transform(train_data)\n",
        "test_data = scaler.transform(test_data)"
      ]
    },
    {
      "cell_type": "markdown",
      "metadata": {
        "id": "giLJg2i4GkCU"
      },
      "source": [
        "## ニューラルネットワークの作成\n",
        "\n",
        "- **使用ライブラリ**\n",
        "  - TensorFlow-Kerasを使用\n",
        "  - Kerasはテンソルフローの一部\n",
        "  - バージョン確認：TensorFlow format\n"
      ]
    },
    {
      "cell_type": "code",
      "execution_count": null,
      "metadata": {
        "tags": [],
        "id": "c0E0WGfesUp3",
        "outputId": "b35b7c5e-cecb-4dd7-8fd4-91473e8d0408",
        "colab": {
          "base_uri": "https://localhost:8080/"
        }
      },
      "outputs": [
        {
          "output_type": "stream",
          "name": "stdout",
          "text": [
            "TensorFlow version:2.17.1\n"
          ]
        }
      ],
      "source": [
        "import tensorflow as tf\n",
        "from tensorflow import keras\n",
        "\n",
        "# Print the version of tensorflow\n",
        "print(\"TensorFlow version:{}\".format(tf.__version__))"
      ]
    },
    {
      "cell_type": "markdown",
      "metadata": {
        "id": "y5qKZEr-sUp3"
      },
      "source": [
        "- **ネットワーク構造の定義**\n",
        "  - レイヤーとモデルの構造体を使用\n",
        "  - Input層とDense層を使用\n",
        "  - Modelクラスで新規ANN作成\n",
        "\n",
        "- **必要なインポート**\n",
        "  - Input：入力層用\n",
        "  - Dense：全結合層用\n",
        "  - Model：ANNモデル作成用"
      ]
    },
    {
      "cell_type": "code",
      "execution_count": null,
      "metadata": {
        "id": "e_YS-JqfkyiK",
        "tags": []
      },
      "outputs": [],
      "source": [
        "# Import the layers and the model\n",
        "from keras.layers import Input\n",
        "from keras.layers import Dense\n",
        "from keras.models import Model"
      ]
    },
    {
      "cell_type": "markdown",
      "metadata": {
        "id": "Sg6GNVfMsUp3"
      },
      "source": [
        "## 入力層の要件\n",
        "\n",
        "- **入力層の設定**\n",
        " - TensorFlow-Kerasでは入力層が必要\n",
        " - タプル形式でデータ形状を指定\n",
        " - 乳がんデータ：30特徴量\n",
        " - 入力形状：(30,)\n",
        "\n",
        "- **サンプル数について**\n",
        " - 学習時のサンプル数指定は不要\n",
        " - テスト用サンプル数も不要\n",
        "\n",
        "### 隠れ層の構築\n",
        "\n",
        "- **Dense層の特徴**\n",
        " - 全結合層として機能\n",
        " - dense1：30ニューロン\n",
        " - dense2：15ニューロン\n",
        "\n",
        "- **層の設定**\n",
        " - activation引数で活性化関数を指定\n",
        " - ReLU関数を使用（一般的）\n",
        " - 各層は前の層と接続\n",
        "   - dense1 → inputs\n",
        "   - dense2 → dense1\n",
        "\n",
        "### 出力層の設定\n",
        "\n",
        "- **構造**\n",
        " - Dense層として実装\n",
        " - 1ニューロン（二値分類用）\n",
        " - シグモイド活性化関数\n",
        " - dense2層に接続\n"
      ]
    },
    {
      "cell_type": "code",
      "execution_count": null,
      "metadata": {
        "id": "gjqyblPbHmmc",
        "tags": []
      },
      "outputs": [],
      "source": [
        "# Define the layers in the network\n",
        "inputs = Input(shape=(30,))\n",
        "dense1 = Dense(units=30, activation='relu')(inputs)\n",
        "dense2 = Dense(units=15, activation='relu')(dense1)\n",
        "outputs = Dense(units=1, activation='sigmoid')(dense2)"
      ]
    },
    {
      "cell_type": "markdown",
      "metadata": {
        "id": "0AI9GZ0-sUp3"
      },
      "source": [
        "## モデルのインスタンス化\n",
        "\n",
        "- **モデル作成**\n",
        " - Modelクラスのインスタンスを生成\n",
        " - インスタンス名：model_1\n",
        "\n",
        "- **引数設定**\n",
        " - 入力層（inputs）を指定\n",
        " - 出力層（outputs）を指定\n",
        " - 層の接続を定義"
      ]
    },
    {
      "cell_type": "code",
      "execution_count": null,
      "metadata": {
        "tags": [],
        "id": "PwKnaLkisUp3"
      },
      "outputs": [],
      "source": [
        "# Define the model by providing the inputs and outputs\n",
        "model_1 = Model(inputs, outputs)"
      ]
    },
    {
      "cell_type": "markdown",
      "metadata": {
        "id": "2nL-Znyr1WKt"
      },
      "source": [
        "## モデル構造の確認\n",
        "\n",
        "- **summary()メソッド**\n",
        " - ネットワークの全層を表示\n",
        " - テンソル形状を確認\n",
        " - 各層のパラメータ数を表示\n",
        "\n",
        "- **入力データの仕様**\n",
        " - 形状：(None, 30)\n",
        " - Noneはバッチサイズ（可変）\n",
        " - 30は特徴量の数\n",
        "\n",
        "- **出力の仕様**\n",
        " - 形状：(None, 1)\n",
        " - サンプルごとに1つの値を出力\n",
        "\n",
        "- **パラメータの詳細**\n",
        " - 総パラメータ数：1,411\n",
        " - 内訳：\n",
        "   - 第一隠れ層：930\n",
        "   - 第二隠れ層：465\n",
        "   - 出力層：16\n",
        " - 目標：誤分類を最小化する最適値を探索"
      ]
    },
    {
      "cell_type": "code",
      "execution_count": null,
      "metadata": {
        "tags": [],
        "id": "txdPxG7vsUp3",
        "outputId": "d90dfb3b-7495-4a75-de70-da3df802b28e",
        "colab": {
          "base_uri": "https://localhost:8080/",
          "height": 257
        }
      },
      "outputs": [
        {
          "output_type": "display_data",
          "data": {
            "text/plain": [
              "\u001b[1mModel: \"functional_4\"\u001b[0m\n"
            ],
            "text/html": [
              "<pre style=\"white-space:pre;overflow-x:auto;line-height:normal;font-family:Menlo,'DejaVu Sans Mono',consolas,'Courier New',monospace\"><span style=\"font-weight: bold\">Model: \"functional_4\"</span>\n",
              "</pre>\n"
            ]
          },
          "metadata": {}
        },
        {
          "output_type": "display_data",
          "data": {
            "text/plain": [
              "┏━━━━━━━━━━━━━━━━━━━━━━━━━━━━━━━━━━━━━━┳━━━━━━━━━━━━━━━━━━━━━━━━━━━━━┳━━━━━━━━━━━━━━━━━┓\n",
              "┃\u001b[1m \u001b[0m\u001b[1mLayer (type)                        \u001b[0m\u001b[1m \u001b[0m┃\u001b[1m \u001b[0m\u001b[1mOutput Shape               \u001b[0m\u001b[1m \u001b[0m┃\u001b[1m \u001b[0m\u001b[1m        Param #\u001b[0m\u001b[1m \u001b[0m┃\n",
              "┡━━━━━━━━━━━━━━━━━━━━━━━━━━━━━━━━━━━━━━╇━━━━━━━━━━━━━━━━━━━━━━━━━━━━━╇━━━━━━━━━━━━━━━━━┩\n",
              "│ input_layer_2 (\u001b[38;5;33mInputLayer\u001b[0m)           │ (\u001b[38;5;45mNone\u001b[0m, \u001b[38;5;34m30\u001b[0m)                  │               \u001b[38;5;34m0\u001b[0m │\n",
              "├──────────────────────────────────────┼─────────────────────────────┼─────────────────┤\n",
              "│ dense_6 (\u001b[38;5;33mDense\u001b[0m)                      │ (\u001b[38;5;45mNone\u001b[0m, \u001b[38;5;34m30\u001b[0m)                  │             \u001b[38;5;34m930\u001b[0m │\n",
              "├──────────────────────────────────────┼─────────────────────────────┼─────────────────┤\n",
              "│ dense_7 (\u001b[38;5;33mDense\u001b[0m)                      │ (\u001b[38;5;45mNone\u001b[0m, \u001b[38;5;34m15\u001b[0m)                  │             \u001b[38;5;34m465\u001b[0m │\n",
              "├──────────────────────────────────────┼─────────────────────────────┼─────────────────┤\n",
              "│ dense_8 (\u001b[38;5;33mDense\u001b[0m)                      │ (\u001b[38;5;45mNone\u001b[0m, \u001b[38;5;34m1\u001b[0m)                   │              \u001b[38;5;34m16\u001b[0m │\n",
              "└──────────────────────────────────────┴─────────────────────────────┴─────────────────┘\n"
            ],
            "text/html": [
              "<pre style=\"white-space:pre;overflow-x:auto;line-height:normal;font-family:Menlo,'DejaVu Sans Mono',consolas,'Courier New',monospace\">┏━━━━━━━━━━━━━━━━━━━━━━━━━━━━━━━━━━━━━━┳━━━━━━━━━━━━━━━━━━━━━━━━━━━━━┳━━━━━━━━━━━━━━━━━┓\n",
              "┃<span style=\"font-weight: bold\"> Layer (type)                         </span>┃<span style=\"font-weight: bold\"> Output Shape                </span>┃<span style=\"font-weight: bold\">         Param # </span>┃\n",
              "┡━━━━━━━━━━━━━━━━━━━━━━━━━━━━━━━━━━━━━━╇━━━━━━━━━━━━━━━━━━━━━━━━━━━━━╇━━━━━━━━━━━━━━━━━┩\n",
              "│ input_layer_2 (<span style=\"color: #0087ff; text-decoration-color: #0087ff\">InputLayer</span>)           │ (<span style=\"color: #00d7ff; text-decoration-color: #00d7ff\">None</span>, <span style=\"color: #00af00; text-decoration-color: #00af00\">30</span>)                  │               <span style=\"color: #00af00; text-decoration-color: #00af00\">0</span> │\n",
              "├──────────────────────────────────────┼─────────────────────────────┼─────────────────┤\n",
              "│ dense_6 (<span style=\"color: #0087ff; text-decoration-color: #0087ff\">Dense</span>)                      │ (<span style=\"color: #00d7ff; text-decoration-color: #00d7ff\">None</span>, <span style=\"color: #00af00; text-decoration-color: #00af00\">30</span>)                  │             <span style=\"color: #00af00; text-decoration-color: #00af00\">930</span> │\n",
              "├──────────────────────────────────────┼─────────────────────────────┼─────────────────┤\n",
              "│ dense_7 (<span style=\"color: #0087ff; text-decoration-color: #0087ff\">Dense</span>)                      │ (<span style=\"color: #00d7ff; text-decoration-color: #00d7ff\">None</span>, <span style=\"color: #00af00; text-decoration-color: #00af00\">15</span>)                  │             <span style=\"color: #00af00; text-decoration-color: #00af00\">465</span> │\n",
              "├──────────────────────────────────────┼─────────────────────────────┼─────────────────┤\n",
              "│ dense_8 (<span style=\"color: #0087ff; text-decoration-color: #0087ff\">Dense</span>)                      │ (<span style=\"color: #00d7ff; text-decoration-color: #00d7ff\">None</span>, <span style=\"color: #00af00; text-decoration-color: #00af00\">1</span>)                   │              <span style=\"color: #00af00; text-decoration-color: #00af00\">16</span> │\n",
              "└──────────────────────────────────────┴─────────────────────────────┴─────────────────┘\n",
              "</pre>\n"
            ]
          },
          "metadata": {}
        },
        {
          "output_type": "display_data",
          "data": {
            "text/plain": [
              "\u001b[1m Total params: \u001b[0m\u001b[38;5;34m1,411\u001b[0m (5.51 KB)\n"
            ],
            "text/html": [
              "<pre style=\"white-space:pre;overflow-x:auto;line-height:normal;font-family:Menlo,'DejaVu Sans Mono',consolas,'Courier New',monospace\"><span style=\"font-weight: bold\"> Total params: </span><span style=\"color: #00af00; text-decoration-color: #00af00\">1,411</span> (5.51 KB)\n",
              "</pre>\n"
            ]
          },
          "metadata": {}
        },
        {
          "output_type": "display_data",
          "data": {
            "text/plain": [
              "\u001b[1m Trainable params: \u001b[0m\u001b[38;5;34m1,411\u001b[0m (5.51 KB)\n"
            ],
            "text/html": [
              "<pre style=\"white-space:pre;overflow-x:auto;line-height:normal;font-family:Menlo,'DejaVu Sans Mono',consolas,'Courier New',monospace\"><span style=\"font-weight: bold\"> Trainable params: </span><span style=\"color: #00af00; text-decoration-color: #00af00\">1,411</span> (5.51 KB)\n",
              "</pre>\n"
            ]
          },
          "metadata": {}
        },
        {
          "output_type": "display_data",
          "data": {
            "text/plain": [
              "\u001b[1m Non-trainable params: \u001b[0m\u001b[38;5;34m0\u001b[0m (0.00 B)\n"
            ],
            "text/html": [
              "<pre style=\"white-space:pre;overflow-x:auto;line-height:normal;font-family:Menlo,'DejaVu Sans Mono',consolas,'Courier New',monospace\"><span style=\"font-weight: bold\"> Non-trainable params: </span><span style=\"color: #00af00; text-decoration-color: #00af00\">0</span> (0.00 B)\n",
              "</pre>\n"
            ]
          },
          "metadata": {}
        }
      ],
      "source": [
        "# Model summary\n",
        "model_1.summary()"
      ]
    },
    {
      "cell_type": "markdown",
      "metadata": {
        "tags": [],
        "id": "1nC_tMlksUp3"
      },
      "source": [
        "The graph of the network is also shown in the following figure. We can see the layers with all 1,411 connections in the network.\n",
        "\n",
        "<img src=\"https://github.com/avakanski/Fall-2024-Applied-Data-Science-with-Python/blob/main/docs/Lectures/Theme_3-Model_Engineering/Lecture_15-ANNs/images/model_1.png?raw=1\" width=\"550\">\n",
        "\n",
        "*Figure: Graphical depiction of the network.*"
      ]
    },
    {
      "cell_type": "markdown",
      "metadata": {
        "id": "XDYdR1SG1zh4"
      },
      "source": [
        "#### Compile the ANN"
      ]
    },
    {
      "cell_type": "markdown",
      "metadata": {
        "id": "GrJHF5Qe2wwr"
      },
      "source": [
        "## モデルのコンパイル\n",
        "\n",
        "- **損失関数の役割**\n",
        "  - 予測値と実際の値の差を計算\n",
        "  - 高い差は高い損失を意味\n",
        "\n",
        "- **クロスエントロピー損失の種類**\n",
        "  - binary_crossentropy：二値分類用\n",
        "  - categorical_crossentropy：多クラス分類（one-hot形式）\n",
        "  - sparse_categorical_crossentropy：多クラス分類（ordinal形式）\n",
        "\n",
        "- **オプティマイザー**\n",
        "  - Adam（Adaptive Moment Estimation）を使用\n",
        "  - 最も高速で一般的な最適化手法\n",
        "  - 損失関数の最小化に使用\n",
        "\n",
        "- **評価指標**\n",
        "  - 精度（accuracy）を使用\n",
        "  - AUC-ROC、F1スコアも選択可能"
      ]
    },
    {
      "cell_type": "code",
      "execution_count": null,
      "metadata": {
        "id": "OZuZ18XZ2zVV",
        "tags": []
      },
      "outputs": [],
      "source": [
        "model_1.compile(optimizer='adam',\n",
        "                  loss='binary_crossentropy',\n",
        "                  metrics=['accuracy'])"
      ]
    },
    {
      "cell_type": "markdown",
      "metadata": {
        "id": "f7Bqx-N03K1D"
      },
      "source": [
        "## モデルの学習\n",
        "\n",
        "- **fitメソッドの使用**\n",
        "  - 訓練データと訓練ラベルが必要\n",
        "  - エポック数、バッチサイズを指定\n",
        "  - verbose引数で出力制御\n",
        "\n",
        "- **バッチ処理**\n",
        "  - バッチサイズ64で処理\n",
        "  - 455サンプルを7-8回に分けて処理\n",
        "  - 1エポックで全データを処理\n",
        "\n",
        "- **学習プロセス**\n",
        "  - 100エポックを実行\n",
        "  - 合計800回の更新\n",
        "  - verboseを0に設定（出力なし）\n",
        "  - history変数に学習結果を保存"
      ]
    },
    {
      "cell_type": "code",
      "execution_count": null,
      "metadata": {
        "id": "zmkoLSQJ39IZ",
        "tags": []
      },
      "outputs": [],
      "source": [
        "history = model_1.fit(train_data, train_labels, epochs=100, batch_size=64, verbose=0)"
      ]
    },
    {
      "cell_type": "markdown",
      "metadata": {
        "id": "dkO2ycHHrbgT"
      },
      "source": [
        "## モデルの評価\n",
        "\n",
        "- **評価メソッド**\n",
        " - evaluateメソッドを使用\n",
        " - テストデータとラベルで評価\n",
        " - 損失値と精度を返す\n",
        "\n",
        "- **予測の実行**\n",
        " - predictメソッドを使用\n",
        " - scikit-learnと同様の使用方法\n",
        " - テストデータに対して予測を実行\n",
        "\n",
        "- **予測結果の解析**\n",
        " - predictions.shapeで形状確認\n",
        " - テストデータと比較\n",
        " - サンプルごとの予測値を確認"
      ]
    },
    {
      "cell_type": "code",
      "execution_count": null,
      "metadata": {
        "tags": [],
        "id": "hDPQ3O-SsUp4",
        "outputId": "e8cad698-db6e-4726-9a73-1b6c457f1c07",
        "colab": {
          "base_uri": "https://localhost:8080/"
        }
      },
      "outputs": [
        {
          "output_type": "stream",
          "name": "stdout",
          "text": [
            "\u001b[1m4/4\u001b[0m \u001b[32m━━━━━━━━━━━━━━━━━━━━\u001b[0m\u001b[37m\u001b[0m \u001b[1m0s\u001b[0m 3ms/step - accuracy: 0.9707 - loss: 0.0762  \n",
            "Classification Accuracy:  0.9736841917037964\n"
          ]
        }
      ],
      "source": [
        "# Evaluate on test dataset\n",
        "evals_test = model_1.evaluate(test_data, test_labels)\n",
        "print(\"Classification Accuracy: \", evals_test[1])"
      ]
    },
    {
      "cell_type": "code",
      "execution_count": null,
      "metadata": {
        "tags": [],
        "id": "Sl94dkIDsUp5",
        "outputId": "0cd6105f-7d59-4017-954c-2ecd969ba918",
        "colab": {
          "base_uri": "https://localhost:8080/"
        }
      },
      "outputs": [
        {
          "output_type": "execute_result",
          "data": {
            "text/plain": [
              "[0.07207684218883514, 0.9736841917037964]"
            ]
          },
          "metadata": {},
          "execution_count": 74
        }
      ],
      "source": [
        "# evals_test contains the loss and accuracy of the model\n",
        "evals_test"
      ]
    },
    {
      "cell_type": "markdown",
      "metadata": {
        "id": "-60m0F4ysUp5"
      },
      "source": [
        "To obtain the predictions by the model on data samples, we will use the `predict` method in Keras, which works similarly to the `predict` method in scikit-learn."
      ]
    },
    {
      "cell_type": "code",
      "execution_count": null,
      "metadata": {
        "tags": [],
        "id": "k3mrQW-YsUp5",
        "outputId": "c8b510f8-21cd-4c12-fe27-1481baaa8e8f",
        "colab": {
          "base_uri": "https://localhost:8080/"
        }
      },
      "outputs": [
        {
          "output_type": "stream",
          "name": "stdout",
          "text": [
            "\u001b[1m4/4\u001b[0m \u001b[32m━━━━━━━━━━━━━━━━━━━━\u001b[0m\u001b[37m\u001b[0m \u001b[1m0s\u001b[0m 12ms/step\n"
          ]
        }
      ],
      "source": [
        "predictions = model_1.predict(test_data)"
      ]
    },
    {
      "cell_type": "markdown",
      "metadata": {
        "id": "Q-G5lI9RsUp5"
      },
      "source": [
        "- **予測の実行**\n",
        " - predictメソッドを使用\n",
        " - scikit-learnと同様の使用方法\n",
        " - テストデータに対して予測を実行"
      ]
    },
    {
      "cell_type": "code",
      "execution_count": null,
      "metadata": {
        "tags": [],
        "id": "xIkDfFvysUp5",
        "outputId": "cab4237c-93cb-47e7-f3eb-4889d62fa297",
        "colab": {
          "base_uri": "https://localhost:8080/"
        }
      },
      "outputs": [
        {
          "output_type": "execute_result",
          "data": {
            "text/plain": [
              "(114, 1)"
            ]
          },
          "metadata": {},
          "execution_count": 76
        }
      ],
      "source": [
        "predictions.shape"
      ]
    },
    {
      "cell_type": "code",
      "execution_count": null,
      "metadata": {
        "tags": [],
        "id": "MbTJzHZrsUp5",
        "outputId": "dd9ce864-7afc-46cb-880e-0b0165c780ea",
        "colab": {
          "base_uri": "https://localhost:8080/"
        }
      },
      "outputs": [
        {
          "output_type": "execute_result",
          "data": {
            "text/plain": [
              "(114, 30)"
            ]
          },
          "metadata": {},
          "execution_count": 77
        }
      ],
      "source": [
        "# Compare to the shape of test_data\n",
        "test_data.shape"
      ]
    },
    {
      "cell_type": "markdown",
      "metadata": {
        "id": "Q7WTpKZ6sUp5"
      },
      "source": [
        "- **予測結果の解析**\n",
        " - predictions.shapeで形状確認\n",
        " - テストデータと比較\n",
        " - サンプルごとの予測値を確認"
      ]
    },
    {
      "cell_type": "code",
      "execution_count": null,
      "metadata": {
        "tags": [],
        "id": "sZelkiPEsUp5",
        "outputId": "e3f58013-5f93-48f1-e4d8-9ecd521218fa",
        "colab": {
          "base_uri": "https://localhost:8080/"
        }
      },
      "outputs": [
        {
          "output_type": "execute_result",
          "data": {
            "text/plain": [
              "array([[1.4023723e-04],\n",
              "       [9.9985981e-01],\n",
              "       [3.1158542e-02],\n",
              "       [5.0358689e-01],\n",
              "       [2.0772715e-04],\n",
              "       [9.5448345e-01]], dtype=float32)"
            ]
          },
          "metadata": {},
          "execution_count": 78
        }
      ],
      "source": [
        "predictions[:6]"
      ]
    },
    {
      "cell_type": "code",
      "execution_count": null,
      "metadata": {
        "tags": [],
        "id": "EaR3X4mvsUp7",
        "outputId": "f75c8fb5-0596-4a0b-f6a0-78a7e0996e86",
        "colab": {
          "base_uri": "https://localhost:8080/"
        }
      },
      "outputs": [
        {
          "output_type": "execute_result",
          "data": {
            "text/plain": [
              "array([[0.   ],\n",
              "       [1.   ],\n",
              "       [0.031],\n",
              "       [0.504],\n",
              "       [0.   ],\n",
              "       [0.954]], dtype=float32)"
            ]
          },
          "metadata": {},
          "execution_count": 79
        }
      ],
      "source": [
        "np.around(predictions[:6], 3)"
      ]
    },
    {
      "cell_type": "markdown",
      "metadata": {
        "id": "3TxXu2HesUp7"
      },
      "source": [
        "## 予測値の解釈\n",
        "\n",
        "- **出力の特徴**\n",
        " - 0から1の範囲の値\n",
        " - 確率として解釈可能\n",
        " - シグモイド関数の特性を反映\n",
        "\n",
        "- **クラス分類**\n",
        " - 閾値0.5で二値分類\n",
        " - np.roundで四捨五入\n",
        " - 例：\n",
        "   - 0.055 → クラス0\n",
        "   - 0.588 → クラス1"
      ]
    },
    {
      "cell_type": "code",
      "execution_count": null,
      "metadata": {
        "tags": [],
        "id": "LU_aQKB_sUp7",
        "outputId": "57e88d2f-1505-4057-bd85-87ecd56ce373",
        "colab": {
          "base_uri": "https://localhost:8080/"
        }
      },
      "outputs": [
        {
          "output_type": "execute_result",
          "data": {
            "text/plain": [
              "array([[0.],\n",
              "       [1.],\n",
              "       [0.],\n",
              "       [1.],\n",
              "       [0.],\n",
              "       [1.]], dtype=float32)"
            ]
          },
          "metadata": {},
          "execution_count": 80
        }
      ],
      "source": [
        "# Class labels for the first  predicted values\n",
        "np.round(predictions[:6])"
      ]
    },
    {
      "cell_type": "markdown",
      "metadata": {
        "id": "hj5yNnv8sUp7"
      },
      "source": [
        "## 精度の評価\n",
        "\n",
        "- **accuracy_score使用**\n",
        " - scikit-learnの評価指標\n",
        " - Kerasのevaluateと同等の結果\n",
        " - パーセンテージで表示"
      ]
    },
    {
      "cell_type": "code",
      "execution_count": null,
      "metadata": {
        "colab": {
          "base_uri": "https://localhost:8080/"
        },
        "id": "K79im89prfzv",
        "outputId": "698f2f84-553f-4585-bf7b-a48569648fab",
        "tags": []
      },
      "outputs": [
        {
          "output_type": "stream",
          "name": "stdout",
          "text": [
            "\u001b[1m4/4\u001b[0m \u001b[32m━━━━━━━━━━━━━━━━━━━━\u001b[0m\u001b[37m\u001b[0m \u001b[1m0s\u001b[0m 2ms/step \n",
            "The test accuracy is 97.3684 %\n"
          ]
        }
      ],
      "source": [
        "from sklearn.metrics import accuracy_score\n",
        "\n",
        "predictions = model_1.predict(test_data)\n",
        "\n",
        "accuracy = accuracy_score(test_labels, np.round(predictions))\n",
        "print('The test accuracy is {0:6.4f} %'.format(accuracy*100))"
      ]
    },
    {
      "cell_type": "markdown",
      "metadata": {
        "id": "VEA49XD3MIbv"
      },
      "source": [
        "To better understand the model performance, we can also display the\n",
        "\n",
        "1.   リスト項目\n",
        "2.   リスト項目\n",
        "\n",
        "confusion matrix."
      ]
    },
    {
      "cell_type": "code",
      "execution_count": null,
      "metadata": {
        "colab": {
          "base_uri": "https://localhost:8080/"
        },
        "id": "pDiAYiI5MakN",
        "outputId": "22758d16-c608-4593-9bf2-8bad7efdf82c",
        "tags": []
      },
      "outputs": [
        {
          "output_type": "stream",
          "name": "stdout",
          "text": [
            "[[70  2]\n",
            " [ 1 41]]\n"
          ]
        }
      ],
      "source": [
        "# Getting the confusion matrix\n",
        "from sklearn.metrics import confusion_matrix\n",
        "\n",
        "confmat = confusion_matrix(test_labels, np.round(predictions), labels=[1,0])\n",
        "print(confmat)"
      ]
    },
    {
      "cell_type": "markdown",
      "metadata": {
        "id": "yMoJfE2isUp7"
      },
      "source": [
        "- **混同行列の作成**\n",
        " - confusion_matrixを使用\n",
        " - クラスごとの予測結果を表示\n",
        " - 分類の詳細な評価が可能"
      ]
    },
    {
      "cell_type": "code",
      "execution_count": null,
      "metadata": {
        "colab": {
          "base_uri": "https://localhost:8080/"
        },
        "id": "Q89i8ozyD_Ek",
        "outputId": "c4de678e-cc5b-4feb-b1fd-577bb033884a",
        "tags": []
      },
      "outputs": [
        {
          "output_type": "stream",
          "name": "stdout",
          "text": [
            "              precision    recall  f1-score   support\n",
            "\n",
            "           0       0.95      0.98      0.96        42\n",
            "           1       0.99      0.97      0.98        72\n",
            "\n",
            "    accuracy                           0.97       114\n",
            "   macro avg       0.97      0.97      0.97       114\n",
            "weighted avg       0.97      0.97      0.97       114\n",
            "\n"
          ]
        }
      ],
      "source": [
        "# Classification report: F1 score, Recall, Precision\n",
        "from sklearn.metrics import classification_report\n",
        "\n",
        "print(classification_report(test_labels, np.round(predictions)))"
      ]
    },
    {
      "cell_type": "markdown",
      "metadata": {
        "id": "0fG35BZQyTDe"
      },
      "source": [
        "## 学習過程の可視化\n",
        "\n",
        "- **学習曲線の表示**\n",
        " - historyオブジェクトを使用\n",
        " - 学習精度と損失を表示\n",
        " - エポックごとの変化を確認\n",
        "\n",
        "- **グラフの解析**\n",
        " - 100エポック時点での状態\n",
        " - 損失値の継続的な減少\n",
        " - さらなる学習の可能性\n",
        " - エポック数の最適化が課題"
      ]
    },
    {
      "cell_type": "code",
      "execution_count": null,
      "metadata": {
        "tags": [],
        "id": "pgfPGwIfsUp7",
        "outputId": "c687ba3d-6064-48b7-b4aa-daee36f35a5a",
        "colab": {
          "base_uri": "https://localhost:8080/",
          "height": 410
        }
      },
      "outputs": [
        {
          "output_type": "display_data",
          "data": {
            "text/plain": [
              "<Figure size 1200x400 with 2 Axes>"
            ],
            "image/png": "[encoded data removed]"
          },
          "metadata": {}
        }
      ],
      "source": [
        "# plot the accuracy and loss\n",
        "train_loss = history.history['loss']\n",
        "acc = history.history['accuracy']\n",
        "\n",
        "epochsn = np.arange(1, len(train_loss)+1,1)\n",
        "plt.figure(figsize=(12, 4))\n",
        "\n",
        "plt.subplot(1,2,1)\n",
        "plt.plot(epochsn, acc, 'b')\n",
        "plt.grid(color='gray', linestyle='--')\n",
        "plt.title('TRAINING ACCURACY')\n",
        "plt.xlabel('Epochs')\n",
        "plt.ylabel('Accuracy')\n",
        "\n",
        "plt.subplot(1,2,2)\n",
        "plt.plot(epochsn,train_loss, 'b')\n",
        "plt.grid(color='gray', linestyle='--')\n",
        "plt.title('TRAINING LOSS')\n",
        "plt.xlabel('Epochs')\n",
        "plt.ylabel('Loss')\n",
        "plt.show()"
      ]
    },
    {
      "cell_type": "markdown",
      "metadata": {
        "id": "c3xIjz-3jHP8"
      },
      "source": [
        "## 多クラス分類\n",
        "\n",
        "- **Fashion MNISTデータセット**\n",
        " - 画像数：70,000枚\n",
        "   - 訓練用：60,000枚\n",
        "   - テスト用：10,000枚\n",
        " - グレースケール画像\n",
        " - サイズ：28 x 28ピクセル\n",
        "\n",
        "- **クラス構成**\n",
        " - 10カテゴリー\n",
        "   - Tシャツ/トップス\n",
        "   - ズボン\n",
        "   - プルオーバー\n",
        "   - ドレス\n",
        "   - コート\n",
        "   - サンダル\n",
        "   - シャツ\n",
        "   - スニーカー\n",
        "   - バッグ\n",
        "   - アンクルブーツ\n",
        "\n",
        "- **データの前処理**\n",
        " - ピクセル値を0-1に正規化\n",
        " - 画像の一次元化　　ここでは784個のデータを１列にする\n",
        " - 28×28 → 784次元"
      ]
    },
    {
      "cell_type": "markdown",
      "metadata": {
        "id": "vWho02IHEx2x"
      },
      "source": [
        "\n",
        "\n",
        "!['Fashion Dataset'](https://github.com/zalandoresearch/fashion-mnist/raw/master/doc/img/fashion-mnist-sprite.png)"
      ]
    },
    {
      "cell_type": "markdown",
      "metadata": {
        "id": "YPRnuyLssUp8"
      },
      "source": [
        "10 Category Classification\n",
        "\n",
        "| Label | Description |\n",
        "| --- | --- |\n",
        "| 0 | T-shirt/top |\n",
        "| 1 | Trouser |\n",
        "| 2 | Pullover |\n",
        "| 3 | Dress |\n",
        "| 4 | Coat |\n",
        "| 5 | Sandal |\n",
        "| 6 | Shirt |\n",
        "| 7 | Sneaker |\n",
        "| 8 | Bag |\n",
        "| 9 | Ankle boot |"
      ]
    },
    {
      "cell_type": "markdown",
      "metadata": {
        "id": "TIq4NpVzIz2o"
      },
      "source": [
        "- **データの前処理**\n",
        " - ピクセル値を0-1に正規化\n",
        " - 画像の一次元化\n",
        " - 28×28 → 784次元\n"
      ]
    },
    {
      "cell_type": "code",
      "execution_count": null,
      "metadata": {
        "id": "YONwWTmbI4Kq",
        "tags": []
      },
      "outputs": [],
      "source": [
        "# Load the Fashion MNIST dataset\n",
        "fashion_mnist = tf.keras.datasets.fashion_mnist\n",
        "\n",
        "(fashion_train, fashion_train_label), (fashion_test, fashion_test_label) = fashion_mnist.load_data()"
      ]
    },
    {
      "cell_type": "code",
      "execution_count": null,
      "metadata": {
        "tags": [],
        "id": "b_mdy6VQsUp8",
        "outputId": "4d7ad443-6b91-480b-f777-d489202aa16c",
        "colab": {
          "base_uri": "https://localhost:8080/"
        }
      },
      "outputs": [
        {
          "output_type": "stream",
          "name": "stdout",
          "text": [
            "Training data inputs (60000, 28, 28)\n",
            "Training labels (60000,)\n",
            "Testing data inputs (10000, 28, 28)\n",
            "Testing labels (10000,)\n"
          ]
        }
      ],
      "source": [
        "print('Training data inputs', fashion_train.shape)\n",
        "print('Training labels', fashion_train_label.shape)\n",
        "print('Testing data inputs', fashion_test.shape)\n",
        "print('Testing labels', fashion_test_label.shape)"
      ]
    },
    {
      "cell_type": "markdown",
      "metadata": {
        "id": "PoJzQ9spsUp9"
      },
      "source": [
        "Let's check the shape of the training data and the values in the first image."
      ]
    },
    {
      "cell_type": "code",
      "execution_count": null,
      "metadata": {
        "tags": [],
        "id": "yGPstHE5sUp9",
        "outputId": "7af8bfff-b270-49b1-da96-abbfc6d3ce60",
        "colab": {
          "base_uri": "https://localhost:8080/"
        }
      },
      "outputs": [
        {
          "output_type": "execute_result",
          "data": {
            "text/plain": [
              "(28, 28)"
            ]
          },
          "metadata": {},
          "execution_count": 87
        }
      ],
      "source": [
        "# Shape of each sample\n",
        "fashion_train[0].shape"
      ]
    },
    {
      "cell_type": "code",
      "execution_count": null,
      "metadata": {
        "tags": [],
        "id": "LCR9J9ucsUp9",
        "outputId": "e25dcf08-e42a-4a91-88b6-aeb1120d5963",
        "colab": {
          "base_uri": "https://localhost:8080/",
          "height": 68
        }
      },
      "outputs": [
        {
          "output_type": "execute_result",
          "data": {
            "text/plain": [
              "array([[  0,   0,   0,   0,   0,   0,   0,   0,   0,   0,   0,   0,   0,\n",
              "          0,   0,   0,   0,   0,   0,   0,   0,   0,   0,   0,   0,   0,\n",
              "          0,   0],\n",
              "       [  0,   0,   0,   0,   0,   0,   0,   0,   0,   0,   0,   0,   0,\n",
              "          0,   0,   0,   0,   0,   0,   0,   0,   0,   0,   0,   0,   0,\n",
              "          0,   0],\n",
              "       [  0,   0,   0,   0,   0,   0,   0,   0,   0,   0,   0,   0,   0,\n",
              "          0,   0,   0,   0,   0,   0,   0,   0,   0,   0,   0,   0,   0,\n",
              "          0,   0],\n",
              "       [  0,   0,   0,   0,   0,   0,   0,   0,   0,   0,   0,   0,   1,\n",
              "          0,   0,  13,  73,   0,   0,   1,   4,   0,   0,   0,   0,   1,\n",
              "          1,   0],\n",
              "       [  0,   0,   0,   0,   0,   0,   0,   0,   0,   0,   0,   0,   3,\n",
              "          0,  36, 136, 127,  62,  54,   0,   0,   0,   1,   3,   4,   0,\n",
              "          0,   3],\n",
              "       [  0,   0,   0,   0,   0,   0,   0,   0,   0,   0,   0,   0,   6,\n",
              "          0, 102, 204, 176, 134, 144, 123,  23,   0,   0,   0,   0,  12,\n",
              "         10,   0],\n",
              "       [  0,   0,   0,   0,   0,   0,   0,   0,   0,   0,   0,   0,   0,\n",
              "          0, 155, 236, 207, 178, 107, 156, 161, 109,  64,  23,  77, 130,\n",
              "         72,  15],\n",
              "       [  0,   0,   0,   0,   0,   0,   0,   0,   0,   0,   0,   1,   0,\n",
              "         69, 207, 223, 218, 216, 216, 163, 127, 121, 122, 146, 141,  88,\n",
              "        172,  66],\n",
              "       [  0,   0,   0,   0,   0,   0,   0,   0,   0,   1,   1,   1,   0,\n",
              "        200, 232, 232, 233, 229, 223, 223, 215, 213, 164, 127, 123, 196,\n",
              "        229,   0],\n",
              "       [  0,   0,   0,   0,   0,   0,   0,   0,   0,   0,   0,   0,   0,\n",
              "        183, 225, 216, 223, 228, 235, 227, 224, 222, 224, 221, 223, 245,\n",
              "        173,   0],\n",
              "       [  0,   0,   0,   0,   0,   0,   0,   0,   0,   0,   0,   0,   0,\n",
              "        193, 228, 218, 213, 198, 180, 212, 210, 211, 213, 223, 220, 243,\n",
              "        202,   0],\n",
              "       [  0,   0,   0,   0,   0,   0,   0,   0,   0,   1,   3,   0,  12,\n",
              "        219, 220, 212, 218, 192, 169, 227, 208, 218, 224, 212, 226, 197,\n",
              "        209,  52],\n",
              "       [  0,   0,   0,   0,   0,   0,   0,   0,   0,   0,   6,   0,  99,\n",
              "        244, 222, 220, 218, 203, 198, 221, 215, 213, 222, 220, 245, 119,\n",
              "        167,  56],\n",
              "       [  0,   0,   0,   0,   0,   0,   0,   0,   0,   4,   0,   0,  55,\n",
              "        236, 228, 230, 228, 240, 232, 213, 218, 223, 234, 217, 217, 209,\n",
              "         92,   0],\n",
              "       [  0,   0,   1,   4,   6,   7,   2,   0,   0,   0,   0,   0, 237,\n",
              "        226, 217, 223, 222, 219, 222, 221, 216, 223, 229, 215, 218, 255,\n",
              "         77,   0],\n",
              "       [  0,   3,   0,   0,   0,   0,   0,   0,   0,  62, 145, 204, 228,\n",
              "        207, 213, 221, 218, 208, 211, 218, 224, 223, 219, 215, 224, 244,\n",
              "        159,   0],\n",
              "       [  0,   0,   0,   0,  18,  44,  82, 107, 189, 228, 220, 222, 217,\n",
              "        226, 200, 205, 211, 230, 224, 234, 176, 188, 250, 248, 233, 238,\n",
              "        215,   0],\n",
              "       [  0,  57, 187, 208, 224, 221, 224, 208, 204, 214, 208, 209, 200,\n",
              "        159, 245, 193, 206, 223, 255, 255, 221, 234, 221, 211, 220, 232,\n",
              "        246,   0],\n",
              "       [  3, 202, 228, 224, 221, 211, 211, 214, 205, 205, 205, 220, 240,\n",
              "         80, 150, 255, 229, 221, 188, 154, 191, 210, 204, 209, 222, 228,\n",
              "        225,   0],\n",
              "       [ 98, 233, 198, 210, 222, 229, 229, 234, 249, 220, 194, 215, 217,\n",
              "        241,  65,  73, 106, 117, 168, 219, 221, 215, 217, 223, 223, 224,\n",
              "        229,  29],\n",
              "       [ 75, 204, 212, 204, 193, 205, 211, 225, 216, 185, 197, 206, 198,\n",
              "        213, 240, 195, 227, 245, 239, 223, 218, 212, 209, 222, 220, 221,\n",
              "        230,  67],\n",
              "       [ 48, 203, 183, 194, 213, 197, 185, 190, 194, 192, 202, 214, 219,\n",
              "        221, 220, 236, 225, 216, 199, 206, 186, 181, 177, 172, 181, 205,\n",
              "        206, 115],\n",
              "       [  0, 122, 219, 193, 179, 171, 183, 196, 204, 210, 213, 207, 211,\n",
              "        210, 200, 196, 194, 191, 195, 191, 198, 192, 176, 156, 167, 177,\n",
              "        210,  92],\n",
              "       [  0,   0,  74, 189, 212, 191, 175, 172, 175, 181, 185, 188, 189,\n",
              "        188, 193, 198, 204, 209, 210, 210, 211, 188, 188, 194, 192, 216,\n",
              "        170,   0],\n",
              "       [  2,   0,   0,   0,  66, 200, 222, 237, 239, 242, 246, 243, 244,\n",
              "        221, 220, 193, 191, 179, 182, 182, 181, 176, 166, 168,  99,  58,\n",
              "          0,   0],\n",
              "       [  0,   0,   0,   0,   0,   0,   0,  40,  61,  44,  72,  41,  35,\n",
              "          0,   0,   0,   0,   0,   0,   0,   0,   0,   0,   0,   0,   0,\n",
              "          0,   0],\n",
              "       [  0,   0,   0,   0,   0,   0,   0,   0,   0,   0,   0,   0,   0,\n",
              "          0,   0,   0,   0,   0,   0,   0,   0,   0,   0,   0,   0,   0,\n",
              "          0,   0],\n",
              "       [  0,   0,   0,   0,   0,   0,   0,   0,   0,   0,   0,   0,   0,\n",
              "          0,   0,   0,   0,   0,   0,   0,   0,   0,   0,   0,   0,   0,\n",
              "          0,   0]], dtype=uint8)"
            ],
            "text/html": [
              "<style>\n",
              "      .ndarray_repr .ndarray_raw_data {\n",
              "        display: none;\n",
              "      }\n",
              "      .ndarray_repr.show_array .ndarray_raw_data {\n",
              "        display: block;\n",
              "      }\n",
              "      .ndarray_repr.show_array .ndarray_image_preview {\n",
              "        display: none;\n",
              "      }\n",
              "      </style>\n",
              "      <div id=\"id-45415d44-0855-4c19-8baf-8ef05caa50df\" class=\"ndarray_repr\"><pre>ndarray (28, 28) <button style=\"padding: 0 2px;\">show data</button></pre><img src=\"data:image/png;base64,iVBORw0KGgoAAAANSUhEUgAAABwAAAAcCAAAAABXZoBIAAACBUlEQVR4nLXSz0tUURQH8O+597373rx545g6NmNJY6TlJgozEsKFZGCrkDBoVdGmdf9BiwJ3bVr1PwhBUbQfJQcKjWZRTsjo0KDpDPV+eN+997WK0Z2bvtsPfM+Bc4D/HwJycwBZAEAE6zAyfe5RFMQfFYiRAj+CXM/c2HK82VetVMM34RGUmCxz9v7yYnW9dnWyskyHR6azi72Jwep3ScVk9c7LLhKQrpRBSiI2n76puZFT3doUwH4pcmw/zpjrU2zw3dFt4XEWdvbKhpinzTBYt5bDH4qlLYO8cbKBWHOudDHluFtiLrLD0kmM2//6q9VFS+JLLDxv9GzMPV9v3XuzYgHEGSUGCngbRCLd4W6CxPCLHTDwVMkDA0y/qEa/lFFBoF2EEME8CAD6hsZK8+djlmSatuiXXsWfNh27NU6Yelro1bytPElRbaGaO1FGPfc7zPg9HvHlIaVD8AjID9y/+bgZ/6iP9ks7J/QZevh8w/cd2PlGs8CKt92R7MQEk0yA7GtWq9ETN3zRs7fpR7FaWi/3yXaipW1IjFnbaSM70N7dsRzbzbHd8aCx7+wmKskUO5esz0sPmvXYF67gBzoNfxptxb5stxM10iLg1pOTO23NhcUptW1hE6gFYYprC8QMMPNsMM+4pamVbps/HGkSsg+1Cv4d+0Jh//Sm3DjGix4rfwFoJNh2/0cDFgAAAABJRU5ErkJggg==\" class=\"ndarray_image_preview\" /><pre class=\"ndarray_raw_data\">array([[  0,   0,   0,   0,   0,   0,   0,   0,   0,   0,   0,   0,   0,\n",
              "          0,   0,   0,   0,   0,   0,   0,   0,   0,   0,   0,   0,   0,\n",
              "          0,   0],\n",
              "       [  0,   0,   0,   0,   0,   0,   0,   0,   0,   0,   0,   0,   0,\n",
              "          0,   0,   0,   0,   0,   0,   0,   0,   0,   0,   0,   0,   0,\n",
              "          0,   0],\n",
              "       [  0,   0,   0,   0,   0,   0,   0,   0,   0,   0,   0,   0,   0,\n",
              "          0,   0,   0,   0,   0,   0,   0,   0,   0,   0,   0,   0,   0,\n",
              "          0,   0],\n",
              "       [  0,   0,   0,   0,   0,   0,   0,   0,   0,   0,   0,   0,   1,\n",
              "          0,   0,  13,  73,   0,   0,   1,   4,   0,   0,   0,   0,   1,\n",
              "          1,   0],\n",
              "       [  0,   0,   0,   0,   0,   0,   0,   0,   0,   0,   0,   0,   3,\n",
              "          0,  36, 136, 127,  62,  54,   0,   0,   0,   1,   3,   4,   0,\n",
              "          0,   3],\n",
              "       [  0,   0,   0,   0,   0,   0,   0,   0,   0,   0,   0,   0,   6,\n",
              "          0, 102, 204, 176, 134, 144, 123,  23,   0,   0,   0,   0,  12,\n",
              "         10,   0],\n",
              "       [  0,   0,   0,   0,   0,   0,   0,   0,   0,   0,   0,   0,   0,\n",
              "          0, 155, 236, 207, 178, 107, 156, 161, 109,  64,  23,  77, 130,\n",
              "         72,  15],\n",
              "       [  0,   0,   0,   0,   0,   0,   0,   0,   0,   0,   0,   1,   0,\n",
              "         69, 207, 223, 218, 216, 216, 163, 127, 121, 122, 146, 141,  88,\n",
              "        172,  66],\n",
              "       [  0,   0,   0,   0,   0,   0,   0,   0,   0,   1,   1,   1,   0,\n",
              "        200, 232, 232, 233, 229, 223, 223, 215, 213, 164, 127, 123, 196,\n",
              "        229,   0],\n",
              "       [  0,   0,   0,   0,   0,   0,   0,   0,   0,   0,   0,   0,   0,\n",
              "        183, 225, 216, 223, 228, 235, 227, 224, 222, 224, 221, 223, 245,\n",
              "        173,   0],\n",
              "       [  0,   0,   0,   0,   0,   0,   0,   0,   0,   0,   0,   0,   0,\n",
              "        193, 228, 218, 213, 198, 180, 212, 210, 211, 213, 223, 220, 243,\n",
              "        202,   0],\n",
              "       [  0,   0,   0,   0,   0,   0,   0,   0,   0,   1,   3,   0,  12,\n",
              "        219, 220, 212, 218, 192, 169, 227, 208, 218, 224, 212, 226, 197,\n",
              "        209,  52],\n",
              "       [  0,   0,   0,   0,   0,   0,   0,   0,   0,   0,   6,   0,  99,\n",
              "        244, 222, 220, 218, 203, 198, 221, 215, 213, 222, 220, 245, 119,\n",
              "        167,  56],\n",
              "       [  0,   0,   0,   0,   0,   0,   0,   0,   0,   4,   0,   0,  55,\n",
              "        236, 228, 230, 228, 240, 232, 213, 218, 223, 234, 217, 217, 209,\n",
              "         92,   0],\n",
              "       [  0,   0,   1,   4,   6,   7,   2,   0,   0,   0,   0,   0, 237,\n",
              "        226, 217, 223, 222, 219, 222, 221, 216, 223, 229, 215, 218, 255,\n",
              "         77,   0],\n",
              "       [  0,   3,   0,   0,   0,   0,   0,   0,   0,  62, 145, 204, 228,\n",
              "        207, 213, 221, 218, 208, 211, 218, 224, 223, 219, 215, 224, 244,\n",
              "        159,   0],\n",
              "       [  0,   0,   0,   0,  18,  44,  82, 107, 189, 228, 220, 222, 217,\n",
              "        226, 200, 205, 211, 230, 224, 234, 176, 188, 250, 248, 233, 238,\n",
              "        215,   0],\n",
              "       [  0,  57, 187, 208, 224, 221, 224, 208, 204, 214, 208, 209, 200,\n",
              "        159, 245, 193, 206, 223, 255, 255, 221, 234, 221, 211, 220, 232,\n",
              "        246,   0],\n",
              "       [  3, 202, 228, 224, 221, 211, 211, 214, 205, 205, 205, 220, 240,\n",
              "         80, 150, 255, 229, 221, 188, 154, 191, 210, 204, 209, 222, 228,\n",
              "        225,   0],\n",
              "       [ 98, 233, 198, 210, 222, 229, 229, 234, 249, 220, 194, 215, 217,\n",
              "        241,  65,  73, 106, 117, 168, 219, 221, 215, 217, 223, 223, 224,\n",
              "        229,  29],\n",
              "       [ 75, 204, 212, 204, 193, 205, 211, 225, 216, 185, 197, 206, 198,\n",
              "        213, 240, 195, 227, 245, 239, 223, 218, 212, 209, 222, 220, 221,\n",
              "        230,  67],\n",
              "       [ 48, 203, 183, 194, 213, 197, 185, 190, 194, 192, 202, 214, 219,\n",
              "        221, 220, 236, 225, 216, 199, 206, 186, 181, 177, 172, 181, 205,\n",
              "        206, 115],\n",
              "       [  0, 122, 219, 193, 179, 171, 183, 196, 204, 210, 213, 207, 211,\n",
              "        210, 200, 196, 194, 191, 195, 191, 198, 192, 176, 156, 167, 177,\n",
              "        210,  92],\n",
              "       [  0,   0,  74, 189, 212, 191, 175, 172, 175, 181, 185, 188, 189,\n",
              "        188, 193, 198, 204, 209, 210, 210, 211, 188, 188, 194, 192, 216,\n",
              "        170,   0],\n",
              "       [  2,   0,   0,   0,  66, 200, 222, 237, 239, 242, 246, 243, 244,\n",
              "        221, 220, 193, 191, 179, 182, 182, 181, 176, 166, 168,  99,  58,\n",
              "          0,   0],\n",
              "       [  0,   0,   0,   0,   0,   0,   0,  40,  61,  44,  72,  41,  35,\n",
              "          0,   0,   0,   0,   0,   0,   0,   0,   0,   0,   0,   0,   0,\n",
              "          0,   0],\n",
              "       [  0,   0,   0,   0,   0,   0,   0,   0,   0,   0,   0,   0,   0,\n",
              "          0,   0,   0,   0,   0,   0,   0,   0,   0,   0,   0,   0,   0,\n",
              "          0,   0],\n",
              "       [  0,   0,   0,   0,   0,   0,   0,   0,   0,   0,   0,   0,   0,\n",
              "          0,   0,   0,   0,   0,   0,   0,   0,   0,   0,   0,   0,   0,\n",
              "          0,   0]], dtype=uint8)</pre></div><script>\n",
              "      (() => {\n",
              "      const titles = ['show data', 'hide data'];\n",
              "      let index = 0\n",
              "      document.querySelector('#id-45415d44-0855-4c19-8baf-8ef05caa50df button').onclick = (e) => {\n",
              "        document.querySelector('#id-45415d44-0855-4c19-8baf-8ef05caa50df').classList.toggle('show_array');\n",
              "        index = (++index) % 2;\n",
              "        document.querySelector('#id-45415d44-0855-4c19-8baf-8ef05caa50df button').textContent = titles[index];\n",
              "        e.preventDefault();\n",
              "        e.stopPropagation();\n",
              "      }\n",
              "      })();\n",
              "    </script>"
            ]
          },
          "metadata": {},
          "execution_count": 88
        }
      ],
      "source": [
        "# Pixels in the first train image\n",
        "fashion_train[0]"
      ]
    },
    {
      "cell_type": "code",
      "execution_count": null,
      "metadata": {
        "id": "a93MnJ5LSeFN",
        "tags": []
      },
      "outputs": [],
      "source": [
        "# A list of label names\n",
        "class_names = ['T-shirt/top', 'Trouser', 'Pullover', 'Dress', 'Coat',\n",
        "               'Sandal', 'Shirt', 'Sneaker', 'Bag', 'Ankle boot']"
      ]
    },
    {
      "cell_type": "code",
      "execution_count": null,
      "metadata": {
        "colab": {
          "base_uri": "https://localhost:8080/",
          "height": 386
        },
        "id": "nQBbX87MLfQ0",
        "outputId": "0f1002bf-c85f-4b2b-e8f3-840a70e7c5cf",
        "tags": []
      },
      "outputs": [
        {
          "output_type": "stream",
          "name": "stdout",
          "text": [
            "This type of image is: Ankle boot(9)\n"
          ]
        },
        {
          "output_type": "display_data",
          "data": {
            "text/plain": [
              "<Figure size 400x400 with 1 Axes>"
            ],
            "image/png": "[encoded data removed]"
          },
          "metadata": {}
        }
      ],
      "source": [
        "# Show the first image\n",
        "index = 0\n",
        "plt.figure(figsize=(4,4))\n",
        "plt.imshow(fashion_train[index], cmap='gray')\n",
        "# Display the label\n",
        "image_label = fashion_train_label[index]\n",
        "print('This type of image is: {}({})'.format(class_names[image_label], image_label))"
      ]
    },
    {
      "cell_type": "markdown",
      "metadata": {
        "id": "AXLTvIzIR7f3"
      },
      "source": [
        "We can also visualize several random images, to ensure that the labels match the images."
      ]
    },
    {
      "cell_type": "code",
      "execution_count": null,
      "metadata": {
        "colab": {
          "base_uri": "https://localhost:8080/",
          "height": 471
        },
        "id": "DMd5B7SiUQOg",
        "outputId": "fb2f0a1b-425b-4c6d-e3e5-4da1a518509d",
        "tags": []
      },
      "outputs": [
        {
          "output_type": "display_data",
          "data": {
            "text/plain": [
              "<Figure size 600x600 with 6 Axes>"
            ],
            "image/png": "[encoded data removed]"
          },
          "metadata": {}
        }
      ],
      "source": [
        "import random\n",
        "\n",
        "plt.figure(figsize=(6,6))\n",
        "\n",
        "for index in range(6):\n",
        "    ax = plt.subplot(2, 3, index+1)\n",
        "    random_index = random.choice(range(len(fashion_train)))\n",
        "    plt.imshow(fashion_train[random_index], cmap='gray')\n",
        "    plt.title(class_names[fashion_train_label[random_index]])"
      ]
    },
    {
      "cell_type": "markdown",
      "metadata": {
        "id": "l2b0zr0EsUp_"
      },
      "source": [
        "## 画像データの前処理"
      ]
    },
    {
      "cell_type": "markdown",
      "metadata": {
        "id": "aGBUWgukW3kx"
      },
      "source": [
        "## ピクセル値のスケーリング\n",
        "\n",
        "- **現状の値範囲**\n",
        " - ピクセル値：0〜255\n",
        " - 8ビット画像の標準範囲\n",
        "\n",
        "- **正規化処理**\n",
        " - 0〜1の範囲に変換\n",
        " - 255.0で除算\n",
        " - 浮動小数点での計算\n"
      ]
    },
    {
      "cell_type": "code",
      "execution_count": null,
      "metadata": {
        "id": "YsagpEZYWxp9",
        "tags": []
      },
      "outputs": [],
      "source": [
        "# Scaling the image pixels to be between 0 and 1\n",
        "fashion_train = fashion_train/255.0\n",
        "fashion_test = fashion_test/255.0"
      ]
    },
    {
      "cell_type": "markdown",
      "metadata": {
        "id": "D4t-RT5GsUp_"
      },
      "source": [
        "- **一次元配列への変換**\n",
        " - 全結合層用のデータ整形\n",
        " - 28×28ピクセル → 784次元\n",
        " - reshape関数で平坦化\n",
        "\n",
        "- **CNNとの違い**\n",
        " - 次回講義：畳み込みニューラルネットワーク\n",
        " - CNN：2次元画像を直接処理可能\n",
        " - 平坦化が不要\n",
        " - 画像処理に最適化された構造"
      ]
    },
    {
      "cell_type": "code",
      "execution_count": null,
      "metadata": {
        "tags": [],
        "id": "fQYwfQFgsUp_"
      },
      "outputs": [],
      "source": [
        "fashion_train = fashion_train.reshape(-1, 784)"
      ]
    },
    {
      "cell_type": "code",
      "execution_count": null,
      "metadata": {
        "tags": [],
        "id": "k4i98OIJsUqA"
      },
      "outputs": [],
      "source": [
        "fashion_test = fashion_test.reshape(-1, 784)"
      ]
    },
    {
      "cell_type": "code",
      "execution_count": null,
      "metadata": {
        "tags": [],
        "id": "TaUgcvDpsUqA",
        "outputId": "5ea31575-1429-4964-99ee-1fc4c03607d0",
        "colab": {
          "base_uri": "https://localhost:8080/"
        }
      },
      "outputs": [
        {
          "output_type": "execute_result",
          "data": {
            "text/plain": [
              "(60000, 784)"
            ]
          },
          "metadata": {},
          "execution_count": 95
        }
      ],
      "source": [
        "# Check the shape\n",
        "fashion_train.shape"
      ]
    },
    {
      "cell_type": "markdown",
      "metadata": {
        "id": "xj9ygbuUZQjz"
      },
      "source": [
        "## 多クラス分類モデルの作成\n",
        "\n",
        "- **ネットワーク構造**\n",
        " - 入力層：784ノード\n",
        " - 隠れ層1：64ノード（ReLU）\n",
        " - 隠れ層2：32ノード（ReLU）\n",
        " - 出力層：10ノード（softmax）"
      ]
    },
    {
      "cell_type": "code",
      "execution_count": null,
      "metadata": {
        "tags": [],
        "id": "KKTVhS8CsUqA"
      },
      "outputs": [],
      "source": [
        "# Define the layers in the network\n",
        "inputs = Input(shape=(784,))\n",
        "dense1 = Dense(64, activation='relu')(inputs)\n",
        "dense2 = Dense(32, activation='relu')(dense1)\n",
        "outputs = Dense(10, activation='softmax')(dense2)"
      ]
    },
    {
      "cell_type": "code",
      "execution_count": null,
      "metadata": {
        "tags": [],
        "id": "legqh1gxsUqA"
      },
      "outputs": [],
      "source": [
        "fashion_classifier = Model(inputs, outputs)"
      ]
    },
    {
      "cell_type": "markdown",
      "metadata": {
        "id": "pIpx54HesUqA"
      },
      "source": [
        "- **モデルのコンパイル**\n",
        " - 損失関数：sparse_categorical_crossentropy\n",
        " - 理由：ラベルが順序エンコーディング形式\n",
        " - オプティマイザー：Adam\n",
        " - 評価指標：精度"
      ]
    },
    {
      "cell_type": "code",
      "execution_count": null,
      "metadata": {
        "tags": [],
        "id": "MD-lQSIbsUqA"
      },
      "outputs": [],
      "source": [
        "# Compile the model\n",
        "fashion_classifier.compile(optimizer='adam',\n",
        "                           loss='sparse_categorical_crossentropy',\n",
        "                           metrics=['accuracy'])"
      ]
    },
    {
      "cell_type": "markdown",
      "metadata": {
        "id": "FOGrZDEYsUqB"
      },
      "source": [
        "- **モデルのコンパイル**\n",
        " - 損失関数：sparse_categorical_crossentropy\n",
        " - 理由：ラベルが順序エンコーディング形式\n",
        " - オプティマイザー：Adam\n",
        " - 評価指標：精度"
      ]
    },
    {
      "cell_type": "code",
      "execution_count": null,
      "metadata": {
        "colab": {
          "base_uri": "https://localhost:8080/"
        },
        "id": "nbg2muwlmzaz",
        "outputId": "41341a75-36bf-477d-ddd7-d972770c4110",
        "tags": []
      },
      "outputs": [
        {
          "output_type": "stream",
          "name": "stdout",
          "text": [
            "Epoch 1/10\n",
            "\u001b[1m1875/1875\u001b[0m \u001b[32m━━━━━━━━━━━━━━━━━━━━\u001b[0m\u001b[37m\u001b[0m \u001b[1m5s\u001b[0m 2ms/step - accuracy: 0.7671 - loss: 0.6731\n",
            "Epoch 2/10\n",
            "\u001b[1m1875/1875\u001b[0m \u001b[32m━━━━━━━━━━━━━━━━━━━━\u001b[0m\u001b[37m\u001b[0m \u001b[1m6s\u001b[0m 3ms/step - accuracy: 0.8600 - loss: 0.3886\n",
            "Epoch 3/10\n",
            "\u001b[1m1875/1875\u001b[0m \u001b[32m━━━━━━━━━━━━━━━━━━━━\u001b[0m\u001b[37m\u001b[0m \u001b[1m4s\u001b[0m 2ms/step - accuracy: 0.8721 - loss: 0.3518\n",
            "Epoch 4/10\n",
            "\u001b[1m1875/1875\u001b[0m \u001b[32m━━━━━━━━━━━━━━━━━━━━\u001b[0m\u001b[37m\u001b[0m \u001b[1m5s\u001b[0m 2ms/step - accuracy: 0.8808 - loss: 0.3226\n",
            "Epoch 5/10\n",
            "\u001b[1m1875/1875\u001b[0m \u001b[32m━━━━━━━━━━━━━━━━━━━━\u001b[0m\u001b[37m\u001b[0m \u001b[1m5s\u001b[0m 2ms/step - accuracy: 0.8857 - loss: 0.3105\n",
            "Epoch 6/10\n",
            "\u001b[1m1875/1875\u001b[0m \u001b[32m━━━━━━━━━━━━━━━━━━━━\u001b[0m\u001b[37m\u001b[0m \u001b[1m4s\u001b[0m 2ms/step - accuracy: 0.8881 - loss: 0.3008\n",
            "Epoch 7/10\n",
            "\u001b[1m1875/1875\u001b[0m \u001b[32m━━━━━━━━━━━━━━━━━━━━\u001b[0m\u001b[37m\u001b[0m \u001b[1m5s\u001b[0m 3ms/step - accuracy: 0.8935 - loss: 0.2860\n",
            "Epoch 8/10\n",
            "\u001b[1m1875/1875\u001b[0m \u001b[32m━━━━━━━━━━━━━━━━━━━━\u001b[0m\u001b[37m\u001b[0m \u001b[1m4s\u001b[0m 2ms/step - accuracy: 0.8973 - loss: 0.2775\n",
            "Epoch 9/10\n",
            "\u001b[1m1875/1875\u001b[0m \u001b[32m━━━━━━━━━━━━━━━━━━━━\u001b[0m\u001b[37m\u001b[0m \u001b[1m4s\u001b[0m 2ms/step - accuracy: 0.9009 - loss: 0.2665\n",
            "Epoch 10/10\n",
            "\u001b[1m1875/1875\u001b[0m \u001b[32m━━━━━━━━━━━━━━━━━━━━\u001b[0m\u001b[37m\u001b[0m \u001b[1m4s\u001b[0m 2ms/step - accuracy: 0.9019 - loss: 0.2615\n"
          ]
        }
      ],
      "source": [
        "history = fashion_classifier.fit(fashion_train, fashion_train_label, epochs=10, batch_size=32)"
      ]
    },
    {
      "cell_type": "markdown",
      "metadata": {
        "id": "71JCDJfZubbv"
      },
      "source": [
        "- **モデルの評価**\n",
        " - テストデータでの精度：88.4%\n",
        " - 予測形状：(10000, 10)\n",
        " - 各クラスの確率を出力"
      ]
    },
    {
      "cell_type": "code",
      "execution_count": null,
      "metadata": {
        "colab": {
          "base_uri": "https://localhost:8080/"
        },
        "id": "O2XST14vufRB",
        "outputId": "1c36bcf7-2933-4f78-d5e8-59b42676cf22",
        "tags": []
      },
      "outputs": [
        {
          "output_type": "stream",
          "name": "stdout",
          "text": [
            "\u001b[1m313/313\u001b[0m \u001b[32m━━━━━━━━━━━━━━━━━━━━\u001b[0m\u001b[37m\u001b[0m \u001b[1m1s\u001b[0m 2ms/step - accuracy: 0.8794 - loss: 0.3361\n",
            "Classification Accuracy:  0.8787000179290771\n"
          ]
        }
      ],
      "source": [
        "# Evaluate on test dataset\n",
        "evals_test = fashion_classifier.evaluate(fashion_test, fashion_test_label)\n",
        "print(\"Classification Accuracy: \", evals_test[1])"
      ]
    },
    {
      "cell_type": "markdown",
      "metadata": {
        "id": "x9A8sFX8sUqB"
      },
      "source": [
        "\n",
        "## 予測結果の解析\n",
        "\n",
        "- **出力の特徴**\n",
        " - 各画像に対して10個の確率値\n",
        " - 確率の合計は1\n",
        " - 最大確率のクラスを選択\n",
        "\n",
        "- **予測の確認**\n",
        " - np.argmaxで最大確率のインデックスを取得\n",
        " - 正解ラベルとの比較\n",
        " - 最初の5件のテストケースで検証"
      ]
    },
    {
      "cell_type": "code",
      "execution_count": null,
      "metadata": {
        "colab": {
          "base_uri": "https://localhost:8080/"
        },
        "outputId": "880271ff-a2fa-4b61-96ff-9eba20d8e16e",
        "tags": [],
        "id": "bN0A0bdZsUqC"
      },
      "outputs": [
        {
          "output_type": "stream",
          "name": "stderr",
          "text": [
            "WARNING:tensorflow:5 out of the last 322 calls to <function TensorFlowTrainer.make_predict_function.<locals>.one_step_on_data_distributed at 0x7b8b2e8b7370> triggered tf.function retracing. Tracing is expensive and the excessive number of tracings could be due to (1) creating @tf.function repeatedly in a loop, (2) passing tensors with different shapes, (3) passing Python objects instead of tensors. For (1), please define your @tf.function outside of the loop. For (2), @tf.function has reduce_retracing=True option that can avoid unnecessary retracing. For (3), please refer to https://www.tensorflow.org/guide/function#controlling_retracing and https://www.tensorflow.org/api_docs/python/tf/function for  more details.\n"
          ]
        },
        {
          "output_type": "stream",
          "name": "stdout",
          "text": [
            "\u001b[1m313/313\u001b[0m \u001b[32m━━━━━━━━━━━━━━━━━━━━\u001b[0m\u001b[37m\u001b[0m \u001b[1m1s\u001b[0m 2ms/step\n"
          ]
        }
      ],
      "source": [
        "predictions = fashion_classifier.predict(fashion_test)"
      ]
    },
    {
      "cell_type": "markdown",
      "metadata": {
        "id": "mYF9aQTj-GTa"
      },
      "source": [
        "There are 10,000 test images and 10 classes, the output is `(10000, 10)`."
      ]
    },
    {
      "cell_type": "code",
      "execution_count": null,
      "metadata": {
        "colab": {
          "base_uri": "https://localhost:8080/"
        },
        "id": "Ai46Kj1d7p1m",
        "outputId": "bdc0cd1d-9fa5-4ae4-8bba-24ee0c4e29f4",
        "tags": []
      },
      "outputs": [
        {
          "output_type": "execute_result",
          "data": {
            "text/plain": [
              "(10000, 10)"
            ]
          },
          "metadata": {},
          "execution_count": 102
        }
      ],
      "source": [
        "# check the shape of the predictions\n",
        "predictions.shape"
      ]
    },
    {
      "cell_type": "code",
      "execution_count": null,
      "metadata": {
        "colab": {
          "base_uri": "https://localhost:8080/"
        },
        "id": "Ph2r53Kt77Hg",
        "outputId": "0c1d431f-177e-4d9e-e980-00d0ccddcad0",
        "tags": []
      },
      "outputs": [
        {
          "output_type": "execute_result",
          "data": {
            "text/plain": [
              "array([[0.   , 0.   , 0.   , 0.   , 0.   , 0.   , 0.   , 0.112, 0.   ,\n",
              "        0.888],\n",
              "       [0.   , 0.   , 0.998, 0.   , 0.001, 0.   , 0.   , 0.   , 0.   ,\n",
              "        0.   ],\n",
              "       [0.   , 1.   , 0.   , 0.   , 0.   , 0.   , 0.   , 0.   , 0.   ,\n",
              "        0.   ],\n",
              "       [0.   , 1.   , 0.   , 0.   , 0.   , 0.   , 0.   , 0.   , 0.   ,\n",
              "        0.   ],\n",
              "       [0.103, 0.   , 0.018, 0.006, 0.01 , 0.   , 0.863, 0.   , 0.   ,\n",
              "        0.   ]], dtype=float32)"
            ]
          },
          "metadata": {},
          "execution_count": 103
        }
      ],
      "source": [
        "# Display the predictions for the first 5 test images\n",
        "np.around(predictions[:5],3)"
      ]
    },
    {
      "cell_type": "markdown",
      "metadata": {
        "id": "bOG64FhY-zdH"
      },
      "source": [
        "To output the indices with the highest probability for each image we can use `np.argmax`."
      ]
    },
    {
      "cell_type": "code",
      "execution_count": null,
      "metadata": {
        "colab": {
          "base_uri": "https://localhost:8080/"
        },
        "id": "C7bmDQ2k8191",
        "outputId": "677561c8-6885-46e1-e37f-f5b1760d2f06",
        "tags": []
      },
      "outputs": [
        {
          "output_type": "execute_result",
          "data": {
            "text/plain": [
              "array([9, 2, 1, 1, 6])"
            ]
          },
          "metadata": {},
          "execution_count": 104
        }
      ],
      "source": [
        "# Display the index with the highest probability for the first 5 test images\n",
        "np.argmax(predictions[:5], axis=1)"
      ]
    },
    {
      "cell_type": "markdown",
      "metadata": {
        "id": "p1G8vFKbsUqD"
      },
      "source": [
        "The ground-truth labels are also shown in the next cell, and they match correctly the predictions for the first 5 test images."
      ]
    },
    {
      "cell_type": "code",
      "execution_count": null,
      "metadata": {
        "colab": {
          "base_uri": "https://localhost:8080/"
        },
        "id": "5r3luKAi9IJp",
        "outputId": "e1b7d6a1-2d00-422b-cd78-093dc3c6c974",
        "tags": []
      },
      "outputs": [
        {
          "output_type": "execute_result",
          "data": {
            "text/plain": [
              "array([9, 2, 1, 1, 6], dtype=uint8)"
            ]
          },
          "metadata": {},
          "execution_count": 105
        }
      ],
      "source": [
        "# print the ground-truth label for the first 5 test images\n",
        "fashion_test_label[:5]"
      ]
    },
    {
      "cell_type": "markdown",
      "metadata": {
        "id": "TY-5ODXpvMjN"
      },
      "source": [
        "## 学習曲線の可視化\n",
        "\n",
        "- **プロット内容**\n",
        " - 訓練損失の推移\n",
        " - 精度の変化\n",
        " - 10エポックの推移を表示\n",
        "\n",
        "- **分析結果**\n",
        " - より長い学習の余地あり\n",
        " - 性能向上の可能性\n",
        " - エポック数の拡張を検討"
      ]
    },
    {
      "cell_type": "code",
      "execution_count": null,
      "metadata": {
        "tags": [],
        "id": "uNElPChTsUqE",
        "outputId": "ddc53b5d-28b1-41cc-fe48-f45f11589551",
        "colab": {
          "base_uri": "https://localhost:8080/",
          "height": 410
        }
      },
      "outputs": [
        {
          "output_type": "display_data",
          "data": {
            "text/plain": [
              "<Figure size 1200x400 with 2 Axes>"
            ],
            "image/png": "[encoded data removed]"
          },
          "metadata": {}
        }
      ],
      "source": [
        "# plot the accuracy and loss\n",
        "train_loss = history.history['loss']\n",
        "acc = history.history['accuracy']\n",
        "\n",
        "epochsn = np.arange(1, len(train_loss)+1,1)\n",
        "plt.figure(figsize=(12, 4))\n",
        "\n",
        "plt.subplot(1,2,1)\n",
        "plt.plot(epochsn, acc, 'b')\n",
        "plt.grid(color='gray', linestyle='--')\n",
        "plt.title('TRAINING ACCURACY')\n",
        "plt.xlabel('Epochs')\n",
        "plt.ylabel('Accuracy')\n",
        "\n",
        "plt.subplot(1,2,2)\n",
        "plt.plot(epochsn,train_loss, 'b')\n",
        "plt.grid(color='gray', linestyle='--')\n",
        "plt.title('TRAINING LOSS')\n",
        "plt.xlabel('Epochs')\n",
        "plt.ylabel('Loss')\n",
        "plt.show()"
      ]
    },
    {
      "cell_type": "markdown",
      "metadata": {
        "id": "P3PVr2P0sUqE"
      },
      "source": [
        "## モデルの再学習と評価\n",
        "\n",
        "- **モデルの性質**\n",
        " - 確率的な性質を持つ\n",
        " - 毎回異なる結果\n",
        " - パラメータの初期値が影響\n",
        "\n",
        "- **結果の違いの理由**\n",
        " - ランダムな初期化\n",
        " - 0に近い値で開始\n",
        " - 異なる収束解に到達\n",
        "\n",
        "- **再現性の確保**\n",
        " - ランダムシードの設定可能\n",
        " - 同じ結果を得ることが可能\n",
        " - 実験の再現性が重要な場合に使用"
      ]
    },
    {
      "cell_type": "code",
      "execution_count": null,
      "metadata": {
        "tags": [],
        "id": "T_yTSHzpsUqE",
        "outputId": "b17ce95a-14fd-4055-981a-9df4260ab29e",
        "colab": {
          "base_uri": "https://localhost:8080/"
        }
      },
      "outputs": [
        {
          "output_type": "stream",
          "name": "stdout",
          "text": [
            "\u001b[1m313/313\u001b[0m \u001b[32m━━━━━━━━━━━━━━━━━━━━\u001b[0m\u001b[37m\u001b[0m \u001b[1m1s\u001b[0m 1ms/step - accuracy: 0.8872 - loss: 0.3585\n",
            "Classification Accuracy:  0.8863000273704529\n"
          ]
        }
      ],
      "source": [
        "fashion_classifier_2 = Model(inputs, outputs)\n",
        "\n",
        "# Compile the model\n",
        "fashion_classifier_2.compile(optimizer='adam',\n",
        "                  loss='sparse_categorical_crossentropy',\n",
        "                  metrics=['accuracy'])\n",
        "\n",
        "# Train the model\n",
        "fashion_classifier_2.fit(fashion_train, fashion_train_label, epochs=10, batch_size=32, verbose=0)\n",
        "\n",
        "# Evaluate on test dataset\n",
        "evals_test = fashion_classifier_2.evaluate(fashion_test, fashion_test_label)\n",
        "print(\"Classification Accuracy: \", evals_test[1])"
      ]
    },
    {
      "cell_type": "markdown",
      "metadata": {
        "id": "EY7unjG2sUqE"
      },
      "source": [
        "# 9.3 回帰タスクについて\n",
        "\n",
        "- **回帰の特徴**\n",
        " - 連続値の予測\n",
        " - 単一または複数値の予測が可能\n",
        " - 分類タスクと類似の構造\n",
        "\n",
        "- **ハイパーパラメータ設定**\n",
        " - 入力層：特徴量と同数\n",
        " - 隠れ層：1-10層が一般的\n",
        " - ニューロン数：10-100が一般的\n",
        " - 活性化関数：主にReLU"
      ]
    },
    {
      "cell_type": "markdown",
      "metadata": {
        "id": "oZlUF1FzsUqE"
      },
      "source": [
        "## カリフォルニア住宅データセットによる回帰\n",
        "\n",
        "- **データセット概要**\n",
        " - scikit-learnから利用可能\n",
        " - 目標：住宅価格の予測\n",
        " - 複数の特徴量を使用\n",
        "\n",
        "- **データの前処理**\n",
        " - 欠損値の確認\n",
        " - 特徴量の分布確認\n",
        " - 相関関係の分析\n",
        " - データの分割とスケーリング\n",
        "\n",
        "\n",
        "## モデルの学習と評価\n",
        "\n",
        "- **学習パラメータ**\n",
        " - 200エポック\n",
        " - 損失の推移を観察\n",
        " - 予測精度の確認\n",
        "\n",
        "- **評価指標**\n",
        " - 平均二乗誤差（`Mean Squared Error(MSE)`）\n",
        " - 平均絶対誤差（`Mean Absolute Error (MAE)`）\n",
        " - 決定係数（R²スコア）\n",
        "\n",
        "\n",
        "\n",
        "| **Hyperparameter** | **Typical value** |\n",
        "| --- | --- |\n",
        "| Neurons in input layer | Same as the number of input features |\n",
        "| Number of hidden layer(s) | Depends on the problem, typically from 1 to 10 |\n",
        "| Neurons per hidden layer | Depends on the problem, typically from 10 to 100 |\n",
        "| Activation in hidden layers|  Mostly ReLU |\n",
        "| Activation in output layer |None in most cases|\n",
        "| Loss function | MSE or MAE |\n",
        "| Optimizer | Mostly Adam, SGD, RMSProp |"
      ]
    },
    {
      "cell_type": "markdown",
      "metadata": {
        "id": "_RplpeLNUYj0"
      },
      "source": [
        "## カリフォルニア住宅データセット\n",
        "\n",
        "- **データセット概要**\n",
        " - scikit-learnから利用可能\n",
        " - 目標：住宅価格の予測\n",
        " - 複数の特徴量を使用\n",
        "\n",
        "- **データの前処理**\n",
        " - 欠損値の確認\n",
        " - 特徴量の分布確認\n",
        " - 相関関係の分析\n",
        " - データの分割とスケーリング"
      ]
    },
    {
      "cell_type": "code",
      "source": [
        "# Import libraries\n",
        "import numpy as np\n",
        "import pandas as pd\n",
        "import sklearn\n",
        "import seaborn as sns\n",
        "import matplotlib.pyplot as plt\n",
        "from sklearn.model_selection import train_test_split"
      ],
      "metadata": {
        "id": "Qwps2UNFPs-d"
      },
      "execution_count": null,
      "outputs": []
    },
    {
      "cell_type": "code",
      "execution_count": null,
      "metadata": {
        "tags": [],
        "id": "ZzDuNlNbsUqE",
        "outputId": "a85de07b-53df-46f0-b3b1-19341e96d00e",
        "colab": {
          "base_uri": "https://localhost:8080/",
          "height": 206
        }
      },
      "outputs": [
        {
          "output_type": "execute_result",
          "data": {
            "text/plain": [
              "   MedInc  HouseAge  AveRooms  AveBedrms  Population  AveOccup  Latitude  \\\n",
              "0  8.3252      41.0  6.984127   1.023810       322.0  2.555556     37.88   \n",
              "1  8.3014      21.0  6.238137   0.971880      2401.0  2.109842     37.86   \n",
              "2  7.2574      52.0  8.288136   1.073446       496.0  2.802260     37.85   \n",
              "3  5.6431      52.0  5.817352   1.073059       558.0  2.547945     37.85   \n",
              "4  3.8462      52.0  6.281853   1.081081       565.0  2.181467     37.85   \n",
              "\n",
              "   Longitude  MedHouseVal  \n",
              "0    -122.23        4.526  \n",
              "1    -122.22        3.585  \n",
              "2    -122.24        3.521  \n",
              "3    -122.25        3.413  \n",
              "4    -122.25        3.422  "
            ],
            "text/html": [
              "\n",
              "  <div id=\"df-46d99824-3eba-41b8-a55b-99d869b91513\" class=\"colab-df-container\">\n",
              "    <div>\n",
              "<style scoped>\n",
              "    .dataframe tbody tr th:only-of-type {\n",
              "        vertical-align: middle;\n",
              "    }\n",
              "\n",
              "    .dataframe tbody tr th {\n",
              "        vertical-align: top;\n",
              "    }\n",
              "\n",
              "    .dataframe thead th {\n",
              "        text-align: right;\n",
              "    }\n",
              "</style>\n",
              "<table border=\"1\" class=\"dataframe\">\n",
              "  <thead>\n",
              "    <tr style=\"text-align: right;\">\n",
              "      <th></th>\n",
              "      <th>MedInc</th>\n",
              "      <th>HouseAge</th>\n",
              "      <th>AveRooms</th>\n",
              "      <th>AveBedrms</th>\n",
              "      <th>Population</th>\n",
              "      <th>AveOccup</th>\n",
              "      <th>Latitude</th>\n",
              "      <th>Longitude</th>\n",
              "      <th>MedHouseVal</th>\n",
              "    </tr>\n",
              "  </thead>\n",
              "  <tbody>\n",
              "    <tr>\n",
              "      <th>0</th>\n",
              "      <td>8.3252</td>\n",
              "      <td>41.0</td>\n",
              "      <td>6.984127</td>\n",
              "      <td>1.023810</td>\n",
              "      <td>322.0</td>\n",
              "      <td>2.555556</td>\n",
              "      <td>37.88</td>\n",
              "      <td>-122.23</td>\n",
              "      <td>4.526</td>\n",
              "    </tr>\n",
              "    <tr>\n",
              "      <th>1</th>\n",
              "      <td>8.3014</td>\n",
              "      <td>21.0</td>\n",
              "      <td>6.238137</td>\n",
              "      <td>0.971880</td>\n",
              "      <td>2401.0</td>\n",
              "      <td>2.109842</td>\n",
              "      <td>37.86</td>\n",
              "      <td>-122.22</td>\n",
              "      <td>3.585</td>\n",
              "    </tr>\n",
              "    <tr>\n",
              "      <th>2</th>\n",
              "      <td>7.2574</td>\n",
              "      <td>52.0</td>\n",
              "      <td>8.288136</td>\n",
              "      <td>1.073446</td>\n",
              "      <td>496.0</td>\n",
              "      <td>2.802260</td>\n",
              "      <td>37.85</td>\n",
              "      <td>-122.24</td>\n",
              "      <td>3.521</td>\n",
              "    </tr>\n",
              "    <tr>\n",
              "      <th>3</th>\n",
              "      <td>5.6431</td>\n",
              "      <td>52.0</td>\n",
              "      <td>5.817352</td>\n",
              "      <td>1.073059</td>\n",
              "      <td>558.0</td>\n",
              "      <td>2.547945</td>\n",
              "      <td>37.85</td>\n",
              "      <td>-122.25</td>\n",
              "      <td>3.413</td>\n",
              "    </tr>\n",
              "    <tr>\n",
              "      <th>4</th>\n",
              "      <td>3.8462</td>\n",
              "      <td>52.0</td>\n",
              "      <td>6.281853</td>\n",
              "      <td>1.081081</td>\n",
              "      <td>565.0</td>\n",
              "      <td>2.181467</td>\n",
              "      <td>37.85</td>\n",
              "      <td>-122.25</td>\n",
              "      <td>3.422</td>\n",
              "    </tr>\n",
              "  </tbody>\n",
              "</table>\n",
              "</div>\n",
              "    <div class=\"colab-df-buttons\">\n",
              "\n",
              "  <div class=\"colab-df-container\">\n",
              "    <button class=\"colab-df-convert\" onclick=\"convertToInteractive('df-46d99824-3eba-41b8-a55b-99d869b91513')\"\n",
              "            title=\"Convert this dataframe to an interactive table.\"\n",
              "            style=\"display:none;\">\n",
              "\n",
              "  <svg xmlns=\"http://www.w3.org/2000/svg\" height=\"24px\" viewBox=\"0 -960 960 960\">\n",
              "    <path d=\"M120-120v-720h720v720H120Zm60-500h600v-160H180v160Zm220 220h160v-160H400v160Zm0 220h160v-160H400v160ZM180-400h160v-160H180v160Zm440 0h160v-160H620v160ZM180-180h160v-160H180v160Zm440 0h160v-160H620v160Z\"/>\n",
              "  </svg>\n",
              "    </button>\n",
              "\n",
              "  <style>\n",
              "    .colab-df-container {\n",
              "      display:flex;\n",
              "      gap: 12px;\n",
              "    }\n",
              "\n",
              "    .colab-df-convert {\n",
              "      background-color: #E8F0FE;\n",
              "      border: none;\n",
              "      border-radius: 50%;\n",
              "      cursor: pointer;\n",
              "      display: none;\n",
              "      fill: #1967D2;\n",
              "      height: 32px;\n",
              "      padding: 0 0 0 0;\n",
              "      width: 32px;\n",
              "    }\n",
              "\n",
              "    .colab-df-convert:hover {\n",
              "      background-color: #E2EBFA;\n",
              "      box-shadow: 0px 1px 2px rgba(60, 64, 67, 0.3), 0px 1px 3px 1px rgba(60, 64, 67, 0.15);\n",
              "      fill: #174EA6;\n",
              "    }\n",
              "\n",
              "    .colab-df-buttons div {\n",
              "      margin-bottom: 4px;\n",
              "    }\n",
              "\n",
              "    [theme=dark] .colab-df-convert {\n",
              "      background-color: #3B4455;\n",
              "      fill: #D2E3FC;\n",
              "    }\n",
              "\n",
              "    [theme=dark] .colab-df-convert:hover {\n",
              "      background-color: #434B5C;\n",
              "      box-shadow: 0px 1px 3px 1px rgba(0, 0, 0, 0.15);\n",
              "      filter: drop-shadow(0px 1px 2px rgba(0, 0, 0, 0.3));\n",
              "      fill: #FFFFFF;\n",
              "    }\n",
              "  </style>\n",
              "\n",
              "    <script>\n",
              "      const buttonEl =\n",
              "        document.querySelector('#df-46d99824-3eba-41b8-a55b-99d869b91513 button.colab-df-convert');\n",
              "      buttonEl.style.display =\n",
              "        google.colab.kernel.accessAllowed ? 'block' : 'none';\n",
              "\n",
              "      async function convertToInteractive(key) {\n",
              "        const element = document.querySelector('#df-46d99824-3eba-41b8-a55b-99d869b91513');\n",
              "        const dataTable =\n",
              "          await google.colab.kernel.invokeFunction('convertToInteractive',\n",
              "                                                    [key], {});\n",
              "        if (!dataTable) return;\n",
              "\n",
              "        const docLinkHtml = 'Like what you see? Visit the ' +\n",
              "          '<a target=\"_blank\" href=https://colab.research.google.com/notebooks/data_table.ipynb>data table notebook</a>'\n",
              "          + ' to learn more about interactive tables.';\n",
              "        element.innerHTML = '';\n",
              "        dataTable['output_type'] = 'display_data';\n",
              "        await google.colab.output.renderOutput(dataTable, element);\n",
              "        const docLink = document.createElement('div');\n",
              "        docLink.innerHTML = docLinkHtml;\n",
              "        element.appendChild(docLink);\n",
              "      }\n",
              "    </script>\n",
              "  </div>\n",
              "\n",
              "\n",
              "<div id=\"df-e14eb7a0-b397-455f-b4f8-0c5d65d3764e\">\n",
              "  <button class=\"colab-df-quickchart\" onclick=\"quickchart('df-e14eb7a0-b397-455f-b4f8-0c5d65d3764e')\"\n",
              "            title=\"Suggest charts\"\n",
              "            style=\"display:none;\">\n",
              "\n",
              "<svg xmlns=\"http://www.w3.org/2000/svg\" height=\"24px\"viewBox=\"0 0 24 24\"\n",
              "     width=\"24px\">\n",
              "    <g>\n",
              "        <path d=\"M19 3H5c-1.1 0-2 .9-2 2v14c0 1.1.9 2 2 2h14c1.1 0 2-.9 2-2V5c0-1.1-.9-2-2-2zM9 17H7v-7h2v7zm4 0h-2V7h2v10zm4 0h-2v-4h2v4z\"/>\n",
              "    </g>\n",
              "</svg>\n",
              "  </button>\n",
              "\n",
              "<style>\n",
              "  .colab-df-quickchart {\n",
              "      --bg-color: #E8F0FE;\n",
              "      --fill-color: #1967D2;\n",
              "      --hover-bg-color: #E2EBFA;\n",
              "      --hover-fill-color: #174EA6;\n",
              "      --disabled-fill-color: #AAA;\n",
              "      --disabled-bg-color: #DDD;\n",
              "  }\n",
              "\n",
              "  [theme=dark] .colab-df-quickchart {\n",
              "      --bg-color: #3B4455;\n",
              "      --fill-color: #D2E3FC;\n",
              "      --hover-bg-color: #434B5C;\n",
              "      --hover-fill-color: #FFFFFF;\n",
              "      --disabled-bg-color: #3B4455;\n",
              "      --disabled-fill-color: #666;\n",
              "  }\n",
              "\n",
              "  .colab-df-quickchart {\n",
              "    background-color: var(--bg-color);\n",
              "    border: none;\n",
              "    border-radius: 50%;\n",
              "    cursor: pointer;\n",
              "    display: none;\n",
              "    fill: var(--fill-color);\n",
              "    height: 32px;\n",
              "    padding: 0;\n",
              "    width: 32px;\n",
              "  }\n",
              "\n",
              "  .colab-df-quickchart:hover {\n",
              "    background-color: var(--hover-bg-color);\n",
              "    box-shadow: 0 1px 2px rgba(60, 64, 67, 0.3), 0 1px 3px 1px rgba(60, 64, 67, 0.15);\n",
              "    fill: var(--button-hover-fill-color);\n",
              "  }\n",
              "\n",
              "  .colab-df-quickchart-complete:disabled,\n",
              "  .colab-df-quickchart-complete:disabled:hover {\n",
              "    background-color: var(--disabled-bg-color);\n",
              "    fill: var(--disabled-fill-color);\n",
              "    box-shadow: none;\n",
              "  }\n",
              "\n",
              "  .colab-df-spinner {\n",
              "    border: 2px solid var(--fill-color);\n",
              "    border-color: transparent;\n",
              "    border-bottom-color: var(--fill-color);\n",
              "    animation:\n",
              "      spin 1s steps(1) infinite;\n",
              "  }\n",
              "\n",
              "  @keyframes spin {\n",
              "    0% {\n",
              "      border-color: transparent;\n",
              "      border-bottom-color: var(--fill-color);\n",
              "      border-left-color: var(--fill-color);\n",
              "    }\n",
              "    20% {\n",
              "      border-color: transparent;\n",
              "      border-left-color: var(--fill-color);\n",
              "      border-top-color: var(--fill-color);\n",
              "    }\n",
              "    30% {\n",
              "      border-color: transparent;\n",
              "      border-left-color: var(--fill-color);\n",
              "      border-top-color: var(--fill-color);\n",
              "      border-right-color: var(--fill-color);\n",
              "    }\n",
              "    40% {\n",
              "      border-color: transparent;\n",
              "      border-right-color: var(--fill-color);\n",
              "      border-top-color: var(--fill-color);\n",
              "    }\n",
              "    60% {\n",
              "      border-color: transparent;\n",
              "      border-right-color: var(--fill-color);\n",
              "    }\n",
              "    80% {\n",
              "      border-color: transparent;\n",
              "      border-right-color: var(--fill-color);\n",
              "      border-bottom-color: var(--fill-color);\n",
              "    }\n",
              "    90% {\n",
              "      border-color: transparent;\n",
              "      border-bottom-color: var(--fill-color);\n",
              "    }\n",
              "  }\n",
              "</style>\n",
              "\n",
              "  <script>\n",
              "    async function quickchart(key) {\n",
              "      const quickchartButtonEl =\n",
              "        document.querySelector('#' + key + ' button');\n",
              "      quickchartButtonEl.disabled = true;  // To prevent multiple clicks.\n",
              "      quickchartButtonEl.classList.add('colab-df-spinner');\n",
              "      try {\n",
              "        const charts = await google.colab.kernel.invokeFunction(\n",
              "            'suggestCharts', [key], {});\n",
              "      } catch (error) {\n",
              "        console.error('Error during call to suggestCharts:', error);\n",
              "      }\n",
              "      quickchartButtonEl.classList.remove('colab-df-spinner');\n",
              "      quickchartButtonEl.classList.add('colab-df-quickchart-complete');\n",
              "    }\n",
              "    (() => {\n",
              "      let quickchartButtonEl =\n",
              "        document.querySelector('#df-e14eb7a0-b397-455f-b4f8-0c5d65d3764e button');\n",
              "      quickchartButtonEl.style.display =\n",
              "        google.colab.kernel.accessAllowed ? 'block' : 'none';\n",
              "    })();\n",
              "  </script>\n",
              "</div>\n",
              "\n",
              "    </div>\n",
              "  </div>\n"
            ],
            "application/vnd.google.colaboratory.intrinsic+json": {
              "type": "dataframe",
              "variable_name": "housing",
              "summary": "{\n  \"name\": \"housing\",\n  \"rows\": 20640,\n  \"fields\": [\n    {\n      \"column\": \"MedInc\",\n      \"properties\": {\n        \"dtype\": \"number\",\n        \"std\": 1.8998217179452732,\n        \"min\": 0.4999,\n        \"max\": 15.0001,\n        \"num_unique_values\": 12928,\n        \"samples\": [\n          5.0286,\n          2.0433,\n          6.1228\n        ],\n        \"semantic_type\": \"\",\n        \"description\": \"\"\n      }\n    },\n    {\n      \"column\": \"HouseAge\",\n      \"properties\": {\n        \"dtype\": \"number\",\n        \"std\": 12.585557612111637,\n        \"min\": 1.0,\n        \"max\": 52.0,\n        \"num_unique_values\": 52,\n        \"samples\": [\n          35.0,\n          25.0,\n          7.0\n        ],\n        \"semantic_type\": \"\",\n        \"description\": \"\"\n      }\n    },\n    {\n      \"column\": \"AveRooms\",\n      \"properties\": {\n        \"dtype\": \"number\",\n        \"std\": 2.4741731394243205,\n        \"min\": 0.8461538461538461,\n        \"max\": 141.9090909090909,\n        \"num_unique_values\": 19392,\n        \"samples\": [\n          6.111269614835948,\n          5.912820512820513,\n          5.7924528301886795\n        ],\n        \"semantic_type\": \"\",\n        \"description\": \"\"\n      }\n    },\n    {\n      \"column\": \"AveBedrms\",\n      \"properties\": {\n        \"dtype\": \"number\",\n        \"std\": 0.47391085679546435,\n        \"min\": 0.3333333333333333,\n        \"max\": 34.06666666666667,\n        \"num_unique_values\": 14233,\n        \"samples\": [\n          0.9906542056074766,\n          1.112099644128114,\n          1.0398230088495575\n        ],\n        \"semantic_type\": \"\",\n        \"description\": \"\"\n      }\n    },\n    {\n      \"column\": \"Population\",\n      \"properties\": {\n        \"dtype\": \"number\",\n        \"std\": 1132.4621217653375,\n        \"min\": 3.0,\n        \"max\": 35682.0,\n        \"num_unique_values\": 3888,\n        \"samples\": [\n          4169.0,\n          636.0,\n          3367.0\n        ],\n        \"semantic_type\": \"\",\n        \"description\": \"\"\n      }\n    },\n    {\n      \"column\": \"AveOccup\",\n      \"properties\": {\n        \"dtype\": \"number\",\n        \"std\": 10.386049562213591,\n        \"min\": 0.6923076923076923,\n        \"max\": 1243.3333333333333,\n        \"num_unique_values\": 18841,\n        \"samples\": [\n          2.6939799331103678,\n          3.559375,\n          3.297082228116711\n        ],\n        \"semantic_type\": \"\",\n        \"description\": \"\"\n      }\n    },\n    {\n      \"column\": \"Latitude\",\n      \"properties\": {\n        \"dtype\": \"number\",\n        \"std\": 2.1359523974571117,\n        \"min\": 32.54,\n        \"max\": 41.95,\n        \"num_unique_values\": 862,\n        \"samples\": [\n          33.7,\n          34.41,\n          38.24\n        ],\n        \"semantic_type\": \"\",\n        \"description\": \"\"\n      }\n    },\n    {\n      \"column\": \"Longitude\",\n      \"properties\": {\n        \"dtype\": \"number\",\n        \"std\": 2.003531723502581,\n        \"min\": -124.35,\n        \"max\": -114.31,\n        \"num_unique_values\": 844,\n        \"samples\": [\n          -118.63,\n          -119.86,\n          -121.26\n        ],\n        \"semantic_type\": \"\",\n        \"description\": \"\"\n      }\n    },\n    {\n      \"column\": \"MedHouseVal\",\n      \"properties\": {\n        \"dtype\": \"number\",\n        \"std\": 1.1539561587441483,\n        \"min\": 0.14999,\n        \"max\": 5.00001,\n        \"num_unique_values\": 3842,\n        \"samples\": [\n          1.943,\n          3.79,\n          2.301\n        ],\n        \"semantic_type\": \"\",\n        \"description\": \"\"\n      }\n    }\n  ]\n}"
            }
          },
          "metadata": {},
          "execution_count": 109
        }
      ],
      "source": [
        "from sklearn.datasets import fetch_california_housing\n",
        "\n",
        "housing = fetch_california_housing(as_frame=True).frame\n",
        "housing.head()"
      ]
    },
    {
      "cell_type": "code",
      "execution_count": null,
      "metadata": {
        "tags": [],
        "id": "NRdR333asUqE",
        "outputId": "a77dfdd5-d83d-4707-a618-30bdc1b344ac",
        "colab": {
          "base_uri": "https://localhost:8080/"
        }
      },
      "outputs": [
        {
          "output_type": "execute_result",
          "data": {
            "text/plain": [
              "(20640, 9)"
            ]
          },
          "metadata": {},
          "execution_count": 110
        }
      ],
      "source": [
        "# Check the shape of the dataset\n",
        "housing.shape"
      ]
    },
    {
      "cell_type": "markdown",
      "metadata": {
        "id": "vkmAT_gdsUqE"
      },
      "source": [
        "欠損値"
      ]
    },
    {
      "cell_type": "code",
      "execution_count": null,
      "metadata": {
        "tags": [],
        "id": "BA4gj-RRsUqE",
        "outputId": "beaa7774-712b-4b21-bb1c-93163ee0ec44",
        "colab": {
          "base_uri": "https://localhost:8080/",
          "height": 366
        }
      },
      "outputs": [
        {
          "output_type": "execute_result",
          "data": {
            "text/plain": [
              "MedInc         0\n",
              "HouseAge       0\n",
              "AveRooms       0\n",
              "AveBedrms      0\n",
              "Population     0\n",
              "AveOccup       0\n",
              "Latitude       0\n",
              "Longitude      0\n",
              "MedHouseVal    0\n",
              "dtype: int64"
            ],
            "text/html": [
              "<div>\n",
              "<style scoped>\n",
              "    .dataframe tbody tr th:only-of-type {\n",
              "        vertical-align: middle;\n",
              "    }\n",
              "\n",
              "    .dataframe tbody tr th {\n",
              "        vertical-align: top;\n",
              "    }\n",
              "\n",
              "    .dataframe thead th {\n",
              "        text-align: right;\n",
              "    }\n",
              "</style>\n",
              "<table border=\"1\" class=\"dataframe\">\n",
              "  <thead>\n",
              "    <tr style=\"text-align: right;\">\n",
              "      <th></th>\n",
              "      <th>0</th>\n",
              "    </tr>\n",
              "  </thead>\n",
              "  <tbody>\n",
              "    <tr>\n",
              "      <th>MedInc</th>\n",
              "      <td>0</td>\n",
              "    </tr>\n",
              "    <tr>\n",
              "      <th>HouseAge</th>\n",
              "      <td>0</td>\n",
              "    </tr>\n",
              "    <tr>\n",
              "      <th>AveRooms</th>\n",
              "      <td>0</td>\n",
              "    </tr>\n",
              "    <tr>\n",
              "      <th>AveBedrms</th>\n",
              "      <td>0</td>\n",
              "    </tr>\n",
              "    <tr>\n",
              "      <th>Population</th>\n",
              "      <td>0</td>\n",
              "    </tr>\n",
              "    <tr>\n",
              "      <th>AveOccup</th>\n",
              "      <td>0</td>\n",
              "    </tr>\n",
              "    <tr>\n",
              "      <th>Latitude</th>\n",
              "      <td>0</td>\n",
              "    </tr>\n",
              "    <tr>\n",
              "      <th>Longitude</th>\n",
              "      <td>0</td>\n",
              "    </tr>\n",
              "    <tr>\n",
              "      <th>MedHouseVal</th>\n",
              "      <td>0</td>\n",
              "    </tr>\n",
              "  </tbody>\n",
              "</table>\n",
              "</div><br><label><b>dtype:</b> int64</label>"
            ]
          },
          "metadata": {},
          "execution_count": 111
        }
      ],
      "source": [
        "housing.isnull().sum()"
      ]
    },
    {
      "cell_type": "code",
      "execution_count": null,
      "metadata": {
        "tags": [],
        "id": "HKPFCsnXsUqF",
        "outputId": "dd1033c0-5772-4ec3-ad6a-b83a14ca372d",
        "colab": {
          "base_uri": "https://localhost:8080/",
          "height": 545
        }
      },
      "outputs": [
        {
          "output_type": "display_data",
          "data": {
            "text/plain": [
              "<Figure size 800x600 with 9 Axes>"
            ],
            "image/png": "[encoded data removed]"
          },
          "metadata": {}
        }
      ],
      "source": [
        "housing.hist(bins=20, figsize=(8,6))\n",
        "plt.show()"
      ]
    },
    {
      "cell_type": "markdown",
      "metadata": {
        "id": "YmNz3-2JsUqF"
      },
      "source": [
        "相関関係"
      ]
    },
    {
      "cell_type": "code",
      "execution_count": null,
      "metadata": {
        "tags": [],
        "id": "uT8OAzeMsUqF",
        "outputId": "6ea7b6b1-f85e-4663-8d32-7fb78541a15c",
        "colab": {
          "base_uri": "https://localhost:8080/",
          "height": 515
        }
      },
      "outputs": [
        {
          "output_type": "display_data",
          "data": {
            "text/plain": [
              "<Figure size 640x480 with 2 Axes>"
            ],
            "image/png": "[encoded data removed]"
          },
          "metadata": {}
        }
      ],
      "source": [
        "correlation = housing.corr()\n",
        "sns.heatmap(correlation, annot=True);\n",
        "# plt.show()\n",
        "#housevalは住宅価格　incは所得"
      ]
    },
    {
      "cell_type": "code",
      "execution_count": null,
      "metadata": {
        "tags": [],
        "id": "euzMh4G3sUqF",
        "outputId": "630ed4c5-d984-470a-abf1-3a7c4857aba9",
        "colab": {
          "base_uri": "https://localhost:8080/",
          "height": 547
        }
      },
      "outputs": [
        {
          "output_type": "display_data",
          "data": {
            "text/plain": [
              "<Figure size 600x600 with 2 Axes>"
            ],
            "image/png": "[encoded data removed]"
          },
          "metadata": {}
        }
      ],
      "source": [
        "housing.plot(kind=\"scatter\", x=\"Longitude\", y=\"Latitude\", c=\"MedHouseVal\", cmap=\"jet\", colorbar=True, legend=True, sharex=False, figsize=(6,6),)\n",
        "plt.show()"
      ]
    },
    {
      "cell_type": "markdown",
      "metadata": {
        "id": "LnnDzegksUqF"
      },
      "source": [
        "And, if we check the median house value column, we can see that the values are in the range from 0 to 5."
      ]
    },
    {
      "cell_type": "code",
      "execution_count": null,
      "metadata": {
        "tags": [],
        "id": "lb4yxnAbsUqF",
        "outputId": "0026e646-f0a6-4f8c-c7c0-07f309cd9856",
        "colab": {
          "base_uri": "https://localhost:8080/",
          "height": 430
        }
      },
      "outputs": [
        {
          "output_type": "display_data",
          "data": {
            "text/plain": [
              "<Figure size 640x480 with 1 Axes>"
            ],
            "image/png": "[encoded data removed]"
          },
          "metadata": {}
        }
      ],
      "source": [
        "plt.plot(housing['MedHouseVal'], 'bo')\n",
        "plt.show()"
      ]
    },
    {
      "cell_type": "markdown",
      "metadata": {
        "id": "d5JaejXUsUqF"
      },
      "source": [
        "Let's get the features and the target values, and create training and testing datasets."
      ]
    },
    {
      "cell_type": "code",
      "execution_count": null,
      "metadata": {
        "tags": [],
        "id": "Xds8fk9XsUqF"
      },
      "outputs": [],
      "source": [
        "X = housing.drop('MedHouseVal', axis=1)\n",
        "y = housing['MedHouseVal']"
      ]
    },
    {
      "cell_type": "code",
      "execution_count": null,
      "metadata": {
        "tags": [],
        "id": "DqhPCn6csUqF"
      },
      "outputs": [],
      "source": [
        "X_train, X_test, y_train, y_test = train_test_split(X, y, test_size=0.2, random_state=42)"
      ]
    },
    {
      "cell_type": "code",
      "execution_count": null,
      "metadata": {
        "tags": [],
        "id": "psZhX1z_sUqF",
        "outputId": "dbb3864d-fa2d-4cc2-b481-99ddca909d29",
        "colab": {
          "base_uri": "https://localhost:8080/"
        }
      },
      "outputs": [
        {
          "output_type": "stream",
          "name": "stdout",
          "text": [
            "Training data inputs (16512, 8)\n",
            "Training labels (16512,)\n",
            "Testing data inputs (4128, 8)\n",
            "Testing labels (4128,)\n"
          ]
        }
      ],
      "source": [
        "print('Training data inputs', X_train.shape)\n",
        "print('Training labels', y_train.shape)\n",
        "print('Testing data inputs', X_test.shape)\n",
        "print('Testing labels', y_test.shape)"
      ]
    },
    {
      "cell_type": "code",
      "execution_count": null,
      "metadata": {
        "tags": [],
        "id": "3lz-NRRNsUqH"
      },
      "outputs": [],
      "source": [
        "# Scaling the features to be between 0 and 1\n",
        "from sklearn.preprocessing import MinMaxScaler\n",
        "\n",
        "scaler = MinMaxScaler()\n",
        "\n",
        "X_train_scaled = scaler.fit_transform(X_train)\n",
        "X_test_scaled = scaler.transform(X_test)"
      ]
    },
    {
      "cell_type": "markdown",
      "metadata": {
        "id": "XopGAY-ksUqH"
      },
      "source": [
        "## 回帰モデルの構築\n",
        "\n",
        "- **モデル構造**\n",
        " - 入力：8特徴量\n",
        " - 隠れ層：32ニューロン×2\n",
        " - 出力層：1ニューロン\n",
        " - 活性化関数なし（出力層）\n"
      ]
    },
    {
      "cell_type": "code",
      "source": [
        "import tensorflow as tf\n",
        "from tensorflow import keras\n",
        "\n",
        "# Print the version of tensorflow\n",
        "print(\"TensorFlow version:{}\".format(tf.__version__))\n",
        "\n",
        "from tensorflow.keras.layers import Input, Dense\n",
        "\n",
        "# Import the layers and the model\n",
        "from keras.layers import Input\n",
        "from keras.layers import Dense\n",
        "from keras.models import Model"
      ],
      "metadata": {
        "colab": {
          "base_uri": "https://localhost:8080/"
        },
        "id": "gc2jAV4WQjs5",
        "outputId": "c984ec72-ebb1-4bd5-a17a-7bd4e4ebeb7f"
      },
      "execution_count": null,
      "outputs": [
        {
          "output_type": "stream",
          "name": "stdout",
          "text": [
            "TensorFlow version:2.17.1\n"
          ]
        }
      ]
    },
    {
      "cell_type": "code",
      "execution_count": null,
      "metadata": {
        "tags": [],
        "id": "OEHovHNNsUqH"
      },
      "outputs": [],
      "source": [
        "# Define the layers in the network\n",
        "inputs = Input(shape=(8,))\n",
        "dense1 = Dense(32, activation='relu')(inputs)\n",
        "dense2 = Dense(32, activation='relu')(dense1)\n",
        "outputs = Dense(1)(dense2)"
      ]
    },
    {
      "cell_type": "code",
      "execution_count": null,
      "metadata": {
        "tags": [],
        "id": "XSnVxxZ_sUqH"
      },
      "outputs": [],
      "source": [
        "# Define the model by providing the inputs and outputs\n",
        "model_2 = Model(inputs, outputs)"
      ]
    },
    {
      "cell_type": "markdown",
      "metadata": {
        "tags": [],
        "id": "g_wD3GHJsUqH"
      },
      "source": [
        "We can inspect the architecture of the ANN with the `summary()` method."
      ]
    },
    {
      "cell_type": "code",
      "execution_count": null,
      "metadata": {
        "tags": [],
        "id": "9sTC9T3FsUqH",
        "outputId": "b897c01b-026b-481f-fba7-0ec4bd9202aa",
        "colab": {
          "base_uri": "https://localhost:8080/",
          "height": 257
        }
      },
      "outputs": [
        {
          "output_type": "display_data",
          "data": {
            "text/plain": [
              "\u001b[1mModel: \"functional_7\"\u001b[0m\n"
            ],
            "text/html": [
              "<pre style=\"white-space:pre;overflow-x:auto;line-height:normal;font-family:Menlo,'DejaVu Sans Mono',consolas,'Courier New',monospace\"><span style=\"font-weight: bold\">Model: \"functional_7\"</span>\n",
              "</pre>\n"
            ]
          },
          "metadata": {}
        },
        {
          "output_type": "display_data",
          "data": {
            "text/plain": [
              "┏━━━━━━━━━━━━━━━━━━━━━━━━━━━━━━━━━━━━━━┳━━━━━━━━━━━━━━━━━━━━━━━━━━━━━┳━━━━━━━━━━━━━━━━━┓\n",
              "┃\u001b[1m \u001b[0m\u001b[1mLayer (type)                        \u001b[0m\u001b[1m \u001b[0m┃\u001b[1m \u001b[0m\u001b[1mOutput Shape               \u001b[0m\u001b[1m \u001b[0m┃\u001b[1m \u001b[0m\u001b[1m        Param #\u001b[0m\u001b[1m \u001b[0m┃\n",
              "┡━━━━━━━━━━━━━━━━━━━━━━━━━━━━━━━━━━━━━━╇━━━━━━━━━━━━━━━━━━━━━━━━━━━━━╇━━━━━━━━━━━━━━━━━┩\n",
              "│ input_layer_4 (\u001b[38;5;33mInputLayer\u001b[0m)           │ (\u001b[38;5;45mNone\u001b[0m, \u001b[38;5;34m8\u001b[0m)                   │               \u001b[38;5;34m0\u001b[0m │\n",
              "├──────────────────────────────────────┼─────────────────────────────┼─────────────────┤\n",
              "│ dense_12 (\u001b[38;5;33mDense\u001b[0m)                     │ (\u001b[38;5;45mNone\u001b[0m, \u001b[38;5;34m32\u001b[0m)                  │             \u001b[38;5;34m288\u001b[0m │\n",
              "├──────────────────────────────────────┼─────────────────────────────┼─────────────────┤\n",
              "│ dense_13 (\u001b[38;5;33mDense\u001b[0m)                     │ (\u001b[38;5;45mNone\u001b[0m, \u001b[38;5;34m32\u001b[0m)                  │           \u001b[38;5;34m1,056\u001b[0m │\n",
              "├──────────────────────────────────────┼─────────────────────────────┼─────────────────┤\n",
              "│ dense_14 (\u001b[38;5;33mDense\u001b[0m)                     │ (\u001b[38;5;45mNone\u001b[0m, \u001b[38;5;34m1\u001b[0m)                   │              \u001b[38;5;34m33\u001b[0m │\n",
              "└──────────────────────────────────────┴─────────────────────────────┴─────────────────┘\n"
            ],
            "text/html": [
              "<pre style=\"white-space:pre;overflow-x:auto;line-height:normal;font-family:Menlo,'DejaVu Sans Mono',consolas,'Courier New',monospace\">┏━━━━━━━━━━━━━━━━━━━━━━━━━━━━━━━━━━━━━━┳━━━━━━━━━━━━━━━━━━━━━━━━━━━━━┳━━━━━━━━━━━━━━━━━┓\n",
              "┃<span style=\"font-weight: bold\"> Layer (type)                         </span>┃<span style=\"font-weight: bold\"> Output Shape                </span>┃<span style=\"font-weight: bold\">         Param # </span>┃\n",
              "┡━━━━━━━━━━━━━━━━━━━━━━━━━━━━━━━━━━━━━━╇━━━━━━━━━━━━━━━━━━━━━━━━━━━━━╇━━━━━━━━━━━━━━━━━┩\n",
              "│ input_layer_4 (<span style=\"color: #0087ff; text-decoration-color: #0087ff\">InputLayer</span>)           │ (<span style=\"color: #00d7ff; text-decoration-color: #00d7ff\">None</span>, <span style=\"color: #00af00; text-decoration-color: #00af00\">8</span>)                   │               <span style=\"color: #00af00; text-decoration-color: #00af00\">0</span> │\n",
              "├──────────────────────────────────────┼─────────────────────────────┼─────────────────┤\n",
              "│ dense_12 (<span style=\"color: #0087ff; text-decoration-color: #0087ff\">Dense</span>)                     │ (<span style=\"color: #00d7ff; text-decoration-color: #00d7ff\">None</span>, <span style=\"color: #00af00; text-decoration-color: #00af00\">32</span>)                  │             <span style=\"color: #00af00; text-decoration-color: #00af00\">288</span> │\n",
              "├──────────────────────────────────────┼─────────────────────────────┼─────────────────┤\n",
              "│ dense_13 (<span style=\"color: #0087ff; text-decoration-color: #0087ff\">Dense</span>)                     │ (<span style=\"color: #00d7ff; text-decoration-color: #00d7ff\">None</span>, <span style=\"color: #00af00; text-decoration-color: #00af00\">32</span>)                  │           <span style=\"color: #00af00; text-decoration-color: #00af00\">1,056</span> │\n",
              "├──────────────────────────────────────┼─────────────────────────────┼─────────────────┤\n",
              "│ dense_14 (<span style=\"color: #0087ff; text-decoration-color: #0087ff\">Dense</span>)                     │ (<span style=\"color: #00d7ff; text-decoration-color: #00d7ff\">None</span>, <span style=\"color: #00af00; text-decoration-color: #00af00\">1</span>)                   │              <span style=\"color: #00af00; text-decoration-color: #00af00\">33</span> │\n",
              "└──────────────────────────────────────┴─────────────────────────────┴─────────────────┘\n",
              "</pre>\n"
            ]
          },
          "metadata": {}
        },
        {
          "output_type": "display_data",
          "data": {
            "text/plain": [
              "\u001b[1m Total params: \u001b[0m\u001b[38;5;34m1,377\u001b[0m (5.38 KB)\n"
            ],
            "text/html": [
              "<pre style=\"white-space:pre;overflow-x:auto;line-height:normal;font-family:Menlo,'DejaVu Sans Mono',consolas,'Courier New',monospace\"><span style=\"font-weight: bold\"> Total params: </span><span style=\"color: #00af00; text-decoration-color: #00af00\">1,377</span> (5.38 KB)\n",
              "</pre>\n"
            ]
          },
          "metadata": {}
        },
        {
          "output_type": "display_data",
          "data": {
            "text/plain": [
              "\u001b[1m Trainable params: \u001b[0m\u001b[38;5;34m1,377\u001b[0m (5.38 KB)\n"
            ],
            "text/html": [
              "<pre style=\"white-space:pre;overflow-x:auto;line-height:normal;font-family:Menlo,'DejaVu Sans Mono',consolas,'Courier New',monospace\"><span style=\"font-weight: bold\"> Trainable params: </span><span style=\"color: #00af00; text-decoration-color: #00af00\">1,377</span> (5.38 KB)\n",
              "</pre>\n"
            ]
          },
          "metadata": {}
        },
        {
          "output_type": "display_data",
          "data": {
            "text/plain": [
              "\u001b[1m Non-trainable params: \u001b[0m\u001b[38;5;34m0\u001b[0m (0.00 B)\n"
            ],
            "text/html": [
              "<pre style=\"white-space:pre;overflow-x:auto;line-height:normal;font-family:Menlo,'DejaVu Sans Mono',consolas,'Courier New',monospace\"><span style=\"font-weight: bold\"> Non-trainable params: </span><span style=\"color: #00af00; text-decoration-color: #00af00\">0</span> (0.00 B)\n",
              "</pre>\n"
            ]
          },
          "metadata": {}
        }
      ],
      "source": [
        "model_2.summary()"
      ]
    },
    {
      "cell_type": "markdown",
      "metadata": {
        "id": "Xbo-qDhtsUqH"
      },
      "source": [
        "\n",
        "- **コンパイル設定**\n",
        " - 損失関数：平均二乗誤差\n",
        " - オプティマイザー：Adam\n",
        " - 予測値と目標値の差を最小化"
      ]
    },
    {
      "cell_type": "code",
      "execution_count": null,
      "metadata": {
        "tags": [],
        "id": "WhW0DotVsUqH"
      },
      "outputs": [],
      "source": [
        "# Compile the model\n",
        "model_2.compile(loss='mean_squared_error', optimizer='adam')"
      ]
    },
    {
      "cell_type": "markdown",
      "metadata": {
        "id": "v56JXv-DsUqH"
      },
      "source": [
        "## モデルの学習と評価\n",
        "\n",
        "- **学習パラメータ**\n",
        " - 200エポック\n",
        " - 損失の推移を観察\n",
        " - 予測精度の確認\n",
        "\n",
        "- **評価指標**\n",
        " - 平均二乗誤差（MSE）\n",
        " - 平均絶対誤差（MAE）\n",
        " - 決定係数（R²スコア）"
      ]
    },
    {
      "cell_type": "code",
      "execution_count": null,
      "metadata": {
        "tags": [],
        "id": "lCDubLaMsUqI"
      },
      "outputs": [],
      "source": [
        "history = model_2.fit(X_train_scaled, y_train, epochs=200, verbose=0)"
      ]
    },
    {
      "cell_type": "code",
      "execution_count": null,
      "metadata": {
        "tags": [],
        "id": "qODIsPShsUqI",
        "outputId": "fefee4c9-5cd8-439e-bba7-47c75bf6b38d",
        "colab": {
          "base_uri": "https://localhost:8080/",
          "height": 333
        }
      },
      "outputs": [
        {
          "output_type": "display_data",
          "data": {
            "text/plain": [
              "<Figure size 400x300 with 1 Axes>"
            ],
            "image/png": "[encoded data removed]"
          },
          "metadata": {}
        }
      ],
      "source": [
        "# plot the loss\n",
        "train_loss = history.history['loss']\n",
        "\n",
        "epochsn = np.arange(1, len(train_loss)+1,1)\n",
        "plt.figure(figsize=(4, 3))\n",
        "\n",
        "plt.plot(epochsn,train_loss, 'b')\n",
        "plt.grid(color='gray', linestyle='--')\n",
        "plt.title('TRAINING LOSS')\n",
        "plt.xlabel('Epochs')\n",
        "plt.ylabel('Loss')\n",
        "plt.show()"
      ]
    },
    {
      "cell_type": "markdown",
      "metadata": {
        "id": "t5F1k_GrsUqI"
      },
      "source": [
        "評価：モデル予測精度\n"
      ]
    },
    {
      "cell_type": "code",
      "execution_count": null,
      "metadata": {
        "tags": [],
        "id": "6Qw0WRxksUqI",
        "outputId": "5eb3f432-d967-4fc9-bcd1-2465d112103e",
        "colab": {
          "base_uri": "https://localhost:8080/"
        }
      },
      "outputs": [
        {
          "output_type": "stream",
          "name": "stdout",
          "text": [
            "\u001b[1m1/1\u001b[0m \u001b[32m━━━━━━━━━━━━━━━━━━━━\u001b[0m\u001b[37m\u001b[0m \u001b[1m0s\u001b[0m 50ms/step\n"
          ]
        },
        {
          "output_type": "execute_result",
          "data": {
            "text/plain": [
              "array([[0.5457481],\n",
              "       [0.9998307],\n",
              "       [4.5906987],\n",
              "       [2.5283456],\n",
              "       [2.768789 ],\n",
              "       [1.7236831],\n",
              "       [2.4108682],\n",
              "       [1.5864712],\n",
              "       [2.5635064],\n",
              "       [4.693677 ]], dtype=float32)"
            ]
          },
          "metadata": {},
          "execution_count": 127
        }
      ],
      "source": [
        "predictions = model_2.predict(X_test_scaled[:10])\n",
        "predictions"
      ]
    },
    {
      "cell_type": "markdown",
      "metadata": {
        "id": "TwyEUtZDsUqI"
      },
      "source": [
        "And we can compare the predicted values by the model to the target ground-truth values. It would be easier to create a plot of the predicted and target values, as in the following cell. We can see that for most values, the model predictions are close to the target values."
      ]
    },
    {
      "cell_type": "code",
      "execution_count": null,
      "metadata": {
        "tags": [],
        "id": "s-xn0--gsUqI",
        "outputId": "38cdb045-95af-411d-d3d5-5abffcb26ad0",
        "colab": {
          "base_uri": "https://localhost:8080/"
        }
      },
      "outputs": [
        {
          "output_type": "execute_result",
          "data": {
            "text/plain": [
              "array([0.477  , 0.458  , 5.00001, 2.186  , 2.78   , 1.587  , 1.982  ,\n",
              "       1.575  , 3.4    , 4.466  ])"
            ]
          },
          "metadata": {},
          "execution_count": 128
        }
      ],
      "source": [
        "# Ground-truth values\n",
        "np.array(y_test[:10])"
      ]
    },
    {
      "cell_type": "code",
      "execution_count": null,
      "metadata": {
        "tags": [],
        "id": "WItc_FMLsUqI",
        "outputId": "dc37d51c-ac5d-4c23-c5f9-be5b80867419",
        "colab": {
          "base_uri": "https://localhost:8080/",
          "height": 388
        }
      },
      "outputs": [
        {
          "output_type": "display_data",
          "data": {
            "text/plain": [
              "<Figure size 800x400 with 1 Axes>"
            ],
            "image/png": "[encoded data removed]"
          },
          "metadata": {}
        }
      ],
      "source": [
        "plt. figure(figsize=(8, 4))\n",
        "plt.plot(predictions, 'rx', label='Predicted values')\n",
        "plt.plot(np.array(y_test[:10]), 'go', label='Target values')\n",
        "plt.legend()\n",
        "plt.xlabel('Index')\n",
        "plt.ylabel('Median House Value')\n",
        "plt.show()\n",
        "#テーブルデータの場合、ランダムフォレストの方が良いときの方が多い\n",
        "#時系列データで回帰はあまり良い結果が出ない"
      ]
    },
    {
      "cell_type": "markdown",
      "metadata": {
        "id": "aHan2PVFsUqI"
      },
      "source": [
        "\n",
        "- **評価指標**\n",
        " - 平均二乗誤差（MSE）\n",
        " - 平均絶対誤差（MAE）\n",
        " - 決定係数（R²スコア）"
      ]
    },
    {
      "cell_type": "code",
      "execution_count": null,
      "metadata": {
        "tags": [],
        "id": "dAxWhslisUqI",
        "outputId": "1fe201e2-ae5e-4def-ce79-6eec07a36786",
        "colab": {
          "base_uri": "https://localhost:8080/"
        }
      },
      "outputs": [
        {
          "output_type": "stream",
          "name": "stdout",
          "text": [
            "\u001b[1m129/129\u001b[0m \u001b[32m━━━━━━━━━━━━━━━━━━━━\u001b[0m\u001b[37m\u001b[0m \u001b[1m0s\u001b[0m 1ms/step\n",
            "MSE:  0.2765\n",
            "MAE:  0.3521\n",
            "R2 score:  0.7890\n"
          ]
        }
      ],
      "source": [
        "from sklearn.metrics import mean_squared_error, mean_absolute_error, r2_score\n",
        "\n",
        "all_preds = model_2.predict(X_test_scaled)\n",
        "\n",
        "print(f'MSE: {mean_squared_error(y_test, all_preds):7.4f}')\n",
        "print(f'MAE: {mean_absolute_error(y_test, all_preds):7.4f}')\n",
        "print(f'R2 score: {r2_score(y_test, all_preds):7.4f}')"
      ]
    },
    {
      "cell_type": "markdown",
      "metadata": {
        "id": "yRxTALIGsUqI"
      },
      "source": [
        "# 9.4 モデルの保存と読み込み\n",
        "\n",
        "- **保存形式**\n",
        " - HDF5形式\n",
        " - Keras-TensorFlow SavedModel形式\n",
        " - `.keras`拡張子を推奨\n",
        "\n",
        "- **保存内容**\n",
        " - モデルアーキテクチャ\n",
        " - 重みパラメータ\n",
        " - オプティマイザー情報\n",
        " - 損失関数と評価指標\n",
        "\n",
        "- **モデルの読み込み**\n",
        " - load_modelメソッドを使用\n",
        " - アーキテクチャと重みを復元\n",
        " - 即座に予測に使用可能"
      ]
    },
    {
      "cell_type": "code",
      "execution_count": null,
      "metadata": {
        "id": "-I1ZmeLCSJXW",
        "tags": []
      },
      "outputs": [],
      "source": [
        "# Saving a model\n",
        "model_1.save('classification_model.keras')"
      ]
    },
    {
      "cell_type": "markdown",
      "metadata": {
        "id": "ZBx6J5qVXd5Q"
      },
      "source": [
        "To load a saved model we will use the `load_model` method. It returns the architecture and weights of the saved model.\n",
        "\n",
        "Let's load the save model as `model_3`."
      ]
    },
    {
      "cell_type": "code",
      "execution_count": null,
      "metadata": {
        "id": "HV_-3wAcSn-Y",
        "tags": []
      },
      "outputs": [],
      "source": [
        "# Loading a saved model\n",
        "from keras.models import load_model\n",
        "\n",
        "model_3 = load_model('classification_model.keras')"
      ]
    },
    {
      "cell_type": "markdown",
      "metadata": {
        "id": "zj1cHy_EsUqI"
      },
      "source": [
        "Afterward, we can use the loaded model as we would use any other model.\n",
        "\n",
        "Let's evaluate the model on the test dataset, just to check whether the returned value would be as expected."
      ]
    },
    {
      "cell_type": "code",
      "execution_count": null,
      "metadata": {
        "colab": {
          "base_uri": "https://localhost:8080/"
        },
        "id": "w8bW12rbX9Wk",
        "outputId": "b78f9e99-bcab-4c7c-c132-53f587865d44",
        "tags": []
      },
      "outputs": [
        {
          "output_type": "stream",
          "name": "stdout",
          "text": [
            "\u001b[1m4/4\u001b[0m \u001b[32m━━━━━━━━━━━━━━━━━━━━\u001b[0m\u001b[37m\u001b[0m \u001b[1m0s\u001b[0m 3ms/step - accuracy: 0.9707 - loss: 0.0762  \n",
            "Classification Accuracy:  0.9736841917037964\n"
          ]
        }
      ],
      "source": [
        "# Evaluate on test dataset\n",
        "evals_test = model_3.evaluate(test_data, test_labels)\n",
        "print(\"Classification Accuracy: \", evals_test[1])"
      ]
    },
    {
      "cell_type": "markdown",
      "metadata": {
        "id": "hdDz5ck4sUqJ"
      },
      "source": [
        "The summary of the model is displayed below."
      ]
    },
    {
      "cell_type": "code",
      "execution_count": null,
      "metadata": {
        "id": "fbTIrz5ES8hG",
        "tags": [],
        "colab": {
          "base_uri": "https://localhost:8080/",
          "height": 273
        },
        "outputId": "001328d0-385b-4365-eec2-93e87d48a161"
      },
      "outputs": [
        {
          "output_type": "display_data",
          "data": {
            "text/plain": [
              "\u001b[1mModel: \"functional_4\"\u001b[0m\n"
            ],
            "text/html": [
              "<pre style=\"white-space:pre;overflow-x:auto;line-height:normal;font-family:Menlo,'DejaVu Sans Mono',consolas,'Courier New',monospace\"><span style=\"font-weight: bold\">Model: \"functional_4\"</span>\n",
              "</pre>\n"
            ]
          },
          "metadata": {}
        },
        {
          "output_type": "display_data",
          "data": {
            "text/plain": [
              "┏━━━━━━━━━━━━━━━━━━━━━━━━━━━━━━━━━━━━━━┳━━━━━━━━━━━━━━━━━━━━━━━━━━━━━┳━━━━━━━━━━━━━━━━━┓\n",
              "┃\u001b[1m \u001b[0m\u001b[1mLayer (type)                        \u001b[0m\u001b[1m \u001b[0m┃\u001b[1m \u001b[0m\u001b[1mOutput Shape               \u001b[0m\u001b[1m \u001b[0m┃\u001b[1m \u001b[0m\u001b[1m        Param #\u001b[0m\u001b[1m \u001b[0m┃\n",
              "┡━━━━━━━━━━━━━━━━━━━━━━━━━━━━━━━━━━━━━━╇━━━━━━━━━━━━━━━━━━━━━━━━━━━━━╇━━━━━━━━━━━━━━━━━┩\n",
              "│ input_layer_2 (\u001b[38;5;33mInputLayer\u001b[0m)           │ (\u001b[38;5;45mNone\u001b[0m, \u001b[38;5;34m30\u001b[0m)                  │               \u001b[38;5;34m0\u001b[0m │\n",
              "├──────────────────────────────────────┼─────────────────────────────┼─────────────────┤\n",
              "│ dense_6 (\u001b[38;5;33mDense\u001b[0m)                      │ (\u001b[38;5;45mNone\u001b[0m, \u001b[38;5;34m30\u001b[0m)                  │             \u001b[38;5;34m930\u001b[0m │\n",
              "├──────────────────────────────────────┼─────────────────────────────┼─────────────────┤\n",
              "│ dense_7 (\u001b[38;5;33mDense\u001b[0m)                      │ (\u001b[38;5;45mNone\u001b[0m, \u001b[38;5;34m15\u001b[0m)                  │             \u001b[38;5;34m465\u001b[0m │\n",
              "├──────────────────────────────────────┼─────────────────────────────┼─────────────────┤\n",
              "│ dense_8 (\u001b[38;5;33mDense\u001b[0m)                      │ (\u001b[38;5;45mNone\u001b[0m, \u001b[38;5;34m1\u001b[0m)                   │              \u001b[38;5;34m16\u001b[0m │\n",
              "└──────────────────────────────────────┴─────────────────────────────┴─────────────────┘\n"
            ],
            "text/html": [
              "<pre style=\"white-space:pre;overflow-x:auto;line-height:normal;font-family:Menlo,'DejaVu Sans Mono',consolas,'Courier New',monospace\">┏━━━━━━━━━━━━━━━━━━━━━━━━━━━━━━━━━━━━━━┳━━━━━━━━━━━━━━━━━━━━━━━━━━━━━┳━━━━━━━━━━━━━━━━━┓\n",
              "┃<span style=\"font-weight: bold\"> Layer (type)                         </span>┃<span style=\"font-weight: bold\"> Output Shape                </span>┃<span style=\"font-weight: bold\">         Param # </span>┃\n",
              "┡━━━━━━━━━━━━━━━━━━━━━━━━━━━━━━━━━━━━━━╇━━━━━━━━━━━━━━━━━━━━━━━━━━━━━╇━━━━━━━━━━━━━━━━━┩\n",
              "│ input_layer_2 (<span style=\"color: #0087ff; text-decoration-color: #0087ff\">InputLayer</span>)           │ (<span style=\"color: #00d7ff; text-decoration-color: #00d7ff\">None</span>, <span style=\"color: #00af00; text-decoration-color: #00af00\">30</span>)                  │               <span style=\"color: #00af00; text-decoration-color: #00af00\">0</span> │\n",
              "├──────────────────────────────────────┼─────────────────────────────┼─────────────────┤\n",
              "│ dense_6 (<span style=\"color: #0087ff; text-decoration-color: #0087ff\">Dense</span>)                      │ (<span style=\"color: #00d7ff; text-decoration-color: #00d7ff\">None</span>, <span style=\"color: #00af00; text-decoration-color: #00af00\">30</span>)                  │             <span style=\"color: #00af00; text-decoration-color: #00af00\">930</span> │\n",
              "├──────────────────────────────────────┼─────────────────────────────┼─────────────────┤\n",
              "│ dense_7 (<span style=\"color: #0087ff; text-decoration-color: #0087ff\">Dense</span>)                      │ (<span style=\"color: #00d7ff; text-decoration-color: #00d7ff\">None</span>, <span style=\"color: #00af00; text-decoration-color: #00af00\">15</span>)                  │             <span style=\"color: #00af00; text-decoration-color: #00af00\">465</span> │\n",
              "├──────────────────────────────────────┼─────────────────────────────┼─────────────────┤\n",
              "│ dense_8 (<span style=\"color: #0087ff; text-decoration-color: #0087ff\">Dense</span>)                      │ (<span style=\"color: #00d7ff; text-decoration-color: #00d7ff\">None</span>, <span style=\"color: #00af00; text-decoration-color: #00af00\">1</span>)                   │              <span style=\"color: #00af00; text-decoration-color: #00af00\">16</span> │\n",
              "└──────────────────────────────────────┴─────────────────────────────┴─────────────────┘\n",
              "</pre>\n"
            ]
          },
          "metadata": {}
        },
        {
          "output_type": "display_data",
          "data": {
            "text/plain": [
              "\u001b[1m Total params: \u001b[0m\u001b[38;5;34m4,235\u001b[0m (16.55 KB)\n"
            ],
            "text/html": [
              "<pre style=\"white-space:pre;overflow-x:auto;line-height:normal;font-family:Menlo,'DejaVu Sans Mono',consolas,'Courier New',monospace\"><span style=\"font-weight: bold\"> Total params: </span><span style=\"color: #00af00; text-decoration-color: #00af00\">4,235</span> (16.55 KB)\n",
              "</pre>\n"
            ]
          },
          "metadata": {}
        },
        {
          "output_type": "display_data",
          "data": {
            "text/plain": [
              "\u001b[1m Trainable params: \u001b[0m\u001b[38;5;34m1,411\u001b[0m (5.51 KB)\n"
            ],
            "text/html": [
              "<pre style=\"white-space:pre;overflow-x:auto;line-height:normal;font-family:Menlo,'DejaVu Sans Mono',consolas,'Courier New',monospace\"><span style=\"font-weight: bold\"> Trainable params: </span><span style=\"color: #00af00; text-decoration-color: #00af00\">1,411</span> (5.51 KB)\n",
              "</pre>\n"
            ]
          },
          "metadata": {}
        },
        {
          "output_type": "display_data",
          "data": {
            "text/plain": [
              "\u001b[1m Non-trainable params: \u001b[0m\u001b[38;5;34m0\u001b[0m (0.00 B)\n"
            ],
            "text/html": [
              "<pre style=\"white-space:pre;overflow-x:auto;line-height:normal;font-family:Menlo,'DejaVu Sans Mono',consolas,'Courier New',monospace\"><span style=\"font-weight: bold\"> Non-trainable params: </span><span style=\"color: #00af00; text-decoration-color: #00af00\">0</span> (0.00 B)\n",
              "</pre>\n"
            ]
          },
          "metadata": {}
        },
        {
          "output_type": "display_data",
          "data": {
            "text/plain": [
              "\u001b[1m Optimizer params: \u001b[0m\u001b[38;5;34m2,824\u001b[0m (11.04 KB)\n"
            ],
            "text/html": [
              "<pre style=\"white-space:pre;overflow-x:auto;line-height:normal;font-family:Menlo,'DejaVu Sans Mono',consolas,'Courier New',monospace\"><span style=\"font-weight: bold\"> Optimizer params: </span><span style=\"color: #00af00; text-decoration-color: #00af00\">2,824</span> (11.04 KB)\n",
              "</pre>\n"
            ]
          },
          "metadata": {}
        }
      ],
      "source": [
        "model_3.summary()"
      ]
    },
    {
      "cell_type": "markdown",
      "metadata": {
        "id": "_BSFCFViqtgv"
      },
      "source": [
        "## References <a id=\"references\"/>\n",
        "\n",
        "1. Complete Machine Learning Package, Jean de Dieu Nyandwi, available at: [https://github.com/Nyandwi/machine_learning_complete](https://github.com/Nyandwi/machine_learning_complete).\n",
        "2. Implementing Linear Regression on California Housing Dataset, Debarshi Raj Basumatary, available at: [https://medium.com/mlearning-ai/implementing-linear-regression-on-california-housing-dataset-378e14e421b7](https://medium.com/mlearning-ai/implementing-linear-regression-on-california-housing-dataset-378e14e421b7)."
      ]
    },
    {
      "cell_type": "markdown",
      "metadata": {
        "id": "4iJdhuUAsUqM"
      },
      "source": [
        "[BACK TO TOP](#top)"
      ]
    }
  ],
  "metadata": {
    "kernelspec": {
      "display_name": "Python 3 (ipykernel)",
      "language": "python",
      "name": "python3"
    },
    "language_info": {
      "codemirror_mode": {
        "name": "ipython",
        "version": 3
      },
      "file_extension": ".py",
      "mimetype": "text/x-python",
      "name": "python",
      "nbconvert_exporter": "python",
      "pygments_lexer": "ipython3",
      "version": "3.12.4"
    },
    "colab": {
      "provenance": [],
      "include_colab_link": true
    }
  },
  "nbformat": 4,
  "nbformat_minor": 0
}