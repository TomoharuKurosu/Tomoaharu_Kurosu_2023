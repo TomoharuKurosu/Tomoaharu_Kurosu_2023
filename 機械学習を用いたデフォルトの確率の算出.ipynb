{
  "nbformat": 4,
  "nbformat_minor": 0,
  "metadata": {
    "colab": {
      "provenance": [],
      "authorship_tag": "ABX9TyNG3WGQGfnBg2rqxtxJVgZF",
      "include_colab_link": true
    },
    "kernelspec": {
      "name": "python3",
      "display_name": "Python 3"
    },
    "language_info": {
      "name": "python"
    }
  },
  "cells": [
    {
      "cell_type": "markdown",
      "metadata": {
        "id": "view-in-github",
        "colab_type": "text"
      },
      "source": [
        "<a href=\"https://colab.research.google.com/github/TomoharuKurosu/Tomoaharu_Kurosu_2023/blob/main/%E6%A9%9F%E6%A2%B0%E5%AD%A6%E7%BF%92%E3%82%92%E7%94%A8%E3%81%84%E3%81%9F%E3%83%87%E3%83%95%E3%82%A9%E3%83%AB%E3%83%88%E3%81%AE%E7%A2%BA%E7%8E%87%E3%81%AE%E7%AE%97%E5%87%BA.ipynb\" target=\"_parent\"><img src=\"https://colab.research.google.com/assets/colab-badge.svg\" alt=\"Open In Colab\"/></a>"
      ]
    },
    {
      "cell_type": "code",
      "execution_count": 2,
      "metadata": {
        "colab": {
          "base_uri": "https://localhost:8080/"
        },
        "id": "so6jj78HxxLl",
        "outputId": "a7fa314e-358a-4f4c-f78d-b1a997427469"
      },
      "outputs": [
        {
          "output_type": "stream",
          "name": "stdout",
          "text": [
            "Mounted at /content/drive\n"
          ]
        }
      ],
      "source": [
        "from google.colab import drive\n",
        "drive.mount('/content/drive')\n",
        "import pandas as pd"
      ]
    },
    {
      "cell_type": "code",
      "source": [
        "#データの読み込み 後で変更\n",
        "df = pd.read_csv(\"/content/drive/MyDrive/Bostonhousedata.csv\")"
      ],
      "metadata": {
        "id": "03k8Xfkfx6Xg"
      },
      "execution_count": null,
      "outputs": []
    },
    {
      "cell_type": "code",
      "source": [
        "#必要なモジュールのインストール\n",
        "!pip install LightGBM\n",
        "import numpy as np\n",
        "import pandas as pd\n",
        "import lightgbm as lgb\n",
        "import matplotlib.pyplot as plt\n",
        "import seaborn as sns\n",
        "\n",
        "\n",
        "#予測ターゲットの格納（Default：A列）\n",
        "target_df = df[[\"Default\"]]\n",
        "#特徴量の格納（説明変数：B列以降）\n",
        "train_df = df.iloc[:,1:4]\n",
        "\n",
        "#モデル学習のための、訓練データとテストデータを7:3で分割\n",
        "from sklearn.model_selection import train_test_split\n",
        "X_train, X_test, y_train, y_test = train_test_split(train_df, target_df, test_size=0.3)\n",
        "\n",
        "#XGBoostで学習するためのデータ形式に変換\n",
        "dtrain = lgb.Dataset(X_train, y_train)\n",
        "dvalid = lgb.Dataset(X_test, y_test)\n",
        "\n",
        "#モデルパラメータの設定\n",
        "params = {'metric' : 'rmse'}\n",
        "model = lgb.train(params,dtrain)\n",
        "\n",
        "#予測の実行と書き出し\n",
        "pred = model.predict(X_test)\n",
        "print(pred)\n",
        "\n",
        "#散布図で予測の精度を描写\n",
        "sns.set(font=['Meiryo','Yu Gothic'])\n",
        "plt.scatter(y_test, pred, alpha = 0.5)\n",
        "plt.plot(np.linspace(0, 50, 100), np.linspace(0, 50, 100), \"red\")\n",
        "plt.xlabel('PDの実測値')\n",
        "plt.ylabel('PDの予測値')\n",
        "plt.show()\n",
        "\n",
        "# 性能向上に寄与する度合いで重要度をプロット\n",
        "lgb.plot_importance(model, height = 0.5, figsize = (8,16))"
      ],
      "metadata": {
        "id": "L83HHB8KyASp"
      },
      "execution_count": null,
      "outputs": []
    }
  ]
}