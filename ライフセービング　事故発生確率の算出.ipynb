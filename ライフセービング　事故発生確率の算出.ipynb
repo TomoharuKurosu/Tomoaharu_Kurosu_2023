{
  "cells": [
    {
      "cell_type": "markdown",
      "metadata": {
        "id": "view-in-github",
        "colab_type": "text"
      },
      "source": [
        "<a href=\"https://colab.research.google.com/github/TomoharuKurosu/Tomoaharu_Kurosu_2023/blob/main/%E3%83%A9%E3%82%A4%E3%83%95%E3%82%BB%E3%83%BC%E3%83%93%E3%83%B3%E3%82%B0%E3%80%80%E4%BA%8B%E6%95%85%E7%99%BA%E7%94%9F%E7%A2%BA%E7%8E%87%E3%81%AE%E7%AE%97%E5%87%BA.ipynb\" target=\"_parent\"><img src=\"https://colab.research.google.com/assets/colab-badge.svg\" alt=\"Open In Colab\"/></a>"
      ]
    },
    {
      "cell_type": "code",
      "source": [
        "from google.colab import drive\n",
        "drive.mount('/content/drive')"
      ],
      "metadata": {
        "id": "cXiA7_dfYqTi"
      },
      "execution_count": null,
      "outputs": []
    },
    {
      "cell_type": "code",
      "source": [
        "import pandas as pd"
      ],
      "metadata": {
        "id": "NL3KcU2dcqB2"
      },
      "execution_count": null,
      "outputs": []
    },
    {
      "cell_type": "code",
      "source": [
        "#データの読み込み\n",
        "df = pd.read_csv(\"/content/drive/MyDrive/Bostonhousedata.csv\")\n",
        "#data = pd.read_csv(\"/content/drive/MyDrive/BostonHouseData.csv\")"
      ],
      "metadata": {
        "id": "bSgjsAthcu-P"
      },
      "execution_count": null,
      "outputs": []
    },
    {
      "cell_type": "code",
      "source": [
        "#必要なモジュールのインストール\n",
        "!pip install LightGBM\n",
        "import numpy as np\n",
        "import pandas as pd\n",
        "import lightgbm as lgb\n",
        "import matplotlib.pyplot as plt\n",
        "import seaborn as sns\n",
        "\n",
        "\n",
        "#予測ターゲットの格納（house_price：A列）\n",
        "target_df = df[[\"house_price\"]]\n",
        "#特徴量の格納（説明変数：B列以降）\n",
        "train_df = df.iloc[:,1:14]\n",
        "\n",
        "#モデル学習のための、訓練データとテストデータを7:3で分割\n",
        "from sklearn.model_selection import train_test_split\n",
        "X_train, X_test, y_train, y_test = train_test_split(train_df, target_df, test_size=0.3)\n",
        "\n",
        "#XGBoostで学習するためのデータ形式に変換\n",
        "dtrain = lgb.Dataset(X_train, y_train)\n",
        "dvalid = lgb.Dataset(X_test, y_test)\n",
        "\n",
        "#モデルパラメータの設定\n",
        "params = {'metric' : 'rmse'}\n",
        "model = lgb.train(params,dtrain)\n",
        "\n",
        "#予測の実行と書き出し\n",
        "pred = model.predict(X_test)\n",
        "print(pred)\n",
        "\n",
        "#散布図で予測の精度を描写\n",
        "sns.set(font=['Meiryo','Yu Gothic'])\n",
        "plt.scatter(y_test, pred, alpha = 0.5)\n",
        "plt.plot(np.linspace(0, 50, 100), np.linspace(0, 50, 100), \"red\")\n",
        "plt.xlabel('実際の住宅価格')\n",
        "plt.ylabel('予測値')\n",
        "plt.show()\n",
        "\n",
        "# 性能向上に寄与する度合いで重要度をプロット\n",
        "lgb.plot_importance(model, height = 0.5, figsize = (8,16))"
      ],
      "metadata": {
        "id": "hOgHJOS-cyum"
      },
      "execution_count": null,
      "outputs": []
    },
    {
      "cell_type": "code",
      "source": [
        "#適当なデータを入れて予測（model.predict([[?,?,?,?,?,?,?,?,?,?,?,?]])）\n",
        "pred = model.predict([[0.003,12.5,2,0,0.6,12,60,4,1,222,17,9]])\n",
        "print(pred)"
      ],
      "metadata": {
        "id": "RTrw97yvc25R"
      },
      "execution_count": null,
      "outputs": []
    },
    {
      "cell_type": "code",
      "source": [
        "# 決定木の分岐の可視化\n",
        "lgb.create_tree_digraph(model, 1)"
      ],
      "metadata": {
        "id": "WQTr_MUTc42y"
      },
      "execution_count": null,
      "outputs": []
    }
  ],
  "metadata": {
    "colab": {
      "name": "Colaboratory へようこそ",
      "toc_visible": true,
      "provenance": [],
      "include_colab_link": true
    },
    "kernelspec": {
      "display_name": "Python 3",
      "name": "python3"
    }
  },
  "nbformat": 4,
  "nbformat_minor": 0
}