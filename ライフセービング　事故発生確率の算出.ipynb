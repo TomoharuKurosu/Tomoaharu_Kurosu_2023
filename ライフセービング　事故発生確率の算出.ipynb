{
  "cells": [
    {
      "cell_type": "markdown",
      "metadata": {
        "id": "view-in-github",
        "colab_type": "text"
      },
      "source": [
        "<a href=\"https://colab.research.google.com/github/TomoharuKurosu/Tomoaharu_Kurosu_2023/blob/main/%E3%83%A9%E3%82%A4%E3%83%95%E3%82%BB%E3%83%BC%E3%83%93%E3%83%B3%E3%82%B0%E3%80%80%E4%BA%8B%E6%95%85%E7%99%BA%E7%94%9F%E7%A2%BA%E7%8E%87%E3%81%AE%E7%AE%97%E5%87%BA.ipynb\" target=\"_parent\"><img src=\"https://colab.research.google.com/assets/colab-badge.svg\" alt=\"Open In Colab\"/></a>"
      ]
    },
    {
      "cell_type": "code",
      "source": [],
      "metadata": {
        "id": "X3_pWxaKcVpp"
      },
      "execution_count": null,
      "outputs": []
    }
  ],
  "metadata": {
    "colab": {
      "name": "Colaboratory へようこそ",
      "toc_visible": true,
      "provenance": [],
      "include_colab_link": true
    },
    "kernelspec": {
      "display_name": "Python 3",
      "name": "python3"
    }
  },
  "nbformat": 4,
  "nbformat_minor": 0
}