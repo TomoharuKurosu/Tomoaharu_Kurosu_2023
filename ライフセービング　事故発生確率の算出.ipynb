{
  "cells": [
    {
      "cell_type": "markdown",
      "metadata": {
        "id": "view-in-github",
        "colab_type": "text"
      },
      "source": [
        "<a href=\"https://colab.research.google.com/github/TomoharuKurosu/Tomoaharu_Kurosu_2023/blob/main/%E3%83%A9%E3%82%A4%E3%83%95%E3%82%BB%E3%83%BC%E3%83%93%E3%83%B3%E3%82%B0%E3%80%80%E4%BA%8B%E6%95%85%E7%99%BA%E7%94%9F%E7%A2%BA%E7%8E%87%E3%81%AE%E7%AE%97%E5%87%BA.ipynb\" target=\"_parent\"><img src=\"https://colab.research.google.com/assets/colab-badge.svg\" alt=\"Open In Colab\"/></a>"
      ]
    },
    {
      "cell_type": "code",
      "source": [
        "from google.colab import drive\n",
        "drive.mount('/content/drive')"
      ],
      "metadata": {
        "id": "cXiA7_dfYqTi",
        "outputId": "d3a5638f-c4ad-4926-8566-b25d88376e18",
        "colab": {
          "base_uri": "https://localhost:8080/"
        }
      },
      "execution_count": 2,
      "outputs": [
        {
          "output_type": "stream",
          "name": "stdout",
          "text": [
            "Mounted at /content/drive\n"
          ]
        }
      ]
    },
    {
      "cell_type": "code",
      "source": [
        "import pandas as pd"
      ],
      "metadata": {
        "id": "NL3KcU2dcqB2"
      },
      "execution_count": 3,
      "outputs": []
    },
    {
      "cell_type": "code",
      "source": [
        "#データの読み込み\n",
        "df = pd.read_csv(\"/content/drive/MyDrive/lifesaving_accident_significant_factor.csv\")\n",
        "#data = pd.read_csv(\"/content/drive/MyDrive/BostonHouseData.csv\")"
      ],
      "metadata": {
        "id": "bSgjsAthcu-P"
      },
      "execution_count": 4,
      "outputs": []
    },
    {
      "cell_type": "code",
      "source": [
        "#必要なモジュールのインストール\n",
        "!pip install LightGBM\n",
        "import numpy as np\n",
        "import pandas as pd\n",
        "import lightgbm as lgb\n",
        "import matplotlib.pyplot as plt\n",
        "import seaborn as sns\n",
        "\n",
        "\n",
        "#予測ターゲットの格納（house_price：A列）\n",
        "target_df = df[[\"accident\"]]\n",
        "#特徴量の格納（説明変数：B列以降）\n",
        "train_df = df.iloc[:,1:5]\n",
        "\n",
        "#モデル学習のための、訓練データとテストデータを7:3で分割\n",
        "from sklearn.model_selection import train_test_split\n",
        "X_train, X_test, y_train, y_test = train_test_split(train_df, target_df, test_size=0.3)\n",
        "\n",
        "#XGBoostで学習するためのデータ形式に変換\n",
        "dtrain = lgb.Dataset(X_train, y_train)\n",
        "dvalid = lgb.Dataset(X_test, y_test)\n",
        "\n",
        "#モデルパラメータの設定\n",
        "params = {'metric' : 'rmse'}\n",
        "model = lgb.train(params,dtrain)\n",
        "\n",
        "#予測の実行と書き出し\n",
        "pred = model.predict(X_test)\n",
        "print(pred)\n",
        "\n",
        "#散布図で予測の精度を描写\n",
        "sns.set(font=['Meiryo','Yu Gothic'])\n",
        "plt.scatter(y_test, pred, alpha = 0.5)\n",
        "plt.plot(np.linspace(0, 50, 100), np.linspace(0, 50, 100), \"red\")\n",
        "plt.xlabel('実際')\n",
        "plt.ylabel('予測値')\n",
        "plt.show()\n",
        "\n",
        "# 性能向上に寄与する度合いで重要度をプロット\n",
        "lgb.plot_importance(model, height = 0.5, figsize = (8,16))"
      ],
      "metadata": {
        "id": "hOgHJOS-cyum",
        "outputId": "efc45fcf-56df-4bd6-ec44-77aede28804a",
        "colab": {
          "base_uri": "https://localhost:8080/",
          "height": 1000
        }
      },
      "execution_count": 7,
      "outputs": [
        {
          "output_type": "stream",
          "name": "stdout",
          "text": [
            "Requirement already satisfied: LightGBM in /usr/local/lib/python3.10/dist-packages (4.1.0)\n",
            "Requirement already satisfied: numpy in /usr/local/lib/python3.10/dist-packages (from LightGBM) (1.23.5)\n",
            "Requirement already satisfied: scipy in /usr/local/lib/python3.10/dist-packages (from LightGBM) (1.11.4)\n"
          ]
        },
        {
          "output_type": "stream",
          "name": "stderr",
          "text": [
            "WARNING:matplotlib.font_manager:findfont: Font family 'Meiryo' not found.\n",
            "WARNING:matplotlib.font_manager:findfont: Font family 'Yu Gothic' not found.\n",
            "WARNING:matplotlib.font_manager:findfont: Font family 'Meiryo' not found.\n",
            "WARNING:matplotlib.font_manager:findfont: Font family 'Yu Gothic' not found.\n",
            "WARNING:matplotlib.font_manager:findfont: Font family 'Meiryo' not found.\n",
            "WARNING:matplotlib.font_manager:findfont: Font family 'Yu Gothic' not found.\n",
            "WARNING:matplotlib.font_manager:findfont: Font family 'Meiryo' not found.\n",
            "WARNING:matplotlib.font_manager:findfont: Font family 'Yu Gothic' not found.\n",
            "WARNING:matplotlib.font_manager:findfont: Font family 'Meiryo' not found.\n",
            "WARNING:matplotlib.font_manager:findfont: Font family 'Yu Gothic' not found.\n",
            "WARNING:matplotlib.font_manager:findfont: Font family 'Meiryo' not found.\n",
            "WARNING:matplotlib.font_manager:findfont: Font family 'Yu Gothic' not found.\n",
            "WARNING:matplotlib.font_manager:findfont: Font family 'Meiryo' not found.\n",
            "WARNING:matplotlib.font_manager:findfont: Font family 'Yu Gothic' not found.\n",
            "WARNING:matplotlib.font_manager:findfont: Font family 'Meiryo' not found.\n",
            "WARNING:matplotlib.font_manager:findfont: Font family 'Yu Gothic' not found.\n",
            "WARNING:matplotlib.font_manager:findfont: Font family 'Meiryo' not found.\n",
            "WARNING:matplotlib.font_manager:findfont: Font family 'Yu Gothic' not found.\n",
            "/usr/local/lib/python3.10/dist-packages/IPython/core/pylabtools.py:151: UserWarning: Glyph 23455 (\\N{CJK UNIFIED IDEOGRAPH-5B9F}) missing from current font.\n",
            "  fig.canvas.print_figure(bytes_io, **kw)\n",
            "/usr/local/lib/python3.10/dist-packages/IPython/core/pylabtools.py:151: UserWarning: Glyph 38555 (\\N{CJK UNIFIED IDEOGRAPH-969B}) missing from current font.\n",
            "  fig.canvas.print_figure(bytes_io, **kw)\n",
            "WARNING:matplotlib.font_manager:findfont: Font family 'Meiryo' not found.\n",
            "WARNING:matplotlib.font_manager:findfont: Font family 'Yu Gothic' not found.\n"
          ]
        },
        {
          "output_type": "stream",
          "name": "stdout",
          "text": [
            "[LightGBM] [Info] Auto-choosing col-wise multi-threading, the overhead of testing was 0.000023 seconds.\n",
            "You can set `force_col_wise=true` to remove the overhead.\n",
            "[LightGBM] [Info] Total Bins 74\n",
            "[LightGBM] [Info] Number of data points in the train set: 154, number of used features: 4\n",
            "[LightGBM] [Info] Start training from score 0.025974\n",
            "[LightGBM] [Warning] No further splits with positive gain, best gain: -inf\n",
            "[LightGBM] [Warning] No further splits with positive gain, best gain: -inf\n",
            "[LightGBM] [Warning] No further splits with positive gain, best gain: -inf\n",
            "[LightGBM] [Warning] No further splits with positive gain, best gain: -inf\n",
            "[LightGBM] [Warning] No further splits with positive gain, best gain: -inf\n",
            "[LightGBM] [Warning] No further splits with positive gain, best gain: -inf\n",
            "[LightGBM] [Warning] No further splits with positive gain, best gain: -inf\n",
            "[LightGBM] [Warning] No further splits with positive gain, best gain: -inf\n",
            "[LightGBM] [Warning] No further splits with positive gain, best gain: -inf\n",
            "[LightGBM] [Warning] No further splits with positive gain, best gain: -inf\n",
            "[LightGBM] [Warning] No further splits with positive gain, best gain: -inf\n",
            "[LightGBM] [Warning] No further splits with positive gain, best gain: -inf\n",
            "[LightGBM] [Warning] No further splits with positive gain, best gain: -inf\n",
            "[LightGBM] [Warning] No further splits with positive gain, best gain: -inf\n",
            "[LightGBM] [Warning] No further splits with positive gain, best gain: -inf\n",
            "[LightGBM] [Warning] No further splits with positive gain, best gain: -inf\n",
            "[LightGBM] [Warning] No further splits with positive gain, best gain: -inf\n",
            "[LightGBM] [Warning] No further splits with positive gain, best gain: -inf\n",
            "[LightGBM] [Warning] No further splits with positive gain, best gain: -inf\n",
            "[LightGBM] [Warning] No further splits with positive gain, best gain: -inf\n",
            "[LightGBM] [Warning] No further splits with positive gain, best gain: -inf\n",
            "[LightGBM] [Warning] No further splits with positive gain, best gain: -inf\n",
            "[LightGBM] [Warning] No further splits with positive gain, best gain: -inf\n",
            "[LightGBM] [Warning] No further splits with positive gain, best gain: -inf\n",
            "[LightGBM] [Warning] No further splits with positive gain, best gain: -inf\n",
            "[LightGBM] [Warning] No further splits with positive gain, best gain: -inf\n",
            "[LightGBM] [Warning] No further splits with positive gain, best gain: -inf\n",
            "[LightGBM] [Warning] No further splits with positive gain, best gain: -inf\n",
            "[LightGBM] [Warning] No further splits with positive gain, best gain: -inf\n",
            "[LightGBM] [Warning] No further splits with positive gain, best gain: -inf\n",
            "[LightGBM] [Warning] No further splits with positive gain, best gain: -inf\n",
            "[LightGBM] [Warning] No further splits with positive gain, best gain: -inf\n",
            "[LightGBM] [Warning] No further splits with positive gain, best gain: -inf\n",
            "[LightGBM] [Warning] No further splits with positive gain, best gain: -inf\n",
            "[LightGBM] [Warning] No further splits with positive gain, best gain: -inf\n",
            "[LightGBM] [Warning] No further splits with positive gain, best gain: -inf\n",
            "[LightGBM] [Warning] No further splits with positive gain, best gain: -inf\n",
            "[LightGBM] [Warning] No further splits with positive gain, best gain: -inf\n",
            "[LightGBM] [Warning] No further splits with positive gain, best gain: -inf\n",
            "[LightGBM] [Warning] No further splits with positive gain, best gain: -inf\n",
            "[LightGBM] [Warning] No further splits with positive gain, best gain: -inf\n",
            "[LightGBM] [Warning] No further splits with positive gain, best gain: -inf\n",
            "[LightGBM] [Warning] No further splits with positive gain, best gain: -inf\n",
            "[LightGBM] [Warning] No further splits with positive gain, best gain: -inf\n",
            "[LightGBM] [Warning] No further splits with positive gain, best gain: -inf\n",
            "[LightGBM] [Warning] No further splits with positive gain, best gain: -inf\n",
            "[LightGBM] [Warning] No further splits with positive gain, best gain: -inf\n",
            "[LightGBM] [Warning] No further splits with positive gain, best gain: -inf\n",
            "[LightGBM] [Warning] No further splits with positive gain, best gain: -inf\n",
            "[LightGBM] [Warning] No further splits with positive gain, best gain: -inf\n",
            "[LightGBM] [Warning] No further splits with positive gain, best gain: -inf\n",
            "[LightGBM] [Warning] No further splits with positive gain, best gain: -inf\n",
            "[LightGBM] [Warning] No further splits with positive gain, best gain: -inf\n",
            "[LightGBM] [Warning] No further splits with positive gain, best gain: -inf\n",
            "[LightGBM] [Warning] No further splits with positive gain, best gain: -inf\n",
            "[LightGBM] [Warning] No further splits with positive gain, best gain: -inf\n",
            "[LightGBM] [Warning] No further splits with positive gain, best gain: -inf\n",
            "[LightGBM] [Warning] No further splits with positive gain, best gain: -inf\n",
            "[LightGBM] [Warning] No further splits with positive gain, best gain: -inf\n",
            "[LightGBM] [Warning] No further splits with positive gain, best gain: -inf\n",
            "[LightGBM] [Warning] No further splits with positive gain, best gain: -inf\n",
            "[LightGBM] [Warning] No further splits with positive gain, best gain: -inf\n",
            "[LightGBM] [Warning] No further splits with positive gain, best gain: -inf\n",
            "[LightGBM] [Warning] No further splits with positive gain, best gain: -inf\n",
            "[LightGBM] [Warning] No further splits with positive gain, best gain: -inf\n",
            "[LightGBM] [Warning] No further splits with positive gain, best gain: -inf\n",
            "[LightGBM] [Warning] No further splits with positive gain, best gain: -inf\n",
            "[LightGBM] [Warning] No further splits with positive gain, best gain: -inf\n",
            "[LightGBM] [Warning] No further splits with positive gain, best gain: -inf\n",
            "[LightGBM] [Warning] No further splits with positive gain, best gain: -inf\n",
            "[LightGBM] [Warning] No further splits with positive gain, best gain: -inf\n",
            "[LightGBM] [Warning] No further splits with positive gain, best gain: -inf\n",
            "[LightGBM] [Warning] No further splits with positive gain, best gain: -inf\n",
            "[LightGBM] [Warning] No further splits with positive gain, best gain: -inf\n",
            "[LightGBM] [Warning] No further splits with positive gain, best gain: -inf\n",
            "[LightGBM] [Warning] No further splits with positive gain, best gain: -inf\n",
            "[LightGBM] [Warning] No further splits with positive gain, best gain: -inf\n",
            "[LightGBM] [Warning] No further splits with positive gain, best gain: -inf\n",
            "[LightGBM] [Warning] No further splits with positive gain, best gain: -inf\n",
            "[LightGBM] [Warning] No further splits with positive gain, best gain: -inf\n",
            "[LightGBM] [Warning] No further splits with positive gain, best gain: -inf\n",
            "[LightGBM] [Warning] No further splits with positive gain, best gain: -inf\n",
            "[LightGBM] [Warning] No further splits with positive gain, best gain: -inf\n",
            "[LightGBM] [Warning] No further splits with positive gain, best gain: -inf\n",
            "[LightGBM] [Warning] No further splits with positive gain, best gain: -inf\n",
            "[LightGBM] [Warning] No further splits with positive gain, best gain: -inf\n",
            "[LightGBM] [Warning] No further splits with positive gain, best gain: -inf\n",
            "[LightGBM] [Warning] No further splits with positive gain, best gain: -inf\n",
            "[LightGBM] [Warning] No further splits with positive gain, best gain: -inf\n",
            "[LightGBM] [Warning] No further splits with positive gain, best gain: -inf\n",
            "[LightGBM] [Warning] No further splits with positive gain, best gain: -inf\n",
            "[LightGBM] [Warning] No further splits with positive gain, best gain: -inf\n",
            "[LightGBM] [Warning] No further splits with positive gain, best gain: -inf\n",
            "[LightGBM] [Warning] No further splits with positive gain, best gain: -inf\n",
            "[LightGBM] [Warning] No further splits with positive gain, best gain: -inf\n",
            "[LightGBM] [Warning] No further splits with positive gain, best gain: -inf\n",
            "[LightGBM] [Warning] No further splits with positive gain, best gain: -inf\n",
            "[LightGBM] [Warning] No further splits with positive gain, best gain: -inf\n",
            "[LightGBM] [Warning] No further splits with positive gain, best gain: -inf\n",
            "[LightGBM] [Warning] No further splits with positive gain, best gain: -inf\n",
            "[ 0.07334618 -0.02015734  0.11082812 -0.02830336  0.01323422 -0.02312351\n",
            "  0.03142438 -0.01692482  0.01807955  0.0208158  -0.01859067 -0.02015734\n",
            " -0.00058122  0.03661901 -0.00058122 -0.00058122 -0.00462201  0.1229649\n",
            "  0.00572422 -0.01583495  0.02282653 -0.00058122 -0.04626088  0.06319304\n",
            "  0.00572422 -0.00058122 -0.00058122 -0.01236647  0.02149581  0.01323422\n",
            "  0.19873117 -0.01649572  0.03170253 -0.01649572 -0.02015734 -0.00058122\n",
            "  0.03633569  0.04802909 -0.00058122  0.00149724  0.15644678  0.00625754\n",
            " -0.01977049 -0.00058122 -0.01222994 -0.01649572  0.06174251  0.02673814\n",
            " -0.00058122 -0.02986291 -0.00058122  0.02631441  0.02406869  0.01232284\n",
            " -0.00058122 -0.01649572  0.04464487  0.04432114 -0.00058122 -0.00058122\n",
            "  0.00217178  0.01167247 -0.00058122 -0.02168319  0.02406869  0.04157117\n",
            "  0.00625754]\n"
          ]
        },
        {
          "output_type": "stream",
          "name": "stderr",
          "text": [
            "/usr/local/lib/python3.10/dist-packages/IPython/core/pylabtools.py:151: UserWarning: Glyph 20104 (\\N{CJK UNIFIED IDEOGRAPH-4E88}) missing from current font.\n",
            "  fig.canvas.print_figure(bytes_io, **kw)\n",
            "/usr/local/lib/python3.10/dist-packages/IPython/core/pylabtools.py:151: UserWarning: Glyph 28204 (\\N{CJK UNIFIED IDEOGRAPH-6E2C}) missing from current font.\n",
            "  fig.canvas.print_figure(bytes_io, **kw)\n",
            "/usr/local/lib/python3.10/dist-packages/IPython/core/pylabtools.py:151: UserWarning: Glyph 20516 (\\N{CJK UNIFIED IDEOGRAPH-5024}) missing from current font.\n",
            "  fig.canvas.print_figure(bytes_io, **kw)\n",
            "WARNING:matplotlib.font_manager:findfont: Font family 'Meiryo' not found.\n",
            "WARNING:matplotlib.font_manager:findfont: Font family 'Yu Gothic' not found.\n",
            "WARNING:matplotlib.font_manager:findfont: Font family 'Meiryo' not found.\n",
            "WARNING:matplotlib.font_manager:findfont: Font family 'Yu Gothic' not found.\n",
            "WARNING:matplotlib.font_manager:findfont: Font family 'Meiryo' not found.\n",
            "WARNING:matplotlib.font_manager:findfont: Font family 'Yu Gothic' not found.\n",
            "WARNING:matplotlib.font_manager:findfont: Font family 'Meiryo' not found.\n",
            "WARNING:matplotlib.font_manager:findfont: Font family 'Yu Gothic' not found.\n",
            "WARNING:matplotlib.font_manager:findfont: Font family 'Meiryo' not found.\n",
            "WARNING:matplotlib.font_manager:findfont: Font family 'Yu Gothic' not found.\n",
            "WARNING:matplotlib.font_manager:findfont: Font family 'Meiryo' not found.\n",
            "WARNING:matplotlib.font_manager:findfont: Font family 'Yu Gothic' not found.\n",
            "WARNING:matplotlib.font_manager:findfont: Font family 'Meiryo' not found.\n",
            "WARNING:matplotlib.font_manager:findfont: Font family 'Yu Gothic' not found.\n",
            "WARNING:matplotlib.font_manager:findfont: Font family 'Meiryo' not found.\n",
            "WARNING:matplotlib.font_manager:findfont: Font family 'Yu Gothic' not found.\n",
            "WARNING:matplotlib.font_manager:findfont: Font family 'Meiryo' not found.\n",
            "WARNING:matplotlib.font_manager:findfont: Font family 'Yu Gothic' not found.\n",
            "WARNING:matplotlib.font_manager:findfont: Font family 'Meiryo' not found.\n",
            "WARNING:matplotlib.font_manager:findfont: Font family 'Yu Gothic' not found.\n",
            "WARNING:matplotlib.font_manager:findfont: Font family 'Meiryo' not found.\n",
            "WARNING:matplotlib.font_manager:findfont: Font family 'Yu Gothic' not found.\n",
            "WARNING:matplotlib.font_manager:findfont: Font family 'Meiryo' not found.\n",
            "WARNING:matplotlib.font_manager:findfont: Font family 'Yu Gothic' not found.\n",
            "WARNING:matplotlib.font_manager:findfont: Font family 'Meiryo' not found.\n",
            "WARNING:matplotlib.font_manager:findfont: Font family 'Yu Gothic' not found.\n",
            "WARNING:matplotlib.font_manager:findfont: Font family 'Meiryo' not found.\n",
            "WARNING:matplotlib.font_manager:findfont: Font family 'Yu Gothic' not found.\n",
            "WARNING:matplotlib.font_manager:findfont: Font family 'Meiryo' not found.\n",
            "WARNING:matplotlib.font_manager:findfont: Font family 'Yu Gothic' not found.\n",
            "WARNING:matplotlib.font_manager:findfont: Font family 'Meiryo' not found.\n",
            "WARNING:matplotlib.font_manager:findfont: Font family 'Yu Gothic' not found.\n",
            "WARNING:matplotlib.font_manager:findfont: Font family 'Meiryo' not found.\n",
            "WARNING:matplotlib.font_manager:findfont: Font family 'Yu Gothic' not found.\n",
            "WARNING:matplotlib.font_manager:findfont: Font family 'Meiryo' not found.\n",
            "WARNING:matplotlib.font_manager:findfont: Font family 'Yu Gothic' not found.\n",
            "WARNING:matplotlib.font_manager:findfont: Font family 'Meiryo' not found.\n",
            "WARNING:matplotlib.font_manager:findfont: Font family 'Yu Gothic' not found.\n",
            "WARNING:matplotlib.font_manager:findfont: Font family 'Meiryo' not found.\n",
            "WARNING:matplotlib.font_manager:findfont: Font family 'Yu Gothic' not found.\n",
            "WARNING:matplotlib.font_manager:findfont: Font family 'Meiryo' not found.\n",
            "WARNING:matplotlib.font_manager:findfont: Font family 'Yu Gothic' not found.\n",
            "WARNING:matplotlib.font_manager:findfont: Font family 'Meiryo' not found.\n",
            "WARNING:matplotlib.font_manager:findfont: Font family 'Yu Gothic' not found.\n",
            "WARNING:matplotlib.font_manager:findfont: Font family 'Meiryo' not found.\n",
            "WARNING:matplotlib.font_manager:findfont: Font family 'Yu Gothic' not found.\n",
            "WARNING:matplotlib.font_manager:findfont: Font family 'Meiryo' not found.\n",
            "WARNING:matplotlib.font_manager:findfont: Font family 'Yu Gothic' not found.\n"
          ]
        },
        {
          "output_type": "display_data",
          "data": {
            "text/plain": [
              "<Figure size 640x480 with 1 Axes>"
            ],
            "image/png": "[encoded data removed]"
          },
          "metadata": {}
        },
        {
          "output_type": "execute_result",
          "data": {
            "text/plain": [
              "<Axes: title={'center': 'Feature importance'}, xlabel='Feature importance', ylabel='Features'>"
            ]
          },
          "metadata": {},
          "execution_count": 7
        },
        {
          "output_type": "stream",
          "name": "stderr",
          "text": [
            "WARNING:matplotlib.font_manager:findfont: Font family 'Meiryo' not found.\n",
            "WARNING:matplotlib.font_manager:findfont: Font family 'Yu Gothic' not found.\n",
            "WARNING:matplotlib.font_manager:findfont: Font family 'Meiryo' not found.\n",
            "WARNING:matplotlib.font_manager:findfont: Font family 'Yu Gothic' not found.\n",
            "WARNING:matplotlib.font_manager:findfont: Font family 'Meiryo' not found.\n",
            "WARNING:matplotlib.font_manager:findfont: Font family 'Yu Gothic' not found.\n",
            "WARNING:matplotlib.font_manager:findfont: Font family 'Meiryo' not found.\n",
            "WARNING:matplotlib.font_manager:findfont: Font family 'Yu Gothic' not found.\n",
            "WARNING:matplotlib.font_manager:findfont: Font family 'Meiryo' not found.\n",
            "WARNING:matplotlib.font_manager:findfont: Font family 'Yu Gothic' not found.\n",
            "WARNING:matplotlib.font_manager:findfont: Font family 'Meiryo' not found.\n",
            "WARNING:matplotlib.font_manager:findfont: Font family 'Yu Gothic' not found.\n",
            "WARNING:matplotlib.font_manager:findfont: Font family 'Meiryo' not found.\n",
            "WARNING:matplotlib.font_manager:findfont: Font family 'Yu Gothic' not found.\n",
            "WARNING:matplotlib.font_manager:findfont: Font family 'Meiryo' not found.\n",
            "WARNING:matplotlib.font_manager:findfont: Font family 'Yu Gothic' not found.\n",
            "WARNING:matplotlib.font_manager:findfont: Font family 'Meiryo' not found.\n",
            "WARNING:matplotlib.font_manager:findfont: Font family 'Yu Gothic' not found.\n",
            "WARNING:matplotlib.font_manager:findfont: Font family 'Meiryo' not found.\n",
            "WARNING:matplotlib.font_manager:findfont: Font family 'Yu Gothic' not found.\n",
            "WARNING:matplotlib.font_manager:findfont: Font family 'Meiryo' not found.\n",
            "WARNING:matplotlib.font_manager:findfont: Font family 'Yu Gothic' not found.\n",
            "WARNING:matplotlib.font_manager:findfont: Font family 'Meiryo' not found.\n",
            "WARNING:matplotlib.font_manager:findfont: Font family 'Yu Gothic' not found.\n",
            "WARNING:matplotlib.font_manager:findfont: Font family 'Meiryo' not found.\n",
            "WARNING:matplotlib.font_manager:findfont: Font family 'Yu Gothic' not found.\n",
            "WARNING:matplotlib.font_manager:findfont: Font family 'Meiryo' not found.\n",
            "WARNING:matplotlib.font_manager:findfont: Font family 'Yu Gothic' not found.\n",
            "WARNING:matplotlib.font_manager:findfont: Font family 'Meiryo' not found.\n",
            "WARNING:matplotlib.font_manager:findfont: Font family 'Yu Gothic' not found.\n",
            "WARNING:matplotlib.font_manager:findfont: Font family 'Meiryo' not found.\n",
            "WARNING:matplotlib.font_manager:findfont: Font family 'Yu Gothic' not found.\n",
            "WARNING:matplotlib.font_manager:findfont: Font family 'Meiryo' not found.\n",
            "WARNING:matplotlib.font_manager:findfont: Font family 'Yu Gothic' not found.\n",
            "WARNING:matplotlib.font_manager:findfont: Font family 'Meiryo' not found.\n",
            "WARNING:matplotlib.font_manager:findfont: Font family 'Yu Gothic' not found.\n",
            "WARNING:matplotlib.font_manager:findfont: Font family 'Meiryo' not found.\n",
            "WARNING:matplotlib.font_manager:findfont: Font family 'Yu Gothic' not found.\n",
            "WARNING:matplotlib.font_manager:findfont: Font family 'Meiryo' not found.\n",
            "WARNING:matplotlib.font_manager:findfont: Font family 'Yu Gothic' not found.\n",
            "WARNING:matplotlib.font_manager:findfont: Font family 'Meiryo' not found.\n",
            "WARNING:matplotlib.font_manager:findfont: Font family 'Yu Gothic' not found.\n",
            "WARNING:matplotlib.font_manager:findfont: Font family 'Meiryo' not found.\n",
            "WARNING:matplotlib.font_manager:findfont: Font family 'Yu Gothic' not found.\n",
            "WARNING:matplotlib.font_manager:findfont: Font family 'Meiryo' not found.\n",
            "WARNING:matplotlib.font_manager:findfont: Font family 'Yu Gothic' not found.\n",
            "WARNING:matplotlib.font_manager:findfont: Font family 'Meiryo' not found.\n",
            "WARNING:matplotlib.font_manager:findfont: Font family 'Yu Gothic' not found.\n",
            "WARNING:matplotlib.font_manager:findfont: Font family 'Meiryo' not found.\n",
            "WARNING:matplotlib.font_manager:findfont: Font family 'Yu Gothic' not found.\n",
            "WARNING:matplotlib.font_manager:findfont: Font family 'Meiryo' not found.\n",
            "WARNING:matplotlib.font_manager:findfont: Font family 'Yu Gothic' not found.\n",
            "WARNING:matplotlib.font_manager:findfont: Font family 'Meiryo' not found.\n",
            "WARNING:matplotlib.font_manager:findfont: Font family 'Yu Gothic' not found.\n",
            "WARNING:matplotlib.font_manager:findfont: Font family 'Meiryo' not found.\n",
            "WARNING:matplotlib.font_manager:findfont: Font family 'Yu Gothic' not found.\n",
            "WARNING:matplotlib.font_manager:findfont: Font family 'Meiryo' not found.\n",
            "WARNING:matplotlib.font_manager:findfont: Font family 'Yu Gothic' not found.\n",
            "WARNING:matplotlib.font_manager:findfont: Font family 'Meiryo' not found.\n",
            "WARNING:matplotlib.font_manager:findfont: Font family 'Yu Gothic' not found.\n",
            "WARNING:matplotlib.font_manager:findfont: Font family 'Meiryo' not found.\n",
            "WARNING:matplotlib.font_manager:findfont: Font family 'Yu Gothic' not found.\n",
            "WARNING:matplotlib.font_manager:findfont: Font family 'Meiryo' not found.\n",
            "WARNING:matplotlib.font_manager:findfont: Font family 'Yu Gothic' not found.\n",
            "WARNING:matplotlib.font_manager:findfont: Font family 'Meiryo' not found.\n",
            "WARNING:matplotlib.font_manager:findfont: Font family 'Yu Gothic' not found.\n",
            "WARNING:matplotlib.font_manager:findfont: Font family 'Meiryo' not found.\n",
            "WARNING:matplotlib.font_manager:findfont: Font family 'Yu Gothic' not found.\n",
            "WARNING:matplotlib.font_manager:findfont: Font family 'Meiryo' not found.\n",
            "WARNING:matplotlib.font_manager:findfont: Font family 'Yu Gothic' not found.\n",
            "WARNING:matplotlib.font_manager:findfont: Font family 'Meiryo' not found.\n",
            "WARNING:matplotlib.font_manager:findfont: Font family 'Yu Gothic' not found.\n",
            "WARNING:matplotlib.font_manager:findfont: Font family 'Meiryo' not found.\n",
            "WARNING:matplotlib.font_manager:findfont: Font family 'Yu Gothic' not found.\n",
            "WARNING:matplotlib.font_manager:findfont: Font family 'Meiryo' not found.\n",
            "WARNING:matplotlib.font_manager:findfont: Font family 'Yu Gothic' not found.\n",
            "WARNING:matplotlib.font_manager:findfont: Font family 'Meiryo' not found.\n",
            "WARNING:matplotlib.font_manager:findfont: Font family 'Yu Gothic' not found.\n",
            "WARNING:matplotlib.font_manager:findfont: Font family 'Meiryo' not found.\n",
            "WARNING:matplotlib.font_manager:findfont: Font family 'Yu Gothic' not found.\n",
            "WARNING:matplotlib.font_manager:findfont: Font family 'Meiryo' not found.\n",
            "WARNING:matplotlib.font_manager:findfont: Font family 'Yu Gothic' not found.\n",
            "WARNING:matplotlib.font_manager:findfont: Font family 'Meiryo' not found.\n",
            "WARNING:matplotlib.font_manager:findfont: Font family 'Yu Gothic' not found.\n",
            "WARNING:matplotlib.font_manager:findfont: Font family 'Meiryo' not found.\n",
            "WARNING:matplotlib.font_manager:findfont: Font family 'Yu Gothic' not found.\n",
            "WARNING:matplotlib.font_manager:findfont: Font family 'Meiryo' not found.\n",
            "WARNING:matplotlib.font_manager:findfont: Font family 'Yu Gothic' not found.\n",
            "WARNING:matplotlib.font_manager:findfont: Font family 'Meiryo' not found.\n",
            "WARNING:matplotlib.font_manager:findfont: Font family 'Yu Gothic' not found.\n",
            "WARNING:matplotlib.font_manager:findfont: Font family 'Meiryo' not found.\n",
            "WARNING:matplotlib.font_manager:findfont: Font family 'Yu Gothic' not found.\n",
            "WARNING:matplotlib.font_manager:findfont: Font family 'Meiryo' not found.\n",
            "WARNING:matplotlib.font_manager:findfont: Font family 'Yu Gothic' not found.\n",
            "WARNING:matplotlib.font_manager:findfont: Font family 'Meiryo' not found.\n",
            "WARNING:matplotlib.font_manager:findfont: Font family 'Yu Gothic' not found.\n",
            "WARNING:matplotlib.font_manager:findfont: Font family 'Meiryo' not found.\n",
            "WARNING:matplotlib.font_manager:findfont: Font family 'Yu Gothic' not found.\n",
            "WARNING:matplotlib.font_manager:findfont: Font family 'Meiryo' not found.\n",
            "WARNING:matplotlib.font_manager:findfont: Font family 'Yu Gothic' not found.\n",
            "WARNING:matplotlib.font_manager:findfont: Font family 'Meiryo' not found.\n",
            "WARNING:matplotlib.font_manager:findfont: Font family 'Yu Gothic' not found.\n",
            "WARNING:matplotlib.font_manager:findfont: Font family 'Meiryo' not found.\n",
            "WARNING:matplotlib.font_manager:findfont: Font family 'Yu Gothic' not found.\n",
            "WARNING:matplotlib.font_manager:findfont: Font family 'Meiryo' not found.\n",
            "WARNING:matplotlib.font_manager:findfont: Font family 'Yu Gothic' not found.\n",
            "WARNING:matplotlib.font_manager:findfont: Font family 'Meiryo' not found.\n",
            "WARNING:matplotlib.font_manager:findfont: Font family 'Yu Gothic' not found.\n",
            "WARNING:matplotlib.font_manager:findfont: Font family 'Meiryo' not found.\n",
            "WARNING:matplotlib.font_manager:findfont: Font family 'Yu Gothic' not found.\n",
            "WARNING:matplotlib.font_manager:findfont: Font family 'Meiryo' not found.\n",
            "WARNING:matplotlib.font_manager:findfont: Font family 'Yu Gothic' not found.\n",
            "WARNING:matplotlib.font_manager:findfont: Font family 'Meiryo' not found.\n",
            "WARNING:matplotlib.font_manager:findfont: Font family 'Yu Gothic' not found.\n",
            "WARNING:matplotlib.font_manager:findfont: Font family 'Meiryo' not found.\n",
            "WARNING:matplotlib.font_manager:findfont: Font family 'Yu Gothic' not found.\n",
            "WARNING:matplotlib.font_manager:findfont: Font family 'Meiryo' not found.\n",
            "WARNING:matplotlib.font_manager:findfont: Font family 'Yu Gothic' not found.\n",
            "WARNING:matplotlib.font_manager:findfont: Font family 'Meiryo' not found.\n",
            "WARNING:matplotlib.font_manager:findfont: Font family 'Yu Gothic' not found.\n",
            "WARNING:matplotlib.font_manager:findfont: Font family 'Meiryo' not found.\n",
            "WARNING:matplotlib.font_manager:findfont: Font family 'Yu Gothic' not found.\n",
            "WARNING:matplotlib.font_manager:findfont: Font family 'Meiryo' not found.\n",
            "WARNING:matplotlib.font_manager:findfont: Font family 'Yu Gothic' not found.\n",
            "WARNING:matplotlib.font_manager:findfont: Font family 'Meiryo' not found.\n",
            "WARNING:matplotlib.font_manager:findfont: Font family 'Yu Gothic' not found.\n",
            "WARNING:matplotlib.font_manager:findfont: Font family 'Meiryo' not found.\n",
            "WARNING:matplotlib.font_manager:findfont: Font family 'Yu Gothic' not found.\n",
            "WARNING:matplotlib.font_manager:findfont: Font family 'Meiryo' not found.\n",
            "WARNING:matplotlib.font_manager:findfont: Font family 'Yu Gothic' not found.\n",
            "WARNING:matplotlib.font_manager:findfont: Font family 'Meiryo' not found.\n",
            "WARNING:matplotlib.font_manager:findfont: Font family 'Yu Gothic' not found.\n",
            "WARNING:matplotlib.font_manager:findfont: Font family 'Meiryo' not found.\n",
            "WARNING:matplotlib.font_manager:findfont: Font family 'Yu Gothic' not found.\n",
            "WARNING:matplotlib.font_manager:findfont: Font family 'Meiryo' not found.\n",
            "WARNING:matplotlib.font_manager:findfont: Font family 'Yu Gothic' not found.\n",
            "WARNING:matplotlib.font_manager:findfont: Font family 'Meiryo' not found.\n",
            "WARNING:matplotlib.font_manager:findfont: Font family 'Yu Gothic' not found.\n",
            "WARNING:matplotlib.font_manager:findfont: Font family 'Meiryo' not found.\n",
            "WARNING:matplotlib.font_manager:findfont: Font family 'Yu Gothic' not found.\n"
          ]
        },
        {
          "output_type": "display_data",
          "data": {
            "text/plain": [
              "<Figure size 800x1600 with 1 Axes>"
            ],
            "image/png": "[encoded data removed]"
          },
          "metadata": {}
        }
      ]
    },
    {
      "cell_type": "code",
      "source": [
        "#適当なデータを入れて予測（model.predict([[?,?,?,?,?,?,?,?,?,?,?,?]])）\n",
        "pred = model.predict([[0.9,14,26,0.5]])\n",
        "print(pred)"
      ],
      "metadata": {
        "id": "RTrw97yvc25R",
        "outputId": "3ae5f110-48f2-4382-d0e1-1388f284857e",
        "colab": {
          "base_uri": "https://localhost:8080/"
        }
      },
      "execution_count": 8,
      "outputs": [
        {
          "output_type": "stream",
          "name": "stdout",
          "text": [
            "[0.01298657]\n"
          ]
        }
      ]
    },
    {
      "cell_type": "code",
      "source": [
        "# 決定木の分岐の可視化\n",
        "lgb.create_tree_digraph(model, 1)"
      ],
      "metadata": {
        "id": "WQTr_MUTc42y",
        "outputId": "6ac7ec90-f3d0-4332-a0b6-8db568852abd",
        "colab": {
          "base_uri": "https://localhost:8080/",
          "height": 240
        }
      },
      "execution_count": 9,
      "outputs": [
        {
          "output_type": "execute_result",
          "data": {
            "image/svg+xml": "<?xml version=\"1.0\" encoding=\"UTF-8\" standalone=\"no\"?>\n<!DOCTYPE svg PUBLIC \"-//W3C//DTD SVG 1.1//EN\"\n \"http://www.w3.org/Graphics/SVG/1.1/DTD/svg11.dtd\">\n<!-- Generated by graphviz version 2.43.0 (0)\n -->\n<!-- Title: %3 Pages: 1 -->\n<svg width=\"432pt\" height=\"164pt\"\n viewBox=\"0.00 0.00 432.29 164.00\" xmlns=\"http://www.w3.org/2000/svg\" xmlns:xlink=\"http://www.w3.org/1999/xlink\">\n<g id=\"graph0\" class=\"graph\" transform=\"scale(1 1) rotate(0) translate(4 160)\">\n<title>%3</title>\n<polygon fill=\"white\" stroke=\"transparent\" points=\"-4,4 -4,-160 428.29,-160 428.29,4 -4,4\"/>\n<!-- leaf0 -->\n<g id=\"node1\" class=\"node\">\n<title>leaf0</title>\n<ellipse fill=\"none\" stroke=\"black\" cx=\"365.14\" cy=\"-138\" rx=\"59.29\" ry=\"18\"/>\n<text text-anchor=\"start\" x=\"327.64\" y=\"-135.3\" font-family=\"Times,serif\" font-size=\"14.00\">leaf 0: </text>\n<text text-anchor=\"start\" x=\"366.64\" y=\"-135.3\" font-family=\"Times,serif\" font-weight=\"bold\" font-size=\"14.00\">&#45;0.002</text>\n</g>\n<!-- split2 -->\n<g id=\"node2\" class=\"node\">\n<title>split2</title>\n<polygon fill=\"none\" stroke=\"black\" points=\"265,-116 153,-116 153,-80 265,-80 265,-116\"/>\n<text text-anchor=\"start\" x=\"161\" y=\"-95.3\" font-family=\"Times,serif\" font-weight=\"bold\" font-size=\"14.00\">ebb_flow</text>\n<text text-anchor=\"start\" x=\"214\" y=\"-95.3\" font-family=\"Times,serif\" font-size=\"14.00\"> ≤</text>\n<text text-anchor=\"start\" x=\"226\" y=\"-95.3\" font-family=\"Times,serif\" font-weight=\"bold\" font-size=\"14.00\">0.740</text>\n</g>\n<!-- split2&#45;&gt;leaf0 -->\n<g id=\"edge1\" class=\"edge\">\n<title>split2&#45;&gt;leaf0</title>\n<path fill=\"none\" stroke=\"black\" d=\"M265.21,-112.33C279.67,-116.08 295.25,-120.12 309.67,-123.86\"/>\n<polygon fill=\"black\" stroke=\"black\" points=\"308.88,-127.28 319.44,-126.4 310.64,-120.5 308.88,-127.28\"/>\n<text text-anchor=\"middle\" x=\"285.5\" y=\"-122.8\" font-family=\"Times,serif\" font-size=\"14.00\">yes</text>\n</g>\n<!-- leaf3 -->\n<g id=\"node3\" class=\"node\">\n<title>leaf3</title>\n<ellipse fill=\"none\" stroke=\"black\" cx=\"365.14\" cy=\"-98\" rx=\"59.29\" ry=\"18\"/>\n<text text-anchor=\"start\" x=\"327.64\" y=\"-95.3\" font-family=\"Times,serif\" font-size=\"14.00\">leaf 3: </text>\n<text text-anchor=\"start\" x=\"366.64\" y=\"-95.3\" font-family=\"Times,serif\" font-weight=\"bold\" font-size=\"14.00\">&#45;0.002</text>\n</g>\n<!-- split2&#45;&gt;leaf3 -->\n<g id=\"edge2\" class=\"edge\">\n<title>split2&#45;&gt;leaf3</title>\n<path fill=\"none\" stroke=\"black\" d=\"M265.21,-98C275.13,-98 285.57,-98 295.8,-98\"/>\n<polygon fill=\"black\" stroke=\"black\" points=\"295.93,-101.5 305.93,-98 295.93,-94.5 295.93,-101.5\"/>\n<text text-anchor=\"middle\" x=\"285.5\" y=\"-101.8\" font-family=\"Times,serif\" font-size=\"14.00\">no</text>\n</g>\n<!-- split0 -->\n<g id=\"node4\" class=\"node\">\n<title>split0</title>\n<polygon fill=\"none\" stroke=\"black\" points=\"112,-96 0,-96 0,-60 112,-60 112,-96\"/>\n<text text-anchor=\"start\" x=\"8\" y=\"-75.3\" font-family=\"Times,serif\" font-weight=\"bold\" font-size=\"14.00\">ebb_flow</text>\n<text text-anchor=\"start\" x=\"61\" y=\"-75.3\" font-family=\"Times,serif\" font-size=\"14.00\"> ≤</text>\n<text text-anchor=\"start\" x=\"73\" y=\"-75.3\" font-family=\"Times,serif\" font-weight=\"bold\" font-size=\"14.00\">1.165</text>\n</g>\n<!-- split0&#45;&gt;split2 -->\n<g id=\"edge3\" class=\"edge\">\n<title>split0&#45;&gt;split2</title>\n<path fill=\"none\" stroke=\"black\" d=\"M112.37,-85.33C122.28,-86.65 132.69,-88.03 142.85,-89.37\"/>\n<polygon fill=\"black\" stroke=\"black\" points=\"142.52,-92.86 152.89,-90.7 143.44,-85.92 142.52,-92.86\"/>\n<text text-anchor=\"middle\" x=\"132.5\" y=\"-92.8\" font-family=\"Times,serif\" font-size=\"14.00\">yes</text>\n</g>\n<!-- split1 -->\n<g id=\"node6\" class=\"node\">\n<title>split1</title>\n<polygon fill=\"none\" stroke=\"black\" points=\"265,-76 153,-76 153,-40 265,-40 265,-76\"/>\n<text text-anchor=\"start\" x=\"161\" y=\"-55.3\" font-family=\"Times,serif\" font-weight=\"bold\" font-size=\"14.00\">ebb_flow</text>\n<text text-anchor=\"start\" x=\"214\" y=\"-55.3\" font-family=\"Times,serif\" font-size=\"14.00\"> ≤</text>\n<text text-anchor=\"start\" x=\"226\" y=\"-55.3\" font-family=\"Times,serif\" font-weight=\"bold\" font-size=\"14.00\">1.295</text>\n</g>\n<!-- split0&#45;&gt;split1 -->\n<g id=\"edge6\" class=\"edge\">\n<title>split0&#45;&gt;split1</title>\n<path fill=\"none\" stroke=\"black\" d=\"M112.37,-70.67C122.28,-69.35 132.69,-67.97 142.85,-66.63\"/>\n<polygon fill=\"black\" stroke=\"black\" points=\"143.44,-70.08 152.89,-65.3 142.52,-63.14 143.44,-70.08\"/>\n<text text-anchor=\"middle\" x=\"132.5\" y=\"-72.8\" font-family=\"Times,serif\" font-size=\"14.00\">no</text>\n</g>\n<!-- leaf1 -->\n<g id=\"node5\" class=\"node\">\n<title>leaf1</title>\n<ellipse fill=\"none\" stroke=\"black\" cx=\"365.14\" cy=\"-58\" rx=\"55.79\" ry=\"18\"/>\n<text text-anchor=\"start\" x=\"330.14\" y=\"-55.3\" font-family=\"Times,serif\" font-size=\"14.00\">leaf 1: </text>\n<text text-anchor=\"start\" x=\"369.14\" y=\"-55.3\" font-family=\"Times,serif\" font-weight=\"bold\" font-size=\"14.00\">0.011</text>\n</g>\n<!-- split1&#45;&gt;leaf1 -->\n<g id=\"edge4\" class=\"edge\">\n<title>split1&#45;&gt;leaf1</title>\n<path fill=\"none\" stroke=\"black\" d=\"M265.21,-58C276.13,-58 287.68,-58 298.89,-58\"/>\n<polygon fill=\"black\" stroke=\"black\" points=\"299.06,-61.5 309.06,-58 299.06,-54.5 299.06,-61.5\"/>\n<text text-anchor=\"middle\" x=\"285.5\" y=\"-61.8\" font-family=\"Times,serif\" font-size=\"14.00\">yes</text>\n</g>\n<!-- leaf2 -->\n<g id=\"node7\" class=\"node\">\n<title>leaf2</title>\n<ellipse fill=\"none\" stroke=\"black\" cx=\"365.14\" cy=\"-18\" rx=\"55.79\" ry=\"18\"/>\n<text text-anchor=\"start\" x=\"330.14\" y=\"-15.3\" font-family=\"Times,serif\" font-size=\"14.00\">leaf 2: </text>\n<text text-anchor=\"start\" x=\"369.14\" y=\"-15.3\" font-family=\"Times,serif\" font-weight=\"bold\" font-size=\"14.00\">0.002</text>\n</g>\n<!-- split1&#45;&gt;leaf2 -->\n<g id=\"edge5\" class=\"edge\">\n<title>split1&#45;&gt;leaf2</title>\n<path fill=\"none\" stroke=\"black\" d=\"M265.21,-43.67C280.09,-39.81 296.16,-35.64 310.93,-31.81\"/>\n<polygon fill=\"black\" stroke=\"black\" points=\"312.12,-35.12 320.92,-29.22 310.36,-28.34 312.12,-35.12\"/>\n<text text-anchor=\"middle\" x=\"285.5\" y=\"-43.8\" font-family=\"Times,serif\" font-size=\"14.00\">no</text>\n</g>\n</g>\n</svg>\n",
            "text/plain": [
              "<graphviz.graphs.Digraph at 0x7febe014fd90>"
            ]
          },
          "metadata": {},
          "execution_count": 9
        }
      ]
    }
  ],
  "metadata": {
    "colab": {
      "name": "Colaboratory へようこそ",
      "provenance": [],
      "include_colab_link": true
    },
    "kernelspec": {
      "display_name": "Python 3",
      "name": "python3"
    }
  },
  "nbformat": 4,
  "nbformat_minor": 0
}