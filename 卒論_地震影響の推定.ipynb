{
  "nbformat": 4,
  "nbformat_minor": 0,
  "metadata": {
    "colab": {
      "provenance": [],
      "authorship_tag": "ABX9TyP80K1CCFgatjx5LnPCNHNV",
      "include_colab_link": true
    },
    "kernelspec": {
      "name": "python3",
      "display_name": "Python 3"
    },
    "language_info": {
      "name": "python"
    }
  },
  "cells": [
    {
      "cell_type": "markdown",
      "metadata": {
        "id": "view-in-github",
        "colab_type": "text"
      },
      "source": [
        "<a href=\"https://colab.research.google.com/github/TomoharuKurosu/Tomoaharu_Kurosu_2023/blob/main/%E5%8D%92%E8%AB%96_%E5%9C%B0%E9%9C%87%E5%BD%B1%E9%9F%BF%E3%81%AE%E6%8E%A8%E5%AE%9A.ipynb\" target=\"_parent\"><img src=\"https://colab.research.google.com/assets/colab-badge.svg\" alt=\"Open In Colab\"/></a>"
      ]
    },
    {
      "source": [
        "import numpy as np\n",
        "from scipy.optimize import curve_fit\n",
        "import pandas as pd\n",
        "\n",
        "# モデル関数の定義\n",
        "def model(X, a, b, c, d, e):\n",
        "    quake, non_resistance_number, max_val = X  # Unpack the input data\n",
        "    quake_g = (max_val ** a) * (quake ** b)\n",
        "    return c * quake_g + d * (non_resistance_number ** e)\n",
        "\n",
        "data = pd.read_csv('/content/earthquake_resistancerate_house.csv')\n",
        "quake = data['quake']\n",
        "non_resistance_number = data['non_resistance_house']\n",
        "max_val = data['max']  # Renamed to avoid name conflict\n",
        "disaster_house = data['disaster_house']\n",
        "\n",
        "# Replace inf and NaN values with finite numbers\n",
        "disaster_house = disaster_house.replace([np.inf, -np.inf], np.nan).fillna(0)\n",
        "quake = quake.replace([np.inf, -np.inf], np.nan).fillna(0)\n",
        "non_resistance_number = non_resistance_number.replace([np.inf, -np.inf], np.nan).fillna(0)\n",
        "max_val = max_val.replace([np.inf, -np.inf], np.nan).fillna(0)\n",
        "\n",
        "# curve_fitの使用\n",
        "# The independent variables are passed as a single tuple\n",
        "popt, pcov = curve_fit(model, (quake, non_resistance_number, max_val), disaster_house)\n",
        "\n",
        "# 最適なパラメータ a, b, c, d, e\n",
        "print(\"Estimated parameters:\", popt)"
      ],
      "cell_type": "code",
      "metadata": {
        "colab": {
          "base_uri": "https://localhost:8080/"
        },
        "id": "zOnJkTW25nJ2",
        "outputId": "3f28a9e4-f15b-4e78-cebb-81398203e5f6"
      },
      "execution_count": 2,
      "outputs": [
        {
          "output_type": "stream",
          "name": "stdout",
          "text": [
            "Estimated parameters: [8.70983930e-05 1.60973640e-01 3.59921614e+01 2.85422521e-04\n",
            " 9.99764656e-01]\n"
          ]
        },
        {
          "output_type": "stream",
          "name": "stderr",
          "text": [
            "<ipython-input-2-4b732053b9e3>:8: RuntimeWarning: divide by zero encountered in power\n",
            "  quake_g = (max_val ** a) * (quake ** b)\n",
            "<ipython-input-2-4b732053b9e3>:8: RuntimeWarning: invalid value encountered in multiply\n",
            "  quake_g = (max_val ** a) * (quake ** b)\n"
          ]
        }
      ]
    },
    {
      "source": [
        "#P値の算出\n",
        "import scipy.stats as stats # Import the stats module from scipy\n",
        "# パラメータの標準誤差を共分散行列から取得\n",
        "perr = np.sqrt(np.diag(pcov))\n",
        "\n",
        "# 自由度の計算（データ数 - パラメータ数）\n",
        "dof = len(disaster_house) - len(popt)\n",
        "\n",
        "# t値を計算 (パラメータの推定値 ÷ 標準誤差)\n",
        "t_values = popt / perr\n",
        "\n",
        "# p値を計算\n",
        "p_values = [2 * (1 - stats.t.cdf(np.abs(t), dof)) for t in t_values]\n",
        "\n",
        "# t値とp値の表示\n",
        "for i, (param, t_val, p_val) in enumerate(zip(popt, t_values, p_values)):\n",
        "    print(f\"Parameter {i}: Estimated value = {param}, t-value = {t_val}, p-value = {p_val}\")"
      ],
      "cell_type": "code",
      "metadata": {
        "id": "xA32LR0J-9oS",
        "outputId": "f6e154fd-b426-4562-aed7-be5f479e8673",
        "colab": {
          "base_uri": "https://localhost:8080/"
        }
      },
      "execution_count": 4,
      "outputs": [
        {
          "output_type": "stream",
          "name": "stdout",
          "text": [
            "Parameter 0: Estimated value = 8.709839300715317e-05, t-value = 8.515689325632323e-05, p-value = 0.999932087798038\n",
            "Parameter 1: Estimated value = 0.1609736399485228, t-value = 1.1661805115553041, p-value = 0.24408439626192568\n",
            "Parameter 2: Estimated value = 35.992161436096545, t-value = 0.7015038387316881, p-value = 0.48330736714097977\n",
            "Parameter 3: Estimated value = 0.0002854225213031753, t-value = 0.6904924760219459, p-value = 0.4901974315729065\n",
            "Parameter 4: Estimated value = 0.9997646564344712, t-value = 9.210093259290227, p-value = 0.0\n"
          ]
        }
      ]
    },
    {
      "cell_type": "code",
      "source": [
        "Estimated parameters: [8.70983930e-05 1.60973640e-01 3.59921614e+01 2.85422521e-04\n",
        " 9.99764656e-01]\n",
        "Parameter a:\n",
        "  Estimate: 8.709839300715317e-05\n",
        "  Standard Error: 1.0227990909084248\n",
        "  t-value: 8.515689325632323e-05\n",
        "  p-value: 0.999932087798038\n",
        "Parameter b:\n",
        "  Estimate: 0.1609736399485228\n",
        "  Standard Error: 0.13803492542834256\n",
        "  t-value: 1.1661805115553041\n",
        "  p-value: 0.24408439626192568\n",
        "Parameter c:\n",
        "  Estimate: 35.992161436096545\n",
        "  Standard Error: 51.3071482276847\n",
        "  t-value: 0.7015038387316881\n",
        "  p-value: 0.48330736714097977\n",
        "Parameter d:\n",
        "  Estimate: 0.0002854225213031753\n",
        "  Standard Error: 0.00041336079858182804\n",
        "  t-value: 0.6904924760219459\n",
        "  p-value: 0.4901974315729065\n",
        "Parameter e:\n",
        "  Estimate: 0.9997646564344712\n",
        "  Standard Error: 0.1085509807868675\n",
        "  t-value: 9.210093259290227\n",
        "  p-value: 0.0"
      ],
      "metadata": {
        "id": "XIP2gf8ECTY_"
      },
      "execution_count": null,
      "outputs": []
    },
    {
      "cell_type": "code",
      "source": [
        "quake_g = (max_val) * (quake)\n",
        "quake_g_log=np.log(quake_g)\n",
        "quake_log = np.log(quake)\n",
        "non_resistance_number_log = np.log(non_resistance_number)\n",
        "max_val_log = np.log(max_val)"
      ],
      "metadata": {
        "id": "FBwIMx7TLpHy",
        "outputId": "0f2a2764-9cae-4a05-a5e6-f76a7cb078f5",
        "colab": {
          "base_uri": "https://localhost:8080/",
          "height": 198
        }
      },
      "execution_count": 15,
      "outputs": [
        {
          "output_type": "stream",
          "name": "stderr",
          "text": [
            "/usr/local/lib/python3.10/dist-packages/pandas/core/arraylike.py:399: RuntimeWarning: divide by zero encountered in log\n",
            "  result = getattr(ufunc, method)(*inputs, **kwargs)\n"
          ]
        },
        {
          "output_type": "display_data",
          "data": {
            "text/plain": [
              "<Figure size 400x100 with 1 Axes>"
            ],
            "image/png": "[encoded data removed]"
          },
          "metadata": {}
        }
      ]
    },
    {
      "cell_type": "markdown",
      "source": [],
      "metadata": {
        "id": "1xkzOcaHCnS5"
      }
    },
    {
      "cell_type": "code",
      "source": [
        "###試行錯誤２\n",
        "import numpy as np\n",
        "from scipy.optimize import curve_fit\n",
        "import pandas as pd\n",
        "from scipy import stats\n",
        "\n",
        "\n",
        "# モデル関数の定義\n",
        "def model(X, a, b):\n",
        "    quake, non_resistance_number, max_val = X  # 入力データをアンパック\n",
        "    return a * (quake_g_log) + b * (non_resistance_number)\n",
        "\n",
        "# データの読み込み\n",
        "data = pd.read_csv('/content/earthquake_resistancerate_house.csv')\n",
        "quake = data['quake']\n",
        "non_resistance_number = data['non_resistance_house']\n",
        "max_val = data['max']\n",
        "disaster_house = data['disaster_house']\n",
        "\n",
        "\n",
        "# 欠損値や無限値の置換\n",
        "disaster_house = disaster_house.replace([np.inf, -np.inf], np.nan).fillna(0)\n",
        "quake = quake.replace([np.inf, -np.inf], np.nan).fillna(0)\n",
        "non_resistance_number = non_resistance_number.replace([np.inf, -np.inf], np.nan).fillna(0)\n",
        "max_val = max_val.replace([np.inf, -np.inf], np.nan).fillna(0)\n",
        "\n",
        "quake_g = (max_val) * (quake)\n",
        "quake_g_log=np.log(quake_g)\n",
        "quake_log = np.log(quake)\n",
        "non_resistance_number_log = np.log(non_resistance_number)\n",
        "max_val_log = np.log(max_val)\n",
        "\n",
        "# 非線形フィッティング (curve_fit)\n",
        "popt, pcov = curve_fit(model, (quake, non_resistance_number, max_val), disaster_house)\n",
        "\n",
        "# 最適なパラメータ a, b, c, d, e\n",
        "print(\"Estimated parameters:\", popt)\n",
        "\n",
        "# パラメータの標準誤差\n",
        "perr = np.sqrt(np.diag(pcov))\n",
        "\n",
        "# 自由度（データ数 - パラメータ数）\n",
        "dof = len(disaster_house) - len(popt)\n",
        "\n",
        "# t値の計算\n",
        "t_values = popt / perr\n",
        "\n",
        "# p値の計算\n",
        "p_values = [2 * (1 - stats.t.cdf(np.abs(t), dof)) for t in t_values]\n",
        "\n",
        "# 結果の出力\n",
        "for i, param in enumerate(['a','b']):\n",
        "    print(f\"Parameter {param}:\")\n",
        "    print(f\"  Estimate: {popt[i]}\")\n",
        "    print(f\"  Standard Error: {perr[i]}\")\n",
        "    print(f\"  t-value: {t_values[i]}\")\n",
        "    print(f\"  p-value: {p_values[i]}\")\n"
      ],
      "metadata": {
        "id": "OFJhuoGPCiSn",
        "outputId": "b16dd9fd-4047-49da-e397-4eaa5a01742c",
        "colab": {
          "base_uri": "https://localhost:8080/"
        }
      },
      "execution_count": 18,
      "outputs": [
        {
          "output_type": "stream",
          "name": "stdout",
          "text": [
            "Estimated parameters: [1. 1.]\n",
            "Parameter a:\n",
            "  Estimate: 1.0\n",
            "  Standard Error: inf\n",
            "  t-value: 0.0\n",
            "  p-value: 1.0\n",
            "Parameter b:\n",
            "  Estimate: 1.0\n",
            "  Standard Error: inf\n",
            "  t-value: 0.0\n",
            "  p-value: 1.0\n"
          ]
        },
        {
          "output_type": "stream",
          "name": "stderr",
          "text": [
            "/usr/local/lib/python3.10/dist-packages/pandas/core/arraylike.py:399: RuntimeWarning: divide by zero encountered in log\n",
            "  result = getattr(ufunc, method)(*inputs, **kwargs)\n",
            "<ipython-input-18-82c790091be7>:33: OptimizeWarning: Covariance of the parameters could not be estimated\n",
            "  popt, pcov = curve_fit(model, (quake, non_resistance_number, max_val), disaster_house)\n"
          ]
        }
      ]
    },
    {
      "cell_type": "code",
      "source": [
        "###試行錯誤\n",
        "import numpy as np\n",
        "from scipy.optimize import curve_fit\n",
        "import pandas as pd\n",
        "from scipy import stats\n",
        "\n",
        "# モデル関数の定義\n",
        "def model(X, a, b, c, d, e):\n",
        "    quake, non_resistance_number, max_val = X  # 入力データをアンパック\n",
        "    quake_g = (max_val ** a) * (quake ** b)\n",
        "    return c * quake_g + d * (non_resistance_number ** e)\n",
        "\n",
        "# データの読み込み\n",
        "data = pd.read_csv('/content/earthquake_resistancerate_house.csv')\n",
        "quake = data['quake']\n",
        "non_resistance_number = data['non_resistance_house']\n",
        "max_val = data['max']\n",
        "disaster_house = data['disaster_house']\n",
        "\n",
        "# 欠損値や無限値の置換\n",
        "disaster_house = disaster_house.replace([np.inf, -np.inf], np.nan).fillna(0)\n",
        "quake = quake.replace([np.inf, -np.inf], np.nan).fillna(0)\n",
        "non_resistance_number = non_resistance_number.replace([np.inf, -np.inf], np.nan).fillna(0)\n",
        "max_val = max_val.replace([np.inf, -np.inf], np.nan).fillna(0)\n",
        "\n",
        "# 非線形フィッティング (curve_fit)\n",
        "popt, pcov = curve_fit(model, (quake, non_resistance_number, max_val), disaster_house)\n",
        "\n",
        "# 最適なパラメータ a, b, c, d, e\n",
        "print(\"Estimated parameters:\", popt)\n",
        "\n",
        "# パラメータの標準誤差\n",
        "perr = np.sqrt(np.diag(pcov))\n",
        "\n",
        "# 自由度（データ数 - パラメータ数）\n",
        "dof = len(disaster_house) - len(popt)\n",
        "\n",
        "# t値の計算\n",
        "t_values = popt / perr\n",
        "\n",
        "# p値の計算\n",
        "p_values = [2 * (1 - stats.t.cdf(np.abs(t), dof)) for t in t_values]\n",
        "\n",
        "# 結果の出力\n",
        "for i, param in enumerate(['a', 'b', 'c', 'd', 'e']):\n",
        "    print(f\"Parameter {param}:\")\n",
        "    print(f\"  Estimate: {popt[i]}\")\n",
        "    print(f\"  Standard Error: {perr[i]}\")\n",
        "    print(f\"  t-value: {t_values[i]}\")\n",
        "    print(f\"  p-value: {p_values[i]}\")\n"
      ],
      "metadata": {
        "id": "5F8WZlt44aMe",
        "outputId": "3a7b0c58-3336-419a-a09b-fee587920efc",
        "colab": {
          "base_uri": "https://localhost:8080/"
        }
      },
      "execution_count": 5,
      "outputs": [
        {
          "output_type": "stream",
          "name": "stdout",
          "text": [
            "Estimated parameters: [8.70983930e-05 1.60973640e-01 3.59921614e+01 2.85422521e-04\n",
            " 9.99764656e-01]\n",
            "Parameter a:\n",
            "  Estimate: 8.709839300715317e-05\n",
            "  Standard Error: 1.0227990909084248\n",
            "  t-value: 8.515689325632323e-05\n",
            "  p-value: 0.999932087798038\n",
            "Parameter b:\n",
            "  Estimate: 0.1609736399485228\n",
            "  Standard Error: 0.13803492542834256\n",
            "  t-value: 1.1661805115553041\n",
            "  p-value: 0.24408439626192568\n",
            "Parameter c:\n",
            "  Estimate: 35.992161436096545\n",
            "  Standard Error: 51.3071482276847\n",
            "  t-value: 0.7015038387316881\n",
            "  p-value: 0.48330736714097977\n",
            "Parameter d:\n",
            "  Estimate: 0.0002854225213031753\n",
            "  Standard Error: 0.00041336079858182804\n",
            "  t-value: 0.6904924760219459\n",
            "  p-value: 0.4901974315729065\n",
            "Parameter e:\n",
            "  Estimate: 0.9997646564344712\n",
            "  Standard Error: 0.1085509807868675\n",
            "  t-value: 9.210093259290227\n",
            "  p-value: 0.0\n"
          ]
        },
        {
          "output_type": "stream",
          "name": "stderr",
          "text": [
            "<ipython-input-5-580b0d420f6f>:10: RuntimeWarning: divide by zero encountered in power\n",
            "  quake_g = (max_val ** a) * (quake ** b)\n",
            "<ipython-input-5-580b0d420f6f>:10: RuntimeWarning: invalid value encountered in multiply\n",
            "  quake_g = (max_val ** a) * (quake ** b)\n"
          ]
        }
      ]
    }
  ]
}