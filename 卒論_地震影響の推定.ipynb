{
  "nbformat": 4,
  "nbformat_minor": 0,
  "metadata": {
    "colab": {
      "provenance": [],
      "authorship_tag": "ABX9TyNG6LpZhXmjRONPNwrvXEoH",
      "include_colab_link": true
    },
    "kernelspec": {
      "name": "python3",
      "display_name": "Python 3"
    },
    "language_info": {
      "name": "python"
    }
  },
  "cells": [
    {
      "cell_type": "markdown",
      "metadata": {
        "id": "view-in-github",
        "colab_type": "text"
      },
      "source": [
        "<a href=\"https://colab.research.google.com/github/TomoharuKurosu/Tomoaharu_Kurosu_2023/blob/main/%E5%8D%92%E8%AB%96_%E5%9C%B0%E9%9C%87%E5%BD%B1%E9%9F%BF%E3%81%AE%E6%8E%A8%E5%AE%9A.ipynb\" target=\"_parent\"><img src=\"https://colab.research.google.com/assets/colab-badge.svg\" alt=\"Open In Colab\"/></a>"
      ]
    },
    {
      "source": [
        "import numpy as np\n",
        "from scipy.optimize import curve_fit\n",
        "import pandas as pd\n",
        "\n",
        "# モデル関数の定義\n",
        "def model(X, a, b, c, d, e):\n",
        "    quake, non_resistance_number, max_val = X  # Unpack the input data\n",
        "    quake_g = (max_val ** a) * (quake ** b)\n",
        "    return c * quake_g + d * (non_resistance_number ** e)\n",
        "\n",
        "data = pd.read_csv('/content/earthquake_resistancerate_house.csv')\n",
        "quake = data['quake']\n",
        "non_resistance_number = data['non_resistance_house']\n",
        "max_val = data['max']  # Renamed to avoid name conflict\n",
        "disaster_house = data['disaster_house']\n",
        "\n",
        "# Replace inf and NaN values with finite numbers\n",
        "disaster_house = disaster_house.replace([np.inf, -np.inf], np.nan).fillna(0)\n",
        "quake = quake.replace([np.inf, -np.inf], np.nan).fillna(0)\n",
        "non_resistance_number = non_resistance_number.replace([np.inf, -np.inf], np.nan).fillna(0)\n",
        "max_val = max_val.replace([np.inf, -np.inf], np.nan).fillna(0)\n",
        "\n",
        "# curve_fitの使用\n",
        "# The independent variables are passed as a single tuple\n",
        "popt, pcov = curve_fit(model, (quake, non_resistance_number, max_val), disaster_house)\n",
        "\n",
        "# 最適なパラメータ a, b, c, d, e\n",
        "print(\"Estimated parameters:\", popt)"
      ],
      "cell_type": "code",
      "metadata": {
        "colab": {
          "base_uri": "https://localhost:8080/"
        },
        "id": "zOnJkTW25nJ2",
        "outputId": "853520c3-ad24-4d6a-f43b-6dfaf1d735b0"
      },
      "execution_count": 11,
      "outputs": [
        {
          "output_type": "stream",
          "name": "stdout",
          "text": [
            "Estimated parameters: [8.70983930e-05 1.60973640e-01 3.59921614e+01 2.85422521e-04\n",
            " 9.99764656e-01]\n"
          ]
        },
        {
          "output_type": "stream",
          "name": "stderr",
          "text": [
            "<ipython-input-11-f796c21a0384>:8: RuntimeWarning: divide by zero encountered in power\n",
            "  quake_g = (max_val ** a) * (quake ** b)\n",
            "<ipython-input-11-f796c21a0384>:8: RuntimeWarning: invalid value encountered in multiply\n",
            "  quake_g = (max_val ** a) * (quake ** b)\n"
          ]
        }
      ]
    },
    {
      "cell_type": "code",
      "source": [
        "#what a?\n",
        "print(popt[0])\n",
        "print(popt[1])\n",
        "print(popt[2])\n",
        "print(popt[3])\n",
        "print(popt[4])"
      ],
      "metadata": {
        "colab": {
          "base_uri": "https://localhost:8080/"
        },
        "id": "j4XBwGGv6Unn",
        "outputId": "b26f510c-a746-4541-a98e-a59a81e4383a"
      },
      "execution_count": 12,
      "outputs": [
        {
          "output_type": "stream",
          "name": "stdout",
          "text": [
            "8.709839300715317e-05\n",
            "0.1609736399485228\n",
            "35.992161436096545\n",
            "0.0002854225213031753\n",
            "0.9997646564344712\n"
          ]
        }
      ]
    },
    {
      "cell_type": "code",
      "source": [],
      "metadata": {
        "id": "5F8WZlt44aMe"
      },
      "execution_count": null,
      "outputs": []
    }
  ]
}