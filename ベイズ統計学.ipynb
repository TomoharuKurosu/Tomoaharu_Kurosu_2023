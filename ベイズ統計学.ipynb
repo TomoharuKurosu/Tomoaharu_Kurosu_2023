{
  "nbformat": 4,
  "nbformat_minor": 0,
  "metadata": {
    "colab": {
      "provenance": [],
      "authorship_tag": "ABX9TyPX7pGF9LadrPgLG2pvzMAs",
      "include_colab_link": true
    },
    "kernelspec": {
      "name": "python3",
      "display_name": "Python 3"
    },
    "language_info": {
      "name": "python"
    }
  },
  "cells": [
    {
      "cell_type": "markdown",
      "metadata": {
        "id": "view-in-github",
        "colab_type": "text"
      },
      "source": [
        "<a href=\"https://colab.research.google.com/github/TomoharuKurosu/Tomoaharu_Kurosu_2023/blob/main/%E3%83%99%E3%82%A4%E3%82%BA%E7%B5%B1%E8%A8%88%E5%AD%A6.ipynb\" target=\"_parent\"><img src=\"https://colab.research.google.com/assets/colab-badge.svg\" alt=\"Open In Colab\"/></a>"
      ]
    },
    {
      "cell_type": "code",
      "execution_count": 1,
      "metadata": {
        "colab": {
          "base_uri": "https://localhost:8080/"
        },
        "id": "aWE6abiPjKtw",
        "outputId": "f90c286f-64b4-4dfd-e872-6e3014c48ad1"
      },
      "outputs": [
        {
          "output_type": "stream",
          "name": "stdout",
          "text": [
            "1.959963984540054\n"
          ]
        },
        {
          "output_type": "execute_result",
          "data": {
            "text/plain": [
              "((0.21018316681457944, 0.38981683318542054),\n",
              " (0.2189787263040341, 0.396147128647689))"
            ]
          },
          "metadata": {},
          "execution_count": 1
        }
      ],
      "source": [
        "import scipy.stats as stats\n",
        "import numpy as np\n",
        "\n",
        "# 仮想データ\n",
        "n = 100\n",
        "k = 30\n",
        "\n",
        "# 頻度主義統計学における信頼区間\n",
        "phat = k / n\n",
        "se = np.sqrt(phat * (1 - phat) / n)\n",
        "z = stats.norm.ppf(0.975)  # 95%信頼区間のためのz値\n",
        "print(z)\n",
        "freq_conf_int = (phat - z * se, phat + z * se)\n",
        "\n",
        "# ベイズ統計学における確信区間\n",
        "# 事前分布のパラメータ（非情報事前分布としてベータ(1, 1)を使用）\n",
        "alpha_prior = 1\n",
        "beta_prior = 1\n",
        "\n",
        "# 事後分布のパラメータ\n",
        "alpha_post = alpha_prior + k\n",
        "beta_post = beta_prior + (n - k)\n",
        "\n",
        "# ベータ分布の95%確信区間\n",
        "bayes_conf_int = stats.beta.interval(0.95, alpha_post, beta_post)\n",
        "\n",
        "freq_conf_int, bayes_conf_int\n"
      ]
    }
  ]
}