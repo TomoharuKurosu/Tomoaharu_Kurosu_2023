{
  "nbformat": 4,
  "nbformat_minor": 0,
  "metadata": {
    "colab": {
      "provenance": [],
      "include_colab_link": true
    },
    "kernelspec": {
      "name": "python3",
      "display_name": "Python 3"
    },
    "language_info": {
      "name": "python"
    }
  },
  "cells": [
    {
      "cell_type": "markdown",
      "metadata": {
        "id": "view-in-github",
        "colab_type": "text"
      },
      "source": [
        "<a href=\"https://colab.research.google.com/github/TomoharuKurosu/Tomoaharu_Kurosu_2023/blob/main/%EF%BC%93%E8%B2%A1%E3%81%AE%E5%8A%B9%E7%94%A8%E9%96%A2%E6%95%B0%E3%81%AE%E6%8E%A8%E5%AE%9A.ipynb\" target=\"_parent\"><img src=\"https://colab.research.google.com/assets/colab-badge.svg\" alt=\"Open In Colab\"/></a>"
      ]
    },
    {
      "cell_type": "code",
      "execution_count": null,
      "metadata": {
        "id": "qr-w2pMSqFxe",
        "outputId": "5171e988-5a6e-4874-bf0b-6c5a54d863c4",
        "colab": {
          "base_uri": "https://localhost:8080/"
        }
      },
      "outputs": [
        {
          "output_type": "stream",
          "name": "stdout",
          "text": [
            "Optimal Y1: 20.649541636479636\n",
            "Optimal Y2: 4084.95332036352\n",
            "Maximized U: 1089.5701684644803\n"
          ]
        },
        {
          "output_type": "stream",
          "name": "stderr",
          "text": [
            "<ipython-input-1-e2ad46539b2a>:17: RuntimeWarning: invalid value encountered in double_scalars\n",
            "  U = (a * Y[0]**((c-1)/c) + b * Y[1]**((c-1)/c) + (1-a-b) * (-Y[0]/w + 730 - Y[1]/w)**((c-1)/c))**(c/(c-1))\n"
          ]
        }
      ],
      "source": [
        "import numpy as np\n",
        "from scipy.optimize import minimize\n",
        "\n",
        "# 定数の値　変える\n",
        "a =  0.00002733\n",
        "b = 0.5029\n",
        "c = 0.5384\n",
        "w = 30.00120318\n",
        "\n",
        "\n",
        "# 制約式 ＃4105.60286のところ変える\n",
        "def constraint(Y):\n",
        "    return Y[0] + Y[1] - 4105.602862\n",
        "\n",
        "# 目的関数（最大化対象）　3財になっている。　730=Y0/w+Y1/w+H（余暇時間）の式を使って、３変数を２変数に変換したうえで計算している\n",
        "def objective(Y):\n",
        "    U = (a * Y[0]**((c-1)/c) + b * Y[1]**((c-1)/c) + (1-a-b) * (-Y[0]/w + 730 - Y[1]/w)**((c-1)/c))**(c/(c-1))\n",
        "    return -U  # U を最大化するために符号を反転させる\n",
        "\n",
        "# 初期値の設定　大体予算制約の半分くらいでいいのでは、エラーなら適宜変える　ここでは4105.602862の半分くらい入れてる\n",
        "initial_guess = [2053, 2052.602862]\n",
        "\n",
        "# 最適化の実行　変えない\n",
        "constraints = {'type': 'eq', 'fun': constraint}\n",
        "result = minimize(objective, initial_guess, constraints=constraints)\n",
        "\n",
        "# 結果表示　変えない\n",
        "optimal_Y1 = result.x[0]\n",
        "optimal_Y2 = result.x[1]\n",
        "optimal_U = -result.fun  # 最大化された U\n",
        "\n",
        "#赤文字は好きなように変えてよい\n",
        "print(\"Optimal Y1:\", optimal_Y1)\n",
        "print(\"Optimal Y2:\", optimal_Y2)\n",
        "print(\"Maximized U:\", optimal_U)\n"
      ]
    }
  ]
}