{
  "nbformat": 4,
  "nbformat_minor": 0,
  "metadata": {
    "colab": {
      "provenance": [],
      "include_colab_link": true
    },
    "kernelspec": {
      "name": "python3",
      "display_name": "Python 3"
    },
    "language_info": {
      "name": "python"
    }
  },
  "cells": [
    {
      "cell_type": "markdown",
      "metadata": {
        "id": "view-in-github",
        "colab_type": "text"
      },
      "source": [
        "<a href=\"https://colab.research.google.com/github/TomoharuKurosu/Tomoaharu_Kurosu_2023/blob/main/%EF%BC%93%E8%B2%A1%E3%81%AE%E5%8A%B9%E7%94%A8%E9%96%A2%E6%95%B0%E3%81%AE%E6%8E%A8%E5%AE%9A.ipynb\" target=\"_parent\"><img src=\"https://colab.research.google.com/assets/colab-badge.svg\" alt=\"Open In Colab\"/></a>"
      ]
    },
    {
      "cell_type": "code",
      "execution_count": 1,
      "metadata": {
        "id": "qr-w2pMSqFxe",
        "outputId": "dfcd050e-b3cd-4513-9cf2-3567657abd11",
        "colab": {
          "base_uri": "https://localhost:8080/"
        }
      },
      "outputs": [
        {
          "output_type": "stream",
          "name": "stdout",
          "text": [
            "Optimal Y1: 37.558584648819625\n",
            "Optimal Y2: 3756.76441535118\n",
            "Maximized U: 1087.5185912865952\n"
          ]
        },
        {
          "output_type": "stream",
          "name": "stderr",
          "text": [
            "<ipython-input-1-dd9c127c8dc8>:16: RuntimeWarning: invalid value encountered in double_scalars\n",
            "  U = (a * Y[0]**((c-1)/c) + b * Y[1]**((c-1)/c) + (1-a-b) * (-Y[0]/w + 730 - Y[1]/w)**((c-1)/c))**(c/(c-1))\n"
          ]
        }
      ],
      "source": [
        "import numpy as np\n",
        "from scipy.optimize import minimize\n",
        "\n",
        "# 定数の値\n",
        "a = 0.00009492\n",
        "b = 0.5051\n",
        "c = 0.5368\n",
        "w = 29.5048\n",
        "\n",
        "# 制約式\n",
        "def constraint(Y):\n",
        "    return Y[0] + Y[1] - 3794.323\n",
        "\n",
        "# 目的関数（最大化対象）\n",
        "def objective(Y):\n",
        "    U = (a * Y[0]**((c-1)/c) + b * Y[1]**((c-1)/c) + (1-a-b) * (-Y[0]/w + 730 - Y[1]/w)**((c-1)/c))**(c/(c-1))\n",
        "    return -U  # U を最大化するために符号を反転させる\n",
        "\n",
        "# 初期値の設定\n",
        "initial_guess = [1897, 1897.323]\n",
        "\n",
        "# 最適化の実行\n",
        "constraints = {'type': 'eq', 'fun': constraint}\n",
        "result = minimize(objective, initial_guess, constraints=constraints)\n",
        "\n",
        "# 結果表示\n",
        "optimal_Y1 = result.x[0]\n",
        "optimal_Y2 = result.x[1]\n",
        "optimal_U = -result.fun  # 最大化された U\n",
        "\n",
        "print(\"Optimal Y1:\", optimal_Y1)\n",
        "print(\"Optimal Y2:\", optimal_Y2)\n",
        "print(\"Maximized U:\", optimal_U)\n"
      ]
    }
  ]
}